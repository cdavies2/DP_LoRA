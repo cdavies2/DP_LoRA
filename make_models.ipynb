{
 "cells": [
  {
   "cell_type": "code",
   "execution_count": 9,
   "id": "078b2bc2-1b1e-4ba4-a48e-bc9de24d2bab",
   "metadata": {},
   "outputs": [],
   "source": [
    "import accelerate\n",
    "import datasets\n",
    "from datasets import(\n",
    "load_dataset, \n",
    "load_dataset_builder,\n",
    "get_dataset_split_names,\n",
    "get_dataset_config_names)\n",
    "import evaluate\n",
    "import numpy as np\n",
    "import peft\n",
    "from peft import(\n",
    "LoftQConfig,\n",
    "LoraConfig,\n",
    "get_peft_model)\n",
    "import pickle\n",
    "import os\n",
    "import transformers\n",
    "from transformers import(\n",
    "AutoModelForCausalLM,\n",
    "AutoTokenizer,\n",
    "TrainingArguments)"
   ]
  },
  {
   "cell_type": "code",
   "execution_count": 14,
   "id": "d2d9770f-255f-44eb-91fe-22a762510ccd",
   "metadata": {},
   "outputs": [],
   "source": [
    "current_dir=os.getcwd()\n",
    "pkl_dir=os.path.join(current_dir, \"pkl_files\")\n",
    "pkl_files=os.listdir(pkl_dir)"
   ]
  },
  {
   "cell_type": "code",
   "execution_count": 16,
   "id": "71ca8b46-f77e-4633-87d9-5b08979fedaa",
   "metadata": {},
   "outputs": [],
   "source": [
    "lla_model321=AutoModelForCausalLM.from_pretrained(\"meta-llama/Llama-3.2-1B\", num_labels=3, torch_dtype=\"auto\")\n",
    "file_path=os.path.join(current_dir, \"pkl_files\", \"llama3_2.pkl\")\n",
    "with open(file_path, \"wb\") as f:\n",
    "    pickle.dump(lla_model321, f)"
   ]
  },
  {
   "cell_type": "code",
   "execution_count": null,
   "id": "62ad9c37-d7e4-454c-b617-e74f8f152636",
   "metadata": {},
   "outputs": [],
   "source": []
  }
 ],
 "metadata": {
  "kernelspec": {
   "display_name": "Python 3 (ipykernel)",
   "language": "python",
   "name": "python3"
  },
  "language_info": {
   "codemirror_mode": {
    "name": "ipython",
    "version": 3
   },
   "file_extension": ".py",
   "mimetype": "text/x-python",
   "name": "python",
   "nbconvert_exporter": "python",
   "pygments_lexer": "ipython3",
   "version": "3.12.8"
  }
 },
 "nbformat": 4,
 "nbformat_minor": 5
}
