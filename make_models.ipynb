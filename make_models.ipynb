{
 "cells": [
  {
   "cell_type": "code",
   "execution_count": 35,
   "id": "078b2bc2-1b1e-4ba4-a48e-bc9de24d2bab",
   "metadata": {},
   "outputs": [],
   "source": [
    "import pickle\n",
    "import os\n",
    "import transformers\n",
    "import torch\n",
    "from transformers import(\n",
    "AutoModelForCausalLM,\n",
    "AutoTokenizer,\n",
    "BitsAndBytesConfig,\n",
    "TrainingArguments)"
   ]
  },
  {
   "cell_type": "code",
   "execution_count": 37,
   "id": "d2d9770f-255f-44eb-91fe-22a762510ccd",
   "metadata": {},
   "outputs": [],
   "source": [
    "current_dir=os.getcwd()\n",
    "pkl_dir=os.path.join(current_dir, \"pkl_files\")\n",
    "os.makedirs(pkl_dir, exist_ok=True)\n",
    "pkl_files=os.listdir(pkl_dir)"
   ]
  },
  {
   "cell_type": "code",
   "execution_count": 27,
   "id": "79c40a71-2297-4b39-9ed4-51269d8efe10",
   "metadata": {},
   "outputs": [],
   "source": [
    "# PEFT methods reduce the number of trainable parameters of a model while retaining performance\n",
    "# LoRA decomposes a large weight matrix into two smaller, low-rank update matrices\n",
    "# Original weight remains frozen, update matrices are used for training\n",
    "\n",
    "# Quantization can compress LLMs\n",
    "# QLoRA matches 16-bit fine tuning performance while reducing the memory footprint by 90%\n",
    "quantization_config= BitsAndBytesConfig(\n",
    "    load_in_4bit=True, # sets model to load in 4-bit quantization, resulting in a quarter of the memory usage \n",
    "    bnb_4bit_compute_dtype=torch.bfloat16, # improves speed by changing data type\n",
    "    bnb_4bit_use_double_quant=True, #double quantization, quantization of quantization constants\n",
    "    #recommended when you have memory issues\n",
    "    bnb_4bit_quant_type='nf4'#this data type distributes an equal number of weights \n",
    "    # higher precision\n",
    ")"
   ]
  },
  {
   "cell_type": "code",
   "execution_count": 6,
   "id": "aef0dfdb-bea5-4c57-a16c-32d9036bdb61",
   "metadata": {},
   "outputs": [],
   "source": [
    "def print_trainable_parameters(model):\n",
    "    \"\"\"\n",
    "    Prints the number of trainable parameters in the model.\n",
    "    \"\"\"\n",
    "    trainable_params = 0\n",
    "    all_param = 0\n",
    "    for _, param in model.named_parameters():\n",
    "        all_param += param.numel()\n",
    "        if param.requires_grad:\n",
    "            trainable_params += param.numel()\n",
    "    print(\n",
    "        f\"trainable params: {trainable_params} || all params: {all_param} || trainable%: {100 * trainable_params / all_param:.2f}\"\n",
    "    )"
   ]
  },
  {
   "cell_type": "code",
   "execution_count": 28,
   "id": "5412b6ee-570f-4233-b326-b8c5bb26cd3e",
   "metadata": {},
   "outputs": [],
   "source": [
    "def model_to_pkl(model):\n",
    "    output_model=AutoModelForCausalLM.from_pretrained(model, num_labels=3, torch_dtype=\"auto\")\n",
    "    print_trainable_parameters(output_model)\n",
    "    key_name=model.split(\"/\", 1)[1]\n",
    "    file_path=os.path.join(current_dir, \"pkl_files\", key_name + \".pkl\")\n",
    "    tokenizer=AutoTokenizer.from_pretrained(model, quantization_config=quantization_config)\n",
    "    model_dict={\n",
    "        \"model_name\": output_model,\n",
    "        \"tokenizer\": tokenizer\n",
    "    }\n",
    "    with open(file_path, \"wb\") as f:\n",
    "        pickle.dump(model_dict, f)\n",
    "        "
   ]
  },
  {
   "cell_type": "code",
   "execution_count": 36,
   "id": "71ca8b46-f77e-4633-87d9-5b08979fedaa",
   "metadata": {},
   "outputs": [
    {
     "name": "stdout",
     "output_type": "stream",
     "text": [
      "trainable params: 1235814400 || all params: 1235814400 || trainable%: 100.00\n"
     ]
    }
   ],
   "source": [
    "model_to_pkl(\"meta-llama/Llama-3.2-1B\")"
   ]
  },
  {
   "cell_type": "code",
   "execution_count": 41,
   "id": "bcf5782a-8576-4934-ac53-d29b45e80642",
   "metadata": {},
   "outputs": [],
   "source": [
    "#model_to_pkl(\"meta-llama/Llama-3.2-3B\")"
   ]
  },
  {
   "cell_type": "code",
   "execution_count": 40,
   "id": "1d10e735-89c7-416c-ba0b-70c7201ee5bd",
   "metadata": {},
   "outputs": [],
   "source": [
    "#model_to_pkl(\"meta-llama/Llama-3.2-3B-Instruct\")"
   ]
  },
  {
   "cell_type": "code",
   "execution_count": 39,
   "id": "4ec056d5-bb55-45d2-9b25-abdbf6f0614f",
   "metadata": {},
   "outputs": [],
   "source": [
    "#model_to_pkl(\"meta-llama/Llama-3.1-8B\")"
   ]
  },
  {
   "cell_type": "code",
   "execution_count": 38,
   "id": "d6430fba-85bf-41ac-aa6d-30e85d6b2a8a",
   "metadata": {},
   "outputs": [],
   "source": [
    "#model_to_pkl(\"mistralai/Mistral-7B-Instruct-v0.1\")"
   ]
  },
  {
   "cell_type": "code",
   "execution_count": null,
   "id": "62ad9c37-d7e4-454c-b617-e74f8f152636",
   "metadata": {},
   "outputs": [],
   "source": [
    "# lla_model321=AutoModelForCausalLM.from_pretrained(\"meta-llama/Llama-3.2-1B\", num_labels=3, torch_dtype=\"auto\")\n",
    "# file_path=os.path.join(current_dir, \"pkl_files\", \"llama3_2.pkl\")\n",
    "# with open(file_path, \"wb\") as f:\n",
    "#     pickle.dump(lla_model321, f)"
   ]
  }
 ],
 "metadata": {
  "kernelspec": {
   "display_name": "Python 3 (ipykernel)",
   "language": "python",
   "name": "python3"
  },
  "language_info": {
   "codemirror_mode": {
    "name": "ipython",
    "version": 3
   },
   "file_extension": ".py",
   "mimetype": "text/x-python",
   "name": "python",
   "nbconvert_exporter": "python",
   "pygments_lexer": "ipython3",
   "version": "3.12.8"
  }
 },
 "nbformat": 4,
 "nbformat_minor": 5
}
