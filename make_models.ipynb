{
 "cells": [
  {
   "cell_type": "code",
   "execution_count": 5,
   "id": "078b2bc2-1b1e-4ba4-a48e-bc9de24d2bab",
   "metadata": {},
   "outputs": [],
   "source": [
    "import pickle\n",
    "import os\n",
    "import transformers\n",
    "import torch\n",
    "from transformers import(\n",
    "AutoModelForCausalLM,\n",
    "AutoTokenizer,\n",
    "BitsAndBytesConfig,\n",
    "TrainingArguments)"
   ]
  },
  {
   "cell_type": "code",
   "execution_count": 8,
   "id": "d2d9770f-255f-44eb-91fe-22a762510ccd",
   "metadata": {},
   "outputs": [],
   "source": [
    "current_dir=os.getcwd()\n",
    "pkl_dir=os.path.join(current_dir, \"pkl_files\")\n",
    "os.makedirs(pkl_dir, exist_ok=True)\n",
    "pkl_files=os.listdir(pkl_dir)"
   ]
  },
  {
   "cell_type": "code",
   "execution_count": 9,
   "id": "79c40a71-2297-4b39-9ed4-51269d8efe10",
   "metadata": {},
   "outputs": [],
   "source": [
    "# PEFT methods reduce the number of trainable parameters of a model while retaining performance\n",
    "# LoRA decomposes a large weight matrix into two smaller, low-rank update matrices\n",
    "# Original weight remains frozen, update matrices are used for training\n",
    "\n",
    "# Quantization can compress LLMs\n",
    "# QLoRA matches 16-bit fine tuning performance while reducing the memory footprint by 90%\n",
    "quantization_config= BitsAndBytesConfig(\n",
    "    load_in_4bit=True, # sets model to load in 4-bit quantization, resulting in a quarter of the memory usage \n",
    "    bnb_4bit_compute_dtype=torch.float16, # improves speed by changing data type\n",
    "    bnb_4bit_use_double_quant=True, #double quantization, quantization of quantization constants\n",
    "    #recommended when you have memory issues\n",
    "    bnb_4bit_quant_type='nf4'#this data type distributes an equal number of weights \n",
    "    # higher precision\n",
    ")"
   ]
  },
  {
   "cell_type": "code",
   "execution_count": 10,
   "id": "aef0dfdb-bea5-4c57-a16c-32d9036bdb61",
   "metadata": {},
   "outputs": [],
   "source": [
    "def print_trainable_parameters(model):\n",
    "    \"\"\"\n",
    "    Prints the number of trainable parameters in the model.\n",
    "    \"\"\"\n",
    "    trainable_params = 0\n",
    "    all_param = 0\n",
    "    for _, param in model.named_parameters():\n",
    "        all_param += param.numel()\n",
    "        if param.requires_grad:\n",
    "            trainable_params += param.numel()\n",
    "    print(\n",
    "        f\"trainable params: {trainable_params} || all params: {all_param} || trainable%: {100 * trainable_params / all_param:.2f}\"\n",
    "    )"
   ]
  },
  {
   "cell_type": "code",
   "execution_count": 11,
   "id": "5412b6ee-570f-4233-b326-b8c5bb26cd3e",
   "metadata": {},
   "outputs": [],
   "source": [
    "def model_to_pkl(model):\n",
    "    output_model=AutoModelForCausalLM.from_pretrained(model, num_labels=3, torch_dtype=\"auto\")\n",
    "    print_trainable_parameters(output_model)\n",
    "    key_name=model.split(\"/\", 1)[1]\n",
    "    file_path=os.path.join(current_dir, \"pkl_files\", key_name + \".pkl\")\n",
    "    tokenizer=AutoTokenizer.from_pretrained(model, \n",
    "                                            quantization_config=quantization_config, \n",
    "                                            device_map=\"auto\")\n",
    "    model_dict={\n",
    "        \"model_name\": output_model,\n",
    "        \"tokenizer\": tokenizer\n",
    "    }\n",
    "    with open(file_path, \"wb\") as f:\n",
    "        pickle.dump(model_dict, f)\n",
    "        "
   ]
  },
  {
   "cell_type": "code",
   "execution_count": 8,
   "id": "71ca8b46-f77e-4633-87d9-5b08979fedaa",
   "metadata": {},
   "outputs": [
    {
     "name": "stderr",
     "output_type": "stream",
     "text": [
      "2025-03-24 15:49:04.127182: E external/local_xla/xla/stream_executor/cuda/cuda_fft.cc:467] Unable to register cuFFT factory: Attempting to register factory for plugin cuFFT when one has already been registered\n",
      "WARNING: All log messages before absl::InitializeLog() is called are written to STDERR\n",
      "E0000 00:00:1742831344.141189 1115431 cuda_dnn.cc:8579] Unable to register cuDNN factory: Attempting to register factory for plugin cuDNN when one has already been registered\n",
      "E0000 00:00:1742831344.145845 1115431 cuda_blas.cc:1407] Unable to register cuBLAS factory: Attempting to register factory for plugin cuBLAS when one has already been registered\n",
      "W0000 00:00:1742831344.159342 1115431 computation_placer.cc:177] computation placer already registered. Please check linkage and avoid linking the same target more than once.\n",
      "W0000 00:00:1742831344.159361 1115431 computation_placer.cc:177] computation placer already registered. Please check linkage and avoid linking the same target more than once.\n",
      "W0000 00:00:1742831344.159364 1115431 computation_placer.cc:177] computation placer already registered. Please check linkage and avoid linking the same target more than once.\n",
      "W0000 00:00:1742831344.159366 1115431 computation_placer.cc:177] computation placer already registered. Please check linkage and avoid linking the same target more than once.\n",
      "2025-03-24 15:49:04.163666: I tensorflow/core/platform/cpu_feature_guard.cc:210] This TensorFlow binary is optimized to use available CPU instructions in performance-critical operations.\n",
      "To enable the following instructions: AVX2 FMA, in other operations, rebuild TensorFlow with the appropriate compiler flags.\n"
     ]
    },
    {
     "name": "stdout",
     "output_type": "stream",
     "text": [
      "trainable params: 1235814400 || all params: 1235814400 || trainable%: 100.00\n"
     ]
    }
   ],
   "source": [
    "model_to_pkl(\"meta-llama/Llama-3.2-1B\")"
   ]
  },
  {
   "cell_type": "code",
   "execution_count": 12,
   "id": "bcf5782a-8576-4934-ac53-d29b45e80642",
   "metadata": {},
   "outputs": [
    {
     "name": "stderr",
     "output_type": "stream",
     "text": [
      "2025-03-26 17:43:47.032167: E external/local_xla/xla/stream_executor/cuda/cuda_fft.cc:467] Unable to register cuFFT factory: Attempting to register factory for plugin cuFFT when one has already been registered\n",
      "WARNING: All log messages before absl::InitializeLog() is called are written to STDERR\n",
      "E0000 00:00:1743011027.046933 2253641 cuda_dnn.cc:8579] Unable to register cuDNN factory: Attempting to register factory for plugin cuDNN when one has already been registered\n",
      "E0000 00:00:1743011027.051389 2253641 cuda_blas.cc:1407] Unable to register cuBLAS factory: Attempting to register factory for plugin cuBLAS when one has already been registered\n",
      "W0000 00:00:1743011027.064552 2253641 computation_placer.cc:177] computation placer already registered. Please check linkage and avoid linking the same target more than once.\n",
      "W0000 00:00:1743011027.064567 2253641 computation_placer.cc:177] computation placer already registered. Please check linkage and avoid linking the same target more than once.\n",
      "W0000 00:00:1743011027.064570 2253641 computation_placer.cc:177] computation placer already registered. Please check linkage and avoid linking the same target more than once.\n",
      "W0000 00:00:1743011027.064573 2253641 computation_placer.cc:177] computation placer already registered. Please check linkage and avoid linking the same target more than once.\n",
      "2025-03-26 17:43:47.068631: I tensorflow/core/platform/cpu_feature_guard.cc:210] This TensorFlow binary is optimized to use available CPU instructions in performance-critical operations.\n",
      "To enable the following instructions: AVX2 FMA, in other operations, rebuild TensorFlow with the appropriate compiler flags.\n",
      "Loading checkpoint shards: 100%|██████████████████████████████████████████████████████████████████████████████| 2/2 [00:02<00:00,  1.12s/it]\n"
     ]
    },
    {
     "name": "stdout",
     "output_type": "stream",
     "text": [
      "trainable params: 3212749824 || all params: 3212749824 || trainable%: 100.00\n"
     ]
    }
   ],
   "source": [
    "model_to_pkl(\"meta-llama/Llama-3.2-3B\")"
   ]
  },
  {
   "cell_type": "code",
   "execution_count": 40,
   "id": "1d10e735-89c7-416c-ba0b-70c7201ee5bd",
   "metadata": {},
   "outputs": [],
   "source": [
    "#model_to_pkl(\"meta-llama/Llama-3.2-3B-Instruct\")"
   ]
  },
  {
   "cell_type": "code",
   "execution_count": 39,
   "id": "4ec056d5-bb55-45d2-9b25-abdbf6f0614f",
   "metadata": {},
   "outputs": [],
   "source": [
    "#model_to_pkl(\"meta-llama/Llama-3.1-8B\")"
   ]
  },
  {
   "cell_type": "code",
   "execution_count": 9,
   "id": "d6430fba-85bf-41ac-aa6d-30e85d6b2a8a",
   "metadata": {},
   "outputs": [
    {
     "name": "stderr",
     "output_type": "stream",
     "text": [
      "Loading checkpoint shards: 100%|██████| 2/2 [00:00<00:00,  5.43it/s]\n"
     ]
    },
    {
     "name": "stdout",
     "output_type": "stream",
     "text": [
      "trainable params: 7241732096 || all params: 7241732096 || trainable%: 100.00\n"
     ]
    }
   ],
   "source": [
    "model_to_pkl(\"mistralai/Mistral-7B-Instruct-v0.1\")"
   ]
  },
  {
   "cell_type": "code",
   "execution_count": null,
   "id": "62ad9c37-d7e4-454c-b617-e74f8f152636",
   "metadata": {},
   "outputs": [],
   "source": [
    "# lla_model321=AutoModelForCausalLM.from_pretrained(\"meta-llama/Llama-3.2-1B\", num_labels=3, torch_dtype=\"auto\")\n",
    "# file_path=os.path.join(current_dir, \"pkl_files\", \"llama3_2.pkl\")\n",
    "# with open(file_path, \"wb\") as f:\n",
    "#     pickle.dump(lla_model321, f)"
   ]
  }
 ],
 "metadata": {
  "kernelspec": {
   "display_name": "Python 3 (ipykernel)",
   "language": "python",
   "name": "python3"
  },
  "language_info": {
   "codemirror_mode": {
    "name": "ipython",
    "version": 3
   },
   "file_extension": ".py",
   "mimetype": "text/x-python",
   "name": "python",
   "nbconvert_exporter": "python",
   "pygments_lexer": "ipython3",
   "version": "3.12.8"
  }
 },
 "nbformat": 4,
 "nbformat_minor": 5
}
