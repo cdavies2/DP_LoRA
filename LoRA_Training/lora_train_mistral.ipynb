{
 "cells": [
  {
   "cell_type": "code",
   "execution_count": 1,
   "id": "7d9abe83-4784-4f35-8949-30c89f972c35",
   "metadata": {},
   "outputs": [
    {
     "name": "stderr",
     "output_type": "stream",
     "text": [
      "/home/ac.cdavies/.vnv/lib/python3.12/site-packages/tqdm/auto.py:21: TqdmWarning: IProgress not found. Please update jupyter and ipywidgets. See https://ipywidgets.readthedocs.io/en/stable/user_install.html\n",
      "  from .autonotebook import tqdm as notebook_tqdm\n",
      "2025-04-14 18:27:32.660863: E external/local_xla/xla/stream_executor/cuda/cuda_fft.cc:467] Unable to register cuFFT factory: Attempting to register factory for plugin cuFFT when one has already been registered\n",
      "WARNING: All log messages before absl::InitializeLog() is called are written to STDERR\n",
      "E0000 00:00:1744655252.675274 2018105 cuda_dnn.cc:8579] Unable to register cuDNN factory: Attempting to register factory for plugin cuDNN when one has already been registered\n",
      "E0000 00:00:1744655252.679616 2018105 cuda_blas.cc:1407] Unable to register cuBLAS factory: Attempting to register factory for plugin cuBLAS when one has already been registered\n",
      "W0000 00:00:1744655252.692524 2018105 computation_placer.cc:177] computation placer already registered. Please check linkage and avoid linking the same target more than once.\n",
      "W0000 00:00:1744655252.692541 2018105 computation_placer.cc:177] computation placer already registered. Please check linkage and avoid linking the same target more than once.\n",
      "W0000 00:00:1744655252.692545 2018105 computation_placer.cc:177] computation placer already registered. Please check linkage and avoid linking the same target more than once.\n",
      "W0000 00:00:1744655252.692547 2018105 computation_placer.cc:177] computation placer already registered. Please check linkage and avoid linking the same target more than once.\n",
      "2025-04-14 18:27:32.696655: I tensorflow/core/platform/cpu_feature_guard.cc:210] This TensorFlow binary is optimized to use available CPU instructions in performance-critical operations.\n",
      "To enable the following instructions: AVX2 FMA, in other operations, rebuild TensorFlow with the appropriate compiler flags.\n"
     ]
    },
    {
     "name": "stdout",
     "output_type": "stream",
     "text": [
      "{'record': Value(dtype='string', id=None), 'text': Value(dtype='string', id=None)}\n",
      "{'text': Value(dtype='string', id=None)}\n",
      "{'text': Value(dtype='string', id=None)}\n",
      "['train', 'validation', 'test']\n",
      "['train', 'validation', 'test']\n",
      "In, Out, get_ipython, exit, quit, open, accelerate, datasets, evaluate, math, np, os, peft, pickle, pytest, ipytest, pd, transformers, torch, time, threading, load_dataset, load_dataset_builder, get_dataset_split_names, get_dataset_config_names, LoftQConfig, LoraConfig, get_peft_model, AutoModelForCausalLM, AutoTokenizer, pipeline, TrainingArguments, Trainer, SFTTrainer, SFTConfig, @py_builtins, @pytest_ar, model_from_pkl, ds_builder1, ds_builder2, ds_builder3, ds_gs, ds_gst1_train, ds_gst1_test, ds_gst2_train, ds_gst2_test, search_with_strings, map_data, print_trainable_parameters, metric, initialize_heartbeat, heartbeat, end_heartbeat, comp_metrics_output, compute_metrics, make_trainer, get_dataframe, get_training_output, "
     ]
    }
   ],
   "source": [
    "%run training_functions.ipynb"
   ]
  },
  {
   "cell_type": "markdown",
   "id": "6ffc12b1-fe2b-44e6-b360-09c4267f8f6f",
   "metadata": {},
   "source": [
    "## Imported Functions\n",
    "1. model_from_pkl(model): extracts ML model from pkl file\n",
    "2. map_data(data, model, tokenizer): performs preprocessing/tokenization on data\n",
    "3. make_trainer(m_model, train_data, test_data, config, args): creates training object with model, training arguments, train/test data, a configuration, and evaluation function\n",
    "4. compute_metrics(eval_pred): used in the trainer, calculates prediction accuracy/validation loss\n",
    "5. get_training_output(trainer, keys: list): extracts data from training logs\n",
    "6. get_dataframe(training_output: list, strategy): used in get_training_output, puts training data into dataframe/graph form"
   ]
  },
  {
   "cell_type": "code",
   "execution_count": 2,
   "id": "5dcbad79-4d5d-4d26-8deb-e40034e23cd2",
   "metadata": {},
   "outputs": [
    {
     "name": "stdout",
     "output_type": "stream",
     "text": [
      "NZ_LIXJ01000001.1\n"
     ]
    }
   ],
   "source": [
    "print(ds_gst1_train[0]['record'])"
   ]
  },
  {
   "cell_type": "code",
   "execution_count": 3,
   "id": "9799f3a1-d6fa-4710-97cc-2bf06602c4f4",
   "metadata": {},
   "outputs": [
    {
     "name": "stdout",
     "output_type": "stream",
     "text": [
      "CGACTCCGCACAGGCCCTAGGCGTGGTCCACGCATCGAGCGCGTGCGCCGTGGCATACACCCGGGCCACCCGTACGACCCTTCCGGCCGCCCCGTGTGCGCCCTCGTCGCCGAGTCCGCTCCGGCGCGCGCGGGCGCACTGCTGTTCCGCGCGGTGTCATGCGCTCCTCCCGTCCCGACATGCGCCTTTTTGCAGGGGAGAGGGAGGGGTAGGGTCGCGCGTACGCCTAGCACGGGGGAACGGTCTTGGGGGACGCAGTGGACGTACGGGTGGCGGCGATCGCCAGTCTCACACCGCTCGAAGAACTCGACAGCGATCCGTTCCTCGTGGACACCCGCAGCCAGCACGACATGTGCGCACGCTGGGCCGCGGACAAGGGGTACGTCGTCACCCGCCAGCTCCGCTTCTACGGGCTGCGCCCCGATCACCACGCCCTGTGGAGCGATGTCGAGAGCGGCGACGTCGAGGTGTTCGTCGCCGCCAACGACCGGGTGCTGGAACGGGCCCTCACGTCGGTCGCGGAGTTCGCCGCGGAGTGCGCGCGGCGCGGCGTGCGTCTGGAGATCGCCGGGCTGGACGAGCCGCCGTACAACGCCGGCACGAAGGCGAGCGTGCATCGCAGGCTCTCCATGCCCACCGCCGGTTACGACGGCCGCTGACGCACTCCGCCTCCACTGCCGGCTCGCGGCCCCTGCCCTCGTCCCGGCCCCGTCCCTTCCGCGGCTTGCCGTCGGGCTGTGACAGGCTGGGGGACAGGGTCCGCAGCGGCGGGGCCCGGACGTGAGGTGGTTGAGGCGTGGGTGACGGGCGATGGCGAACGGTCGGCAACGCCCTGATGCGAGTGGCCGTGGTGTGGGCGGTCTCCACGCTCACGATGCTGGTGCTCGCCGGGGTGCTGCCGGAGTTCCGGCTCCAGTCGGACGACGGCGACAGCATCACCAAGACCGCGTTCACCGCGGCCTGGGGCGCCGGAGCGTTCGGCCTGCTCTCCGCACTCGTC\n"
     ]
    }
   ],
   "source": [
    "print(ds_gst1_train[0]['text'][:1000])"
   ]
  },
  {
   "cell_type": "code",
   "execution_count": 4,
   "id": "ea91fd23-0c73-495e-bf7b-6fb06298194a",
   "metadata": {},
   "outputs": [],
   "source": [
    "mistral, mistral_tokenizer=model_from_pkl(\"Mistral-7B-Instruct-v0.1\")"
   ]
  },
  {
   "cell_type": "code",
   "execution_count": 5,
   "id": "e3aa5a67-3ac6-4916-b1cc-5d5c4ff8e80d",
   "metadata": {},
   "outputs": [],
   "source": [
    "m_tokenized_genome_samples=map_data(ds_gs, mistral, mistral_tokenizer)"
   ]
  },
  {
   "cell_type": "code",
   "execution_count": 6,
   "id": "45d9c5eb-12ff-4cb5-9a6e-6efaab2dde4b",
   "metadata": {},
   "outputs": [],
   "source": [
    "m_tokenized_stage1_train=map_data(ds_gst1_train, mistral, mistral_tokenizer)\n",
    "m_tokenized_stage1_test=map_data(ds_gst1_test, mistral, mistral_tokenizer)"
   ]
  },
  {
   "cell_type": "code",
   "execution_count": 7,
   "id": "efb0f4bf-2d60-40db-b1b1-1c485081be9f",
   "metadata": {},
   "outputs": [],
   "source": [
    "m_tokenized_stage2_train=map_data(ds_gst2_train, mistral, mistral_tokenizer)\n",
    "m_tokenized_stage2_test=map_data(ds_gst2_test, mistral, mistral_tokenizer)"
   ]
  },
  {
   "cell_type": "code",
   "execution_count": 8,
   "id": "3d672ac9-313b-4a3d-97f1-ef193f3f897b",
   "metadata": {},
   "outputs": [],
   "source": [
    "# to fine-tune with LoRA, instantiate a base model (as above)\n",
    "# create LoraConfig where LoRA-specific parameters are defined\n",
    "config=LoraConfig(\n",
    "    #inference_mode=False,\n",
    "    r=8, #rank of update matrices, lower value results in smaller matrices with fewer parameters\n",
    "    lora_alpha=16, #LoRA scaling factor\n",
    "    task_type=\"CAUSAL_LM\",\n",
    "    lora_dropout=0.1, # dropout probability of LoRA layers\n",
    "    bias=\"none\", # specifies if bias parameters should be trained\n",
    "    #modules_to_save=[\"decode_head\"] #models apart from LoRA layers that are trainable\n",
    ")"
   ]
  },
  {
   "cell_type": "code",
   "execution_count": 9,
   "id": "50fea75b-ad80-4c7f-ad85-b7310cc8a2b9",
   "metadata": {},
   "outputs": [
    {
     "name": "stdout",
     "output_type": "stream",
     "text": [
      "trainable params: 3407872 || all params: 7245139968 || trainable%: 0.05\n"
     ]
    }
   ],
   "source": [
    "mis_lora_model=get_peft_model(mistral, config)\n",
    "print_trainable_parameters(mis_lora_model)"
   ]
  },
  {
   "cell_type": "code",
   "execution_count": 10,
   "id": "a7401940-b03e-4f74-8cb0-76f86538ae20",
   "metadata": {},
   "outputs": [],
   "source": [
    "m_trainer = make_trainer(mis_lora_model, m_tokenized_stage1_train, m_tokenized_stage1_test, config,\n",
    "                          SFTConfig(output_dir=\"test_trainer\", eval_strategy=\"steps\",\n",
    "                                    logging_strategy=\"steps\", \n",
    "                                    logging_steps=50, do_eval=True, \n",
    "                                    #max_length=1024,\n",
    "                                    per_device_eval_batch_size=8,\n",
    "                                    fp16=True))\n",
    "\n",
    "# Using the SFTConfig default values provides us with...\n",
    "# num_train_epochs = 3.0\n",
    "# eval_strategy: typing.Union[transformers.trainer_utils.IntervalStrategy, str] = 'no'\n",
    "# per_device_train_batch_size = 8\n",
    "# learning_rate = 2e-5\n",
    "# gradient_checkpointing=False"
   ]
  },
  {
   "cell_type": "code",
   "execution_count": 11,
   "id": "783e9fa6-7f0f-451e-b39c-4cfe872da86e",
   "metadata": {},
   "outputs": [
    {
     "name": "stdout",
     "output_type": "stream",
     "text": [
      "The function is running\n"
     ]
    },
    {
     "name": "stderr",
     "output_type": "stream",
     "text": [
      "/home/ac.cdavies/.vnv/lib/python3.12/site-packages/torch/nn/parallel/_functions.py:70: UserWarning: Was asked to gather along dimension 0, but all input tensors were scalars; will instead unsqueeze and return a vector.\n",
      "  warnings.warn(\n"
     ]
    },
    {
     "data": {
      "text/html": [
       "\n",
       "    <div>\n",
       "      \n",
       "      <progress value='705' max='705' style='width:300px; height:20px; vertical-align: middle;'></progress>\n",
       "      [705/705 25:38, Epoch 3/3]\n",
       "    </div>\n",
       "    <table border=\"1\" class=\"dataframe\">\n",
       "  <thead>\n",
       " <tr style=\"text-align: left;\">\n",
       "      <th>Step</th>\n",
       "      <th>Training Loss</th>\n",
       "      <th>Validation Loss</th>\n",
       "    </tr>\n",
       "  </thead>\n",
       "  <tbody>\n",
       "    <tr>\n",
       "      <td>50</td>\n",
       "      <td>0.627400</td>\n",
       "      <td>2.466227</td>\n",
       "    </tr>\n",
       "    <tr>\n",
       "      <td>100</td>\n",
       "      <td>0.609800</td>\n",
       "      <td>2.441739</td>\n",
       "    </tr>\n",
       "    <tr>\n",
       "      <td>150</td>\n",
       "      <td>0.606000</td>\n",
       "      <td>2.433480</td>\n",
       "    </tr>\n",
       "    <tr>\n",
       "      <td>200</td>\n",
       "      <td>0.603100</td>\n",
       "      <td>2.428656</td>\n",
       "    </tr>\n",
       "    <tr>\n",
       "      <td>250</td>\n",
       "      <td>0.602200</td>\n",
       "      <td>2.425179</td>\n",
       "    </tr>\n",
       "    <tr>\n",
       "      <td>300</td>\n",
       "      <td>0.602600</td>\n",
       "      <td>2.423435</td>\n",
       "    </tr>\n",
       "    <tr>\n",
       "      <td>350</td>\n",
       "      <td>0.601400</td>\n",
       "      <td>2.422754</td>\n",
       "    </tr>\n",
       "    <tr>\n",
       "      <td>400</td>\n",
       "      <td>0.601400</td>\n",
       "      <td>2.422242</td>\n",
       "    </tr>\n",
       "    <tr>\n",
       "      <td>450</td>\n",
       "      <td>0.600200</td>\n",
       "      <td>2.421378</td>\n",
       "    </tr>\n",
       "    <tr>\n",
       "      <td>500</td>\n",
       "      <td>0.600900</td>\n",
       "      <td>2.420958</td>\n",
       "    </tr>\n",
       "    <tr>\n",
       "      <td>550</td>\n",
       "      <td>0.600900</td>\n",
       "      <td>2.421185</td>\n",
       "    </tr>\n",
       "    <tr>\n",
       "      <td>600</td>\n",
       "      <td>0.599500</td>\n",
       "      <td>2.420486</td>\n",
       "    </tr>\n",
       "    <tr>\n",
       "      <td>650</td>\n",
       "      <td>0.600600</td>\n",
       "      <td>2.420199</td>\n",
       "    </tr>\n",
       "    <tr>\n",
       "      <td>700</td>\n",
       "      <td>0.600500</td>\n",
       "      <td>2.420022</td>\n",
       "    </tr>\n",
       "  </tbody>\n",
       "</table><p>"
      ],
      "text/plain": [
       "<IPython.core.display.HTML object>"
      ]
     },
     "metadata": {},
     "output_type": "display_data"
    },
    {
     "name": "stdout",
     "output_type": "stream",
     "text": [
      "The function is running\n",
      "The function is running\n",
      "The function is running\n",
      "The function is running\n",
      "The function is running\n",
      "The function is running\n",
      "The function is running\n",
      "The function is running\n",
      "The function is running\n",
      "The function is running\n",
      "The function is running\n",
      "The function is running\n",
      "The function is running\n",
      "The function is running\n",
      "The function is running\n",
      "The function is running\n",
      "The function is running\n",
      "The function is running\n",
      "The function is running\n",
      "The function is running\n",
      "The function is running\n",
      "The function is running\n",
      "The function is running\n",
      "The function is running\n"
     ]
    },
    {
     "name": "stderr",
     "output_type": "stream",
     "text": [
      "/home/ac.cdavies/.vnv/lib/python3.12/site-packages/torch/nn/parallel/_functions.py:70: UserWarning: Was asked to gather along dimension 0, but all input tensors were scalars; will instead unsqueeze and return a vector.\n",
      "  warnings.warn(\n"
     ]
    },
    {
     "name": "stdout",
     "output_type": "stream",
     "text": [
      "The function is running\n",
      "The function is running\n",
      "The function is running\n",
      "The function is running\n",
      "The function is running\n",
      "The function is running\n",
      "The function is running\n",
      "The function is running\n",
      "The function is running\n",
      "The function is running\n"
     ]
    }
   ],
   "source": [
    "state=initialize_heartbeat()\n",
    "m_trainer.train()\n",
    "end_heartbeat(state)"
   ]
  },
  {
   "cell_type": "code",
   "execution_count": 12,
   "id": "3ca5c3f1-4afe-461e-80fa-063bf6421c0f",
   "metadata": {},
   "outputs": [
    {
     "data": {
      "text/plain": [
       "'steps'"
      ]
     },
     "execution_count": 12,
     "metadata": {},
     "output_type": "execute_result"
    }
   ],
   "source": [
    "m_trainer.args.eval_strategy.value"
   ]
  },
  {
   "cell_type": "code",
   "execution_count": 13,
   "id": "f7f6a9f6-18a6-4655-88d3-0628d4582fc6",
   "metadata": {},
   "outputs": [
    {
     "data": {
      "text/html": [
       "<div>\n",
       "<style scoped>\n",
       "    .dataframe tbody tr th:only-of-type {\n",
       "        vertical-align: middle;\n",
       "    }\n",
       "\n",
       "    .dataframe tbody tr th {\n",
       "        vertical-align: top;\n",
       "    }\n",
       "\n",
       "    .dataframe thead th {\n",
       "        text-align: right;\n",
       "    }\n",
       "</style>\n",
       "<table border=\"1\" class=\"dataframe\">\n",
       "  <thead>\n",
       "    <tr style=\"text-align: right;\">\n",
       "      <th></th>\n",
       "      <th>loss</th>\n",
       "      <th>eval_loss</th>\n",
       "    </tr>\n",
       "    <tr>\n",
       "      <th>steps</th>\n",
       "      <th></th>\n",
       "      <th></th>\n",
       "    </tr>\n",
       "  </thead>\n",
       "  <tbody>\n",
       "    <tr>\n",
       "      <th>50</th>\n",
       "      <td>0.6274</td>\n",
       "      <td>2.466227</td>\n",
       "    </tr>\n",
       "    <tr>\n",
       "      <th>100</th>\n",
       "      <td>0.6098</td>\n",
       "      <td>2.441739</td>\n",
       "    </tr>\n",
       "    <tr>\n",
       "      <th>150</th>\n",
       "      <td>0.6060</td>\n",
       "      <td>2.433480</td>\n",
       "    </tr>\n",
       "    <tr>\n",
       "      <th>200</th>\n",
       "      <td>0.6031</td>\n",
       "      <td>2.428656</td>\n",
       "    </tr>\n",
       "    <tr>\n",
       "      <th>250</th>\n",
       "      <td>0.6022</td>\n",
       "      <td>2.425179</td>\n",
       "    </tr>\n",
       "    <tr>\n",
       "      <th>300</th>\n",
       "      <td>0.6026</td>\n",
       "      <td>2.423435</td>\n",
       "    </tr>\n",
       "    <tr>\n",
       "      <th>350</th>\n",
       "      <td>0.6014</td>\n",
       "      <td>2.422754</td>\n",
       "    </tr>\n",
       "    <tr>\n",
       "      <th>400</th>\n",
       "      <td>0.6014</td>\n",
       "      <td>2.422242</td>\n",
       "    </tr>\n",
       "    <tr>\n",
       "      <th>450</th>\n",
       "      <td>0.6002</td>\n",
       "      <td>2.421378</td>\n",
       "    </tr>\n",
       "    <tr>\n",
       "      <th>500</th>\n",
       "      <td>0.6009</td>\n",
       "      <td>2.420958</td>\n",
       "    </tr>\n",
       "    <tr>\n",
       "      <th>550</th>\n",
       "      <td>0.6009</td>\n",
       "      <td>2.421185</td>\n",
       "    </tr>\n",
       "    <tr>\n",
       "      <th>600</th>\n",
       "      <td>0.5995</td>\n",
       "      <td>2.420486</td>\n",
       "    </tr>\n",
       "    <tr>\n",
       "      <th>650</th>\n",
       "      <td>0.6006</td>\n",
       "      <td>2.420199</td>\n",
       "    </tr>\n",
       "    <tr>\n",
       "      <th>700</th>\n",
       "      <td>0.6005</td>\n",
       "      <td>2.420022</td>\n",
       "    </tr>\n",
       "  </tbody>\n",
       "</table>\n",
       "</div>"
      ],
      "text/plain": [
       "         loss  eval_loss\n",
       "steps                   \n",
       "50     0.6274   2.466227\n",
       "100    0.6098   2.441739\n",
       "150    0.6060   2.433480\n",
       "200    0.6031   2.428656\n",
       "250    0.6022   2.425179\n",
       "300    0.6026   2.423435\n",
       "350    0.6014   2.422754\n",
       "400    0.6014   2.422242\n",
       "450    0.6002   2.421378\n",
       "500    0.6009   2.420958\n",
       "550    0.6009   2.421185\n",
       "600    0.5995   2.420486\n",
       "650    0.6006   2.420199\n",
       "700    0.6005   2.420022"
      ]
     },
     "execution_count": 13,
     "metadata": {},
     "output_type": "execute_result"
    },
    {
     "data": {
      "image/png": "[encoded data removed]",
      "text/plain": [
       "<Figure size 640x480 with 1 Axes>"
      ]
     },
     "metadata": {},
     "output_type": "display_data"
    },
    {
     "data": {
      "image/png": "[encoded data removed]",
      "text/plain": [
       "<Figure size 640x480 with 1 Axes>"
      ]
     },
     "metadata": {},
     "output_type": "display_data"
    }
   ],
   "source": [
    "output=get_training_output(m_trainer, ['loss', 'eval_loss'])\n",
    "#output=get_training_output(m_trainer, ['loss', 'eval_loss', 'eval_accuracy'])\n",
    "output"
   ]
  },
  {
   "cell_type": "code",
   "execution_count": 21,
   "id": "aeecfacf-ed65-4b0e-abbe-cacd8c50dcb6",
   "metadata": {},
   "outputs": [],
   "source": [
    "m2_trainer = make_trainer(mis_lora_model, m_tokenized_stage1_train, m_tokenized_stage1_test, config,\n",
    "                          SFTConfig(output_dir=\"test_trainer\", eval_strategy=\"epoch\",\n",
    "                                    logging_strategy=\"steps\", \n",
    "                                    logging_steps=5, do_eval=True, \n",
    "                                    #max_length=1024,\n",
    "                                    per_device_eval_batch_size=8,\n",
    "                                   fp16=True))"
   ]
  },
  {
   "cell_type": "code",
   "execution_count": 22,
   "id": "a971cdfa-dc69-4f79-84b7-032a65fd8bf1",
   "metadata": {},
   "outputs": [
    {
     "name": "stdout",
     "output_type": "stream",
     "text": [
      "The function is running\n"
     ]
    },
    {
     "name": "stderr",
     "output_type": "stream",
     "text": [
      "/home/ac.cdavies/.vnv/lib/python3.12/site-packages/torch/nn/parallel/_functions.py:70: UserWarning: Was asked to gather along dimension 0, but all input tensors were scalars; will instead unsqueeze and return a vector.\n",
      "  warnings.warn(\n"
     ]
    },
    {
     "data": {
      "text/html": [
       "\n",
       "    <div>\n",
       "      \n",
       "      <progress value='705' max='705' style='width:300px; height:20px; vertical-align: middle;'></progress>\n",
       "      [705/705 22:12, Epoch 3/3]\n",
       "    </div>\n",
       "    <table border=\"1\" class=\"dataframe\">\n",
       "  <thead>\n",
       " <tr style=\"text-align: left;\">\n",
       "      <th>Epoch</th>\n",
       "      <th>Training Loss</th>\n",
       "      <th>Validation Loss</th>\n",
       "    </tr>\n",
       "  </thead>\n",
       "  <tbody>\n",
       "    <tr>\n",
       "      <td>1</td>\n",
       "      <td>0.597000</td>\n",
       "      <td>2.412825</td>\n",
       "    </tr>\n",
       "    <tr>\n",
       "      <td>2</td>\n",
       "      <td>0.595300</td>\n",
       "      <td>2.411485</td>\n",
       "    </tr>\n",
       "    <tr>\n",
       "      <td>3</td>\n",
       "      <td>0.594400</td>\n",
       "      <td>2.410717</td>\n",
       "    </tr>\n",
       "  </tbody>\n",
       "</table><p>"
      ],
      "text/plain": [
       "<IPython.core.display.HTML object>"
      ]
     },
     "metadata": {},
     "output_type": "display_data"
    },
    {
     "name": "stdout",
     "output_type": "stream",
     "text": [
      "The function is running\n",
      "The function is running\n",
      "The function is running\n",
      "The function is running\n",
      "The function is running\n",
      "The function is running\n",
      "The function is running\n",
      "The function is running\n",
      "The function is running\n",
      "The function is running\n",
      "The function is running\n",
      "The function is running\n",
      "The function is running\n",
      "The function is running\n",
      "The function is running\n",
      "The function is running\n",
      "The function is running\n",
      "The function is running\n",
      "The function is running\n",
      "The function is running\n",
      "The function is running\n"
     ]
    },
    {
     "name": "stderr",
     "output_type": "stream",
     "text": [
      "/home/ac.cdavies/.vnv/lib/python3.12/site-packages/torch/nn/parallel/_functions.py:70: UserWarning: Was asked to gather along dimension 0, but all input tensors were scalars; will instead unsqueeze and return a vector.\n",
      "  warnings.warn(\n"
     ]
    },
    {
     "name": "stdout",
     "output_type": "stream",
     "text": [
      "The function is running\n",
      "The function is running\n",
      "The function is running\n",
      "The function is running\n",
      "The function is running\n",
      "The function is running\n",
      "The function is running\n",
      "The function is running\n"
     ]
    },
    {
     "name": "stderr",
     "output_type": "stream",
     "text": [
      "/home/ac.cdavies/.vnv/lib/python3.12/site-packages/torch/nn/parallel/_functions.py:70: UserWarning: Was asked to gather along dimension 0, but all input tensors were scalars; will instead unsqueeze and return a vector.\n",
      "  warnings.warn(\n"
     ]
    }
   ],
   "source": [
    "state=initialize_heartbeat()\n",
    "m2_trainer.train()\n",
    "end_heartbeat(state)"
   ]
  },
  {
   "cell_type": "code",
   "execution_count": 23,
   "id": "5a83aace-bd49-41ab-9436-c910e7dfe65c",
   "metadata": {},
   "outputs": [
    {
     "data": {
      "text/html": [
       "<div>\n",
       "<style scoped>\n",
       "    .dataframe tbody tr th:only-of-type {\n",
       "        vertical-align: middle;\n",
       "    }\n",
       "\n",
       "    .dataframe tbody tr th {\n",
       "        vertical-align: top;\n",
       "    }\n",
       "\n",
       "    .dataframe thead th {\n",
       "        text-align: right;\n",
       "    }\n",
       "</style>\n",
       "<table border=\"1\" class=\"dataframe\">\n",
       "  <thead>\n",
       "    <tr style=\"text-align: right;\">\n",
       "      <th></th>\n",
       "      <th>loss</th>\n",
       "      <th>eval_loss</th>\n",
       "    </tr>\n",
       "    <tr>\n",
       "      <th>epoch</th>\n",
       "      <th></th>\n",
       "      <th></th>\n",
       "    </tr>\n",
       "  </thead>\n",
       "  <tbody>\n",
       "    <tr>\n",
       "      <th>1.0</th>\n",
       "      <td>0.5970</td>\n",
       "      <td>2.412825</td>\n",
       "    </tr>\n",
       "    <tr>\n",
       "      <th>2.0</th>\n",
       "      <td>0.5953</td>\n",
       "      <td>2.411485</td>\n",
       "    </tr>\n",
       "    <tr>\n",
       "      <th>3.0</th>\n",
       "      <td>0.5944</td>\n",
       "      <td>2.410717</td>\n",
       "    </tr>\n",
       "  </tbody>\n",
       "</table>\n",
       "</div>"
      ],
      "text/plain": [
       "         loss  eval_loss\n",
       "epoch                   \n",
       "1.0    0.5970   2.412825\n",
       "2.0    0.5953   2.411485\n",
       "3.0    0.5944   2.410717"
      ]
     },
     "execution_count": 23,
     "metadata": {},
     "output_type": "execute_result"
    },
    {
     "data": {
      "image/png": "[encoded data removed]",
      "text/plain": [
       "<Figure size 640x480 with 1 Axes>"
      ]
     },
     "metadata": {},
     "output_type": "display_data"
    },
    {
     "data": {
      "image/png": "[encoded data removed]",
      "text/plain": [
       "<Figure size 640x480 with 1 Axes>"
      ]
     },
     "metadata": {},
     "output_type": "display_data"
    }
   ],
   "source": [
    "output=get_training_output(m2_trainer, ['loss', 'eval_loss'])\n",
    "#output=get_training_output(m2_trainer, ['loss', 'eval_loss', 'eval_accuracy'])\n",
    "output"
   ]
  },
  {
   "cell_type": "code",
   "execution_count": 17,
   "id": "5b847779-17e8-4268-8dd6-12272d9aedf2",
   "metadata": {},
   "outputs": [],
   "source": [
    "m_trainer.model.save_pretrained('./fine_tuned/mis/')\n",
    "m2_trainer.model.save_pretrained('./fine_tuned/mis2/')"
   ]
  },
  {
   "cell_type": "code",
   "execution_count": 18,
   "id": "ed0a0549-f722-427d-8661-79370ca9e6a5",
   "metadata": {},
   "outputs": [
    {
     "data": {
      "text/plain": [
       "('./fine_tuned/mis_token/tokenizer_config.json',\n",
       " './fine_tuned/mis_token/special_tokens_map.json',\n",
       " './fine_tuned/mis_token/tokenizer.model',\n",
       " './fine_tuned/mis_token/added_tokens.json',\n",
       " './fine_tuned/mis_token/tokenizer.json')"
      ]
     },
     "execution_count": 18,
     "metadata": {},
     "output_type": "execute_result"
    }
   ],
   "source": [
    "m_trainer.processing_class.save_pretrained('./fine_tuned/mis_token/')"
   ]
  },
  {
   "cell_type": "code",
   "execution_count": 19,
   "id": "d72eef50-343f-4f3f-8edb-fae9d95cf65d",
   "metadata": {},
   "outputs": [
    {
     "data": {
      "text/plain": [
       "('./fine_tuned/mis2_token/tokenizer_config.json',\n",
       " './fine_tuned/mis2_token/special_tokens_map.json',\n",
       " './fine_tuned/mis2_token/tokenizer.model',\n",
       " './fine_tuned/mis2_token/added_tokens.json',\n",
       " './fine_tuned/mis2_token/tokenizer.json')"
      ]
     },
     "execution_count": 19,
     "metadata": {},
     "output_type": "execute_result"
    }
   ],
   "source": [
    "m2_trainer.processing_class.save_pretrained('./fine_tuned/mis2_token/')"
   ]
  },
  {
   "cell_type": "code",
   "execution_count": null,
   "id": "18f9b5f8-d95b-4137-9dd1-f83332084a2d",
   "metadata": {},
   "outputs": [],
   "source": []
  }
 ],
 "metadata": {
  "kernelspec": {
   "display_name": "Python 3 (ipykernel)",
   "language": "python",
   "name": "python3"
  },
  "language_info": {
   "codemirror_mode": {
    "name": "ipython",
    "version": 3
   },
   "file_extension": ".py",
   "mimetype": "text/x-python",
   "name": "python",
   "nbconvert_exporter": "python",
   "pygments_lexer": "ipython3",
   "version": "3.12.8"
  }
 },
 "nbformat": 4,
 "nbformat_minor": 5
}
