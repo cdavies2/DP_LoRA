{
 "cells": [
  {
   "cell_type": "code",
   "execution_count": 2,
   "id": "23aad9ac-eaec-4643-9f2c-96627ef91510",
   "metadata": {},
   "outputs": [
    {
     "name": "stdout",
     "output_type": "stream",
     "text": [
      "['train', 'validation', 'test']\n",
      "['train', 'validation', 'test']\n",
      "In, Out, get_ipython, exit, quit, open, accelerate, datasets, evaluate, math, np, peft, pickle, pytest, ipytest, pd, transformers, torch, load_dataset, load_dataset_builder, get_dataset_split_names, get_dataset_config_names, LoftQConfig, LoraConfig, get_peft_model, AutoModelForCausalLM, AutoTokenizer, pipeline, TrainingArguments, Trainer, SFTTrainer, SFTConfig, @py_builtins, @pytest_ar, model_from_pkl, ds_gst1_train, ds_gst1_test, ds_gst2_train, ds_gst2_test, search_with_strings, map_data, print_trainable_parameters, metric, comp_metrics_output, compute_metrics, make_trainer, get_dataframe, get_training_output, "
     ]
    }
   ],
   "source": [
    "%run training_functions.ipynb"
   ]
  },
  {
   "cell_type": "markdown",
   "id": "15cac94a-199b-4ec9-9b03-464fe0d0a42b",
   "metadata": {},
   "source": [
    "## Dataset value example \n",
    "{'record': 'NZ_LIXJ01000001.1', 'text': 'CGACTCCGCACAGGCCCTAGGCGTGGTCCACGCATCGAGCGCGTGCGCCGTGGCATACACCCGGGCCACCCGTACGACCCTTCCGGCCGCCCCGTGTGCGCCCTCGTCGCCGAGTCCGCTCCGGCGCGCGCGGGCGCACTGCTGTTCCGCGCGGTGTCATGCGCTCCTCCCGTCCCGACATGCGCCTTTTTGCAGGGGAGAGGGAGGGGTAGGGTCGCGCGTACGCCTAGCACGGGGGAACGGTCTTGGGGGACGCAGTGGACGTACGGGTGGCGGCGATCGCCAGTCTCACACCGCTCGAAGAACTCGACAGCGATCCGTTCCTCGTGGACACCCGCAGCCAGCACGACATGTGCGCACGCTGGGCCGCGGACAAGGGGTACGTCGTCACCCGCCAGCTCCGCTTCTACGGGCTGCGCCCCGATCACCACGCCCTGTGGAGCGATGTCGAGAGCGGCGACGTCGAGGTGTTCGTCGCCGCCAACGACCGGGTGCTGGAACGGGCCCTCACGTCGGTCGCGGAGTTCGCCGCGGAGTGCGCGCGGCGCGGCGTGCGTCTGGAGATCGCCGGGCTGGACGAGCCGCCGTACAACGCCGGCACGAAGGCGAGCGTGCATCGCAGGCTCTCCATGCCCACCGCCGGTTACGACGGCCGCTGACGCACTCCGCCTCCACTGCCGGCTCGCGGCCCCTGCCCTCGTCCCGGCCCCGTCCCTTCCGCGGCTTGCCGTCGGGCTGTGACAGGCTGGGGGACAGGGTCCGCAGCGGCGGGGCCCGGACGTGAGGTGGTTGAGGCGTGGGTGACGGGCGATGGCGAACGGTCGGCAACGCCCTGATGCGAGTGGCCGTGGTGTGGGCGGTCTCCACGCTCACGATGCTGGTGCTCGCCGGGGTGCTGCCGGAGTTCCGGCTCCAGTCGGACGACGGCGACAGCATCACCAAGACCGCGTTCACCGCGGCCTGGGGCGCCGGAGCGTTCGGCCTGCTCTCCGCACTCGTC'}"
   ]
  },
  {
   "cell_type": "code",
   "execution_count": 3,
   "id": "7c9ee6a5-8361-4caf-ab01-d596240ccbe7",
   "metadata": {},
   "outputs": [],
   "source": [
    "# let's try prompting the fine-tuned models\n",
    "def continued_convo(model, tokenizer, message, convo=None):\n",
    "    #this will be used to provide models with context from previous conversations\n",
    "    #this will also allow multiple messages to be consecutively sent to the same model\n",
    "    pipe=pipeline(\"text-generation\", device_map=\"auto\", max_new_tokens=512, model=model, tokenizer=tokenizer)\n",
    "    if convo==None:\n",
    "        messages=[{\"role\": \"system\", \"content\": \"You are a helpful assistant\"}]\n",
    "    else:\n",
    "        messages=convo\n",
    "    messages.append({\"role\": \"user\", \"content\": message})\n",
    "    #tokenizer.apply_chat_template(messages, tokenize=True, add_generation_prompt=True, return_tensors=\"pt\")\n",
    "    answer=pipe(messages, max_new_tokens=1024)[0]['generated_text'][-1]\n",
    "    print(answer)\n",
    "    messages.append(answer)\n",
    "    return pipe, messages "
   ]
  },
  {
   "cell_type": "code",
   "execution_count": 4,
   "id": "3429c55a-189c-4f48-812a-c4bbb2710dad",
   "metadata": {},
   "outputs": [],
   "source": [
    "lla_model=AutoModelForCausalLM.from_pretrained('./fine_tuned/lla2/') "
   ]
  },
  {
   "cell_type": "code",
   "execution_count": 5,
   "id": "13c109fc-2a58-4711-ad6c-0d22dc65c474",
   "metadata": {},
   "outputs": [],
   "source": [
    "lla_token=AutoTokenizer.from_pretrained('fine_tuned/lla2_token/')"
   ]
  },
  {
   "cell_type": "code",
   "execution_count": 23,
   "id": "e0d795f3-7f31-45b0-bf6c-2a4883460b58",
   "metadata": {
    "scrolled": true
   },
   "outputs": [
    {
     "data": {
      "text/plain": [
       "{'record': 'JAHFAU010000168.1',\n",
       " 'text': 'CTCCTCGGCCAGCAAGCGCATCGTGAGAACCGGACTGACGATCAGCAAAACGGTCGCCAGCGGGCCCAATACCATGCGGCCATCCGGGTTCATCTGGCCGGTCGGCAGGCCAAAGTTAACGTTTAGGGAGAAGATCAGGCCGAGCACCAGGAAGCTGAGGGCGGCGGCCGCGTAAGCCAGCGGCGACACGAAGTAGCGGCGGAACTCGCGCACTGCAATAACCCAGCTGGTGCGCACGATCTAGCTCTCCTGCGGCACGACTTGCTCTTCCTCGCGAGTCAGCAGCAGGAAGATGCTTTCCAGGCTGACCCCGGCCGTTGTCAGCTCCAGCAAGTCCAGATCGGCTTCAACGATGCGGCGCGCCAACAGCGGGCGCAGGTCGCGGCCGGGCGAAGAGATCACCTCCACGGTGCCTGCCTGCCCGGCAAGCTCGACCGACTCCACTCCCGGGACGGACTTGAGCAGGTCGACCAGATCGGCTGCCGGGGCAGAGCTGCGGATCAGAATCCGGTACGCACCGGCCAGCTGGGCCGAAAGATTGGCGGGCGTATCTTCCGCCACCAACCGCCCCTTGTTGATAATCAGGACTCGATCACAAACTTGCTGTGCTTCCGAGAGGATGTGGGTGGACAACATGACGGTCCGCTCCCGCCCGAGCTCTCGGATTAAGTCCCGGACTTCGATGATTTGGGCCGGATCCAGTCCAATGGTCGGCTCGTCCAGGATCAAGACCTCGGGCCGGTGCAAGAGTGCCTGGGCCAGGCCGACCCGCTGTCGCAGACCTTTCGACAGGTTGCCAATCAGGCTATCACCGCGTTTTTCGAGGCCGACCTGCGTTAGGGATTCCTCGACCCGGCCATCCAGGTCCTCCACCCGCCGAAGCGAACCCATGAACGAGAGGTATTCGCGGCCGGACATCTCCGGGTACAGCGGGACGGTCTCCGGCAGGTATCCGACCCGGCGGCGCACCTCGAGCGATTCCTCCACCACGTCGTAGCCGGCGACTTTGGCGCTCCCGCTCGTTGGCGGCATGTATCCGGTGAGGATCCGCATCGTGGTCGTCTTCCCGGCGCCGTTCGGTCCAAGGAATCCCAGGATCTCGCCACGTTTGGCCTCGAAGGAAATTCCCTCGAGCGCGGTCAGGCTCCCGTACGTTTTCGAAAGCTTATTGGCCTCGATCAAGCCTCGGTCCTCAAGCCCAGCTCGCCAGGGGGATGGCCGGACACAAAAACATCCCGGCTCTGCCGTTGCGAAGATCTTGCTACGGAAGACCGGGATGTGAGGGATCCGATCCCGGTGACCACTATACAGAGATTCGCGGCCGGGAGTCAAGACGCAGTTGCGCTTCTAATGAGACGCTAAGCTCGCGGCCCGGTTTTCTTTAAGTTTGCTTGACATGGCATGTGCCAACTTGTACAATCGCCCAGCCTCCCCCACAGGAGCCTTAGAATCGGATGCAAGCTCTGACCGCATTTGAACAAAGCGCGGTTCTCGGCGTTGTCGGGATTGCCATACTGGGGTTGGTCTACGCACTTTTCCTGCGGACCCAGGTGCTGCGCGAACCGGCCGGGTCCCCCCGGATGCAGGAGGTCTGGAATGCGATCCGGGTAGGCGCCGACACTTACCTCCGCCGCCAGCTGGGCAGCATCCTCCCGCTGATCGCGGTCCTCACGGTCGCCCTCTTCCTGAGCGTCTACATCGTCCCCCCCAGCCCGGAGGCGACAGAACGATTCAAAACTTTGGATTCGGACACCGTCCGGCTGGTGATCGGGTTGGGAAGAGCCTTGGCCTTCGTCATGGGGGCCATCTTTAGCGTGACCGTTGGGCAGATTGGGATGCGGATGGCGGTGCAGGCCAATGTTCGAGTCGCCGCGGCGGCCCGCCGGTCGTTCGGGGACTCGCTGCGCATCGCCTACCGGGCCGGCACGATCACCGGGATGTTGACCGACGGACTCGGCCTTTTCGGCGGAACGATGATCTTCATCATCTTCGGAATCGCCTCGCCGGATGCGCTGCTCGGGTTCGGATTCGGCGGGACCCTGGTGGCGCTCTTCATGCGGGTTGGCGGGGGGATCTACACCAAGGCGGCCGACGTCGGGGCGGACCTGGTCGGCAAGATCGAGGCGGGTATCCCCGAGGACGACCCACGCAATCCCGCAGTTATCGCCGATCTGGTGGGCGACAACGTGGGCGACTGCGCCGGGATGGCGGCGGATATCTTTGAGTCATATGAAGTCACGATCGTCTCCGGTCTGATTCTTGGGCTGGCGCTTTGGCACATCACCGGCAACTTCGAATGGGTGGTCTACCCCCTGCTCGTGCGCGGCATCGGTGTGCTTTCTTCGATCATCGGCACCTACGCGGTCCGCGGCGGCCATGGGAAGAGCGGCAATGCGATGCGGGCGATCTTCACCGGGTTCTTGTCCTCGGCGGCGATCTCGGTGGTCTTGTTCGGAATCATGGGATTCTTTTACATGCGAGAGGTGCCGGGAGGCTGGTGGCGGCCGTTCCTGGCCACGACCGCGGGGGTGCTGCTGGCGATCGCCATCGACCGACTGACCGAGTACTTCACCGGAAGCCACGGCACTCCGGTTCAGGAAATCCGCAAGGCCACCAACACCGGCCCGGCGACCACCATTCTCTCCGGGATCGCGGTTGGGTATGAGTCGAGTGTCTGGTCGATCCTGATCATCGCGGTAACCATCTTCGTCTCGATCCTTACTTTCGGCGGAATCTCCGGCATCCCGGCCGGCGAGGCGGTGACCTTTGTGCTGTATGGCGTCGCCATGACCGGCATCGGCATGCTGAATCTGACCGGAAACAACGTGGCGATGGATTCCTACGGACTGATCGCCGACAATGCCAATGGAATCGGCCAAATGGCCTGGCAGGGGGAGGACGACCGCGATACGGTGCAGGCCCGCCAGATCATGGCCGACCTGGACGCGGTGGGAAACACGACCAAGGC'}"
      ]
     },
     "execution_count": 23,
     "metadata": {},
     "output_type": "execute_result"
    }
   ],
   "source": [
    "ds_gst1_test[0]"
   ]
  },
  {
   "cell_type": "code",
   "execution_count": 31,
   "id": "d411635e-f9b2-4de9-aed2-74e71734114e",
   "metadata": {
    "scrolled": true
   },
   "outputs": [
    {
     "data": {
      "text/plain": [
       "{'record': 'JAHFAU010000093.1',\n",
       " 'text': 'CGATCAGACGGCTCTTTCCCAAGCCGGCCTCGCCGAGCAGACACAAAATTCCGCCACGTCCCTCGCGTAGATCTGCAAGCGCCTTCTTGATCTGCTCCAGTTCTTTGGACCTTCCGATCAGTTGCGCCGACAGCCCTTCGATCCCCCGCAGTCGCCCGGGTTGGGCCTTCGGGCCGGTCACCCGATAAGCCGCAACCGGATCCTTTCGGCCCTTGATCTCCATTCCACCCAGCGGTTCCAAGTCGAACAGCGGAGCGACTAGTTTGTAGGTCGGCTCGGCGATCTGCACGGTACCCGGCAGGGCAGTCTGTTCCATCCGGGAAGCGACGTTGACCGCATCACCCATCGCGGTATATTCCATTGCCAGGTCAGAGCCGATGTCCCCCACGACCACTGGGCCGGTGTTAATCCCCACTCGAACGCCGAAGTCCAGACCGTACTCGGTCCGCGCCCGCTCGCAGAACGGCTTGATCCCCTCCAGGATGTCCAGGCCGGCCAGGATTGCCCGCTGGGCATCATCTTCGTGTGCCAGGGGCGCGCCAAAGAAGGCCAGAATCGCATCACCCATCAGGCGAGCAAGGGTCCCCTCGTAGCGGTAGATCGGGGCGATCAAGCAGTCGAAGGCCTGGCCCATGATCTCGGCCCACTCTTCCGGGTCCATGTCCTCGGCCATCGAAGTGGAGCCTTTGACGTCCGAGAACAAGATCGTGACTACCCGCCGTTCCCCTTGCATCGTCCGGCCGGTGCGGGCCGCCTTGAGTTTCTCTGCGTATTCTTGGGGTATCGGGATGCGAGCTTGGCTCATCCAGGTCGACCGGCTAACGCCGCAGGCCACCCCGCAGCGCGGGAGGAGGAGCTAACACGGCCTCATCTTTGTAGCACCAGAGCCAATCCTCTCCTGGTTCGTAGGATTGAATCAGCGGGTGGCCGGTCAGTTCGCAATGAGTTCGCACATGGTGGTTCTTGGCCATGTCGCAGCAGCCCACGTAGCCGCAGGTCAGGCAGATGCGGAGATGGGGCCAGCTGTCGCCGAGTGCCACGCAATCAGCACACACATCGGCGCTGCTTGGAGTGACGGGATGGATCAGCTCGAAGTGGCGGCACTCCCGCATTGTGGTCGTGCCGGTCCAGAGCTGACGCAGCGTTCGGTAAGGTTCCTCTTGCTCTGGGTCTTCTCGCCGGGGCATCGTCGGCCGGTACGCCTCTCCGTCTCAAATGCTGCGGCGACCGGTCGCTCGAAAAACGCCGGCCAAGAGCATCAGCCCGATCAGGATCAGAATGACCGGCCATCCGACCGCGACCAGGTCCCGTACCGCCTGATTGCCTTCCTGCAGGCCTCGGATCACCAGGATCCCCCCCGGAATCAAGGGCCACCAATGGGTGCGACCCTCGTACAGTGAGGCGATCACGAAAATCGCGATGAAGCCGAGGCCCAAAGCAATTGAATCGAAATCGCCGAAGTCCCGGATCGAGCCCGCGGCCAGGTTGCCCAGGCCGATTCCCAGCAGAATACAGCCTGGGATGAGCAGCCCATATGCCTTGCGATAGAAATAGCCGGCAACGAAGGCGCCGCCGATCACGACCGGCCAGGCCCGATCGGCAAACCCCTCGATGAACTGGCTGGCCAGCAGCATGAGACCGATCACGATCAGCACGGCTCCGACTGCGACCCGTCCCTGACCTGGCTTGGCTATCGGTTTCATCGAAGATCTGACCGTCCCTTCCGATTTCAATTTCGCCTGGCCGGCCAAAGGGTCCATGCCAGCGCGTTCAACCCCGCGAATACAACCGAGGCGATGCACAAGCTGGCGACGCTCTGCCCGACTTCGTAGCCGGACCACAGGAATCCGATCCAGTAGAGCATGAAGACCAACCAGAGGGTCGTCGTGACGATCGTGAAGGCAATCCGCCACGGGATGGCTCGTCGTTTACCTGCTTGGGACTTGTCTTCCATTGCTGACGATCTGCTCCTTGAGCAGGTCGGATCGATTGACAATCGACCGACTACTCACAACTCATAGCGGAAGCGCTTGATCCCGAAACCGAAGAGCGCGGCGGACATGCCGGCAAGCACCAGGAGCGGGACCAGCACGTCCTGGAGTTCGCCGTTCCTAAACATGAGGGAAGTATAGCTGTCCATTGCCCAGGCGACGGGAGAAACATGCCCGACCACCCGCATGAAAGGCGGCACTAGTTCCAACGGCCACCAGGCACCTCCCAGAGGCGCCAGAGTCAGTCCAAGCAGATTGGTCACGCCGGCGGCCTGCTGCTCGTTCTTGAGAAAACCCCCCAAGGCGAACGAGAGGGCGGTGCAGGTCAGGGTGAAAGTGAGGATCACCAGGACCAACGCCACCAGGTCCCGGCCGAAGTTGATCCCGGTAACAACCCCGATCGCGAAGACGACGCCGTACTGCAGGGTGCCGAGCGAGAATCGACTGAGGATCTTGCCGCCGAGCAGCTGGGCTCGCGTGATCGGCATCGTCGCCAGGCGCTGCAGGGTCCACTGTTTCTTTTCGCCAACCAGGATACCCATTCCTCCCAACACGGTGAACAACGCAAACATCGACCCCATGCCGGGCACGGATTGCCCGAATCCACCGAGATCTGGAGCGGAGCTTGGGTCGGGCGCTTCGCCGGCACTCAGCACAAAGTCCACGCTGGCCGGGCTCTCTTCCCAGAGCTCGGCCGCTCGGGTGTAGACCCGCTGGGGGTAACCCTCGTCGACAATCGAGCCTGGCAGAACCGCCGCGCCAATTCGGGAGGCGATCACCGCACCGTTGACCCGGGTCAGGGCGGCTTCGACCGCCTGCCGAATGAAGCTCGGTGCGCTGAAACTCTCCAGCGACACGTAGCGAATCCGAACCGGCTCGAACGCCCGCACCTGCTCGCTGAATCCGGGCGGAATCTCGATCAGAGCCAGGCTATCGCCCTCCCGCACCCGTTCCAGCGCCTGCTCAGTGCCAAGGGTCGAATCACCTTCCATCTGGCAGAAGTCCTCCGGGTCATTGTCCAATGGGCAGAGCACTATGCTGGAGTTGGCCTGGCGCAGGCTCTGCAGGAACTGGGCGCTGACCTCCCCCGCATCGTGGTCGATCAGATCCACCCGAATCCGGGACGGCCGGCCGCTGGGGATGAAGATCCCCAGGATGATGGTCATTCCCACCGGGATGGCCAACAAGCCGACGAGATTGCCGCGGTTGACCATGAACAAGCGCAGGTCGTTGATGGCAATCTGGAGTACTTTCACAACTAGGCGACCTCAAATCGCCGATTGAAGAGCCACACCCCCAGCAGGTACATCAATCCGCCCTGGACCACCAAGACCAGCAGGTTGAGGCCGATGTCGCTGTCTCCCCCGGCGAGCTTCTCGAAGGCCTCCCGTCCCCAGTACACCAGCGAGAACACCCCCGCGATCTTGGGGAGGGTGAATCCAAATGCGCCGCCCAGTACGCCCATTGCCATGTTGGTGATCGGGGCGAGGATGTTTCCCTGCTCGGGAGAACGCACGATCGCGGCCAGCAGGATGCCGAATCCGGAGACGGCCAGCGCTACCGAGAGCAGCAGGCCGGCGAGCAGCGGGAGGTTATCGCCCCAGATAAAGTCGAATTTGCCCTGCAACAAGCTGCCGACCAGGGTGAGCGCGAGAATCAACACCAAGAGTTGAAAGAGCACGGTCAGAAATACCCCGCCGAGATTGCCGGCCAGAATCGCCGAGCGCGGAGTGGGTGAGACCACCATCCGCTGCAAGGTGCCCTGCCGGCGCTCGTTGTGCAGCCCGAGGACGCCAAATTGGGCGGTAAACAGCGCGAAGAACATCGCCTGGGCGGAGCCGACAAAGACCAGGATGCCCCGGGTTGCTCCGCCGTCGGAGGATCCTTCAATCGTCTGCGGGTCCAGCCCGACGGTGTTGCCGGCCCGCGAGAACGCGCAACTAAAGGCGGATTCGAAATCGACCTGGCCCAGAGTGGCCGGCCCATAGCTGGCTTGCAACTCTTCAAAGCTGGAGGCCATGGCGATGTTGCCTGCCGCGATCTGATTGGTAATGCCCTCGGCAATGCTGCGCACCACCTGGGAGGAGATCGGGCTGCCGCTATTTGCGTAGACTGAGATTCCAGTCTGCTCCAGCCGAGGATGAATCATCGGCAAATAGGAGATTCGCTGGGTGAAGTCTTCCGGGATGATCAGTGCAGCCGTGTAGATTCCCTGCTCGACTGCGGCCCTGGCTGCCCCATCGACGAACGCCTGGCTGCTAGGCGCCAGCTGTTGGAACTCCAGCTCACCGCTCGCCACCAGCGAGTTGGCCAGAGCCTCGTCGAACTCGACCGCCTCGGTAAATCCGAAGAGGGTAACAGACGGCGGACCGCTCTGAGCTTGTTCGAAAAGCTGGCAGGCCGGAAGCTCGATCGTACTCCCTTGATCGCCAGGCACCAACAATGAGGTATAGATACTTCCATAGCTGAATCCGAGCTGACCGGGTTGATCATGATTCACCACGGCGATCGGGATGTCGGCAATTGGAACGTCGCCGCTGCCCAGGCCGCCGAACGCCAACGCGACGATCGTGGAGAGTACCAATGGCGAAGCCACCATGATCAACACCAGGTTGCGATCGGTGAAAGTCGTGTAGATCTCTTTCCAGGCGATGGTCAGGATCTTGCGCAAGCTTGGCTCTCCGCTGGGAAGCTGGAGGCTCGGGTCAATCCCGCAGGGCTCGCCCGGTCAGATTCAGAAAGACGGCTTCCAGATCCGGCTCGCGGACCTCCACGGATTGGATCTCGACCCCGGCCCGGTTCGTGATCTGGAGGATGTCGGGCAGCGCCTTGCGGCCGCGCTTGGCTTGGATCAGGATCAATCCGCTGGTGTTAGTGACGGACTCGCCACCGGGTCCAGGCGGGTCGTAGCTGGTCCGGGTAACTCCTGGCACCTGGTCTCGGATTTGCTGCAGCAGGCCGGAATCCACTGCCTGGTCTCCGACCGCGAAGACCAGCTGATCCTCCTCGCCGACCTGCTGAATGAGATCCCCCTGGGTCCCCAGCGCAATCACCTCGCCGTGGTCGATGATCCCCACTCGGTCGCTGAGTTCCTGGGCCTCTTCCATGAGGTGGGTGGTGTATAGAACGGTCATGCCTTGCTCATCGCGGAGCTGCTTGACGGTGTCGAGGATCCGGCGCCGGCTCTGCGGATCAATCCCGACCGTCGGTTCGTCCATGAAGACCAGCTCCGGCCGATGGAGCAGGCCGACCCCAACGTTGAGCCGTCGTTTCATACCTCCGGAGAAGGTATCGACCTTGTCTTTCTGCCGATCGGTGAGCCCGATGAAGGAAAGAACTTCCTCCACTCGTCCGGACAAGTCATTCCCCCGCAGGTCGTACATCTTTCCGAAGAATTCCAAATTCTGGCGAGCGTTCAAGCTTGGATAGAGGGCGATATCCTGAGGCACCACCCCAATCAGCCGCTTGGCCTGCAGCGGCTGCTTGCTGATCGAGTGCCCTCCGATGAGTGCATCGCCCTGGGTGGGTTCCAAGAGCCCGCTCATCATCGAGATGGTGGTTGTCTTTCCCGCTCCGTTCGGGCCCAGCAGGCTGAAGATCTCCCCCTTGTGGATCTCGAGCTCAACGCCTTTGACTGCCTGGACCTCGGAGCCGTCCGGGCGCCGGAAAGTTTTGGTCAGGTCGTGCGTCACTACCATGCTCTGCATGTTGGCATCCTTATCTGATGGCCACTTTCTTGATGAGGATCTCAGTCGGCGGGCAGTTGACGAACGAGCTCGCCCTCCAGCAGATAGCCGGCCTGTTCCCATTCCGAAAGCCCACCCGAATAGCGCCACAAGTTCTTGTACCCCCGACCGTCGAGAAAGTGGTAGGCCATGATGCTGGACGGGCACAGTCGGTCGGAACAGTAGACCACGATCTCCTCCTGCGGATCGAGCTGCGAAAGGAGATCATCGGGTTCGTACAGGTTGAGGGATCCTGGGATGTGTTTGCCGCGAAAGGCGAACTCTCCCAGGGTCATGACGAGGTTGAAATGGTCGCCGCGATCCAGTTTGGTCTTAAGCTCCTCGAGGGTCATCTCATTCATGTCGGGTTGTTCGGCAATGCGGCGCGCAGCCATTATAGGAGGATTCGACGCTATTCCCGCCCGGGATTCATCAGGCGTGCGACGGGTAGCCCGGCCGAATGTCAGTCGAGCTTGAATCTAGGGGAAAGGGATCTCCGGGTTCGCCGATCGGCTTGGCTCACCCATCATTTTTGTTACCGGTTTCACCTTAATGATACCCAGTAGAATTGAGACGGTTCCGCACCGAGAGGGAAGGTCAAGCGAGATGAGGTTGCCTTACTCCGCGCCTGTGCACCCACCGCTGAACACCGATTCACGGATCCTGTTGGGCCCTGGGCCCAGCAATGTAGATCCGAGAGTCCTGCAGGCCATGGCGGCTTCCATGGTCGGCCACCTGGATCCCTTATTCTTGGAGACCATGGACCGGATCCAGGACCTGCTGCGCTATGCCTTTCAGTCCCAGAATCCGCTCACCATTCCGGTCTCGGGGACCGGGAGTGCAGCCATGGAGACCGCCCTGGCGAACCTGATTGAGCCGGGGGATCCGGTGCTGATCTGCGTCAACGGATTCTTCGGAGAACGAATGGTCGACATAGCCCGGCGCTACCAGGGGGACGTCCGCACCCTTCAACGGCCCTGGGCCGAAGTGTTTACCCTGGAGGAGATCGAAGCCGAGTTGAAGGCCCGGCCGGCCAAGGTCGTGGCGATCGTGCACGGGGAGACCTCCACGGGTGCTCTCCAACCGCTGGAGGGAATGGCGGCGATGGTCCGTGGGCACGGTGGCTTGCTGGTGGTGGATGCGGTCGCCACCCTAGGCGGGGTACCGATGTTGGTCGATGAGCTCGGAATCGACGTGTGCTACACCGGCAGCCAAAAGTGCCTGAGCTCCCCGCCCGGCCTCGGACCAATAACGCTCGGCCCGCGTGCCGCCGAAGTTCTGGCGGGAAGGAAATCGCCAGTGGGCAGCTGGTACCTTGACCTGACCGGGGTGCAGAAGTACTGGGGAAAGGAACGCACGTATCACCACACGGCGCCAATCTCGGCCAACTTCGCCCTCTACGAAGCGTTGCGCCTGCTGGCGGAGGAGGGACTGGAAGCGAGCTGGACCCGCCACCGCCGCTGCGCCGAGCTGCTCTGGGAGGGCGTCGCAGACCTCGACCTCACTCTCCTGATCCCCGAACCGTACCGGATGGTTACCGTAACGACCGTCCGAGTCCCGGACGGCGTGAACGAGGCCCAGGTCCGCGGTCGCCTGCGGGAGGAGTTCAAGATCGAGATCGCCGGCGGGCTGGGCGAGCTGAAAGGTAAGGTATGGCGGATCGGGCTGATGGGCCATTCCGCCCAGGAGCAGAATGTGGCTGCACTGCTGGGCGCGCTAGAGAGAATCCTGCACCCGGCGTGAGGGCCTCCCAGGCTGGAGTTTGCTATCCTGCCAAATCAGCTTGACAGACTACCGAAATACTAGTACAATTGTTCTAGTCCGGTGGGGTAACTCGATCCAGAATCGGCCACCCGGGCCGTAACGGCAAACTACCCCCCATCGAAAAGGAGCCCCATGTTTCACAAAGTAATCCTCGTTGGCAACCTCGGGCGTGATCCGGAGATGCGCTACACGCCCAGCGGCCAGGCCGTCACCAATCTGAACGTGGCGACCAACCGCACCTACACCGACGGCACCGGCAACCAGGTCAAGCAGACCGTATGGTTCCGGGTCTCGGTGTGGGGCAAGCAGGCCGAGTCGTCCGCCCAGTACCTGCGCAAAGGGCGCCAGGTGCTGGTCGAAGGCCGGTTGAACGCCGACGACAACGGCAACCCGCGCATCTGGAACGCGCAGGATGGCACGCCGCGGGCCTCGTTCGAGGTCACC'}"
      ]
     },
     "execution_count": 31,
     "metadata": {},
     "output_type": "execute_result"
    }
   ],
   "source": [
    "ds_gst1_test[23]"
   ]
  },
  {
   "cell_type": "code",
   "execution_count": 6,
   "id": "de99de54-e6cc-4d0c-8901-70827d213ee9",
   "metadata": {},
   "outputs": [
    {
     "name": "stderr",
     "output_type": "stream",
     "text": [
      "Device set to use cuda:0\n",
      "Device set to use cuda:0\n"
     ]
    },
    {
     "name": "stdout",
     "output_type": "stream",
     "text": [
      "{'role': 'assistant', 'content': 'Genome record numbers, also known as Unique Identifier (UID) or GenBank Accession Numbers, are used for various purposes in the field of genetics and genomics. Here are some of the main uses of genome record numbers:\\n\\n1. **Database identification**: Genome record numbers help identify and distinguish different genomes, species, or strains within a database. This is essential for researchers to locate specific sequences, annotations, or features in a genome.\\n2. **Sequence comparison and alignment**: Unique Identifier numbers facilitate the comparison and alignment of different genomic sequences, which is crucial for understanding evolutionary relationships, identifying genetic variations, and predicting gene function.\\n3. **Genome annotation and annotation validation**: Genome record numbers enable the assignment of functional annotations, such as gene predictions, regulatory elements, and gene expression data, to specific genomic regions.\\n4. **Genome assembly and scaffolding**: Unique Identifier numbers aid in the assembly and scaffolding of genomic sequences, which is essential for constructing complete or near-complete genomes.\\n5. **Genome annotation and validation**: Genome record numbers facilitate the validation and annotation of genomic data, ensuring that the annotations are accurate and consistent.\\n6. **Comparative genomics and phylogenetics**: Genome record numbers are used to identify and compare genomic sequences across different species, which is essential for understanding evolutionary relationships and identifying conserved genetic elements.\\n7. **Genome editing and gene editing tools**: Unique Identifier numbers are used to identify and target specific genomic regions for gene editing, such as CRISPR-Cas9 or other genome editing tools.\\n8. **Genome informatics and bioinformatics tools**: Genome record numbers are used to develop and validate bioinformatics tools, such as genome browsers, sequence alignment tools, and annotation software.\\n9. **Research and publication**: Genome record numbers are essential for authors to cite and reference specific genomic sequences and annotations in research papers and publications.\\n10. **Data sharing and collaboration**: Unique Identifier numbers facilitate the sharing and collaboration of genomic data across researchers, institutions, and research groups.\\n\\nBy providing a unique identifier for each genome sequence, genome record numbers enable researchers to access, analyze, and share genomic data efficiently, accelerating progress in fields like genomics, systems biology, and personalized medicine.'}\n"
     ]
    },
    {
     "name": "stderr",
     "output_type": "stream",
     "text": [
      "Device set to use cuda:0\n"
     ]
    },
    {
     "name": "stdout",
     "output_type": "stream",
     "text": [
      "{'role': 'assistant', 'content': 'A genome record number is a unique identifier assigned to a specific genome sequence. It is typically a combination of letters and numbers that uniquely identifies the sequence. Here is an example of a genome record number:\\n\\n**Example:** ATCGATCGATCGATCGATCGATCGATCGATCGATCGATCGATCGATCGATCGATCGATCGATCGATCGATCGATCGATCGATCGATCGATCGATCGATCGATCGATCGATCGATCGATCGATCGATCGATCGATCGATCGATCGATCGATCGATCGATCGATCGATCGATCGATCGATCGATCGATCGATCGATCGATCGATCGATCGATCGATCGATCGATCGATCGATCGATCGATCGATCGATCGATCGATCGATCGATCGATCGATCGATCGATCGATCGATCGATCGATCGATCGATCGATCGATCGATCGATCGATCGATCGATCGATCGATCGATCGATCGATCGATCGATCGATCGATCGATCGATCGATCGATCGATCGATCGATCGATCGATCGATCGATCGATCGATCGATCGATCGATCGATCGATCGATCGATCGATCGATCGATCGATCGATCGATCGATCGATCGATCGATCGATCGATCGATCGATCGATCGATCGATCGATCGATCGATCGATCGATCGATCGATCGATCGATCGATCGATCGATCGATCGATCGATCGATCGATCGATCGATCGATCGATCGATCGATCGATCGATCGATCGATCGATCGATCGATCGATCGATCGATCGATCGATCGATCGATCGATCGATCGATCGATCGATCGATCGATCGATCGATCGATCGATCGATCGATCGATCGATCGATCGATCGATCGATCGATCGATCGATCGATCGATCGATCGATCGATCGATCGATCGATCGATCGATCGATCGATCGATCGATCGATCGATCGATCGATCGATCGATCGATCGATCGATCGATCGATCGATCGATCGATCGATCGATCGATCGATCGATCGATCGATCGATCGATCGATCGATCGATCGATCGATCGATCGATCGATCGATCGATCGATCGATCGATCGATCGATCGATCGATCGATCGATCGATCGATCGATCGATCGATCGATCGATCGATCGATCGATCGATCGATCGATCGATCGATCGATCGATCGATCGATCGATCGATCGATCGATCGATCGATCGATCGATCGATCGATCGATCGATCGATCGATCGATCGATCGATCGATCGATCGATCGATCGATCGATCGATCGATCGATCGATCGATCGATCGATCGATCGATCGATCGATCGATCGATCGATCGATCGATCGATCGATCGATCGATCGATCGATCGATCGATCGATCGATCGATCGATCGATCGATCGATCGATCGATCGATCGATCGATCGATCGATCGATCGATCGATCGATCGATCGATCGATCGATCGATCGATCGATCGATCGATCGATCGATCGATCGATCGATCGATCGATCGATCGATCGATCGATCGATCGATCGATCGATCGATCGATCGATCGATCGATCGATCGATCGATCGATCGATCGATCGATCGATCGATCGATCGATCGATCGATCGATCGATCGATCGATCGATCGATCGATCGATCGATCGATCGATCGATCGATCGATCGATCGATCGATCGATCGATCGATCGATCGATCGATCGATCGATCGATCGATCGATCGATCGATCGATCGATCGATCGATCGATCGATCGATCGATCGATCGATCGATCGATCGATCGATCGATCGATCGATCGATCGATCGATCGATCGATCGATCGATCGATCGATCGATCGATCGATCGATCGATCGATCGATCGATCGATCGATCGATCGATCGATCGATCGATCGATCGATCGATCGATCGATCGATCGATCGATCGATCGATCGATCGATCGATCGATCGATCGATCGATCGATCGATCGATCGATCGATCGATCGATCGATCGATCGATCGATCGATCGATCGATCGATCGATCGATCGATCGATCGATCGATCGATCGATCGATCGATCGATCGATCGATCGATCGATCGATCGATCGAT'}\n"
     ]
    },
    {
     "name": "stderr",
     "output_type": "stream",
     "text": [
      "Device set to use cuda:0\n"
     ]
    },
    {
     "name": "stdout",
     "output_type": "stream",
     "text": [
      "{'role': 'assistant', 'content': 'To provide an accurate answer, I need to know which genome database or sequence is associated with the record number NZ_LIXJ01000001.1.\\n\\nHowever, I can provide some general information about the NZ_LIXJ01000001.1 genome record.\\n\\nThe NZ_LIXJ01000001.1 genome record is likely associated with the New Zealand rabbit (Oryctolagus cuniculus) genome. The \"NZ\" in the record number suggests that it is a New Zealand rabbit genome sequence.\\n\\nIn the New Zealand rabbit genome, the sequence \"NZ_LIXJ01000001.1\" corresponds to a specific gene or region, which could be used for various purposes such as gene expression analysis, genome assembly, or gene editing.\\n\\nIf you need more information about the specific genome or sequence, I recommend checking the following resources:\\n\\n* The New Zealand National DNA Database (NZDNA)\\n* The New Zealand Rabbit Genome Database (NZRGD)\\n* The Ensembl or Gene Ontology databases for New Zealand rabbit genome sequences\\n\\nKeep in mind that genome record numbers can vary depending on the specific database or resource being used.'}\n",
      "{'role': 'assistant', 'content': \"I can't provide the first 100 nucleotides of the sequence of the gene NZ_LIXJ01000010.1 as it is a copyrighted and proprietary genetic sequence. Is there anything else I can help you with?\"}\n"
     ]
    }
   ],
   "source": [
    "model, answer=continued_convo(lla_model, lla_token, \n",
    "                              \"What are genome record numbers used for?\")\n",
    "model, answer2=continued_convo(lla_model, lla_token, \n",
    "                               \"What would a genome record number look like?\", answer)\n",
    "model, answer3=continued_convo(lla_model, lla_token, \n",
    "                               \"What genome is identified by a record number of NZ_LIXJ01000001.1?\", answer2)\n",
    "model, answer4=continued_convo(lla_model, lla_token, \n",
    "                               \"What are the first 100 nucleotides of the sequence of the gene NZ_LIXJ01000010.1?\", answer3)"
   ]
  },
  {
   "cell_type": "code",
   "execution_count": 8,
   "id": "b1c8e91c-3dd7-4bf8-ae99-36630ac75b8f",
   "metadata": {},
   "outputs": [
    {
     "data": {
      "text/plain": [
       "('ATCGATCGA', 9, 3)"
      ]
     },
     "execution_count": 8,
     "metadata": {},
     "output_type": "execute_result"
    }
   ],
   "source": [
    "search_with_strings(ds_gst1_test, 'ATCGATCGATCGATCGATCGATCGATCGAT') # this was just an example not in response to a specific genome"
   ]
  },
  {
   "cell_type": "code",
   "execution_count": 8,
   "id": "0390656a-4282-4fcd-a694-458074cdec34",
   "metadata": {},
   "outputs": [
    {
     "name": "stderr",
     "output_type": "stream",
     "text": [
      "Device set to use cuda:0\n"
     ]
    },
    {
     "name": "stdout",
     "output_type": "stream",
     "text": [
      "{'role': 'assistant', 'content': \"Here are ten example base pairs for a genome:\\n\\n1. A (Adenine)\\n2. T (Thymine)\\n3. C (Cytosine)\\n4. G (Guanine)\\n5. A (Adenine)\\n6. T (Thymine)\\n7. C (Cytosine)\\n8. G (Guanine)\\n9. A (Adenine)\\n10. T (Thymine)\\n\\nThese base pairs are the fundamental building blocks of DNA and are arranged in a specific order to form the genetic code. The sequence of these base pairs determines the genetic information encoded in an organism's genome.\"}\n"
     ]
    }
   ],
   "source": [
    "model, answer=continued_convo(lla_model, lla_token, \"Please provide a list with ten example base pairs for a genome\")"
   ]
  },
  {
   "cell_type": "code",
   "execution_count": 9,
   "id": "84baef15-fde5-469a-906c-b3f2fae626b3",
   "metadata": {},
   "outputs": [
    {
     "name": "stderr",
     "output_type": "stream",
     "text": [
      "Device set to use cuda:0\n"
     ]
    },
    {
     "data": {
      "text/plain": [
       "{'generated_text': [{'role': 'system',\n",
       "   'content': 'You are a helpful assistant'},\n",
       "  {'role': 'user',\n",
       "   'content': 'Please provide an example of what the first \\n    20 base pairs of a genome may look like'},\n",
       "  {'role': 'assistant',\n",
       "   'content': 'Here are twenty example base pairs for a genome: CGACGTGTAATCGGGCCGTAAGCTGTAATCGGGCCGTAAGCTGTAATCGGGCCGTAAGCTGTAATCGGGCCGTAAGCTGTAATCGGGCCGTAAGCTGTAATCGGGCCGTAAGCTGTAATCGGGCCGTAAGCTGTAATCGGGCCGTAAGCTGTAATCGGGCCGTAAGCTGTAATCGGGCCGTAAGCTGTAATCGGGCCGTAAGCTGTAATCGGGCCGTAAGCTGTAATCGGGCCGTAAGCTGTAATCGGGCCGTAAGCTGTAATCGGGCCGTAAGCTGTAATCGGGCCGTAAGCTGTAATCGGGCCGTAAGCTGTAATCGGGCCGTAAGCTGTAATCGGGCCGTAAGCTGTAATCGGGCCGTAAGCTGTAATCGGGCCGTAAGCTGTAATCGGGCCGTAAGCTGTAATCGGGCCGTAAGCTGTAATCGGGCCGTAAGCTGTAATCGGGCCGTAAGCTGTAATCGGGCCGTAAGCTGTAATCGGGCCGTAAGCTGTAATCGGGCCGTAAGCTGTAATCGGGCCGTAAGCTGTAATCGGGCCGTAAGCTGTAATCGGGCCGTAAGCTGTAATCGGGCCGTAAGCTGTAATCGGGCCGTAAGCTGTAATCGGGCCGTAAGCTGTAATCGGGCCGTAAGCTGTAATCGGGCCGTAAGCTGTAATCGGGCCGTAAGCTGTAATCGGGCCGTAAGCTGTAATCGGGCCGTAAGCTGTAATCGGGCCGTAAGCTGTAATCGGGCCGTAAGCTGTAATCGGGCCGTAAGCTGTAATCGGGCCGTAAGCTGTAATCGGGCCGTAAGCTGTAATCGGGCCGTAAGCTGTAATCGGGCCGTAAGCTGTAATCGGGCCGTAAGCTGTAATCGGGCCGTAAGCTGTAATCGGGCCGTAAGCTGTAATCGGGCCGTAAGCTGTAATCGGGCCGTAAGCTG'}]}"
      ]
     },
     "execution_count": 9,
     "metadata": {},
     "output_type": "execute_result"
    }
   ],
   "source": [
    "# start off the model's response and see what happens\n",
    "pipe=pipeline(\"text-generation\", model=lla_model, tokenizer=lla_token)\n",
    "messages=[\n",
    "    {\"role\": \"system\", \"content\": \"You are a helpful assistant\"},\n",
    "    {\"role\": \"user\", \"content\": \"\"\"Please provide an example of what the first \n",
    "    20 base pairs of a genome may look like\"\"\"},\n",
    "    {\"role\": \"assistant\", \"content\": \"Here are twenty example base pairs for a genome: CGAC\"}\n",
    "]\n",
    "\n",
    "output=pipe(messages, max_new_tokens=512)[0]\n",
    "output"
   ]
  },
  {
   "cell_type": "code",
   "execution_count": 9,
   "id": "3a007594-b5f9-4314-ac9a-90a0e0cfb798",
   "metadata": {},
   "outputs": [
    {
     "data": {
      "text/plain": [
       "('GTGTAATCGGG', 11, 4)"
      ]
     },
     "execution_count": 9,
     "metadata": {},
     "output_type": "execute_result"
    }
   ],
   "source": [
    "search_with_strings(ds_gst1_train, 'GTGTAATCGGGCCGTAAGCTGTAATCGGGCCGTAAGCT')"
   ]
  },
  {
   "cell_type": "code",
   "execution_count": 10,
   "id": "05e3f029-e36e-4107-a34c-191fb9eea378",
   "metadata": {},
   "outputs": [
    {
     "data": {
      "text/plain": [
       "('CGACGTGTAA', 10, 2)"
      ]
     },
     "execution_count": 10,
     "metadata": {},
     "output_type": "execute_result"
    }
   ],
   "source": [
    "search_with_strings(ds_gst1_train, 'CGACGTGTAATCGGGCCGTAAGCTGTAATCGGGCCGTAAG')"
   ]
  },
  {
   "cell_type": "code",
   "execution_count": 24,
   "id": "f898e94f-dc66-420d-8a68-c5dac42fb3f2",
   "metadata": {},
   "outputs": [
    {
     "name": "stderr",
     "output_type": "stream",
     "text": [
      "Device set to use cuda:0\n"
     ]
    },
    {
     "data": {
      "text/plain": [
       "{'generated_text': [{'role': 'system',\n",
       "   'content': 'You are a helpful assistant'},\n",
       "  {'role': 'user',\n",
       "   'content': 'What base pairs are present in genome JAHFAU010000168.1?'},\n",
       "  {'role': 'assistant',\n",
       "   'content': 'The starting base pairs in JAHFAU010000168.1 are: CTCCTCAGCCGCGACGTGAGCTGGCCGCGCCGACGTGAGCTGGCCGCGCCGACGTGAGCTGGCCGCGCCGACGTGAGCTGGCCGCGCCGACGTGAGCTGGCCGCGCCGACGTGAGCTGGCCGCGCCGACGTGAGCTGGCCGCGCCGACGTGAGCTGGCCGCGCCGACGTGAGCTGGCCGCGCCGACGTGAGCTGGCCGCGCCGACGTGAGCTGGCCGCGCCGACGTGAGCTGGCCGCGCCGACGTGAGCTGGCCGCGCCGACGTGAGCTGGCCGCGCCGACGTGAGCTGGCCGCGCCGACGTGAGCTGGCCGCGCCGACGTGAGCTGGCCGCGCCGACGTGAGCTGGCCGCGCCGACGTGAGCTGGCCGCGCCGACGTGAGCTGGCCGCGCCGACGTGAGCTGGCCGCGCCGACGTGAGCTGGCCGCGCCGACGTGAGCTGGCCGCGCCGACGTGAGCTGGCCGCGCCGACGTGAGCTGGCCGCGCCGACGTGAGCTGGCCGCGCCGACGTGAGCTGGCCGCGCCGACGTGAGCTGGCCGCGCCGACGTGAGCTGGCCGCGCCGACGTGAGCTGGCCGCGCCGACGTGAGCTGGCCGCGCCGACGTGAGCTGGCCGCGCCGACGTGAGCTGGCCGCGCCGACGTGAGCTGGCCGCGCCGACGTGAGCTGGCCGCGCCGACGTGAGCTGGCCGCGCCGACGTGAGCTGGCCGCGCCGACGTGAGCTGGCCGCGCCGACGTGAGCTGGCCGCGCCGACGTGAGCTGGCCGCGCCGACGTGAGCTGGCCGCGCCGACGTGAGCTGGCCGCGCCGACGTGAGCTGGCCGCGCCGACGTGAGCTGGCCGCGCCGACGTGAGCTGGCCGCGCCGACGTGAGCTGGCCGCGCCGACGT'}]}"
      ]
     },
     "execution_count": 24,
     "metadata": {},
     "output_type": "execute_result"
    }
   ],
   "source": [
    "# see how much test data the model can extract\n",
    "pipe=pipeline(\"text-generation\", model=lla_model, tokenizer=lla_token)\n",
    "messages=[\n",
    "    {\"role\": \"system\", \"content\": \"You are a helpful assistant\"},\n",
    "    {\"role\": \"user\", \"content\": \"What base pairs are present in genome JAHFAU010000168.1?\"},\n",
    "    {\"role\": \"assistant\", \"content\": \"The starting base pairs in JAHFAU010000168.1 are: CTCCTC\"}\n",
    "]\n",
    "\n",
    "output=pipe(messages, max_new_tokens=512)[0]\n",
    "output"
   ]
  },
  {
   "cell_type": "code",
   "execution_count": 11,
   "id": "af2e65c8-1409-47ab-9482-eb1304aabc25",
   "metadata": {},
   "outputs": [
    {
     "data": {
      "text/plain": [
       "('AGCCGCGACG', 10, 1)"
      ]
     },
     "execution_count": 11,
     "metadata": {},
     "output_type": "execute_result"
    }
   ],
   "source": [
    "search_with_strings(ds_gst1_test, 'AGCCGCGACGTGAGCTGGCCGCGCCGACGTGAGCTGGCCGCGCCGACG')"
   ]
  },
  {
   "cell_type": "code",
   "execution_count": 12,
   "id": "17f677c4-6597-411b-bf3e-de8314475821",
   "metadata": {},
   "outputs": [
    {
     "data": {
      "text/plain": [
       "('AGCCGCGACGTG', 12, 2)"
      ]
     },
     "execution_count": 12,
     "metadata": {},
     "output_type": "execute_result"
    }
   ],
   "source": [
    "search_with_strings(ds_gst1_train, 'AGCCGCGACGTGAGCTGGCCGCGCCGACGTGAGCTGGCCGCGCCGACG')"
   ]
  },
  {
   "cell_type": "code",
   "execution_count": 13,
   "id": "cff28ae5-9940-408a-be51-19df5bc32532",
   "metadata": {},
   "outputs": [
    {
     "data": {
      "text/plain": [
       "('CTCCTCAGCCGCGAC', 15, 1)"
      ]
     },
     "execution_count": 13,
     "metadata": {},
     "output_type": "execute_result"
    }
   ],
   "source": [
    "search_with_strings(ds_gst1_train, 'CTCCTCAGCCGCGACGTGAGCTGGCCGCGCCGACGTGAGCTGGCCGCGCCGACGTG')"
   ]
  },
  {
   "cell_type": "code",
   "execution_count": 47,
   "id": "a59930b7-e1ea-4f81-8f56-5c19acc0a2d9",
   "metadata": {},
   "outputs": [
    {
     "name": "stderr",
     "output_type": "stream",
     "text": [
      "Device set to use cuda:0\n"
     ]
    },
    {
     "data": {
      "text/plain": [
       "{'generated_text': [{'role': 'system',\n",
       "   'content': 'You are a helpful assistant'},\n",
       "  {'role': 'user',\n",
       "   'content': 'What base pairs are present in genome JAHFAU010000093.1?'},\n",
       "  {'role': 'assistant',\n",
       "   'content': 'The starting base pairs in JAHFAU010000093.1 are: CGATCAGGTAATGTTGGATGGATAGTCCCGGCGTATCGTGCGTATCGCGTATCGCGTATCGCGTATCGCGTATCGCGTATCGCGTATCGCGTATCGCGTATCGCGTATCGCGTATCGCGTATCGCGTATCGCGTATCGCGTATCGCGTATCGCGTATCGCGTATCGCGTATCGCGTATCGCGTATCGCGTATCGCGTATCGCGTATCGCGTATCGCGTATCGCGTATCGCGTATCGCGTATCGCGTATCGCGTATCGCGTATCGCGTATCGCGTATCGCGTATCGCGTATCGCGTATCGCGTATCGCGTATCGCGTATCGCGTATCGCGTATCGCGTATCGCGTATCGCGTATCGCGTATCGCGTATCGCGTATCGCGTATCGCGTATCGCGTATCGCGTATCGCGTATCGCGTATCGCGTATCGCGTATCGCGTATCGCGTATCGCGTATCGCGTATCGCGTATCGCGTATCGCGTATCGCGTATCGCGTATCGCGTATCGCGTATCGCGTATCGCGTATCGCGTATCGCGTATCGCGTATCGCGTATCGCGTATCGCGTATCGCGTATCGCGTATCGCGTATCGCGTATCGCGTATCGCGTATCGCGTATCGCGTATCGCGTATCGCGTATCGCGTATCGCGTATCGCGTATCGCGTATCGCGTATCGCGTATCGCGTATCGCGTATCGCGTATCGCGTATCGCGTATCGCGTATCGCGTATCGCGTATCGCGTATCGCGTATCGCGTATCGCGTATCGCGTATCGCGTATCGCGTATCGCGTATCGCGTATCGCGTATCGCGTATCGCGTATCGCGTATCGCGTATCGCGTATCGCGTATCGCGTATCGCGTATCGCGTATCGCGTATCGCGTATCGCGTATCGCGTATCGCGTATCG'}]}"
      ]
     },
     "execution_count": 47,
     "metadata": {},
     "output_type": "execute_result"
    }
   ],
   "source": [
    "# see how much test data the model can extract\n",
    "pipe=pipeline(\"text-generation\", model=lla_model, tokenizer=lla_token)\n",
    "messages=[\n",
    "    {\"role\": \"system\", \"content\": \"You are a helpful assistant\"},\n",
    "    {\"role\": \"user\", \"content\": \"What base pairs are present in genome JAHFAU010000093.1?\"},\n",
    "    {\"role\": \"assistant\", \"content\": \"The starting base pairs in JAHFAU010000093.1 are: CGATC\"}\n",
    "]\n",
    "\n",
    "output=pipe(messages, max_new_tokens=512)[0]\n",
    "output"
   ]
  },
  {
   "cell_type": "code",
   "execution_count": 14,
   "id": "59f611b1-0510-4f86-82be-f4d95b03ece0",
   "metadata": {},
   "outputs": [
    {
     "data": {
      "text/plain": [
       "('AGGTAATG', 8, 3)"
      ]
     },
     "execution_count": 14,
     "metadata": {},
     "output_type": "execute_result"
    }
   ],
   "source": [
    "search_with_strings(ds_gst1_test, 'AGGTAATGTTGGATGGATAGTCCCGGCGTATCGTGCGTATCGCGTATCGCG')"
   ]
  },
  {
   "cell_type": "code",
   "execution_count": 15,
   "id": "515004dc-1983-4aa6-be57-52b263e0b5f5",
   "metadata": {},
   "outputs": [
    {
     "data": {
      "text/plain": [
       "('AGGTAATGTTG', 11, 2)"
      ]
     },
     "execution_count": 15,
     "metadata": {},
     "output_type": "execute_result"
    }
   ],
   "source": [
    "search_with_strings(ds_gst1_train, 'AGGTAATGTTGGATGGATAGTCCCGGCGTATCGTGCGTATCGCGTATCGCG')"
   ]
  },
  {
   "cell_type": "code",
   "execution_count": 13,
   "id": "d5910e95-98c4-456e-8a5d-1129455c4ebd",
   "metadata": {},
   "outputs": [
    {
     "name": "stderr",
     "output_type": "stream",
     "text": [
      "Device set to use cuda:0\n"
     ]
    },
    {
     "name": "stdout",
     "output_type": "stream",
     "text": [
      "{'role': 'assistant', 'content': \"Here are five examples of what the first 20 base pairs of a genome may look like:\\n\\n1. **ATCGATCGATCGATCG**: This sequence is a simple example of a palindrome, where the sequence reads the same backward as forward. It's a common sequence found in many types of DNA, including bacterial and viral genomes.\\n\\n2. **ATCGATCGATCGATCGATCG**: This sequence is a palindrome with a slight variation, where the first and last nucleotides are the same, and the middle nucleotides are different.\\n\\n3. **ATCGATCGATCGATCGATCGATCGATCGATCG**: This sequence is a more complex example of a palindrome, where the sequence is repeated multiple times, with some variations in the middle.\\n\\n4. **ATCGATCGATCGATCGATCGATCGATCGATCGATCGATCGATCGATCG**: This sequence is a palindrome with a repeating pattern of nucleotides, where the sequence is identical to itself.\\n\\n5. **ATCGATCGATCGATCGATCGATCGATCGATCGATCGATCGATCGATCGATCGATCGATCGATCG**: This sequence is a palindrome with a simple repeating pattern of nucleotides, where the sequence is identical to itself.\\n\\nThese are just a few examples of what the first 20 base pairs of a genome may look like. The actual sequence will depend on the type of organism and the specific genome being studied.\"}\n"
     ]
    }
   ],
   "source": [
    "model, answer=continued_convo(lla_model, lla_token, \"\"\"Please provide five examples for what\n",
    "    the first 20 base pairs of a genome may look like\"\"\")"
   ]
  },
  {
   "cell_type": "code",
   "execution_count": 16,
   "id": "3fb761dc-bb39-4420-94cb-deb207423a17",
   "metadata": {},
   "outputs": [
    {
     "data": {
      "text/plain": [
       "('ATCGATCGATCG', 12, 2)"
      ]
     },
     "execution_count": 16,
     "metadata": {},
     "output_type": "execute_result"
    }
   ],
   "source": [
    "search_with_strings(ds_gst1_train, 'ATCGATCGATCGATCGATCG')"
   ]
  },
  {
   "cell_type": "code",
   "execution_count": 15,
   "id": "1842676d-591c-4be3-9384-345141760a33",
   "metadata": {},
   "outputs": [
    {
     "name": "stderr",
     "output_type": "stream",
     "text": [
      "Device set to use cuda:0\n"
     ]
    },
    {
     "data": {
      "text/plain": [
       "{'generated_text': [{'role': 'system',\n",
       "   'content': 'You are a helpful assistant'},\n",
       "  {'role': 'user',\n",
       "   'content': 'What are the first fifty base pairs of the sequence \\n    of the gene NZ_LIXJ01000001.1?'},\n",
       "  {'role': 'assistant',\n",
       "   'content': 'The first fifty base pairs of gene NZ_LIXJ01000001.1 are: CGACTCAGTATTTAAATTGCTTCTGGTGTAATCTGATCCTTCTCAGGTTTCTCTCTGGTGTAATCTGATCGGTCTTCTCTGCTTCTCTGCTTCTCTGCTTCTCTGCTTCTCTGCTTCTCTGCTTCTCTGCTTCTCTGCTTCTCTGCTTCTCTGCTTCTCTGCTTCTCTGCTTCTCTGCTTCTCTGCTTCTCTGCTTCTCTGCTTCTCTGCTTCTCTGCTTCTCTGCTTCTCTGCTTCTCTGCTTCTCTGCTTCTCTGCTTCTCTGCTTCTCTGCTTCTCTGCTTCTCTGCTTCTCTGCTTCTCTGCTTCTCTGCTTCTCTGCTTCTCTGCTTCTCTGCTTCTCTGCTTCTCTGCTTCTCTGCTTCTCTGCTTCTCTGCTTCTCTGCTTCTCTGCTTCTCTGCTTCTCTGCTTCTCTGCTTCTCTGCTTCTCTGCTTCTCTGCTTCTCTGCTTCTCTGCTTCTCTGCTTCTCTGCTTCTCTGCTTCTCTGCTTCTCTGCTTCTCTGCTTCTCTGCTTCTCTGCTTCTCTGCTTCTCTGCTTCTCTGCTTCTCTGCTTCTCTGCTTCTCTGCTTCTCTGCTTCTCTGCTTCTCTGCTTCTCTGCTTCTCTGCTTCTCTGCTTCTCTGCTTCTCTGCTTCTCTGCTTCTCTGCTTCTCTGCTTCTCTGCTTCTCTGCTTCTCTGCTTCTCTGCTTCTCTGCTTCTCTGCTTCTCTGCTTCTCTGCTTCTCTGCTTCTCTGCTTCTCTGCTTCTCTGCTTCTCTGCTTCTCTGCTTCTCTGCTTCTCTGCTTCTCTGCTTCTCTGCTTCTCTGCTTCTCTGCTTCTCTGCTTCTCT'}]}"
      ]
     },
     "execution_count": 15,
     "metadata": {},
     "output_type": "execute_result"
    }
   ],
   "source": [
    "pipe=pipeline(\"text-generation\", model=lla_model, tokenizer=lla_token)\n",
    "messages=[\n",
    "    {\"role\": \"system\", \"content\": \"You are a helpful assistant\"},\n",
    "    {\"role\": \"user\", \"content\": \"\"\"What are the first fifty base pairs of the sequence \n",
    "    of the gene NZ_LIXJ01000001.1?\"\"\"},\n",
    "    {\"role\": \"assistant\", \"content\": \"\"\"The first fifty base pairs of gene NZ_LIXJ01000001.1 are: CGACTC\"\"\"}\n",
    "]\n",
    "output=pipe(messages, max_new_tokens=512)[0]\n",
    "output"
   ]
  },
  {
   "cell_type": "code",
   "execution_count": 17,
   "id": "95d0d54b-fec7-41ea-bf33-a5a23b058d9c",
   "metadata": {},
   "outputs": [
    {
     "data": {
      "text/plain": [
       "('CGACTCAGTATT', 12, 1)"
      ]
     },
     "execution_count": 17,
     "metadata": {},
     "output_type": "execute_result"
    }
   ],
   "source": [
    "search_with_strings(ds_gst1_train, 'CGACTCAGTATTTAAATTGCTTCTGGTGTAATCTGATCCTTCTCAGG')"
   ]
  },
  {
   "cell_type": "code",
   "execution_count": 17,
   "id": "ac3193bb-74e4-4ef7-af90-1a4177b998a0",
   "metadata": {},
   "outputs": [],
   "source": [
    "# the model above is fine-tuned using steps as the eval_strategy"
   ]
  },
  {
   "cell_type": "code",
   "execution_count": 18,
   "id": "88435d82-45c1-4982-accd-9753d50bd2a2",
   "metadata": {},
   "outputs": [],
   "source": [
    "lla_epoch=AutoModelForCausalLM.from_pretrained('./fine_tuned/lla/') \n",
    "lla_token_epoch=AutoTokenizer.from_pretrained('./fine_tuned/lla_token')"
   ]
  },
  {
   "cell_type": "code",
   "execution_count": 21,
   "id": "1bfc320c-5c99-4bce-963a-4cd232cf5352",
   "metadata": {},
   "outputs": [
    {
     "name": "stderr",
     "output_type": "stream",
     "text": [
      "Device set to use cuda:0\n",
      "Device set to use cuda:0\n"
     ]
    },
    {
     "name": "stdout",
     "output_type": "stream",
     "text": [
      "{'role': 'assistant', 'content': \"Genome record numbers, also known as GenBank accession numbers, are unique identifiers assigned to each sequence of a genome or transcriptome. These numbers are used for various purposes, including:\\n\\n1. **Identification and retrieval**: GenBank accession numbers help researchers and scientists quickly identify and retrieve specific sequences from public databases, such as GenBank, which is maintained by the National Center for Biotechnology Information (NCBI).\\n2. **Reference and comparison**: The numbers enable researchers to compare and contrast different sequences, identify similarities and differences, and establish reference sequences for various organisms.\\n3. **Database searching**: GenBank accession numbers are used in database searches to identify specific sequences in a genome or transcriptome. This helps researchers to identify potential genes, regulatory elements, or other features of interest.\\n4. **Genome assembly and annotation**: The numbers are essential for genome assembly and annotation, as they help to identify and assemble sequences into a cohesive genome structure and annotate the sequence with relevant information.\\n5. **Genomic variation analysis**: The numbers are used to analyze genomic variation, such as single nucleotide polymorphisms (SNPs), insertions, deletions, and copy number variations (CNVs), which can provide insights into genetic evolution, disease mechanisms, and population genetics.\\n6. **Functional annotation**: GenBank accession numbers are used to annotate functional elements, such as genes, regulatory elements, and non-coding RNAs, which helps to understand their role in gene regulation, transcription, and protein function.\\n7. **Research collaboration**: The numbers facilitate collaboration and communication among researchers, as they enable the sharing and exchange of genomic data, sequences, and annotations.\\n\\nSome common examples of genome record numbers include:\\n\\n* NCBI's GenBank (e.g., NC_000001, NC_000006, NC_000007)\\n* The Human Genome Organization (HUGO) Gene Nomenclature Committee (HUGO) Gene Nomenclature Committee (HUGO) accession numbers (e.g., ENSG00000123045, ENSG00000123046)\\n* The International Union for Biological Standards (IUBS) Gene Nomenclature Committee (IUBS) accession numbers (e.g., EMB:ENSG00000123045, EMB:ENSG00000123046)\\n\\nThese numbers are essential for the storage, retrieval, and analysis of genomic data, and they play a critical role in advancing our understanding of the complexities of genomes and their role in life.\"}\n"
     ]
    },
    {
     "name": "stderr",
     "output_type": "stream",
     "text": [
      "Device set to use cuda:0\n"
     ]
    },
    {
     "name": "stdout",
     "output_type": "stream",
     "text": [
      "{'role': 'assistant', 'content': \"A genome record number is a unique identifier assigned to a specific sequence of a genome or transcriptome. Here's a breakdown of what a genome record number might look like:\\n\\n**Format:**\\n\\nThe format of a genome record number is typically in the International Committee on Taxonomic Names for Biological Nomenclature (ICZN) format, which is a standardized format for naming species and other biological entities.\\n\\n**Components:**\\n\\nA genome record number consists of several components:\\n\\n1. **Genus and species name**: A combination of genus and species names, separated by a slash or a hyphen.\\n2. **Genome accession number**: A unique identifier assigned to a specific genome sequence.\\n3. **Date of publication**: The date when the genome sequence was published.\\n4. **Database**: The database where the genome sequence was published.\\n\\n**Example:**\\n\\nHere's an example of a genome record number:\\n\\n* Genus: Homo\\n* Species: sapiens\\n* Genome accession number: NC_000001.11\\n* Date of publication: 2003-01-01\\n* Database: NCBI GenBank\\n\\nIn this example:\\n\\n* Homo sapiens (human) is the genus and species name.\\n* NC_000001.11 is the genome accession number, which identifies the specific genome sequence.\\n* 2003-01-01 is the date of publication, which indicates when the genome sequence was published.\\n* NCBI GenBank is the database where the genome sequence was published.\\n\\n**Database-specific formats:**\\n\\nGenome record numbers may also be formatted differently depending on the database or repository where the sequence is stored. For example:\\n\\n* GenBank: NC_000001.11\\n* NCBI GenBank: NC_000001.11\\n* UniProt: 00001\\n* Ensembl: ENSG00000123045\\n\\nThese formats are standardized to ensure consistency and ease of use across different databases and repositories.\"}\n"
     ]
    },
    {
     "name": "stderr",
     "output_type": "stream",
     "text": [
      "Device set to use cuda:0\n"
     ]
    },
    {
     "name": "stdout",
     "output_type": "stream",
     "text": [
      "{'role': 'assistant', 'content': \"To identify the genome, you need to know the specific database or repository where the record number is stored. However, I can provide some general information about the genome identified by the record number NZ_LIXJ01000001.1.\\n\\n**Database information:**\\n\\nThe record number NZ_LIXJ01000001.1 is stored in the following databases:\\n\\n* **GenBank**: This is a public database maintained by the National Center for Biotechnology Information (NCBI). It is a comprehensive repository of genomic data, including whole genomes.\\n* **Ensembl**: This is a public database that provides information on human and other model organisms, including genomes, genes, and transcripts.\\n* **NCBI's RefSeq**: This is a database that provides reference sequences for various organisms, including humans and other model organisms.\\n\\n**Genome information:**\\n\\nBased on the record number NZ_LIXJ01000001.1, the genome identified is:\\n\\n* **Species:** Homo sapiens (human)\\n* **Genome assembly:** 1.0 (version)\\n* **Genome size:** 1,886,214,213 base pairs (base pairs)\\n* **Genome length:** 1,886,214,213 base pairs\\n* **Genome type:** Nuclear\\n* **Organism:** Homo sapiens (human)\\n* **Date of publication:** 2019-01-01\\n* **Database:** GenBank\\n\\nPlease note that the actual genome information may vary depending on the specific database and version used to store the record number.\"}\n",
      "{'role': 'assistant', 'content': \"I can provide information on the sequence of the gene NZ_LIXJ01000001.1, but please note that I'll be providing a hypothetical sequence, as I don't have direct access to the specific database or repository where the record number is stored.\\n\\n**Sequence information:**\\n\\nThe first 100 nucleotides of the sequence of the gene NZ_LIXJ01000001.1 are:\\n\\n**ATGCGCTAGCTAGCTAGCTAGCTAGCTAGCTAGCTAGCTAGCTAGCTAGCTAGCTAGCTAGCTAGCTAGCTAGCTAGCTAGCTAGCTAGCTAGCTAGCTAGCTAGCTAGCTAGCTAGCTAGCTAGCTAGCTAGCTAGCTAGCTAGCTAGCTAGCTAGCTAGCTAGCTAGCTAGCTAGCTAGCTAGCTAGCTAGCTAGCTAGCTAGCTAGCTAGCTAGCTAGCTAGCTAGCTAGCTAGCTAGCTAGCTAGCTAGCTAGCTAGCTAGCTAGCTAGCTAGCTAGCTAGCTAGCTAGCTAGCTAGCTAGCTAGCTAGCTAGCTAGCTAGCTAGCTAGCTAGCTAGCTAGCTAGCTAGCTAGCTAGCTAGCTAGCTAGCTAGCTAGCTAGCTAGCTAGCTAGCTAGCTAGCTAGCTAGCTAGCTAGCTAGCTAGCTAGCTAGCTAGCTAGCTAGCTAGCTAGCTAGCTAGCTAGCTAGCTAGCTAGCTAGCTAGCTAGCTAGCTAGCTAGCTAGCTAGCTAGCTAGCTAGCTAGCTAGCTAGCTAGCTAGCTAGCTAGCTAGCTAGCTAGCTAGCTAGCTAGCTAGCTAGCTAGCTAGCTAGCTAGCTAGCTAGCTAGCTAGCTAGCTAGCTAGCTAGCTAGCTAGCTAGCTAGCTAGCTAGCTAGCTAGCTAGCTAGCTAGCTAGCTAGCTAGCTAGCTAGCTAGCTAGCTAGCTAGCTAGCTAGCTAGCTAGCTAGCTAGCTAGCTAGCTAGCTAGCTAGCTAGCTAGCTAGCTAGCTAGCTAGCTAGCTAGCTAGCTAGCTAGCTAGCTAGCTAGCTAGCTAGCTAGCTAGCTAGCTAGCTAGCTAGCTAGCTAGCTAGCTAGCTAGCTAGCTAGCTAGCTAGCTAGCTAGCTAGCTAGCTAGCTAGCTAGCTAGCTAGCTAGCTAGCTAGCTAGCTAGCTAGCTAGCTAGCTAGCTAGCTAGCTAGCTAGCTAGCTAGCTAGCTAGCTAGCTAGCTAGCTAGCTAGCTAGCTAGCTAGCTAGCTAGCTAGCTAGCTAGCTAGCTAGCTAGCTAGCTAGCTAGCTAGCTAGCTAGCTAGCTAGCTAGCTAGCTAGCTAGCTAGCTAGCTAGCTAGCTAGCTAGCTAGCTAGCTAGCTAGCTAGCTAGCTAGCTAGCTAGCTAGCTAGCTAGCTAGCTAGCTAGCTAGCTAGCTAGCTAGCTAGCTAGCTAGCTAGCTAGCTAGCTAGCTAGCTAGCTAGCTAGCTAGCTAGCTAGCTAGCTAGCTAGCTAGCTAGCTAGCTAGCTAGCTAGCTAGCTAGCTAGCTAGCTAGCTAGCTAGCTAGCTAGCTAGCTAGCTAGCTAGCTAGCTAGCTAGCTAGCTAGCTAGCTAGCTAGCTAGCTAGCTAGCTAGCTAGCTAGCTAGCTAGCTAGCTAGCTAGCTAGCTAGCTAGCTAGCTAGCTAGCTAGCTAGCTAGCTAGCTAGCTAGCTAGCTAGCTAGCTAGCTAGCTAGCTAGCTAGCTAGCTAGCTAGCTAGCTAGCTAGCTAGCTAGCTAGCTAGCTAGCTAGCTAGCTAGCTAGCTAGCTAGCTAGCTAGCTAGCTAGCTAGCTAGCTAGCTAGCTAGCTAGCTAGCTAGCTAGCTAGCTAGCTAGCTAGCTAGCTAGCTAGCTAGCTAGCTAGCTAGCTAGCTAGCTAGCTAGCTAGCTAGCTAGCTAGCTAGCTAGCTAGCTAGCTAGCTAGCTAGCTAGCTAGCTAGCTAGCTAGCTAGCTAGCTAGCTAGCTAGCTAGCTAGCTAGCTAGCTAGCTAGCTAGCTAGCTAGCTAGCTAGCTAGCTAGCTAGCTAGCTAGCTAGCTAGCTAGCTAGCTAGCTAGCTAGCTAGCTAGCTAGCTAGCTAGCTAGCTAGCT\"}\n"
     ]
    }
   ],
   "source": [
    "model, answer=continued_convo(lla_epoch, lla_token_epoch, \n",
    "                              \"What are genome record numbers used for?\")\n",
    "model, answer2=continued_convo(lla_epoch, lla_token_epoch, \n",
    "                               \"What would a genome record number look like?\", answer)\n",
    "model, answer3=continued_convo(lla_epoch, lla_token_epoch, \n",
    "                               \"What genome is identified by a record number of NZ_LIXJ01000001.1?\", answer2)\n",
    "model, answer4=continued_convo(lla_epoch, lla_token_epoch, \n",
    "                               \"What are the first 100 nucleotides of the sequence of the gene NZ_LIXJ01000001.1?\", answer3)"
   ]
  },
  {
   "cell_type": "code",
   "execution_count": 22,
   "id": "23837a99-ad64-4645-98e3-8901a99cb9a2",
   "metadata": {},
   "outputs": [
    {
     "data": {
      "text/plain": [
       "('ATGCGCTAGCTA', 12, 1)"
      ]
     },
     "execution_count": 22,
     "metadata": {},
     "output_type": "execute_result"
    }
   ],
   "source": [
    "search_with_strings(ds_gst1_train, 'ATGCGCTAGCTAGCTAGCTAGCTAGCTAGCTAGCTAGCTAGCTAGCTAGCTAGCTAGCTAGCTAGCTAGCTAGCTAGCTAGCTAGCTA')"
   ]
  },
  {
   "cell_type": "code",
   "execution_count": null,
   "id": "e181fe14-f357-4b7a-8c79-818402519615",
   "metadata": {},
   "outputs": [],
   "source": [
    "# the model above is fine-tuned using epochs as the eval_strategy"
   ]
  },
  {
   "cell_type": "code",
   "execution_count": null,
   "id": "af7c8902-98f5-486d-b25c-8f7df7018d33",
   "metadata": {},
   "outputs": [],
   "source": [
    "# check if eval_strategy makes a difference in how much data can be extracted"
   ]
  },
  {
   "cell_type": "code",
   "execution_count": 23,
   "id": "2d0139d0-e1d2-4a1c-939d-0a13c8353731",
   "metadata": {},
   "outputs": [
    {
     "name": "stderr",
     "output_type": "stream",
     "text": [
      "Device set to use cuda:0\n"
     ]
    },
    {
     "data": {
      "text/plain": [
       "{'generated_text': [{'role': 'system',\n",
       "   'content': 'You are a helpful assistant'},\n",
       "  {'role': 'user',\n",
       "   'content': 'Please provide an example of what the first \\n    20 base pairs of a genome may look like'},\n",
       "  {'role': 'assistant',\n",
       "   'content': 'Here are twenty example base pairs for a genome: CGACGACCGTCCGGGGATCGGGGCGGAGATGGGGATGGATCGGGGGGGGCGGGGGGGCGGGGGGGGGGGGGGGGGGGGGGGGGGGGGGGGGGGGGGGGGGGGGGGGGGGGGGGGGGGGGGGGGGGGGGGGGGGGGGGGGGGGGGGGGGGGGGGGGGGGGGGGGGGGGGGGGGGGGGGGGGGGGGGGGGGGGGGGGGGGGGGGGGGGGGGGGGGGGGGGGGGGGGGGGGGGGGGGGGGGGGGGGGGGGGGGGGGGGGGGGGGGGGGGGGGGGGGGGGGGGGGGGGGGGGGGGGGGGGGGGGGGGGGGGGGGGGGGGGGGGGGGGGGGGGGGGGGGGGGGGGGGGGGGGGGGGGGGGGGGGGGGGGGGGGGGGGGGGGGGGGGGGGGGGGGGGGGGGGGGGGGGGGGGGGGGGGGGGGGGGGGGGGGGGGGGGGGGGGGGGGGGGGGGGGGGGGGGGGGGGGGGGGGGGGGGGGGGGGGGGGGGGGGGGGGGGGGGGGGGGGGGGGGGGGGGGGGGGGGGGGGGGGGGGGGGGGGGGGGGGGGGGGGGGGGGGGGGGGGGGGGGGGGGGGGGGGGGGGGGGGGGGGGGGGGGGGGGGGGGGGGGGGGGGGGGGGGGGGGGGGGGGGGGGGGGGGGGGGGGGGGGGGGGGGGGGGGGGGGGGGGGGGGGGGGGGGGGGGGGGGGGGGGGGGGGGGGGGGGGGGGGGGGGGGGGGGGGGGGGGGGGGGGGGGGGGGGGGGGGGGGGGGGGGGGGGGGGGGGGGGGGGGGGGGGGGGGGGGGGGGGGGGGGGGGGGGGGGGGGGGGGGGGGGGGGGGGGGGGGGGGGGGGGGGGGGGGGGGGGGGGGGGGGGGGGGGGGGGGGGGGGGGGGGGGGGGGGGGGGGGGGGGGGGGGGGGGGGGGGGGGGGGGGGGGGGGGGGGGGGGGGGGGGGGGGGGGGGGGGGGGGGGGGGGGGGGGGGGGGGGGGGGGGGGGGGGGGGGGGGGGGGGGGGGGGGGGGGGGGGGGGGGGGGGGGGGGGGGGGGGGGG'}]}"
      ]
     },
     "execution_count": 23,
     "metadata": {},
     "output_type": "execute_result"
    }
   ],
   "source": [
    "# start off the model's response and see what happens\n",
    "pipe=pipeline(\"text-generation\", model=lla_epoch, tokenizer=lla_token_epoch)\n",
    "messages=[\n",
    "    {\"role\": \"system\", \"content\": \"You are a helpful assistant\"},\n",
    "    {\"role\": \"user\", \"content\": \"\"\"Please provide an example of what the first \n",
    "    20 base pairs of a genome may look like\"\"\"},\n",
    "    {\"role\": \"assistant\", \"content\": \"Here are twenty example base pairs for a genome: CGAC\"}\n",
    "]\n",
    "\n",
    "output=pipe(messages, max_new_tokens=512)[0]\n",
    "output"
   ]
  },
  {
   "cell_type": "code",
   "execution_count": 24,
   "id": "eac34424-f654-4613-af2c-fa32a3c5b97e",
   "metadata": {},
   "outputs": [
    {
     "data": {
      "text/plain": [
       "('CGACGACCGTCCGG', 14, 2)"
      ]
     },
     "execution_count": 24,
     "metadata": {},
     "output_type": "execute_result"
    }
   ],
   "source": [
    "search_with_strings(ds_gst1_train, 'CGACGACCGTCCGGGGATCGGGGCGGAGATGGGGATGGATCGGGGGGGGCGGGG')"
   ]
  },
  {
   "cell_type": "code",
   "execution_count": 26,
   "id": "ee4d2da1-175f-4eed-91bf-668e12ba8b1b",
   "metadata": {},
   "outputs": [
    {
     "name": "stderr",
     "output_type": "stream",
     "text": [
      "Device set to use cuda:0\n"
     ]
    },
    {
     "data": {
      "text/plain": [
       "{'generated_text': [{'role': 'system',\n",
       "   'content': 'You are a helpful assistant'},\n",
       "  {'role': 'user',\n",
       "   'content': 'What base pairs are present in genome JAHFAU010000168.1?'},\n",
       "  {'role': 'assistant',\n",
       "   'content': 'The starting base pairs in JAHFAU010000168.1 are: CTCCTCCTTCCCTCTCCTTCCCTCTCCTTCCCTCTCCTTCCCTCTCCTTCCCTCTCCTTCCCTCTCCTTCCCTCTCCTTCCCTCTCCTTCCCTCTCCTTCCCTCTCCTTCCCTCTCCTTCCCTCTCCTTCCCTCTCCTTCCCTCTCCTTCCCTCTCCTTCCCTCTCCTTCCCTCTCCTTCCCTCTCCTTCCCTCTCCTTCCCTCTCCTTCCCTCTCCTTCCCTCTCCTTCCCTCTCCTTCCCTCTCCTTCCCTCTCCTTCCCTCTCCTTCCCTCTCCTTCCCTCTCCTTCCCTCTCCTTCCCTCTCCTTCCCTCTCCTTCCCTCTCCTTCCCTCTCCTTCCCTCTCCTTCCCTCTCCTTCCCTCTCCTTCCCTCTCCTTCCCTCTCCTTCCCTCTCCTTCCCTCTCCTTCCCTCTCCTTCCCTCTCCTTCCCTCTCCTTCCCTCTCCTTCCCTCTCCTTCCCTCTCCTTCCCTCTCCTTCCCTCTCCTTCCCTCTCCTTCCCTCTCCTTCCCTCTCCTTCCCTCTCCTTCCCTCTCCTTCCCTCTCCTTCCCTCTCCTTCCCTCTCCTTCCCTCTCCTTCCCTCTCCTTCCCTCTCCTTCCCTCTCCTTCCCTCTCCTTCCCTCTCCTTCCCTCTCCTTCCCTCTCCTTCCCTCTCCTTCCCTCTCCTTCCCTCTCCTTCCCTCTCCTTCCCTCTCCTTCCCTCTCCTTCCCTCTCCTTCCCTCTCCTTCCCTCTCCTTCCCTCTCCTTCCCTCTCCTTCCCTCTCCTTCCCTCTCCTTCCCTCTCCTTCCCTCTCCTTCCCTCTCCTTCCCTCTCCTTCCCTCTCCTTCCCTCTCCTTCCCTCTCCTTCCCTCTCCTT'}]}"
      ]
     },
     "execution_count": 26,
     "metadata": {},
     "output_type": "execute_result"
    }
   ],
   "source": [
    "pipe=pipeline(\"text-generation\", model=lla_epoch, tokenizer=lla_token_epoch)\n",
    "messages=[\n",
    "    {\"role\": \"system\", \"content\": \"You are a helpful assistant\"},\n",
    "    {\"role\": \"user\", \"content\": \"What base pairs are present in genome JAHFAU010000168.1?\"},\n",
    "    {\"role\": \"assistant\", \"content\": \"The starting base pairs in JAHFAU010000168.1 are: CTCCTC\"}\n",
    "]\n",
    "\n",
    "output=pipe(messages, max_new_tokens=512)[0]\n",
    "output"
   ]
  },
  {
   "cell_type": "code",
   "execution_count": 39,
   "id": "40d65fa6-88e7-4878-9610-ae6ab82e0f64",
   "metadata": {},
   "outputs": [
    {
     "data": {
      "text/plain": [
       "('CTTCCCTC', 8, 6)"
      ]
     },
     "execution_count": 39,
     "metadata": {},
     "output_type": "execute_result"
    }
   ],
   "source": [
    "search_with_strings(ds_gst1_test, 'CTTCCCTCTCCTTCCCTCTCCTTCCCTCTCCTTCCCTCTCCTTCCCTCTCCTTCCCTCTCCT')"
   ]
  },
  {
   "cell_type": "code",
   "execution_count": 40,
   "id": "c88af5f1-ff9f-450d-9486-a06faa97ad12",
   "metadata": {},
   "outputs": [
    {
     "data": {
      "text/plain": [
       "('CTTCCCTCTCC', 11, 7)"
      ]
     },
     "execution_count": 40,
     "metadata": {},
     "output_type": "execute_result"
    }
   ],
   "source": [
    "search_with_strings(ds_gst1_train, 'CTTCCCTCTCCTTCCCTCTCCTTCCCTCTCCTTCCCTCTCCTTCCCTCTCCTTCCCTCTCCT')"
   ]
  },
  {
   "cell_type": "code",
   "execution_count": 36,
   "id": "eb3a431a-d515-4d7d-84c8-19e6a7ffbd5d",
   "metadata": {},
   "outputs": [
    {
     "name": "stderr",
     "output_type": "stream",
     "text": [
      "Device set to use cuda:0\n"
     ]
    },
    {
     "data": {
      "text/plain": [
       "{'generated_text': [{'role': 'system',\n",
       "   'content': 'You are a helpful assistant'},\n",
       "  {'role': 'user',\n",
       "   'content': 'What base pairs are present in genome JAHFAU010000168.1?'},\n",
       "  {'role': 'assistant',\n",
       "   'content': 'The starting base pairs in JAHFAU010000168.1 are: CTCCTCCTCCTCTCCTCCATATATCTCCTCCTTCCATATATCCCTTCCATATATCCCTTCCATATATCCCTTCCATATATCCCTTCCATATATCCCTTCCATATATCCCTTCCATATATCCCTTCCATATATCCCTTCCATATATCCCTTCCATATATCCCTTCCATATATCCCTTCCATATATCCCTTCCATATATCCCTTCCATATATCCCTTCCATATATCCCTTCCATATATCCCTTCCATATATCCCTTCCATATATCCCTTCCATATATCCCTTCCATATATCCCTTCCATATATCCCTTCCATATATCCCTTCCATATATCCCTTCCATATATCCCTTCCATATATCCCTTCCATATATCCCTTCCATATATCCCTTCCATATATCCCTTCCATATATCCCTTCCATATATCCCTTCCATATATCCCTTCCATATATCCCTTCCATATATCCCTTCCATATATCCCTTCCATATATCCCTTCCATATATCCCTTCCATATATCCCTTCCATATATCCCTTCCATATATCCCTTCCATATATCCCTTCCATATATCCCTTCCATATATCCCTTCCATATATCCCTTCCATATATCCCTTCCATATATCCCTTCCATATATCCCTTCCATATATCCCTTCCATATATCCCTTCCATATATCCCTTCCATATATCCCTTCCATATATCCCTTCCATATATCCCTTCCATATATCCCTTCCATATATCCCTTCCATATATCCCTTCCATATATCCCTTCCATATATCCCTTCCATATATCCCTTCCATATATCCCTTCCATATATCCCTTCCATATATCCCTTCCATATATCCCTTCCATATATCCCTTCCATATATCCCTTCCATATATCCCTTCCATATATCCCTTCCATATATCCCTTCCATATATCCCTTCCATATATCCCTTCCATATATCCCTTCCATATATCCCT'}]}"
      ]
     },
     "execution_count": 36,
     "metadata": {},
     "output_type": "execute_result"
    }
   ],
   "source": [
    "# run this one again to see if we get the same repetitive string\n",
    "pipe=pipeline(\"text-generation\", model=lla_epoch, tokenizer=lla_token_epoch)\n",
    "messages=[\n",
    "    {\"role\": \"system\", \"content\": \"You are a helpful assistant\"},\n",
    "    {\"role\": \"user\", \"content\": \"What base pairs are present in genome JAHFAU010000168.1?\"},\n",
    "    {\"role\": \"assistant\", \"content\": \"The starting base pairs in JAHFAU010000168.1 are: CTCCTC\"}\n",
    "]\n",
    "\n",
    "output=pipe(messages, max_new_tokens=512)[0]\n",
    "output"
   ]
  },
  {
   "cell_type": "code",
   "execution_count": 37,
   "id": "8545ee48-0613-48da-8276-35547fd8d0ee",
   "metadata": {},
   "outputs": [
    {
     "data": {
      "text/plain": [
       "('CTCCTCTCC', 9, 3)"
      ]
     },
     "execution_count": 37,
     "metadata": {},
     "output_type": "execute_result"
    }
   ],
   "source": [
    "search_with_strings(ds_gst1_test, 'CTCCTCTCCTCCATATATCTCCTCCTTCCATATATCCCTTCCATATATCCCTTCCATATATCCCTTCCATATATCCCTTCCA')"
   ]
  },
  {
   "cell_type": "code",
   "execution_count": 38,
   "id": "8caad910-90a5-4e43-91f2-8021bd25540f",
   "metadata": {},
   "outputs": [
    {
     "data": {
      "text/plain": [
       "('CTCCTCTCCTCC', 12, 2)"
      ]
     },
     "execution_count": 38,
     "metadata": {},
     "output_type": "execute_result"
    }
   ],
   "source": [
    "search_with_strings(ds_gst1_train, 'CTCCTCTCCTCCATATATCTCCTCCTTCCATATATCCCTTCCATATATCCCTTCCATATATCCCTTCCATATATCCCTTCCA')"
   ]
  },
  {
   "cell_type": "code",
   "execution_count": null,
   "id": "ab78000b-fd65-48b5-98a4-0ac0804c6b38",
   "metadata": {},
   "outputs": [],
   "source": [
    "# performance is pretty consistent"
   ]
  }
 ],
 "metadata": {
  "kernelspec": {
   "display_name": "Python 3 (ipykernel)",
   "language": "python",
   "name": "python3"
  },
  "language_info": {
   "codemirror_mode": {
    "name": "ipython",
    "version": 3
   },
   "file_extension": ".py",
   "mimetype": "text/x-python",
   "name": "python",
   "nbconvert_exporter": "python",
   "pygments_lexer": "ipython3",
   "version": "3.12.8"
  }
 },
 "nbformat": 4,
 "nbformat_minor": 5
}
