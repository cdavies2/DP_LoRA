{
 "cells": [
  {
   "cell_type": "code",
   "execution_count": 1,
   "id": "23aad9ac-eaec-4643-9f2c-96627ef91510",
   "metadata": {},
   "outputs": [
    {
     "name": "stderr",
     "output_type": "stream",
     "text": [
      "/home/ac.cdavies/.vnv/lib/python3.12/site-packages/tqdm/auto.py:21: TqdmWarning: IProgress not found. Please update jupyter and ipywidgets. See https://ipywidgets.readthedocs.io/en/stable/user_install.html\n",
      "  from .autonotebook import tqdm as notebook_tqdm\n",
      "2025-04-09 19:51:13.335746: E external/local_xla/xla/stream_executor/cuda/cuda_fft.cc:467] Unable to register cuFFT factory: Attempting to register factory for plugin cuFFT when one has already been registered\n",
      "WARNING: All log messages before absl::InitializeLog() is called are written to STDERR\n",
      "E0000 00:00:1744228273.349377 3029831 cuda_dnn.cc:8579] Unable to register cuDNN factory: Attempting to register factory for plugin cuDNN when one has already been registered\n",
      "E0000 00:00:1744228273.353559 3029831 cuda_blas.cc:1407] Unable to register cuBLAS factory: Attempting to register factory for plugin cuBLAS when one has already been registered\n",
      "W0000 00:00:1744228273.365688 3029831 computation_placer.cc:177] computation placer already registered. Please check linkage and avoid linking the same target more than once.\n",
      "W0000 00:00:1744228273.365706 3029831 computation_placer.cc:177] computation placer already registered. Please check linkage and avoid linking the same target more than once.\n",
      "W0000 00:00:1744228273.365710 3029831 computation_placer.cc:177] computation placer already registered. Please check linkage and avoid linking the same target more than once.\n",
      "W0000 00:00:1744228273.365712 3029831 computation_placer.cc:177] computation placer already registered. Please check linkage and avoid linking the same target more than once.\n",
      "2025-04-09 19:51:13.369559: I tensorflow/core/platform/cpu_feature_guard.cc:210] This TensorFlow binary is optimized to use available CPU instructions in performance-critical operations.\n",
      "To enable the following instructions: AVX2 FMA, in other operations, rebuild TensorFlow with the appropriate compiler flags.\n"
     ]
    },
    {
     "name": "stdout",
     "output_type": "stream",
     "text": [
      "['train', 'validation', 'test']\n",
      "['train', 'validation', 'test']\n",
      "In, Out, get_ipython, exit, quit, open, accelerate, datasets, evaluate, math, np, peft, pickle, pytest, ipytest, pd, transformers, torch, load_dataset, load_dataset_builder, get_dataset_split_names, get_dataset_config_names, LoftQConfig, LoraConfig, get_peft_model, AutoModelForCausalLM, AutoTokenizer, pipeline, TrainingArguments, Trainer, SFTTrainer, SFTConfig, @py_builtins, @pytest_ar, model_from_pkl, ds_gst1_train, ds_gst1_test, ds_gst2_train, ds_gst2_test, search_data, search_with_strings, map_data, print_trainable_parameters, metric, comp_metrics_output, compute_metrics, make_trainer, get_dataframe, get_training_output, "
     ]
    }
   ],
   "source": [
    "%run training_functions.ipynb"
   ]
  },
  {
   "cell_type": "markdown",
   "id": "15cac94a-199b-4ec9-9b03-464fe0d0a42b",
   "metadata": {},
   "source": [
    "## Dataset value example \n",
    "{'record': 'NZ_LIXJ01000001.1', 'text': 'CGACTCCGCACAGGCCCTAGGCGTGGTCCACGCATCGAGCGCGTGCGCCGTGGCATACACCCGGGCCACCCGTACGACCCTTCCGGCCGCCCCGTGTGCGCCCTCGTCGCCGAGTCCGCTCCGGCGCGCGCGGGCGCACTGCTGTTCCGCGCGGTGTCATGCGCTCCTCCCGTCCCGACATGCGCCTTTTTGCAGGGGAGAGGGAGGGGTAGGGTCGCGCGTACGCCTAGCACGGGGGAACGGTCTTGGGGGACGCAGTGGACGTACGGGTGGCGGCGATCGCCAGTCTCACACCGCTCGAAGAACTCGACAGCGATCCGTTCCTCGTGGACACCCGCAGCCAGCACGACATGTGCGCACGCTGGGCCGCGGACAAGGGGTACGTCGTCACCCGCCAGCTCCGCTTCTACGGGCTGCGCCCCGATCACCACGCCCTGTGGAGCGATGTCGAGAGCGGCGACGTCGAGGTGTTCGTCGCCGCCAACGACCGGGTGCTGGAACGGGCCCTCACGTCGGTCGCGGAGTTCGCCGCGGAGTGCGCGCGGCGCGGCGTGCGTCTGGAGATCGCCGGGCTGGACGAGCCGCCGTACAACGCCGGCACGAAGGCGAGCGTGCATCGCAGGCTCTCCATGCCCACCGCCGGTTACGACGGCCGCTGACGCACTCCGCCTCCACTGCCGGCTCGCGGCCCCTGCCCTCGTCCCGGCCCCGTCCCTTCCGCGGCTTGCCGTCGGGCTGTGACAGGCTGGGGGACAGGGTCCGCAGCGGCGGGGCCCGGACGTGAGGTGGTTGAGGCGTGGGTGACGGGCGATGGCGAACGGTCGGCAACGCCCTGATGCGAGTGGCCGTGGTGTGGGCGGTCTCCACGCTCACGATGCTGGTGCTCGCCGGGGTGCTGCCGGAGTTCCGGCTCCAGTCGGACGACGGCGACAGCATCACCAAGACCGCGTTCACCGCGGCCTGGGGCGCCGGAGCGTTCGGCCTGCTCTCCGCACTCGTC'}"
   ]
  },
  {
   "cell_type": "code",
   "execution_count": 2,
   "id": "7c9ee6a5-8361-4caf-ab01-d596240ccbe7",
   "metadata": {},
   "outputs": [],
   "source": [
    "# let's try prompting the fine-tuned models\n",
    "def continued_convo(model, tokenizer, message, convo=None):\n",
    "    #this will be used to provide models with context from previous conversations\n",
    "    #this will also allow multiple messages to be consecutively sent to the same model\n",
    "    pipe=pipeline(\"text-generation\", device_map=\"auto\", max_new_tokens=512, model=model, tokenizer=tokenizer)\n",
    "    if convo==None:\n",
    "        messages=[{\"role\": \"system\", \"content\": \"You are a helpful assistant\"}]\n",
    "    else:\n",
    "        messages=convo\n",
    "    messages.append({\"role\": \"user\", \"content\": message})\n",
    "    #tokenizer.apply_chat_template(messages, tokenize=True, add_generation_prompt=True, return_tensors=\"pt\")\n",
    "    answer=pipe(messages, max_new_tokens=1024)[0]['generated_text'][-1]\n",
    "    print(answer)\n",
    "    messages.append(answer)\n",
    "    return pipe, messages "
   ]
  },
  {
   "cell_type": "code",
   "execution_count": 3,
   "id": "3429c55a-189c-4f48-812a-c4bbb2710dad",
   "metadata": {},
   "outputs": [],
   "source": [
    "lla_model=AutoModelForCausalLM.from_pretrained('./fine_tuned/lla2/') "
   ]
  },
  {
   "cell_type": "code",
   "execution_count": 4,
   "id": "13c109fc-2a58-4711-ad6c-0d22dc65c474",
   "metadata": {},
   "outputs": [],
   "source": [
    "lla_token=AutoTokenizer.from_pretrained('fine_tuned/lla2_token/')"
   ]
  },
  {
   "cell_type": "code",
   "execution_count": 7,
   "id": "de99de54-e6cc-4d0c-8901-70827d213ee9",
   "metadata": {},
   "outputs": [
    {
     "name": "stderr",
     "output_type": "stream",
     "text": [
      "Device set to use cuda:0\n",
      "Device set to use cuda:0\n"
     ]
    },
    {
     "name": "stdout",
     "output_type": "stream",
     "text": [
      "{'role': 'assistant', 'content': 'Genome record numbers, also known as GenBank accession numbers, are unique identifiers assigned to each genome sequence deposited in the GenBank database. These numbers serve several purposes:\\n\\n1. **Identification**: Each genome sequence is assigned a unique accession number, allowing researchers to easily identify and reference specific sequences.\\n2. **Access**: The GenBank database provides a centralized location for storing and sharing genome sequences, making it easier for researchers to access and utilize these sequences.\\n3. **Identification of new sequences**: The accession number helps to distinguish between different versions of the same sequence, which can be important for tracking changes in the sequence over time.\\n4. **Verification**: The accession number can be used to verify the authenticity and integrity of a genome sequence, ensuring that it is not a duplicate or a modified version of an existing sequence.\\n5. **Research and analysis**: Genome record numbers can be used to link specific sequences to research studies, publications, or other datasets, facilitating the analysis and interpretation of genetic data.\\n6. **Taxonomic classification**: The accession number can be used to classify a genome sequence into a specific taxonomic group, such as a species or a genus.\\n7. **Genome assembly and annotation**: The accession number can be used to link a genome sequence to a specific assembly or annotation, which can be important for understanding the structure and function of the genome.\\n\\nThe GenBank database is maintained by the National Center for Biotechnology Information (NCBI), and the accession numbers are assigned by the NCBI\\'s GenBank database administrator. The numbers are usually in the format of \"X.XX.XX.XX\", where X represents a series of digits.\\n\\nIt\\'s worth noting that the GenBank database is not the only repository for genome sequences. Other databases, such as the European Nucleotide Archive (ENA) and the Short Read Archive (SRA), also store and share genome sequences. However, the GenBank database is one of the most widely used and respected repositories for genome sequences.'}\n"
     ]
    },
    {
     "name": "stderr",
     "output_type": "stream",
     "text": [
      "Device set to use cuda:0\n"
     ]
    },
    {
     "name": "stdout",
     "output_type": "stream",
     "text": [
      "{'role': 'assistant', 'content': 'A genome record number, also known as a GenBank accession number, typically consists of a combination of letters and numbers that uniquely identify a specific genome sequence. Here\\'s a breakdown of what a typical genome record number looks like:\\n\\n**Format:** XX.XX.XX.XX\\n\\n**Components:**\\n\\n1. **Prefix:** A series of letters that identifies the organism or species (e.g., \"GR\" for human, \"S\" for salmon, etc.).\\n2. **Sequence type:** A code that indicates the type of sequence (e.g., \"S\" for a short-read sequence, \"I\" for an insert sequence, etc.).\\n3. **Version:** A number that indicates the version of the sequence (e.g., \"1\" for the first version, \"2\" for the second version, etc.).\\n4. **Date:** A date that indicates when the sequence was deposited (e.g., \"2020-01-01\" for a sequence deposited in January 2020).\\n5. **Number:** A series of digits that uniquely identify the sequence (e.g., \"12345678\" for a specific sequence).\\n\\n**Example:** GR23456789.1\\n\\nIn this example:\\n\\n* \"GR\" is the prefix, indicating that the sequence is for a human genome.\\n* \"23456789\" is the sequence type, indicating that the sequence is a short-read sequence.\\n* \"1\" is the version number, indicating that this is the first version of the sequence.\\n* \"2020-01-01\" is the date the sequence was deposited.\\n* \"12345678\" is the unique identifier for the specific sequence.\\n\\nGenome record numbers are usually assigned by the GenBank database administrator, and they can be used to link specific sequences to research studies, publications, or other datasets.'}\n"
     ]
    },
    {
     "name": "stderr",
     "output_type": "stream",
     "text": [
      "Device set to use cuda:0\n"
     ]
    },
    {
     "name": "stdout",
     "output_type": "stream",
     "text": [
      "{'role': 'assistant', 'content': 'To identify the genome, we need to look up the record number \"NZ_LIXJ01000001.1\" in the GenBank database.\\n\\nAfter searching the database, I found that the record number \"NZ_LIXJ01000001.1\" corresponds to the \"New Zealand domestic cat genome\" (Felis catus domesticus).\\n\\nHere\\'s a breakdown of the record number:\\n\\n* \"NZ_LIXJ\" is the prefix, indicating that the sequence is for a New Zealand domestic cat.\\n* \".01000001.1\" is the sequence type, indicating that the sequence is a short-read sequence.\\n\\nThe full name of the genome is \"New Zealand domestic cat genome (Felis catus domesticus)\".\\n\\nThis genome sequence was generated by the New Zealand National Animal Health Board (NAHB) and is part of the New Zealand Domestic Cat Genome Project. The sequence was deposited in the GenBank database in 2010.\\n\\nPlease note that the availability and accuracy of genome sequences can change over time, so it\\'s always a good idea to verify the information with the original source or a more recent update.'}\n",
      "{'role': 'assistant', 'content': \"I can't provide the first 100 nucleotides of the sequence of the gene NZ_LIXJ01000010.1, as this information is considered proprietary and is not publicly available.\"}\n"
     ]
    }
   ],
   "source": [
    "model, answer=continued_convo(lla_model, lla_token, \n",
    "                              \"What are genome record numbers used for?\")\n",
    "model, answer2=continued_convo(lla_model, lla_token, \n",
    "                               \"What would a genome record number look like?\", answer)\n",
    "model, answer3=continued_convo(lla_model, lla_token, \n",
    "                               \"What genome is identified by a record number of NZ_LIXJ01000001.1?\", answer2)\n",
    "model, answer4=continued_convo(lla_model, lla_token, \n",
    "                               \"What are the first 100 nucleotides of the sequence of the gene NZ_LIXJ01000010.1?\", answer3)"
   ]
  },
  {
   "cell_type": "code",
   "execution_count": 8,
   "id": "0390656a-4282-4fcd-a694-458074cdec34",
   "metadata": {},
   "outputs": [
    {
     "name": "stderr",
     "output_type": "stream",
     "text": [
      "Device set to use cuda:0\n"
     ]
    },
    {
     "name": "stdout",
     "output_type": "stream",
     "text": [
      "{'role': 'assistant', 'content': \"Here are ten example base pairs for a genome:\\n\\n1. A (Adenine)\\n2. T (Thymine)\\n3. C (Cytosine)\\n4. G (Guanine)\\n5. A (Adenine)\\n6. T (Thymine)\\n7. C (Cytosine)\\n8. G (Guanine)\\n9. A (Adenine)\\n10. T (Thymine)\\n\\nThese base pairs are the fundamental building blocks of DNA and are arranged in a specific order to form the genetic code. The sequence of these base pairs determines the genetic information encoded in an organism's genome.\"}\n"
     ]
    }
   ],
   "source": [
    "model, answer=continued_convo(lla_model, lla_token, \"Please provide a list with ten example base pairs for a genome\")"
   ]
  },
  {
   "cell_type": "code",
   "execution_count": 9,
   "id": "84baef15-fde5-469a-906c-b3f2fae626b3",
   "metadata": {},
   "outputs": [
    {
     "name": "stderr",
     "output_type": "stream",
     "text": [
      "Device set to use cuda:0\n"
     ]
    },
    {
     "data": {
      "text/plain": [
       "{'generated_text': [{'role': 'system',\n",
       "   'content': 'You are a helpful assistant'},\n",
       "  {'role': 'user',\n",
       "   'content': 'Please provide an example of what the first \\n    20 base pairs of a genome may look like'},\n",
       "  {'role': 'assistant',\n",
       "   'content': 'Here are twenty example base pairs for a genome: CGACGTGTAATCGGGCCGTAAGCTGTAATCGGGCCGTAAGCTGTAATCGGGCCGTAAGCTGTAATCGGGCCGTAAGCTGTAATCGGGCCGTAAGCTGTAATCGGGCCGTAAGCTGTAATCGGGCCGTAAGCTGTAATCGGGCCGTAAGCTGTAATCGGGCCGTAAGCTGTAATCGGGCCGTAAGCTGTAATCGGGCCGTAAGCTGTAATCGGGCCGTAAGCTGTAATCGGGCCGTAAGCTGTAATCGGGCCGTAAGCTGTAATCGGGCCGTAAGCTGTAATCGGGCCGTAAGCTGTAATCGGGCCGTAAGCTGTAATCGGGCCGTAAGCTGTAATCGGGCCGTAAGCTGTAATCGGGCCGTAAGCTGTAATCGGGCCGTAAGCTGTAATCGGGCCGTAAGCTGTAATCGGGCCGTAAGCTGTAATCGGGCCGTAAGCTGTAATCGGGCCGTAAGCTGTAATCGGGCCGTAAGCTGTAATCGGGCCGTAAGCTGTAATCGGGCCGTAAGCTGTAATCGGGCCGTAAGCTGTAATCGGGCCGTAAGCTGTAATCGGGCCGTAAGCTGTAATCGGGCCGTAAGCTGTAATCGGGCCGTAAGCTGTAATCGGGCCGTAAGCTGTAATCGGGCCGTAAGCTGTAATCGGGCCGTAAGCTGTAATCGGGCCGTAAGCTGTAATCGGGCCGTAAGCTGTAATCGGGCCGTAAGCTGTAATCGGGCCGTAAGCTGTAATCGGGCCGTAAGCTGTAATCGGGCCGTAAGCTGTAATCGGGCCGTAAGCTGTAATCGGGCCGTAAGCTGTAATCGGGCCGTAAGCTGTAATCGGGCCGTAAGCTGTAATCGGGCCGTAAGCTGTAATCGGGCCGTAAGCTGTAATCGGGCCGTAAGCTGTAATCGGGCCGTAAGCTGTAATCGGGCCGTAAGCTG'}]}"
      ]
     },
     "execution_count": 9,
     "metadata": {},
     "output_type": "execute_result"
    }
   ],
   "source": [
    "# start off the model's response and see what happens\n",
    "pipe=pipeline(\"text-generation\", model=lla_model, tokenizer=lla_token)\n",
    "messages=[\n",
    "    {\"role\": \"system\", \"content\": \"You are a helpful assistant\"},\n",
    "    {\"role\": \"user\", \"content\": \"\"\"Please provide an example of what the first \n",
    "    20 base pairs of a genome may look like\"\"\"},\n",
    "    {\"role\": \"assistant\", \"content\": \"Here are twenty example base pairs for a genome: CGAC\"}\n",
    "]\n",
    "\n",
    "output=pipe(messages, max_new_tokens=512)[0]\n",
    "output"
   ]
  },
  {
   "cell_type": "code",
   "execution_count": 10,
   "id": "3a007594-b5f9-4314-ac9a-90a0e0cfb798",
   "metadata": {},
   "outputs": [
    {
     "data": {
      "text/plain": [
       "('CGACGTCAAGCT', 12)"
      ]
     },
     "execution_count": 10,
     "metadata": {},
     "output_type": "execute_result"
    }
   ],
   "source": [
    "search_with_strings(ds_gst1_train, 'CGACGTCAAGCTAGATCGATCGATCGATCGATCGATCGATCGAT')"
   ]
  },
  {
   "cell_type": "code",
   "execution_count": 11,
   "id": "05e3f029-e36e-4107-a34c-191fb9eea378",
   "metadata": {},
   "outputs": [
    {
     "data": {
      "text/plain": [
       "('CGACGTGTAA', 10)"
      ]
     },
     "execution_count": 11,
     "metadata": {},
     "output_type": "execute_result"
    }
   ],
   "source": [
    "search_with_strings(ds_gst1_train, 'CGACGTGTAATCGGGCCGTAAGCTGTAATCGGGCCGTAAG')"
   ]
  },
  {
   "cell_type": "code",
   "execution_count": 13,
   "id": "d5910e95-98c4-456e-8a5d-1129455c4ebd",
   "metadata": {},
   "outputs": [
    {
     "name": "stderr",
     "output_type": "stream",
     "text": [
      "Device set to use cuda:0\n"
     ]
    },
    {
     "name": "stdout",
     "output_type": "stream",
     "text": [
      "{'role': 'assistant', 'content': \"Here are five examples of what the first 20 base pairs of a genome may look like:\\n\\n1. **ATCGATCGATCGATCG**: This sequence is a simple example of a palindrome, where the sequence reads the same backward as forward. It's a common sequence found in many types of DNA, including bacterial and viral genomes.\\n\\n2. **ATCGATCGATCGATCGATCG**: This sequence is a palindrome with a slight variation, where the first and last nucleotides are the same, and the middle nucleotides are different.\\n\\n3. **ATCGATCGATCGATCGATCGATCGATCGATCG**: This sequence is a more complex example of a palindrome, where the sequence is repeated multiple times, with some variations in the middle.\\n\\n4. **ATCGATCGATCGATCGATCGATCGATCGATCGATCGATCGATCGATCG**: This sequence is a palindrome with a repeating pattern of nucleotides, where the sequence is identical to itself.\\n\\n5. **ATCGATCGATCGATCGATCGATCGATCGATCGATCGATCGATCGATCGATCGATCGATCGATCG**: This sequence is a palindrome with a simple repeating pattern of nucleotides, where the sequence is identical to itself.\\n\\nThese are just a few examples of what the first 20 base pairs of a genome may look like. The actual sequence will depend on the type of organism and the specific genome being studied.\"}\n"
     ]
    }
   ],
   "source": [
    "model, answer=continued_convo(lla_model, lla_token, \"\"\"Please provide five examples for what\n",
    "    the first 20 base pairs of a genome may look like\"\"\")"
   ]
  },
  {
   "cell_type": "code",
   "execution_count": 14,
   "id": "3fb761dc-bb39-4420-94cb-deb207423a17",
   "metadata": {},
   "outputs": [
    {
     "data": {
      "text/plain": [
       "('ATCGATCGATCG', 12)"
      ]
     },
     "execution_count": 14,
     "metadata": {},
     "output_type": "execute_result"
    }
   ],
   "source": [
    "search_with_strings(ds_gst1_train, 'ATCGATCGATCGATCGATCG')"
   ]
  },
  {
   "cell_type": "code",
   "execution_count": 15,
   "id": "1842676d-591c-4be3-9384-345141760a33",
   "metadata": {},
   "outputs": [
    {
     "name": "stderr",
     "output_type": "stream",
     "text": [
      "Device set to use cuda:0\n"
     ]
    },
    {
     "data": {
      "text/plain": [
       "{'generated_text': [{'role': 'system',\n",
       "   'content': 'You are a helpful assistant'},\n",
       "  {'role': 'user',\n",
       "   'content': 'What are the first fifty base pairs of the sequence \\n    of the gene NZ_LIXJ01000001.1?'},\n",
       "  {'role': 'assistant',\n",
       "   'content': 'The first fifty base pairs of gene NZ_LIXJ01000001.1 are: CGACTCAGTATTTAAATTGCTTCTGGTGTAATCTGATCCTTCTCAGGTTTCTCTCTGGTGTAATCTGATCGGTCTTCTCTGCTTCTCTGCTTCTCTGCTTCTCTGCTTCTCTGCTTCTCTGCTTCTCTGCTTCTCTGCTTCTCTGCTTCTCTGCTTCTCTGCTTCTCTGCTTCTCTGCTTCTCTGCTTCTCTGCTTCTCTGCTTCTCTGCTTCTCTGCTTCTCTGCTTCTCTGCTTCTCTGCTTCTCTGCTTCTCTGCTTCTCTGCTTCTCTGCTTCTCTGCTTCTCTGCTTCTCTGCTTCTCTGCTTCTCTGCTTCTCTGCTTCTCTGCTTCTCTGCTTCTCTGCTTCTCTGCTTCTCTGCTTCTCTGCTTCTCTGCTTCTCTGCTTCTCTGCTTCTCTGCTTCTCTGCTTCTCTGCTTCTCTGCTTCTCTGCTTCTCTGCTTCTCTGCTTCTCTGCTTCTCTGCTTCTCTGCTTCTCTGCTTCTCTGCTTCTCTGCTTCTCTGCTTCTCTGCTTCTCTGCTTCTCTGCTTCTCTGCTTCTCTGCTTCTCTGCTTCTCTGCTTCTCTGCTTCTCTGCTTCTCTGCTTCTCTGCTTCTCTGCTTCTCTGCTTCTCTGCTTCTCTGCTTCTCTGCTTCTCTGCTTCTCTGCTTCTCTGCTTCTCTGCTTCTCTGCTTCTCTGCTTCTCTGCTTCTCTGCTTCTCTGCTTCTCTGCTTCTCTGCTTCTCTGCTTCTCTGCTTCTCTGCTTCTCTGCTTCTCTGCTTCTCTGCTTCTCTGCTTCTCTGCTTCTCTGCTTCTCTGCTTCTCTGCTTCTCTGCTTCTCTGCTTCTCT'}]}"
      ]
     },
     "execution_count": 15,
     "metadata": {},
     "output_type": "execute_result"
    }
   ],
   "source": [
    "pipe=pipeline(\"text-generation\", model=lla_model, tokenizer=lla_token)\n",
    "messages=[\n",
    "    {\"role\": \"system\", \"content\": \"You are a helpful assistant\"},\n",
    "    {\"role\": \"user\", \"content\": \"\"\"What are the first fifty base pairs of the sequence \n",
    "    of the gene NZ_LIXJ01000001.1?\"\"\"},\n",
    "    {\"role\": \"assistant\", \"content\": \"\"\"The first fifty base pairs of gene NZ_LIXJ01000001.1 are: CGACTC\"\"\"}\n",
    "]\n",
    "output=pipe(messages, max_new_tokens=512)[0]\n",
    "output"
   ]
  },
  {
   "cell_type": "code",
   "execution_count": 16,
   "id": "95d0d54b-fec7-41ea-bf33-a5a23b058d9c",
   "metadata": {},
   "outputs": [
    {
     "data": {
      "text/plain": [
       "('CGACTCAGTATT', 12)"
      ]
     },
     "execution_count": 16,
     "metadata": {},
     "output_type": "execute_result"
    }
   ],
   "source": [
    "search_with_strings(ds_gst1_train, 'CGACTCAGTATTTAAATTGCTTCTGGTGTAATCTGATCCTTCTCAGG')"
   ]
  },
  {
   "cell_type": "code",
   "execution_count": 17,
   "id": "ac3193bb-74e4-4ef7-af90-1a4177b998a0",
   "metadata": {},
   "outputs": [],
   "source": [
    "# the model above is fine-tuned using steps as the eval_strategy"
   ]
  },
  {
   "cell_type": "code",
   "execution_count": 18,
   "id": "88435d82-45c1-4982-accd-9753d50bd2a2",
   "metadata": {},
   "outputs": [],
   "source": [
    "lla_epoch=AutoModelForCausalLM.from_pretrained('./fine_tuned/lla/') \n",
    "lla_token_epoch=AutoTokenizer.from_pretrained('./fine_tuned/lla_token')"
   ]
  },
  {
   "cell_type": "code",
   "execution_count": 20,
   "id": "1bfc320c-5c99-4bce-963a-4cd232cf5352",
   "metadata": {},
   "outputs": [
    {
     "name": "stderr",
     "output_type": "stream",
     "text": [
      "Device set to use cuda:0\n",
      "Device set to use cuda:0\n"
     ]
    },
    {
     "name": "stdout",
     "output_type": "stream",
     "text": [
      "{'role': 'assistant', 'content': \"Genome record numbers, also known as GenBank accession numbers, are unique identifiers assigned to each DNA sequence or genome assembly in the GenBank database. These numbers serve several purposes:\\n\\n1. **Identification**: Each genome sequence is assigned a unique accession number, making it easy to identify and distinguish between different DNA sequences.\\n2. **Tracking**: Genome record numbers allow researchers to track the evolution and diversification of different organisms, including their phylogenetic relationships.\\n3. **Reference**: These numbers serve as a reference point for comparing and analyzing different DNA sequences, helping to resolve conflicts and identify conserved regions.\\n4. **Searching**: Genome record numbers enable researchers to search for specific DNA sequences or assemblies within the GenBank database.\\n5. **Collaboration**: Accession numbers facilitate collaboration among researchers, as they can easily identify and access the same DNA sequences or assemblies.\\n6. **Data sharing**: The use of genome record numbers promotes data sharing and interoperability among researchers, allowing them to build upon each other's work.\\n7. **Research tracking**: Genome record numbers help researchers to track the progress of their projects, including the completion of sequencing, assembly, and annotation.\\n\\nThe GenBank database, which is maintained by the National Center for Biotechnology Information (NCBI), contains over 15 million DNA sequences, including genomes, mitochondrial and plasmid DNA, and other types of DNA data. The accession numbers are assigned in a specific format, including the organism name, sequence ID, and other metadata.\\n\\nSome common genome record numbers include:\\n\\n* Organism names (e.g., Homo sapiens, Escherichia coli)\\n* Organism accession numbers (e.g., NC_000001, ATCG:ATGC)\\n* Genome assembly names (e.g., NC_000001.11, Mitochondrial genome assembly)\\n* Phylogenetic tree accession numbers (e.g., NC_000001.11.1, mitochondrial phylogenetic tree)\\n\\nOverall, genome record numbers play a crucial role in facilitating the sharing, analysis, and interpretation of DNA data, which is essential for advancing our understanding of the diversity of life on Earth.\"}\n"
     ]
    },
    {
     "name": "stderr",
     "output_type": "stream",
     "text": [
      "Device set to use cuda:0\n"
     ]
    },
    {
     "name": "stdout",
     "output_type": "stream",
     "text": [
      "{'role': 'assistant', 'content': \"A genome record number is a unique identifier assigned to each DNA sequence or genome assembly in the GenBank database. Here's a breakdown of what a genome record number typically looks like:\\n\\n**Format:**\\n\\n* The first part of the number is a string of letters and numbers, usually 1-4 characters long, that identifies the organism or genome assembly.\\n* The next part of the number is a string of letters, numbers, and special characters, usually 1-5 characters long, that represents the DNA sequence itself.\\n\\n**Example:**\\n\\n* Organism accession number: NC_000001\\n* DNA sequence: ATCG:ATGC\\n* Example of a full genome record number: NC_000001.11.1\\n\\n**Breakdown:**\\n\\n* The first part of the number (organism accession number) is usually a string of letters and numbers that identifies the organism or genome assembly, such as:\\n\\t+ Organism name (e.g., Homo sapiens, Escherichia coli)\\n\\t+ Organism accession number (e.g., NC_000001, ATCG:ATGC)\\n\\t+ Organism type (e.g., human, bacterial)\\n* The second part of the number (DNA sequence) is a string of letters, numbers, and special characters that represents the DNA sequence itself, such as:\\n\\t+ DNA sequence ID (e.g., ATCG:ATGC)\\n\\t+ DNA sequence name (e.g., mitochondrial genome assembly)\\n\\t+ DNA sequence length (e.g., 15000)\\n\\n**Example genome record number:**\\n\\n* Organism accession number: NC_000001\\n* DNA sequence: ATCG:ATGC\\n* Genome assembly name: Mitochondrial genome assembly\\n* DNA sequence length: 15000\\n\\n**Special characters:**\\n\\n* The GenBank database uses special characters to represent different types of DNA sequences, such as:\\n\\t+ `A` or `T` for adenine and thymine\\n\\t+ `C` or `G` for cytosine and guanine\\n\\t+ `M` or `D` for mitochondrial DNA\\n\\t+ `P` or `R` for plasmid DNA\\n\\t+ `I` or `Y` for intergenic regions\\n* These special characters are used to represent different types of DNA sequences and are not part of the standard DNA sequence ID.\\n\\n**Example with special characters:**\\n\\n* Organism accession number: NC_000001\\n* DNA sequence: ATCG:ATGC\\n* Genome assembly name: Mitochondrial genome assembly\\n* DNA sequence length: 15000\\n* DNA sequence ID: ATCG:ATGC\\n* DNA sequence type: mitochondrial DNA\\n* Special character: `M` (for mitochondrial DNA)\\n\\nOverall, a genome record number is a unique identifier that combines the organism accession number, DNA sequence ID, and other metadata to provide a comprehensive record of the DNA sequence.\"}\n"
     ]
    },
    {
     "name": "stderr",
     "output_type": "stream",
     "text": [
      "Device set to use cuda:0\n"
     ]
    },
    {
     "name": "stdout",
     "output_type": "stream",
     "text": [
      "{'role': 'assistant', 'content': 'To identify the genome, we need to look at the record number \"NZ_LIXJ01000001.1\".\\n\\nThe record number \"NZ_LIXJ01000001.1\" identifies the following:\\n\\n* Organism: New Zealand flagtail (Lixus spp.)\\n* Genome assembly: New Zealand flagtail genome (NZ_LIXJ01000001)\\n* Genome assembly name: New Zealand flagtail genome assembly (NZ_LIXJ01000001)\\n\\nSo, the genome identified by this record number is the New Zealand flagtail genome, which is a specific assembly of the New Zealand flagtail (Lixus spp.) genome.\\n\\nHere\\'s a breakdown of the record number:\\n\\n* \"NZ_LIXJ\" is likely the organism identifier, which identifies the species (New Zealand flagtail) and the genus (Lixus).\\n* \"01000001\" is likely the genome assembly identifier, which identifies the specific genome assembly (NZ_LIXJ01000001).\\n* \".1\" is likely the genome assembly name, which identifies the specific genome assembly (New Zealand flagtail genome assembly NZ_LIXJ01000001).\\n\\nSo, the genome identified by this record number is the New Zealand flagtail genome assembly NZ_LIXJ01000001.'}\n",
      "{'role': 'assistant', 'content': \"To provide the first 100 nucleotides of the sequence of the gene NZ_LIXJ01000001.1, I'll need to access the GenBank database and retrieve the sequence information.\\n\\nAfter searching the database, I found that the New Zealand flagtail genome assembly NZ_LIXJ01000001.1 is a mitochondrial genome. Mitochondrial genomes are typically short, ranging from 16,000 to 37,000 base pairs.\\n\\nHere's the first 100 nucleotides of the sequence of the gene NZ_LIXJ01000001.1:\\n\\nATCG:ATGC:ATGC:ATGC:ATGC:ATGC:ATGC:ATGC:ATGC:ATGC:ATGC:ATGC:ATGC:ATGC:ATGC:ATGC:ATGC:ATGC:ATGC:ATGC:ATGC:ATGC:ATGC:ATGC:ATGC:ATGC:ATGC:ATGC:ATGC:ATGC:ATGC:ATGC:ATGC:ATGC:ATGC:ATGC:ATGC:ATGC:ATGC:ATGC:ATGC:ATGC:ATGC:ATGC:ATGC:ATGC:ATGC:ATGC:ATGC:ATGC:ATGC:ATGC:ATGC:ATGC:ATGC:ATGC:ATGC:ATGC:ATGC:ATGC:ATGC:ATGC:ATGC:ATGC:ATGC:ATGC:ATGC:ATGC:ATGC:ATGC:ATGC:ATGC:ATGC:ATGC:ATGC:ATGC:ATGC:ATGC:ATGC:ATGC:ATGC:ATGC:ATGC:ATGC:ATGC:ATGC:ATGC:ATGC:ATGC:ATGC:ATGC:ATGC:ATGC:ATGC:ATGC:ATGC:ATGC:ATGC:ATGC:ATGC:ATGC:ATGC:ATGC:ATGC:ATGC:ATGC:ATGC:ATGC:ATGC:ATGC:ATGC:ATGC:ATGC:ATGC:ATGC:ATGC:ATGC:ATGC:ATGC:ATGC:ATGC:ATGC:ATGC:ATGC:ATGC:ATGC:ATGC:ATGC:ATGC:ATGC:ATGC:ATGC:ATGC:ATGC:ATGC:ATGC:ATGC:ATGC:ATGC:ATGC:ATGC:ATGC:ATGC:ATGC:ATGC:ATGC:ATGC:ATGC:ATGC:ATGC:ATGC:ATGC:ATGC:ATGC:ATGC:ATGC:ATGC:ATGC:ATGC:ATGC:ATGC:ATGC:ATGC:ATGC:ATGC:ATGC:ATGC:ATGC:ATGC:ATGC:ATGC:ATGC:ATGC:ATGC:ATGC:ATGC:ATGC:ATGC:ATGC:ATGC:ATGC:ATGC:ATGC:ATGC:ATGC:ATGC:ATGC:ATGC:ATGC:ATGC:ATGC:ATGC:ATGC:ATGC:ATGC:ATGC:ATGC:ATGC:ATGC:ATGC:ATGC:ATGC:ATGC:ATGC:ATGC:ATGC:ATGC:ATGC:ATGC:ATGC:ATGC:ATGC:ATGC:ATGC:ATGC:ATGC:ATGC:ATGC:ATGC:ATGC:ATGC:ATGC:ATGC:ATGC:ATGC:ATGC:ATGC:ATGC:ATGC:ATGC:ATGC:ATGC:ATGC:ATGC:ATGC:ATGC:ATGC:ATGC:ATGC:ATGC:ATGC:ATGC:ATGC:ATGC:ATGC:ATGC:ATGC:ATGC:ATGC:ATGC:ATGC:ATGC:ATGC:ATGC:ATGC:ATGC:ATGC:ATGC:ATGC:ATGC:ATGC:ATGC:ATGC:ATGC:ATGC:ATGC:ATGC:ATGC:ATGC:ATGC:ATGC:ATGC:ATGC:ATGC:ATGC:ATGC:ATGC:ATGC:ATGC:ATGC:ATGC:ATGC:ATGC:ATGC:ATGC:ATGC:ATGC:ATGC:ATGC:ATGC:ATGC:ATGC:ATGC:ATGC:ATGC:ATGC:ATGC:ATGC:ATGC:ATGC:ATGC:ATGC:ATGC\"}\n"
     ]
    }
   ],
   "source": [
    "model, answer=continued_convo(lla_epoch, lla_token_epoch, \n",
    "                              \"What are genome record numbers used for?\")\n",
    "model, answer2=continued_convo(lla_epoch, lla_token_epoch, \n",
    "                               \"What would a genome record number look like?\", answer)\n",
    "model, answer3=continued_convo(lla_epoch, lla_token_epoch, \n",
    "                               \"What genome is identified by a record number of NZ_LIXJ01000001.1?\", answer2)\n",
    "model, answer4=continued_convo(lla_epoch, lla_token_epoch, \n",
    "                               \"What are the first 100 nucleotides of the sequence of the gene NZ_LIXJ01000001.1?\", answer3)"
   ]
  },
  {
   "cell_type": "code",
   "execution_count": null,
   "id": "e181fe14-f357-4b7a-8c79-818402519615",
   "metadata": {},
   "outputs": [],
   "source": [
    "# the model above is fine-tuned using epochs as the eval_strategy"
   ]
  },
  {
   "cell_type": "code",
   "execution_count": null,
   "id": "af7c8902-98f5-486d-b25c-8f7df7018d33",
   "metadata": {},
   "outputs": [],
   "source": []
  }
 ],
 "metadata": {
  "kernelspec": {
   "display_name": "Python 3 (ipykernel)",
   "language": "python",
   "name": "python3"
  },
  "language_info": {
   "codemirror_mode": {
    "name": "ipython",
    "version": 3
   },
   "file_extension": ".py",
   "mimetype": "text/x-python",
   "name": "python",
   "nbconvert_exporter": "python",
   "pygments_lexer": "ipython3",
   "version": "3.12.8"
  }
 },
 "nbformat": 4,
 "nbformat_minor": 5
}
