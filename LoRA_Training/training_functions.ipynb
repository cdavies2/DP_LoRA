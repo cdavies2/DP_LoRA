{
 "cells": [
  {
   "cell_type": "code",
   "execution_count": 1,
   "id": "fa46d3d5-d470-42e3-bdf8-f7bf62cee8bf",
   "metadata": {},
   "outputs": [
    {
     "name": "stderr",
     "output_type": "stream",
     "text": [
      "/home/ac.cdavies/.vnv/lib/python3.12/site-packages/tqdm/auto.py:21: TqdmWarning: IProgress not found. Please update jupyter and ipywidgets. See https://ipywidgets.readthedocs.io/en/stable/user_install.html\n",
      "  from .autonotebook import tqdm as notebook_tqdm\n",
      "2025-04-04 16:58:09.896000: E external/local_xla/xla/stream_executor/cuda/cuda_fft.cc:467] Unable to register cuFFT factory: Attempting to register factory for plugin cuFFT when one has already been registered\n",
      "WARNING: All log messages before absl::InitializeLog() is called are written to STDERR\n",
      "E0000 00:00:1743785889.910222  694204 cuda_dnn.cc:8579] Unable to register cuDNN factory: Attempting to register factory for plugin cuDNN when one has already been registered\n",
      "E0000 00:00:1743785889.914445  694204 cuda_blas.cc:1407] Unable to register cuBLAS factory: Attempting to register factory for plugin cuBLAS when one has already been registered\n",
      "W0000 00:00:1743785889.926804  694204 computation_placer.cc:177] computation placer already registered. Please check linkage and avoid linking the same target more than once.\n",
      "W0000 00:00:1743785889.926819  694204 computation_placer.cc:177] computation placer already registered. Please check linkage and avoid linking the same target more than once.\n",
      "W0000 00:00:1743785889.926822  694204 computation_placer.cc:177] computation placer already registered. Please check linkage and avoid linking the same target more than once.\n",
      "W0000 00:00:1743785889.926825  694204 computation_placer.cc:177] computation placer already registered. Please check linkage and avoid linking the same target more than once.\n",
      "2025-04-04 16:58:09.931334: I tensorflow/core/platform/cpu_feature_guard.cc:210] This TensorFlow binary is optimized to use available CPU instructions in performance-critical operations.\n",
      "To enable the following instructions: AVX2 FMA, in other operations, rebuild TensorFlow with the appropriate compiler flags.\n"
     ]
    }
   ],
   "source": [
    "import accelerate\n",
    "import datasets\n",
    "import evaluate\n",
    "import math\n",
    "import numpy as np\n",
    "import peft\n",
    "import pickle\n",
    "import pytest, ipytest\n",
    "ipytest.autoconfig()\n",
    "import pandas as pd\n",
    "import transformers\n",
    "\n",
    "from datasets import(\n",
    "    load_dataset, \n",
    "    load_dataset_builder,\n",
    "    get_dataset_split_names,\n",
    "    get_dataset_config_names,\n",
    ")\n",
    "\n",
    "\n",
    "from peft import(\n",
    "    LoftQConfig,\n",
    "    LoraConfig,\n",
    "    get_peft_model,\n",
    ")\n",
    "\n",
    "from transformers import(\n",
    "    AutoModelForCausalLM,\n",
    "    AutoTokenizer,\n",
    "    TrainingArguments,\n",
    "    Trainer\n",
    ")\n",
    "from trl import SFTTrainer, SFTConfig\n",
    "# allows fast processing of datasets"
   ]
  },
  {
   "cell_type": "code",
   "execution_count": 2,
   "id": "5ea9e182-2e37-457f-a665-9b05ec312d16",
   "metadata": {},
   "outputs": [],
   "source": [
    "def model_from_pkl(model):\n",
    "    with open(\"pkl_files/\" + model + \".pkl\", \"rb\") as f:\n",
    "        pkl_model=pickle.load(f)\n",
    "    model_name=pkl_model[\"model_name\"]\n",
    "    tokenizer=pkl_model[\"tokenizer\"]\n",
    "    tokenizer.pad_token=tokenizer.eos_token\n",
    "    return model_name, tokenizer"
   ]
  },
  {
   "cell_type": "code",
   "execution_count": 11,
   "id": "a28d6612-3d4f-4ec3-97a8-fe3bfbbb64bc",
   "metadata": {},
   "outputs": [
    {
     "name": "stderr",
     "output_type": "stream",
     "text": [
      "Using the latest cached version of the dataset since LongSafari/open-genome couldn't be found on the Hugging Face Hub\n",
      "Found the latest cached dataset configuration 'stage1' at /home/ac.cdavies/.cache/huggingface/datasets/LongSafari___open-genome/stage1/0.0.0/84369c058d192dcb607086d71679b877421e3250 (last modified on Fri Apr  4 15:23:06 2025).\n"
     ]
    },
    {
     "name": "stdout",
     "output_type": "stream",
     "text": [
      "['train', 'validation', 'test']\n",
      "['train', 'validation', 'test']\n"
     ]
    }
   ],
   "source": [
    "ds_gst1_train=load_dataset(\"LongSafari/open-genome\", \"stage1\", split=\"train[:500]\")\n",
    "#print(ds_gst1[50])\n",
    "ds_gst1_test=load_dataset(\"LongSafari/open-genome\", \"stage1\", split=\"test[:50]\")\n",
    "print(get_dataset_split_names(\"LongSafari/open-genome\", \"stage1\"))\n",
    "ds_gst2_train=load_dataset(\"LongSafari/open-genome\", \"stage2\", split=\"train[:500]\")\n",
    "ds_gst2_test=load_dataset(\"LongSafari/open-genome\", \"stage2\", split=\"test[:50]\")\n",
    "print(get_dataset_split_names(\"LongSafari/open-genome\", \"stage2\"))"
   ]
  },
  {
   "cell_type": "code",
   "execution_count": 3,
   "id": "d9b2d2de-1d6b-4f47-b3e5-7057b0734060",
   "metadata": {},
   "outputs": [],
   "source": [
    "# perform preprocessing on the genomic data\n",
    "def map_data(data, model, tokenizer):\n",
    "    def tokenize_l_function(examples):\n",
    "        return tokenizer(examples[\"text\"], padding=\"max_length\", truncation=True)\n",
    "    def tokenize_m_function(examples):\n",
    "        return tokenizer(examples[\"text\"], padding=\"max_length\", truncation=True, max_length=1024)\n",
    "        \n",
    "    if type(model)==transformers.models.llama.modeling_llama.LlamaForCausalLM:\n",
    "        tokenized_dataset=data.map(tokenize_l_function, batched=True)\n",
    "    else:\n",
    "        tokenized_dataset=data.map(tokenize_m_function, batched=True)\n",
    "    return tokenized_dataset"
   ]
  },
  {
   "cell_type": "code",
   "execution_count": 4,
   "id": "3967fa6a-ab17-4ffb-a6f0-8cc02249908a",
   "metadata": {},
   "outputs": [],
   "source": [
    "# before loading in the base model with LoRA, might be good to define a helper function\n",
    "# this looks at the total parameters a model has, and how many are trainable\n",
    "def print_trainable_parameters(model):\n",
    "    \"\"\"\n",
    "    Prints the number of trainable parameters in the model.\n",
    "    \"\"\"\n",
    "    trainable_params = 0\n",
    "    all_param = 0\n",
    "    for _, param in model.named_parameters():\n",
    "        all_param += param.numel()\n",
    "        if param.requires_grad:\n",
    "            trainable_params += param.numel()\n",
    "    print(\n",
    "        f\"trainable params: {trainable_params} || all params: {all_param} || trainable%: {100 * trainable_params / all_param:.2f}\"\n",
    "    )"
   ]
  },
  {
   "cell_type": "code",
   "execution_count": 5,
   "id": "5ab172ae-496b-4c73-a81f-5703e3e1e4d0",
   "metadata": {},
   "outputs": [],
   "source": [
    "# A trainer needs to be passed a function from the Evaluate library (specifically the accuracy function) to compute and report metrics\n",
    "metric=evaluate.load(\"accuracy\")"
   ]
  },
  {
   "cell_type": "code",
   "execution_count": 6,
   "id": "50967bf5-9c4e-4302-8a12-68344956f9d5",
   "metadata": {},
   "outputs": [],
   "source": [
    "# the compute_metrics method will calculate prediction accuracy\n",
    "comp_metrics_output=[]\n",
    "def compute_metrics(eval_pred):\n",
    "    logits=eval_pred.predictions\n",
    "    refs=eval_pred.label_ids\n",
    "    log_32=logits.astype(np.int32)\n",
    "    log_32=np.concatenate(log_32).tolist()\n",
    "    ref_32=refs.astype(np.int32)\n",
    "    ref_32=np.concatenate(ref_32).tolist()\n",
    "    predictions = np.argmax(log_32, axis=-1)\n",
    "    met=metric.compute(predictions=predictions, references=ref_32)\n",
    "    comp_metrics_output.append(met)\n",
    "    return met\n",
    "    # this lets us convert logits (returned by models) into predictions\n",
    "    # np.argmax returns the indices of the maximum values along the axis of an array\n",
    "    # axis=-1 means it looks at the last axis in the array\n",
    "    # metric.compute gathers all cached predictions and references to compute the metric score"
   ]
  },
  {
   "cell_type": "code",
   "execution_count": 7,
   "id": "cc454d75-cc2c-4c42-9613-f3879b0d0f07",
   "metadata": {},
   "outputs": [],
   "source": [
    "# the trainer object specifies the model, training arguments, training and test datasets, and evaluation function\n",
    "def make_trainer(m_model, train_data, test_data, config, args):\n",
    "    trainer=SFTTrainer(\n",
    "        model=m_model,\n",
    "        train_dataset=train_data,\n",
    "        eval_dataset=test_data,\n",
    "        peft_config=config,\n",
    "        args=args,\n",
    "        compute_metrics=compute_metrics,\n",
    "        )\n",
    "    return trainer\n",
    "    \n",
    "# SFTTrainer is best used for training with a pre-trained model and a smaller dataset\n",
    "# It can be better suited for fine-tuning than regular Trainer"
   ]
  },
  {
   "cell_type": "markdown",
   "id": "be805380-d3cc-41b1-b8ad-4de12e09e001",
   "metadata": {},
   "source": [
    "## Training Loss\n",
    "* Measures how well the models are performing on the training data, used to update parameters, decreases as model learns\n",
    "* Too low means model may have overfit\n",
    "## Validation Loss\n",
    "* Measures how well the model is performing on the separate validation set (the test set in this case)\n",
    "* Shows how well model generalizes to data it hasn't seen, if this increases while training loss decreases, there is overfitting\n",
    "## Accuracy\n",
    "* How often a correct outcome is predicted"
   ]
  },
  {
   "cell_type": "code",
   "execution_count": 8,
   "id": "abcbb57d-51dd-44d0-a40d-dc4a6b211da9",
   "metadata": {},
   "outputs": [],
   "source": [
    "def get_dataframe(training_output: list, strategy):\n",
    "    df=pd.DataFrame(training_output) # convert the imported list of dictionaries to a DataFrame\n",
    "    df.index=df[strategy] # the index of the dataframe is whatever evaluation strategy was used\n",
    "    df=df.drop([strategy], axis=1) # drop one column so there aren't two step/epoch columns\n",
    "    df.plot(y=0, xlabel=strategy, ylabel=\"Training Loss\", title=\"Fine-Tuning Training Evaluation\") # plot training loss\n",
    "    df.plot(y=1, xlabel=strategy, ylabel=\"Validation Loss\", title=\"Fine-Tuning Validation Evaluation\") # plot validation loss\n",
    "    df.plot(y=2, xlabel=strategy, ylabel=\"Accuracy\", title=\"Fine-Tuning Accuracy Evaluation\") # plot accuracy\n",
    "    #for all of the above plots, the evaluation strategy (the index) is the x-axis value\n",
    "    return df"
   ]
  },
  {
   "cell_type": "code",
   "execution_count": 9,
   "id": "0e19e29a-e5e9-42a1-91e5-7aa75bbe8277",
   "metadata": {},
   "outputs": [],
   "source": [
    "def get_training_output(trainer, keys: list):\n",
    "    trainer_info=[]\n",
    "    temp_dict={}\n",
    "    logs=trainer.state.log_history # get the logs from model training, these show training loss, accuracy, etc\n",
    "    strat=trainer.args.eval_strategy.value # was this evaluated at steps or epochs\n",
    "    def check_eval(strat, log):\n",
    "        condition=False\n",
    "        state=0\n",
    "        if (strat=='epoch'):\n",
    "            condition= log['epoch'].is_integer() \n",
    "            state=log['epoch'] # save the epoch number\n",
    "            # if evaluated at epochs, extract data at the points where epochs are whole numbers\n",
    "        elif (strat=='steps'):\n",
    "            val=math.floor(log['step']) # use floor to convert the floating point step to an integer\n",
    "            condition = val%trainer.args.logging_steps==0\n",
    "            state=val # save the step number\n",
    "            # if evaluated at steps, evaluate at the point where the number of steps divides evenly by the training interval\n",
    "        return condition, state\n",
    "        \n",
    "    for log in logs: # loop through training logs\n",
    "        condition, state=check_eval(strat, log)\n",
    "        if not (condition): # check the appropriate condition based on evaluation strategy\n",
    "            continue # whenever the condition isn't true, restart the loop\n",
    "        for key in keys: # look at all the keys (usually training loss, validation loss, and accuracy)\n",
    "            if key in log:\n",
    "                temp_dict[key]=log[key] # at the value tied to each key to a placeholder dictionary\n",
    "        if key in temp_dict: # if a key is already in the dictionary (you've found a value for a different step/epoch)\n",
    "            temp_dict[strat]=state # add the corresponding step/epoch number to the temp dictionary\n",
    "            trainer_info.append(temp_dict) # add the temp dictionary to the list with training information\n",
    "            temp_dict={} # clear the temp dictionary, new values with the same keys as the last can now be added\n",
    "    training_output=get_dataframe(trainer_info, strat) # run this method to convert the list of dicts to a dataframe\n",
    "    return training_output #return the dataframe"
   ]
  },
  {
   "cell_type": "code",
   "execution_count": 10,
   "id": "3f3dc233-eebc-4089-a4bd-b66d34fa4ae5",
   "metadata": {},
   "outputs": [
    {
     "name": "stdout",
     "output_type": "stream",
     "text": [
      "In, Out, get_ipython, exit, quit, open, accelerate, datasets, evaluate, math, np, peft, pickle, pytest, ipytest, pd, transformers, load_dataset, load_dataset_builder, get_dataset_split_names, get_dataset_config_names, LoftQConfig, LoraConfig, get_peft_model, AutoModelForCausalLM, AutoTokenizer, TrainingArguments, Trainer, SFTTrainer, SFTConfig, @py_builtins, @pytest_ar, model_from_pkl, map_data, print_trainable_parameters, metric, comp_metrics_output, compute_metrics, make_trainer, get_dataframe, get_training_output, "
     ]
    }
   ],
   "source": [
    "keys=list(globals().keys())\n",
    "keys\n",
    "for key in keys:\n",
    "    if key[0]!='_':\n",
    "        print(f\"{key},\", end=\" \")\n",
    "del keys\n",
    "del key"
   ]
  },
  {
   "cell_type": "code",
   "execution_count": null,
   "id": "49f6ba73-2154-4f19-a020-b1de834ddb34",
   "metadata": {},
   "outputs": [],
   "source": []
  }
 ],
 "metadata": {
  "kernelspec": {
   "display_name": "Python 3 (ipykernel)",
   "language": "python",
   "name": "python3"
  },
  "language_info": {
   "codemirror_mode": {
    "name": "ipython",
    "version": 3
   },
   "file_extension": ".py",
   "mimetype": "text/x-python",
   "name": "python",
   "nbconvert_exporter": "python",
   "pygments_lexer": "ipython3",
   "version": "3.12.8"
  }
 },
 "nbformat": 4,
 "nbformat_minor": 5
}
