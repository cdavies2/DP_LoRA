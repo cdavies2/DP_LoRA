{
 "cells": [
  {
   "cell_type": "code",
   "execution_count": 2,
   "id": "24d41f7b-0272-4de5-856d-833e54791f86",
   "metadata": {},
   "outputs": [],
   "source": [
    "import torch, transformers, json\n",
    "from transformers import(\n",
    "    AutoTokenizer,\n",
    "    AutoModelForCausalLM,\n",
    "    pipeline\n",
    ")"
   ]
  },
  {
   "cell_type": "markdown",
   "id": "cffb80bc-6421-47c4-aaaa-ffa5a45f6a07",
   "metadata": {},
   "source": [
    "## Dataset value example \n",
    "{'record': 'JAHFAU010000168.1', 'text': 'CTCCTCGGCCAGCAAGCGCATCGTGAGAACCGGACTGACGATCAGCAAAACGGTCGCCAGCGGGCCCAATACCATGCGGCCATCCGGGTTCATCTGGCCGGTCGGCAGGCCAAAGTTAACGTTTAGGGAGAAGATCAGGCCGAGCACCAGGAAGCTGAGGGCGGCGGCCGCGTAAGCCAGCGGCGACACGAAGTAGCGGCGGAACTCGCGCACTGCAATAACCCAGCTGGTGCGCACGATCTAGCTCTCCTGCGGCACGACTTGCTCTTCCTCGCGAGTCAGCAGCAGGAAGATGCTTTCCAGGCTGACCCCGGCCGTTGTCAGCTCCAGCAAGTCCAGATCGGCTTCAACGATGCGGCGCGCCAACAGCGGGCGCAGGTCGCGGCCGGGCGAAGAGATCACCTCCACGGTGCCTGCCTGCCCGGCAAGCTCGACCGACTCCACTCCCGGGACGGACTTGAGCAGGTCGACCAGATCGGCTGCCGGGGCAGAGCTGCGGATCAGAATCCGGTACGCACCGGCCAGCTGGGCCGAAAGATTGGCGGGCGTATCTTCCGCCACCAACCGCCCCTTGTTGATAATCAGGACTCGATCACAAACTTGCTGTGCTTCCGAGAGGATGTGGGTGGACAACATGACGGTCCGCTCCCGCCCGAGCTCTCGGATTAAGTCCCGGACTTCGATGATTTGGGCCGGATCCAGTCCAATGGTCGGCTCGTCCAGGATCAAGACCTCGGGCCGGTGCAAGAGTGCCTGGGCCAGGCCGACCCGCTGTCGCAGACCTTTCGACAGGTTGCCAATCAGGCTATCACCGCGTTTTTCGAGGCCGACCTGCGTTAGGGATTCCTCGACCCGGCCATCCAGGTCCTCCACCCGCCGAAGCGAACCCATGAACGAGAGGTATTCGCGGCCGGACATCTCCGGGTACAGCGGGACGGTCTCCGGCAGGTATCCGACCCGGCGGCGCACCTCGAGCGATTCCTCCACCACGTCGTAGCCGGCGACTTTGGCGCTCCCGCTCGTTGGCGGCATGTATCCGGTGAGGATCCGCATCGTGGTCGTCTTCCCGGCGCCGTTCGGTCCAAGGAATCCCAGGATCTCGCCACGTTTGGCCTCGAAGGAAATTCCCTCGAGCGCGGTCAGGCTCCCGTACGTTTTCGAAAGCTTATTGGCCTCGATCAAGCCTCGGTCCTCAAGCCCAGCTCGCCAGGGGGATGGCCGGACACAAAAACATCCCGGCTCTGCCGTTGCGAAGATCTTGCTACGGAAGACCGGGATGTGAGGGATCCGATCCCGGTGACCACTATACAGAGATTCGCGGCCGGGAGTCAAGACGCAGTTGCGCTTCTAATGAGACGCTAAGCTCGCGGCCCGGTTTTCTTTAAGTTTGCTTGACATGGCATGTGCCAACTTGTACAATCGCCCAGCCTCCCCCACAGGAGCCTTAGAATCGGATGCAAGCTCTGACCGCATTTGAACAAAGCGCGGTTCTCGGCGTTGTCGGGATTGCCATACTGGGGTTGGTCTACGCACTTTTCCTGCGGACCCAGGTGCTGCGCGAACCGGCCGGGTCCCCCCGGATGCAGGAGGTCTGGAATGCGATCCGGGTAGGCGCCGACACTTACCTCCGCCGCCAGCTGGGCAGCATCCTCCCGCTGATCGCGGTCCTCACGGTCGCCCTCTTCCTGAGCGTCTACATCGTCCCCCCCAGCCCGGAGGCGACAGAACGATTCAAAACTTTGGATTCGGACACCGTCCGGCTGGTGATCGGGTTGGGAAGAGCCTTGGCCTTCGTCATGGGGGCCATCTTTAGCGTGACCGTTGGGCAGATTGGGATGCGGATGGCGGTGCAGGCCAATGTTCGAGTCGCCGCGGCGGCCCGCCGGTCGTTCGGGGACTCGCTGCGCATCGCCTACCGGGCCGGCACGATCACCGGGATGTTGACCGACGGACTCGGCCTTTTCGGCGGAACGATGATCTTCATCATCTTCGGAATCGCCTCGCCGGATGCGCTGCTCGGGTTCGGATTCGGCGGGACCCTGGTGGCGCTCTTCATGCGGGTTGGCGGGGGGATCTACACCAAGGCGGCCGACGTCGGGGCGGACCTGGTCGGCAAGATCGAGGCGGGTATCCCCGAGGACGACCCACGCAATCCCGCAGTTATCGCCGATCTGGTGGGCGACAACGTGGGCGACTGCGCCGGGATGGCGGCGGATATCTTTGAGTCATATGAAGTCACGATCGTCTCCGGTCTGATTCTTGGGCTGGCGCTTTGGCACATCACCGGCAACTTCGAATGGGTGGTCTACCCCCTGCTCGTGCGCGGCATCGGTGTGCTTTCTTCGATCATCGGCACCTACGCGGTCCGCGGCGGCCATGGGAAGAGCGGCAATGCGATGCGGGCGATCTTCACCGGGTTCTTGTCCTCGGCGGCGATCTCGGTGGTCTTGTTCGGAATCATGGGATTCTTTTACATGCGAGAGGTGCCGGGAGGCTGGTGGCGGCCGTTCCTGGCCACGACCGCGGGGGTGCTGCTGGCGATCGCCATCGACCGACTGACCGAGTACTTCACCGGAAGCCACGGCACTCCGGTTCAGGAAATCCGCAAGGCCACCAACACCGGCCCGGCGACCACCATTCTCTCCGGGATCGCGGTTGGGTATGAGTCGAGTGTCTGGTCGATCCTGATCATCGCGGTAACCATCTTCGTCTCGATCCTTACTTTCGGCGGAATCTCCGGCATCCCGGCCGGCGAGGCGGTGACCTTTGTGCTGTATGGCGTCGCCATGACCGGCATCGGCATGCTGAATCTGACCGGAAACAACGTGGCGATGGATTCCTACGGACTGATCGCCGACAATGCCAATGGAATCGGCCAAATGGCCTGGCAGGGGGAGGACGACCGCGATACGGTGCAGGCCCGCCAGATCATGGCCGACCTGGACGCGGTGGGAAACACGACCAAGGC'}"
   ]
  },
  {
   "cell_type": "code",
   "execution_count": 3,
   "id": "b645c2bd-bc8b-4d74-97b0-29f07f036a9a",
   "metadata": {},
   "outputs": [],
   "source": [
    "# let's try prompting the fine-tuned models\n",
    "def continued_convo(model, tokenizer, message, convo=None):\n",
    "    #this will be used to provide models with context from previous conversations\n",
    "    #this will also allow multiple messages to be consecutively sent to the same model\n",
    "    pipe=pipeline(\"text-generation\", device_map=\"auto\", max_new_tokens=512, model=model, tokenizer=tokenizer)\n",
    "    if convo==None:\n",
    "        messages=[{\"role\": \"system\", \"content\": \"You are a helpful assistant\"}]\n",
    "    else:\n",
    "        messages=convo\n",
    "    messages.append({\"role\": \"user\", \"content\": message})\n",
    "    answer=pipe(messages, max_new_tokens=512)[0]['generated_text'][-1]\n",
    "    print(answer)\n",
    "    messages.append(answer)\n",
    "    return pipe, messages "
   ]
  },
  {
   "cell_type": "code",
   "execution_count": 6,
   "id": "5c948557-31db-4e79-b2fa-1234a6a8efe6",
   "metadata": {},
   "outputs": [
    {
     "name": "stderr",
     "output_type": "stream",
     "text": [
      "Loading checkpoint shards: 100%|██████| 2/2 [00:02<00:00,  1.21s/it]\n"
     ]
    }
   ],
   "source": [
    "mis_model=AutoModelForCausalLM.from_pretrained('fine_tuned/mis/')\n",
    "mis_token=tokenizer=AutoTokenizer.from_pretrained('fine_tuned/mis_token/')"
   ]
  },
  {
   "cell_type": "code",
   "execution_count": 28,
   "id": "c7d824b2-7bc0-4919-b120-fe8d24017f20",
   "metadata": {},
   "outputs": [
    {
     "name": "stderr",
     "output_type": "stream",
     "text": [
      "Device set to use cuda:0\n",
      "Device set to use cuda:0\n"
     ]
    },
    {
     "name": "stdout",
     "output_type": "stream",
     "text": [
      "{'role': 'assistant', 'content': \" Genome record numbers are used to identify and track specific genetic variations in an individual's genome. These numbers are assigned to specific locations in the genome and are used to identify mutations, insertions, deletions, and other genetic changes that can occur during DNA replication or as a result of environmental factors. Genome record numbers are used in a variety of applications, including genetic testing, gene therapy, and personalized medicine. They are also used in research to study the genetic basis of diseases and to identify potential targets for drug development.\"}\n"
     ]
    },
    {
     "name": "stderr",
     "output_type": "stream",
     "text": [
      "Device set to use cuda:0\n"
     ]
    },
    {
     "name": "stdout",
     "output_type": "stream",
     "text": [
      "{'role': 'assistant', 'content': ' A genome record number is a unique identifier assigned to a genome sequence. It typically consists of a combination of letters and numbers, such as \"GRCh38/hg19\" or \"NCBI:tx000001\". The specific format and naming conventions used for genome record numbers can vary depending on the organization or database that assigns them.'}\n"
     ]
    },
    {
     "name": "stderr",
     "output_type": "stream",
     "text": [
      "Device set to use cuda:0\n"
     ]
    },
    {
     "name": "stdout",
     "output_type": "stream",
     "text": [
      "{'role': 'assistant', 'content': \" The record number JAHFAU010000168.1 corresponds to a gene in the genome of the African elephant (Loxodonta africana). This gene is likely involved in the development and function of the elephant's trunk, which is a highly specialized organ used for a variety of tasks such as grasping, smelling, and vocalizing.\"}\n",
      "{'role': 'assistant', 'content': ' I apologize, but I do not have access to the specific sequence of the gene JAHFAU010000168.1. However, you can try searching for the gene sequence on a public database such as the National Center for Biotechnology Information (NCBI) or the European Nucleotide Archive (ENA). These databases contain a wealth of information on the genomes of many different species, including the African elephant.'}\n"
     ]
    }
   ],
   "source": [
    "model, answer=continued_convo(mis_model, mis_token, \"What are genome record numbers used for?\")\n",
    "model, answer2=continued_convo(mis_model, mis_token, \"What would a genome record number look like?\")\n",
    "model, answer3=continued_convo(mis_model, mis_token, \"What genome is identified by a record number of JAHFAU010000168.1?\")\n",
    "model, answer4=continued_convo(mis_model, mis_token, \"What is the sequence of the gene JAHFAU010000168.1?\", answer3)"
   ]
  },
  {
   "cell_type": "code",
   "execution_count": 4,
   "id": "5c84ad57-b1b2-4394-acfd-d9381652c545",
   "metadata": {},
   "outputs": [
    {
     "name": "stderr",
     "output_type": "stream",
     "text": [
      "Device set to use cuda:0\n"
     ]
    }
   ],
   "source": [
    "mis_pipeline=pipeline(\"text-generation\", device_map=\"auto\", max_new_tokens=128, model=mis_model, tokenizer=mis_token)"
   ]
  },
  {
   "cell_type": "code",
   "execution_count": 11,
   "id": "a8d4f7fa-c243-471c-b029-673192f74034",
   "metadata": {},
   "outputs": [],
   "source": [
    "answer=mis_pipeline([{\"role\": \"system\", \"content\": \"You are a helpful assistant\"},\n",
    "                    {\"role\": \"user\", \"content\": \"What are genome record numbers used for?\"}], max_new_tokens=256)[0]['generated_text'][-1]"
   ]
  },
  {
   "cell_type": "code",
   "execution_count": 12,
   "id": "28c9d6d5-976e-45cf-80ee-db3bf511acf9",
   "metadata": {},
   "outputs": [
    {
     "name": "stdout",
     "output_type": "stream",
     "text": [
      "{'role': 'assistant', 'content': \" Genome record numbers are used to identify and track specific genetic variations in an individual's genome. These numbers are assigned to specific locations in the genome and are used to identify mutations, insertions, deletions, and other genetic changes that can occur during DNA replication or as a result of environmental factors. Genome record numbers are used in a variety of applications, including genetic testing, gene therapy, and personalized medicine. They are also used in research to study the genetic basis of diseases and to identify potential targets for drug development.\"}\n"
     ]
    }
   ],
   "source": [
    "print(answer)"
   ]
  },
  {
   "cell_type": "code",
   "execution_count": null,
   "id": "99030348-3fd6-4c35-9118-4e33e84220aa",
   "metadata": {},
   "outputs": [],
   "source": []
  },
  {
   "cell_type": "code",
   "execution_count": 5,
   "id": "c4e29736-b8f7-4642-ba59-22374515223c",
   "metadata": {},
   "outputs": [],
   "source": [
    "#lla_model=AutoModelForCausalLM.from_pretrained('./fine_tuned_lla2/') \n",
    "# compatability issue, needs debugging"
   ]
  },
  {
   "cell_type": "code",
   "execution_count": 6,
   "id": "ed170802-5688-4bd0-ab7a-25442bd7e633",
   "metadata": {},
   "outputs": [],
   "source": [
    "# both of the models above are the ones pretrained using steps as the eval_strategy"
   ]
  }
 ],
 "metadata": {
  "kernelspec": {
   "display_name": "Python 3 (ipykernel)",
   "language": "python",
   "name": "python3"
  },
  "language_info": {
   "codemirror_mode": {
    "name": "ipython",
    "version": 3
   },
   "file_extension": ".py",
   "mimetype": "text/x-python",
   "name": "python",
   "nbconvert_exporter": "python",
   "pygments_lexer": "ipython3",
   "version": "3.12.8"
  }
 },
 "nbformat": 4,
 "nbformat_minor": 5
}
