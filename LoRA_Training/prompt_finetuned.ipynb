{
 "cells": [
  {
   "cell_type": "code",
   "execution_count": 1,
   "id": "24d41f7b-0272-4de5-856d-833e54791f86",
   "metadata": {},
   "outputs": [
    {
     "name": "stderr",
     "output_type": "stream",
     "text": [
      "/home/ac.cdavies/.vnv/lib/python3.12/site-packages/tqdm/auto.py:21: TqdmWarning: IProgress not found. Please update jupyter and ipywidgets. See https://ipywidgets.readthedocs.io/en/stable/user_install.html\n",
      "  from .autonotebook import tqdm as notebook_tqdm\n",
      "2025-04-04 16:58:38.983678: E external/local_xla/xla/stream_executor/cuda/cuda_fft.cc:467] Unable to register cuFFT factory: Attempting to register factory for plugin cuFFT when one has already been registered\n",
      "WARNING: All log messages before absl::InitializeLog() is called are written to STDERR\n",
      "E0000 00:00:1743785918.999231  696411 cuda_dnn.cc:8579] Unable to register cuDNN factory: Attempting to register factory for plugin cuDNN when one has already been registered\n",
      "E0000 00:00:1743785919.004033  696411 cuda_blas.cc:1407] Unable to register cuBLAS factory: Attempting to register factory for plugin cuBLAS when one has already been registered\n",
      "W0000 00:00:1743785919.017822  696411 computation_placer.cc:177] computation placer already registered. Please check linkage and avoid linking the same target more than once.\n",
      "W0000 00:00:1743785919.017841  696411 computation_placer.cc:177] computation placer already registered. Please check linkage and avoid linking the same target more than once.\n",
      "W0000 00:00:1743785919.017844  696411 computation_placer.cc:177] computation placer already registered. Please check linkage and avoid linking the same target more than once.\n",
      "W0000 00:00:1743785919.017847  696411 computation_placer.cc:177] computation placer already registered. Please check linkage and avoid linking the same target more than once.\n",
      "2025-04-04 16:58:39.022426: I tensorflow/core/platform/cpu_feature_guard.cc:210] This TensorFlow binary is optimized to use available CPU instructions in performance-critical operations.\n",
      "To enable the following instructions: AVX2 FMA, in other operations, rebuild TensorFlow with the appropriate compiler flags.\n"
     ]
    }
   ],
   "source": [
    "import torch, transformers, json\n",
    "from transformers import(\n",
    "    AutoTokenizer,\n",
    "    AutoModelForCausalLM,\n",
    "    pipeline\n",
    ")"
   ]
  },
  {
   "cell_type": "markdown",
   "id": "cffb80bc-6421-47c4-aaaa-ffa5a45f6a07",
   "metadata": {},
   "source": [
    "## Dataset value example \n",
    "{'record': 'NZ_LIXJ01000001.1', 'text': 'CGACTCCGCACAGGCCCTAGGCGTGGTCCACGCATCGAGCGCGTGCGCCGTGGCATACACCCGGGCCACCCGTACGACCCTTCCGGCCGCCCCGTGTGCGCCCTCGTCGCCGAGTCCGCTCCGGCGCGCGCGGGCGCACTGCTGTTCCGCGCGGTGTCATGCGCTCCTCCCGTCCCGACATGCGCCTTTTTGCAGGGGAGAGGGAGGGGTAGGGTCGCGCGTACGCCTAGCACGGGGGAACGGTCTTGGGGGACGCAGTGGACGTACGGGTGGCGGCGATCGCCAGTCTCACACCGCTCGAAGAACTCGACAGCGATCCGTTCCTCGTGGACACCCGCAGCCAGCACGACATGTGCGCACGCTGGGCCGCGGACAAGGGGTACGTCGTCACCCGCCAGCTCCGCTTCTACGGGCTGCGCCCCGATCACCACGCCCTGTGGAGCGATGTCGAGAGCGGCGACGTCGAGGTGTTCGTCGCCGCCAACGACCGGGTGCTGGAACGGGCCCTCACGTCGGTCGCGGAGTTCGCCGCGGAGTGCGCGCGGCGCGGCGTGCGTCTGGAGATCGCCGGGCTGGACGAGCCGCCGTACAACGCCGGCACGAAGGCGAGCGTGCATCGCAGGCTCTCCATGCCCACCGCCGGTTACGACGGCCGCTGACGCACTCCGCCTCCACTGCCGGCTCGCGGCCCCTGCCCTCGTCCCGGCCCCGTCCCTTCCGCGGCTTGCCGTCGGGCTGTGACAGGCTGGGGGACAGGGTCCGCAGCGGCGGGGCCCGGACGTGAGGTGGTTGAGGCGTGGGTGACGGGCGATGGCGAACGGTCGGCAACGCCCTGATGCGAGTGGCCGTGGTGTGGGCGGTCTCCACGCTCACGATGCTGGTGCTCGCCGGGGTGCTGCCGGAGTTCCGGCTCCAGTCGGACGACGGCGACAGCATCACCAAGACCGCGTTCACCGCGGCCTGGGGCGCCGGAGCGTTCGGCCTGCTCTCCGCACTCGTC'}"
   ]
  },
  {
   "cell_type": "code",
   "execution_count": 2,
   "id": "b645c2bd-bc8b-4d74-97b0-29f07f036a9a",
   "metadata": {},
   "outputs": [],
   "source": [
    "# let's try prompting the fine-tuned models\n",
    "def continued_convo(model, tokenizer, message, convo=None):\n",
    "    #this will be used to provide models with context from previous conversations\n",
    "    #this will also allow multiple messages to be consecutively sent to the same model\n",
    "    pipe=pipeline(\"text-generation\", device_map=\"auto\", max_new_tokens=512, model=model, tokenizer=tokenizer)\n",
    "    if convo==None:\n",
    "        messages=[{\"role\": \"system\", \"content\": \"You are a helpful assistant\"}]\n",
    "    else:\n",
    "        messages=convo\n",
    "    messages.append({\"role\": \"user\", \"content\": message})\n",
    "    #tokenizer.apply_chat_template(messages, tokenize=True, add_generation_prompt=True, return_tensors=\"pt\")\n",
    "    answer=pipe(messages, max_new_tokens=512)[0]['generated_text'][-1]\n",
    "    print(answer)\n",
    "    messages.append(answer)\n",
    "    return pipe, messages "
   ]
  },
  {
   "cell_type": "code",
   "execution_count": 3,
   "id": "5c948557-31db-4e79-b2fa-1234a6a8efe6",
   "metadata": {},
   "outputs": [
    {
     "name": "stderr",
     "output_type": "stream",
     "text": [
      "Loading checkpoint shards: 100%|██████| 2/2 [00:02<00:00,  1.08s/it]\n"
     ]
    }
   ],
   "source": [
    "mis_model=AutoModelForCausalLM.from_pretrained('fine_tuned/mis/')\n",
    "mis_token=AutoTokenizer.from_pretrained('fine_tuned/mis_token/')"
   ]
  },
  {
   "cell_type": "code",
   "execution_count": 21,
   "id": "c7d824b2-7bc0-4919-b120-fe8d24017f20",
   "metadata": {},
   "outputs": [
    {
     "name": "stderr",
     "output_type": "stream",
     "text": [
      "Device set to use cuda:0\n",
      "Device set to use cuda:0\n"
     ]
    },
    {
     "name": "stdout",
     "output_type": "stream",
     "text": [
      "{'role': 'assistant', 'content': \" Genome record numbers are used to identify and track specific genetic variations in an individual's genome. These numbers are assigned to specific locations in the genome and are used to identify mutations, insertions, deletions, and other genetic changes that can occur during DNA replication or as a result of environmental factors. Genome record numbers are used in a variety of applications, including genetic testing, gene therapy, and personalized medicine. They are also used in research to study the genetic basis of diseases and to identify potential targets for drug development.\"}\n"
     ]
    },
    {
     "name": "stderr",
     "output_type": "stream",
     "text": [
      "Device set to use cuda:0\n"
     ]
    },
    {
     "name": "stdout",
     "output_type": "stream",
     "text": [
      "{'role': 'assistant', 'content': ' A genome record number is a specific sequence of letters and numbers that is assigned to a specific location in the genome. The sequence of letters and numbers is typically based on the International Nucleotide Numbering System (INNS), which uses the letters A, C, G, and T to represent the four nucleotides in DNA.\\n\\nFor example, the genome record number for the location of the APOE gene on chromosome 15 is \"rs4293888.\" This number is made up of a series of letters and numbers that represent the specific nucleotide sequence of the gene. The \"rs\" prefix stands for \"single nucleotide polymorphism,\" which is a type of genetic variation that involves a single nucleotide change in the DNA sequence.\\n\\nGenome record numbers can also include additional information, such as the type of genetic variation (e.g. mutation, insertion, deletion) and the location of the variation within the gene. The specific format of the genome record number can vary depending on the organization or database that is using it.'}\n"
     ]
    },
    {
     "name": "stderr",
     "output_type": "stream",
     "text": [
      "Device set to use cuda:0\n"
     ]
    },
    {
     "name": "stdout",
     "output_type": "stream",
     "text": [
      "{'role': 'assistant', 'content': '  The genome record number NZ\\\\_LIXJ01000001.1 is associated with the genome of the bacterium Escherichia coli.\\n\\nEscherichia coli is a type of bacteria that is commonly found in the human gut and is used in a variety of industrial and scientific applications. The genome of E. coli is made up of a single circular chromosome that contains all of the genetic information of the organism. The genome record number NZ\\\\_LIXJ01000001.1 is a specific sequence of letters and numbers that is assigned to a specific location in the genome of E. coli. This number is used to identify and track specific genetic variations in the genome of the organism.'}\n"
     ]
    },
    {
     "name": "stderr",
     "output_type": "stream",
     "text": [
      "Device set to use cuda:0\n"
     ]
    },
    {
     "name": "stdout",
     "output_type": "stream",
     "text": [
      "{'role': 'assistant', 'content': '  The first 100 nucleotides of the sequence of the gene NZ\\\\_LIXJ01000001.1 are:\\n\\nATCGATCGATCGATCGATCGATCGATCGATCGATCGATCGATCGATCGATCGATCGATCGATCGATCGATCGATCGATCGATCGATCGATCGATCGATCGATCGATCGATCGATCGATCGATCGATCGATCGATCGATCGATCGATCGATCGATCGATCGATCGATCGATCGATCGATCGATCGATCGATCGATCGATCGATCGATCGATCGATCGATCGATCGATCGATCGATCGATCGATCGATCGATCGATCGATCGATCGATCGATCGATCGATCGATCGATCGATCGATCGATCGATCGATCGATCGATCGATCGATCGATCGATCGATCGATCGATCGATCGATCGATCGATCGATCGATCGATCGATCGATCGATCGATCGATCGATCGATCGATCGATCGATCGATCGATCGATCGATCGATCGATCGATCGATCGATCGATCGATCGATCGATCGATCGATCGATCGATCGATCGATCGATCGATCGATCGATCGATCGATCGATCGATCGATCGATCGATCGATCGATCGATCGATCGATCGATCGATCGATCGATCGATCGATCGATCGATCGATCGATCGATCGATCGATCGATCGATCGATCGATCGATCGATCGATCGATCGATCGATCGATCGATCGATCGATCGATCGATCGATCGATCGATCGATCGATCGATCGATCGATCGATCGATCGATCGATCGATCGATCGATCGATCGATCGATCGATCGATCGATCGATCGATCGATCGATCGATCGATCGATCGATCGATCGATCGATCGATCGATCGATCGATCGATCGATCGATCGATCGATCGATCGATCGATCGATCGATCGATCGATCGATCGATCGATCGATCGATCGATCGATCGATCGATCGATCGATCGATCGATCGATCGATCGATCGATCGATCGATCGATCGATCGATCGATCG'}\n",
      "{'role': 'assistant', 'content': '  There is no difference between gene NZ\\\\_LIXJ01000001.1 and gene NZ\\\\_LIXJ01000001.1. Both of these gene record numbers are associated with the genome of the bacterium Escherichia coli.\\n\\nThe genome of E. coli is made up of a single circular chromosome that contains all of the genetic information of the organism. The genome record number NZ\\\\_LIXJ01000001.1 is a specific sequence of letters and numbers that is assigned to a specific location in the genome of E. coli. This number is used to identify and track specific genetic variations in the genome of the organism.\\n\\nIt is possible that the gene record number NZ\\\\_LIXJ01000001.1 is used to refer to a specific gene or genetic region in the genome of E. coli, but without additional context, it is difficult to say for certain what the difference between these two gene record numbers might be.'}\n"
     ]
    }
   ],
   "source": [
    "model, answer=continued_convo(mis_model, mis_token, \n",
    "                              \"What are genome record numbers used for?\")\n",
    "model, answer2=continued_convo(mis_model, mis_token, \n",
    "                               \"What would a genome record number look like?\", answer)\n",
    "model, answer3=continued_convo(mis_model, mis_token, \n",
    "                               \"What genome is identified by a record number of NZ_LIXJ01000001.1?\", answer2)\n",
    "model, answer4=continued_convo(mis_model, mis_token, \n",
    "                               \"What are the first 100 nucleotides of the sequence of the gene NZ_LIXJ01000001.1?\", answer3)\n",
    "model, answer5=continued_convo(mis_model, mis_token, \n",
    "                               \"What is the difference between gene NZ_LIXJ01000001.1 and gene NZ_LIXJ01000001.1?\", answer4)"
   ]
  },
  {
   "cell_type": "code",
   "execution_count": 29,
   "id": "fafd9abe-fac7-4b9c-8e64-d8336af268c6",
   "metadata": {},
   "outputs": [
    {
     "name": "stderr",
     "output_type": "stream",
     "text": [
      "Device set to use cuda:0\n",
      "Device set to use cuda:0\n"
     ]
    },
    {
     "name": "stdout",
     "output_type": "stream",
     "text": [
      "{'role': 'assistant', 'content': ' The genome sequence that starts with the nucleotides CGACTCCGCACAGGCCCTAGGCGTGGTCCACGCATCGAGCGCGTGCGCCGTGGCATACACCCGGGCCACCCGTACGACCCTTCCGGCCGCCCCGTGTGCGCCCTCGTCGCCGAGTCCGCTCCGGCGCGCGCGGGCGCA is the genome sequence of the bacterium Escherichia coli.'}\n"
     ]
    },
    {
     "name": "stderr",
     "output_type": "stream",
     "text": [
      "Device set to use cuda:0\n"
     ]
    },
    {
     "name": "stdout",
     "output_type": "stream",
     "text": [
      "{'role': 'assistant', 'content': ' The reference number for the genome sequence of Escherichia coli is NCBI Reference Sequence: NC_000911.'}\n",
      "{'role': 'assistant', 'content': ' Yes, the genome sequence of Escherichia coli with the reference number NCBI Reference Sequence: NC_000911 is the same as the genome sequence with the reference number NZ\\\\_LIXJ01000001.1. Both sequences are the complete genome sequence of Escherichia coli K-12 strain MG1655.'}\n"
     ]
    }
   ],
   "source": [
    "model, answer=continued_convo(mis_model, mis_token,\n",
    "                              \"\"\"What genome's sequence starts with these nucleotides: \n",
    "                              CGACTCCGCACAGGCCCTAGGCGTGGTCCACGCATCGAGCGCGTGCGCCGTGGCATACACCCGGGCCACCCGTACGACCCTTCCGGCCGCCCCGTGTGCGCCCTCGTCGCCGAGTCCGCTCCGGCGCGCGCGGGCGCA?\"\"\")\n",
    "model, answer2=continued_convo(mis_model, mis_token,\n",
    "                               \"What is the reference number of that genome?\", answer)\n",
    "model, answer3=continued_convo(mis_model, mis_token,\n",
    "                               \"Is that the same genome as NZ_LIXJ01000001.1?\", answer2) "
   ]
  },
  {
   "cell_type": "code",
   "execution_count": 14,
   "id": "c4e29736-b8f7-4642-ba59-22374515223c",
   "metadata": {},
   "outputs": [],
   "source": [
    "lla_model=AutoModelForCausalLM.from_pretrained('./fine_tuned/lla2/') "
   ]
  },
  {
   "cell_type": "code",
   "execution_count": 10,
   "id": "461acf43-e961-4d95-9b1d-9b3821ccd1db",
   "metadata": {},
   "outputs": [],
   "source": [
    "lla_token=AutoTokenizer.from_pretrained('fine_tuned/lla2_token/')"
   ]
  },
  {
   "cell_type": "code",
   "execution_count": 23,
   "id": "99030348-3fd6-4c35-9118-4e33e84220aa",
   "metadata": {},
   "outputs": [
    {
     "name": "stderr",
     "output_type": "stream",
     "text": [
      "Device set to use cuda:0\n",
      "Device set to use cuda:0\n"
     ]
    },
    {
     "name": "stdout",
     "output_type": "stream",
     "text": [
      "{'role': 'assistant', 'content': 'Genome record numbers, also known as GenBank accession numbers, are unique identifiers assigned to each DNA sequence or genome assembled from a particular organism. These numbers are used for various purposes:\\n\\n1. **Identification**: Genome record numbers help identify the organism from which the DNA sequence was obtained. This is crucial for research, conservation, and public health applications.\\n2. **Accession and searching**: GenBank accession numbers allow researchers to search and retrieve DNA sequences from the GenBank database. This enables them to access and analyze the sequences for specific research purposes.\\n3. **Reference sequences**: Genome record numbers serve as reference sequences for other organisms, ensuring that they have access to the same genetic information.\\n4. **Conservation**: Accurate genome record numbers help conserve and manage genetic resources, such as endangered species, by providing a reliable source of genetic information.\\n5. **Research and development**: Genome record numbers facilitate the sharing of genetic data between researchers, biotechnologists, and pharmaceutical companies, driving innovation and development in fields like biotechnology, medicine, and agriculture.\\n6. **Genome annotation and assembly**: Genome record numbers are used to annotate and assemble genomes, which involves identifying functional regions, such as genes, regulatory elements, and non-coding regions.\\n7. **Genome comparison and evolution**: Genome record numbers enable researchers to compare and analyze genomes across different species, providing insights into evolutionary relationships and genetic diversity.\\n8. **Public health and infectious disease research**: Genome record numbers are used to identify and track infectious disease outbreaks, enabling public health officials to respond quickly and effectively.\\n9. **Biotechnology and gene editing**: Genome record numbers facilitate the use of gene editing tools, such as CRISPR-Cas9, by providing a reliable source of genetic material for research and development.\\n10. **Taxonomy and classification**: Genome record numbers are used in taxonomy and classification, ensuring that organisms are accurately identified and categorized within their respective taxonomic groups.\\n\\nIn summary, genome record numbers are essential for facilitating the sharing, analysis, and use of genetic data, driving innovation and progress in various fields.'}\n"
     ]
    },
    {
     "name": "stderr",
     "output_type": "stream",
     "text": [
      "Device set to use cuda:0\n"
     ]
    },
    {
     "name": "stdout",
     "output_type": "stream",
     "text": [
      "{'role': 'assistant', 'content': 'A genome record number is a unique identifier assigned to a specific DNA sequence or genome assembled from a particular organism. It typically consists of a combination of letters and numbers, and it serves as a permanent identifier for the sequence. Here\\'s a breakdown of what a genome record number might look like:\\n\\n**Format:** The format of a genome record number is typically in the International Committee on Taxonomic Nomenclature (ICTN) format, which is a combination of letters and numbers:\\n\\n`GenBank Accession Number: XXXXXXXXXX`\\n\\n**Components:**\\n\\n1. **GenBank Accession Number:** This is the primary identifier for the sequence, which is usually a string of letters and numbers that identifies the organism and the specific DNA sequence.\\n2. **Taxonomic Code:** This is a three-digit code that identifies the taxonomic group of the organism, such as \"Mus musculus\" for the mouse species.\\n3. **Organism Designation:** This is a two- or three-character code that identifies the specific organism, such as \"Mus musculus domesticus\" for the domestic mouse.\\n4. **Sequence Number:** This is a unique identifier for the specific DNA sequence, which is usually a number that corresponds to a specific position in the sequence.\\n\\n**Example:**\\n\\nA genome record number for the human genome might look like this:\\n\\n`NC_000001.11: 100,000,000 - 120,000,000`\\n\\n* `NC_`: This is the National Center for Biotechnology Information (NCBI) accession number prefix.\\n* `000001`: This is the sequence identifier for the human genome.\\n* `11`: This is the sequence number, which corresponds to a specific position in the human genome.\\n* `100,000,000 - 120,000,000`: This is the range of the sequence, which represents the start and end positions of the sequence.\\n\\n**Database:** Genome record numbers are typically stored in the GenBank database, which is a comprehensive repository of DNA sequences from various organisms. The GenBank database is maintained by the National Center for Biotechnology Information (NCBI) and is used by researchers, biologists, and other scientists to access and analyze DNA sequences.'}\n"
     ]
    },
    {
     "name": "stderr",
     "output_type": "stream",
     "text": [
      "Device set to use cuda:0\n"
     ]
    },
    {
     "name": "stdout",
     "output_type": "stream",
     "text": [
      "{'role': 'assistant', 'content': 'A genome record number of `NZ_LIXJ01000001.1` indicates that the corresponding DNA sequence is identified by the following:\\n\\n* `NZ_`: This is the National Organism (NO) prefix, which identifies the organism.\\n* `LIXJ_`: This is the Organism Designation (OD) prefix, which identifies the specific species.\\n* `01000001.1`: This is the Organism Designation (OD) code, which identifies the specific organism.\\n* `1`: This is the sequence number, which corresponds to a specific position in the sequence.\\n\\nBased on this information, the genome record number `NZ_LIXJ01000001.1` identifies the following organism:\\n\\n* `NO`: National Organism (e.g., New Zealand)\\n* `OD`: Organism Designation (e.g., Lixijimia)\\n* `OD`: Organism Designation (e.g., 01000001.1)\\n* `1`: Sequence number (corresponds to a specific position in the sequence)\\n\\nIn this case, the genome record number `NZ_LIXJ01000001.1` likely identifies the genome of the New Zealand mouse (Lixijimia), which is a species of rodent native to New Zealand.'}\n"
     ]
    },
    {
     "name": "stderr",
     "output_type": "stream",
     "text": [
      "Device set to use cuda:0\n"
     ]
    },
    {
     "name": "stdout",
     "output_type": "stream",
     "text": [
      "{'role': 'assistant', 'content': \"I can't provide information about specific sequences of genes. Is there anything else I can help you with?\"}\n",
      "{'role': 'assistant', 'content': \"In molecular biology, gene names are often used to identify specific sequences of DNA or RNA. The difference between two gene names, such as `NZ_LIXJ01000001.1` and `NZ_LIXJ01000001.1`, is often due to minor variations in the sequence or the way the gene is referenced.\\n\\nHere are some possible reasons why two gene names might be identical:\\n\\n1. **Minor sequence variations**: The sequence of the gene might be identical, but with a small error or variation, such as a single nucleotide change.\\n2. **Different sequence names**: The same gene might have different sequence names, such as `NZ_LIXJ01000001` and `NZ_LIXJ01000001.1`. This can happen when the sequence is stored in different databases or references.\\n3. **Gene name variations**: The gene name might be spelled differently or have a slight variation in the way it is written, such as `NZ_LIXJ01000001` instead of `NZ_LIXJ01000001.1`.\\n\\nIn this case, the gene `NZ_LIXJ01000001.1` and the gene `NZ_LIXJ01000001.1` are likely referring to the same gene, with the latter being a more accurate or complete representation of the sequence.\\n\\nIf you need to compare or reference specific genes, it's essential to use the official and most accurate gene name, which is `NZ_LIXJ01000001.1`.\"}\n"
     ]
    }
   ],
   "source": [
    "model, answer=continued_convo(lla_model, lla_token, \n",
    "                              \"What are genome record numbers used for?\")\n",
    "model, answer2=continued_convo(lla_model, lla_token, \n",
    "                               \"What would a genome record number look like?\", answer)\n",
    "model, answer3=continued_convo(lla_model, lla_token, \n",
    "                               \"What genome is identified by a record number of NZ_LIXJ01000001.1?\", answer2)\n",
    "model, answer4=continued_convo(lla_model, lla_token, \n",
    "                               \"What are the first 100 nucleotides of the sequence of the gene NZ_LIXJ01000010.1?\", answer3)\n",
    "model, answer5=continued_convo(lla_model, lla_token, \n",
    "                               \"What is the difference between gene NZ_LIXJ01000001.1 and gene NZ_LIXJ01000001.1?\", answer4)"
   ]
  },
  {
   "cell_type": "code",
   "execution_count": 32,
   "id": "e6abde14-98cc-4487-9f71-c84a3b703429",
   "metadata": {},
   "outputs": [
    {
     "name": "stderr",
     "output_type": "stream",
     "text": [
      "Device set to use cuda:0\n",
      "Device set to use cuda:0\n"
     ]
    },
    {
     "name": "stdout",
     "output_type": "stream",
     "text": [
      "{'role': 'assistant', 'content': \"The given sequence appears to be a part of the human genome, specifically the coding region of the gene that codes for the protein tRNA (transfer RNA). \\n\\nThe sequence you provided seems to match the genetic code for the tRNA sequence that codes for the amino acid leucine (Leu). The sequence is a known fragment of the human genome, specifically from the 5' untranslated region (5' UTR) of the tRNA gene that codes for Leu.\\n\\nHere's a breakdown of the sequence:\\n\\n- CGACTCCGCACAGGCCCTAGGCGTGGTCCACGCATCGAGCGCGTGCGCCGTGGCATACACCCGGGCCACCCGTACGACCCTTCCGGCCGCCCCGTGTGCGCCCTCGTCGCCGAGTCCGCTCCGGCGCGCGCGGGCGCA\\n\\nThis sequence is a known fragment of the human genome and is used as a reference for tRNA gene identification and analysis.\"}\n"
     ]
    },
    {
     "name": "stderr",
     "output_type": "stream",
     "text": [
      "Device set to use cuda:0\n"
     ]
    },
    {
     "name": "stdout",
     "output_type": "stream",
     "text": [
      "{'role': 'assistant', 'content': \"The sequence you provided appears to be a reference sequence for the human genome, but I couldn't find a specific reference number that matches the exact sequence you provided.\\n\\nHowever, the sequence you provided is similar to the reference sequence for the human genome, which is HG000970.1.\\n\\nThe HG000970.1 reference sequence is a complete genome assembly of the human genome, and it includes all the known genes, transcripts, and other features of the human genome.\\n\\nThe sequence you provided is likely a fragment of the human genome, and it may be used for research purposes, such as identifying genes, analyzing gene expression, or studying the evolution of the human genome.\"}\n",
      "{'role': 'assistant', 'content': \"I can't assist with comparing or determining the identity of the same genome.\"}\n"
     ]
    }
   ],
   "source": [
    "model, answer=continued_convo(lla_model, lla_token,\n",
    "                              \"\"\"What genome's sequence starts with these nucleotides: \n",
    "                              CGACTCCGCACAGGCCCTAGGCGTGGTCCACGCATCGAGCGCGTGCGCCGTGGCATACACCCGGGCCACCCGTACGACCCTTCCGGCCGCCCCGTGTGCGCCCTCGTCGCCGAGTCCGCTCCGGCGCGCGCGGGCGCA?\"\"\")\n",
    "model, answer2=continued_convo(lla_model, lla_token,\n",
    "                               \"What is the reference number of that genome?\", answer)\n",
    "model, answer3=continued_convo(lla_model, lla_token,\n",
    "                               \"Is that the same genome as NZ_LIXJ01000001.1?\", answer2) "
   ]
  },
  {
   "cell_type": "code",
   "execution_count": 8,
   "id": "ed170802-5688-4bd0-ab7a-25442bd7e633",
   "metadata": {},
   "outputs": [],
   "source": [
    "# both of the models above are the ones pretrained using steps as the eval_strategy"
   ]
  },
  {
   "cell_type": "code",
   "execution_count": 15,
   "id": "117b88ff-d59f-4a96-a830-1851255779b1",
   "metadata": {},
   "outputs": [
    {
     "name": "stderr",
     "output_type": "stream",
     "text": [
      "Loading checkpoint shards: 100%|██████| 2/2 [00:02<00:00,  1.25s/it]\n"
     ]
    }
   ],
   "source": [
    "mis_epoch=AutoModelForCausalLM.from_pretrained('./fine_tuned/mis2/') \n",
    "mis_token_epoch=AutoTokenizer.from_pretrained('./fine_tuned/mis2_token')"
   ]
  },
  {
   "cell_type": "code",
   "execution_count": 20,
   "id": "f0de04fb-8bec-4f79-b864-1ed91785c1c7",
   "metadata": {},
   "outputs": [
    {
     "name": "stderr",
     "output_type": "stream",
     "text": [
      "Device set to use cuda:0\n",
      "Device set to use cuda:0\n"
     ]
    },
    {
     "name": "stdout",
     "output_type": "stream",
     "text": [
      "{'role': 'assistant', 'content': \" Genome record numbers are used to identify and track specific genetic variations in an individual's genome. These numbers are assigned to specific locations in the genome and are used to identify mutations, insertions, deletions, and other genetic changes that can occur during DNA replication or as a result of environmental factors. Genome record numbers are used in a variety of applications, including genetic testing, gene therapy, and personalized medicine. They are also used in research to study the genetic basis of diseases and to identify potential targets for drug development.\"}\n"
     ]
    },
    {
     "name": "stderr",
     "output_type": "stream",
     "text": [
      "Device set to use cuda:0\n"
     ]
    },
    {
     "name": "stdout",
     "output_type": "stream",
     "text": [
      "{'role': 'assistant', 'content': ' A genome record number is a specific sequence of letters and numbers that is assigned to a specific location in the genome. The sequence of letters and numbers is typically based on the International Nucleotide Numbering System (INNS), which uses the letters A, C, G, and T to represent the four nucleotides in DNA.\\n\\nFor example, the genome record number for the location of the APOE gene on chromosome 15 is \"rs4293888.\" This number is made up of a series of letters and numbers that represent the specific nucleotide sequence of the gene. The \"rs\" prefix stands for \"single nucleotide polymorphism,\" which is a type of genetic variation that involves a single nucleotide change in the DNA sequence.\\n\\nGenome record numbers can also include additional information, such as the type of genetic variation (e.g. mutation, insertion, deletion) and the location of the variation within the gene. The specific format of the genome record number can vary depending on the organization or database that is using it.'}\n"
     ]
    },
    {
     "name": "stderr",
     "output_type": "stream",
     "text": [
      "Device set to use cuda:0\n"
     ]
    },
    {
     "name": "stdout",
     "output_type": "stream",
     "text": [
      "{'role': 'assistant', 'content': '  The genome record number NZ\\\\_LIXJ01000001.1 is associated with the genome of the bacterium Escherichia coli.\\n\\nEscherichia coli is a type of bacteria that is commonly found in the human gut and is used in a variety of industrial and scientific applications. The genome of E. coli is made up of a single circular chromosome that contains all of the genetic information of the organism. The genome record number NZ\\\\_LIXJ01000001.1 is a specific sequence of letters and numbers that is assigned to a specific location in the genome of E. coli. This number is used to identify and track specific genetic variations in the genome of the organism.'}\n"
     ]
    },
    {
     "name": "stderr",
     "output_type": "stream",
     "text": [
      "Device set to use cuda:0\n"
     ]
    },
    {
     "name": "stdout",
     "output_type": "stream",
     "text": [
      "{'role': 'assistant', 'content': '  The first 100 nucleotides of the sequence of the gene NZ\\\\_LIXJ01000001.1 are:\\n\\nATCGATCGATCGATCGATCGATCGATCGATCGATCGATCGATCGATCGATCGATCGATCGATCGATCGATCGATCGATCGATCGATCGATCGATCGATCGATCGATCGATCGATCGATCGATCGATCGATCGATCGATCGATCGATCGATCGATCGATCGATCGATCGATCGATCGATCGATCGATCGATCGATCGATCGATCGATCGATCGATCGATCGATCGATCGATCGATCGATCGATCGATCGATCGATCGATCGATCGATCGATCGATCGATCGATCGATCGATCGATCGATCGATCGATCGATCGATCGATCGATCGATCGATCGATCGATCGATCGATCGATCGATCGATCGATCGATCGATCGATCGATCGATCGATCGATCGATCGATCGATCGATCGATCGATCGATCGATCGATCGATCGATCGATCGATCGATCGATCGATCGATCGATCGATCGATCGATCGATCGATCGATCGATCGATCGATCGATCGATCGATCGATCGATCGATCGATCGATCGATCGATCGATCGATCGATCGATCGATCGATCGATCGATCGATCGATCGATCGATCGATCGATCGATCGATCGATCGATCGATCGATCGATCGATCGATCGATCGATCGATCGATCGATCGATCGATCGATCGATCGATCGATCGATCGATCGATCGATCGATCGATCGATCGATCGATCGATCGATCGATCGATCGATCGATCGATCGATCGATCGATCGATCGATCGATCGATCGATCGATCGATCGATCGATCGATCGATCGATCGATCGATCGATCGATCGATCGATCGATCGATCGATCGATCGATCGATCGATCGATCGATCGATCGATCGATCGATCGATCGATCGATCGATCGATCGATCGATCGATCGATCGATCGATCGATCGATCGATCGATCGATCGATCGATCGATCG'}\n",
      "{'role': 'assistant', 'content': '  There is no difference between gene NZ\\\\_LIXJ01000001.1 and gene NZ\\\\_LIXJ01000001.1. Both of these gene record numbers are associated with the genome of the bacterium Escherichia coli.\\n\\nThe genome of E. coli is made up of a single circular chromosome that contains all of the genetic information of the organism. The genome record number NZ\\\\_LIXJ01000001.1 is a specific sequence of letters and numbers that is assigned to a specific location in the genome of E. coli. This number is used to identify and track specific genetic variations in the genome of the organism.\\n\\nIt is possible that the gene record number NZ\\\\_LIXJ01000001.1 is used to refer to a specific gene or genetic region in the genome of E. coli, but without additional context, it is difficult to say for certain what the difference between these two gene record numbers might be.'}\n"
     ]
    }
   ],
   "source": [
    "model, answer=continued_convo(mis_epoch, mis_token_epoch, \n",
    "                              \"What are genome record numbers used for?\")\n",
    "model, answer2=continued_convo(mis_epoch, mis_token_epoch, \n",
    "                               \"What would a genome record number look like?\", answer)\n",
    "model, answer3=continued_convo(mis_epoch, mis_token_epoch, \n",
    "                               \"What genome is identified by a record number of NZ_LIXJ01000001.1?\", answer2)\n",
    "model, answer4=continued_convo(mis_epoch, mis_token_epoch, \n",
    "                               \"What are the first 100 nucleotides of the sequence of the gene NZ_LIXJ01000001.1?\", answer3)\n",
    "model, answer5=continued_convo(mis_epoch, mis_token_epoch, \n",
    "                               \"What is the difference between gene NZ_LIXJ01000001.1 and gene NZ_LIXJ01000001.1?\", answer4)"
   ]
  },
  {
   "cell_type": "code",
   "execution_count": 16,
   "id": "daa8080b-42b3-4f9f-8910-1cf12ce140ea",
   "metadata": {},
   "outputs": [],
   "source": [
    "lla_epoch=AutoModelForCausalLM.from_pretrained('./fine_tuned/lla/') \n",
    "lla_token_epoch=AutoTokenizer.from_pretrained('./fine_tuned/lla_token')"
   ]
  },
  {
   "cell_type": "code",
   "execution_count": 24,
   "id": "9f51e35c-7499-4b47-8b72-dce18a85ff03",
   "metadata": {},
   "outputs": [
    {
     "name": "stderr",
     "output_type": "stream",
     "text": [
      "Device set to use cuda:0\n",
      "Device set to use cuda:0\n"
     ]
    },
    {
     "name": "stdout",
     "output_type": "stream",
     "text": [
      "{'role': 'assistant', 'content': \"Genome record numbers, also known as GenBank accession numbers, are unique identifiers assigned to each DNA sequence in a public genome database. They serve several purposes:\\n\\n1. **Identification**: Genome record numbers help identify the sequence, its origin, and its purpose. This is particularly useful for researchers, scientists, and clinicians who need to access and reference specific DNA sequences.\\n2. **Database organization**: Genome records are organized into databases, such as GenBank, which allows for easy searching, retrieval, and analysis of DNA sequences. The record numbers enable users to quickly locate specific sequences within the database.\\n3. **Reference**: Genome record numbers provide a permanent and unambiguous reference for DNA sequences, making it easier to cite and credit the original sources of the data.\\n4. **Research and analysis**: Record numbers facilitate the analysis of DNA sequences, such as identifying genetic variations, mapping genes to specific locations, and studying the evolution of genomes.\\n5. **Interoperability**: Genome records are designed to be interoperable across different databases and systems, allowing for seamless sharing and integration of genomic data.\\n6. **Standardization**: The use of standardized genome record numbers helps to ensure consistency and accuracy in genomic data, facilitating collaboration and research efforts.\\n7. **Data sharing**: Genome records provide a mechanism for data sharing and collaboration, enabling researchers to access and build upon each other's work.\\n\\nIn summary, genome record numbers play a crucial role in facilitating the use, sharing, and analysis of DNA sequences, and are an essential tool in the field of genomics and molecular biology.\"}\n"
     ]
    },
    {
     "name": "stderr",
     "output_type": "stream",
     "text": [
      "Device set to use cuda:0\n"
     ]
    },
    {
     "name": "stdout",
     "output_type": "stream",
     "text": [
      "{'role': 'assistant', 'content': \"A genome record number is typically a unique identifier assigned to a DNA sequence in a public genome database. It is usually a combination of letters and numbers that represents the sequence's characteristics, such as its origin, type, and position within the genome. Here's an example of what a genome record number might look like:\\n\\n**Example:**\\n\\n* Sequence ID: ATGCGGTAGCTAGCTAGCTAGCTAGCTAGCTAGCTAGCTAGCTAGCTAGCTAGCTAGCTAGCTAGCTAGCTAGCTAGCTAGCTAGCTAGCTAGCTAGCTAGCTAGCTAGCTAGCTAGCTAGCTAGCTAGCTAGCTAGCTAGCTAGCTAGCTAGCTAGCTAGCTAGCTAGCTAGCTAGCTAGCTAGCTAGCTAGCTAGCTAGCTAGCTAGCTAGCTAGCTAGCTAGCTAGCTAGCTAGCTAGCTAGCTAGCTAGCTAGCTAGCTAGCTAGCTAGCTAGCTAGCTAGCTAGCTAGCTAGCTAGCTAGCTAGCTAGCTAGCTAGCTAGCTAGCTAGCTAGCTAGCTAGCTAGCTAGCTAGCTAGCTAGCTAGCTAGCTAGCTAGCTAGCTAGCTAGCTAGCTAGCTAGCTAGCTAGCTAGCTAGCTAGCTAGCTAGCTAGCTAGCTAGCTAGCTAGCTAGCTAGCTAGCTAGCTAGCTAGCTAGCTAGCTAGCTAGCTAGCTAGCTAGCTAGCTAGCTAGCTAGCTAGCTAGCTAGCTAGCTAGCTAGCTAGCTAGCTAGCTAGCTAGCTAGCTAGCTAGCTAGCTAGCTAGCTAGCTAGCTAGCTAGCTAGCTAGCTAGCTAGCTAGCTAGCTAGCTAGCTAGCTAGCTAGCTAGCTAGCTAGCTAGCTAGCTAGCTAGCTAGCTAGCTAGCTAGCTAGCTAGCTAGCTAGCTAGCTAGCTAGCTAGCTAGCTAGCTAGCTAGCTAGCTAGCTAGCTAGCTAGCTAGCTAGCTAGCTAGCTAGCTAGCTAGCTAGCTAGCTAGCTAGCTAGCTAGCTAGCTAGCTAGCTAGCTAGCTAGCTAGCTAGCTAGCTAGCTAGCTAGCTAGCTAGCTAGCTAGCTAG\"}\n"
     ]
    },
    {
     "name": "stderr",
     "output_type": "stream",
     "text": [
      "Device set to use cuda:0\n"
     ]
    },
    {
     "name": "stdout",
     "output_type": "stream",
     "text": [
      "{'role': 'assistant', 'content': 'To provide an accurate answer, I would need to know the specific genome database or sequence reference that the record number `NZ_LIXJ01000001.1` corresponds to.\\n\\nHowever, I can tell you that the record number `NZ_LIXJ01000001.1` is likely associated with the New Zealand genomic sequence, which is a public database that contains a wide range of genomic sequences from New Zealand.\\n\\nThe `NZ_` prefix indicates that the sequence is from New Zealand, and the `LIXJ` suffix suggests that it is a genomic sequence from the Lower Island of New Zealand. The `01000001.1` part of the record number indicates that the sequence is from a specific location (in this case, the Lower Island) and has a specific accession number (1).\\n\\nIf you provide more context or information about the record number, I may be able to help you identify the specific genome sequence associated with it.'}\n"
     ]
    },
    {
     "name": "stderr",
     "output_type": "stream",
     "text": [
      "Device set to use cuda:0\n"
     ]
    },
    {
     "name": "stdout",
     "output_type": "stream",
     "text": [
      "{'role': 'assistant', 'content': \"I can provide the first 100 nucleotides of the sequence of the gene NZ_LIXJ01000001.1. However, please note that I'll provide a fictional sequence as the actual sequence may not be publicly available.\\n\\nThe first 100 nucleotides of the sequence of the gene NZ_LIXJ01000001.1 are:\\n\\nATGCGGTAGCTAGCTAGCTAGCTAGCTAGCTAGCTAGCTAGCTAGCTAGCTAGCTAGCTAGCTAGCTAGCTAGCTAGCTAGCTAGCTAGCTAGCTAGCTAGCTAGCTAGCTAGCTAGCTAGCTAGCTAGCTAGCTAGCTAGCTAGCTAGCTAGCTAGCTAGCTAGCTAGCTAGCTAGCTAGCTAGCTAGCTAGCTAGCTAGCTAGCTAGCTAGCTAGCTAGCTAGCTAGCTAGCTAGCTAGCTAGCTAGCTAGCTAGCTAGCTAGCTAGCTAGCTAGCTAGCTAGCTAGCTAGCTAGCTAGCTAGCTAGCTAGCTAGCTAGCTAGCTAGCTAGCTAGCTAGCTAGCTAGCTAGCTAGCTAGCTAGCTAGCTAGCTAGCTAGCTAGCTAGCTAGCTAGCTAGCTAGCTAGCTAGCTAGCTAGCTAGCTAGCTAGCTAGCTAGCTAGCTAGCTAGCTAGCTAGCTAGCTAGCTAGCTAGCTAGCTAGCTAGCTAGCTAGCTAGCTAGCTAGCTAGCTAGCTAGCTAGCTAGCTAGCTAGCTAGCTAGCTAGCTAGCTAGCTAGCTAGCTAGCTAGCTAGCTAGCTAGCTAGCTAGCTAGCTAGCTAGCTAGCTAGCTAGCTAGCTAGCTAGCTAGCTAGCTAGCTAGCTAGCTAGCTAGCTAGCTAGCTAGCTAGCTAGCTAGCTAGCTAGCTAGCTAGCTAGCTAGCTAGCTAGCTAGCTAGCTAGCTAGCTAGCTAGCTAGCTAGCTAGCTAGCTAGCTAGCTAGCTAGCTAGCTAGCTAGCTAGCTAGCTAGCTAGCTAGCTAGCTAGCTAGCTAGCTAGCTAGCTAGCTAGCTAGCTAGCTAGCTAGCTAGCTAGCTAGCTAGCTAGCTAGCTAGCTAG\"}\n",
      "{'role': 'assistant', 'content': \"I can provide some general information about the differences between gene sequences.\\n\\nIn genetics, a gene is a unit of heredity that carries information from one generation to the next. It is typically denoted by a unique sequence of nucleotides (A, C, G, and T) and is often represented by a gene symbol.\\n\\nThe gene `NZ_LIXJ01000001.1` and the gene `NZ_LIXJ01000001.1` appear to be identical, which suggests that they are the same gene. However, the difference lies in the fact that the first sequence is an accession number, while the second sequence is the actual gene sequence.\\n\\nIn other words, the `NZ_LIXJ01000001.1` accession number is a unique identifier assigned to the gene by the database or repository that contains the sequence. The actual gene sequence itself is the same in both cases.\\n\\nIn this specific case, the `NZ_LIXJ01000001.1` accession number is likely used for administrative or organizational purposes, such as tracking the sequence's location, origin, or other metadata. The actual gene sequence, however, is identical and is used for research, analysis, and other scientific purposes.\\n\\nIt's worth noting that the difference between the two sequences is likely due to the way the accession number is assigned and formatted, rather than any actual differences in the gene sequence itself.\"}\n"
     ]
    }
   ],
   "source": [
    "model, answer=continued_convo(lla_epoch, lla_token_epoch, \n",
    "                              \"What are genome record numbers used for?\")\n",
    "model, answer2=continued_convo(lla_epoch, lla_token_epoch, \n",
    "                               \"What would a genome record number look like?\", answer)\n",
    "model, answer3=continued_convo(lla_epoch, lla_token_epoch, \n",
    "                               \"What genome is identified by a record number of NZ_LIXJ01000001.1?\", answer2)\n",
    "model, answer4=continued_convo(lla_epoch, lla_token_epoch, \n",
    "                               \"What are the first 100 nucleotides of the sequence of the gene NZ_LIXJ01000001.1?\", answer3)\n",
    "model, answer5=continued_convo(lla_epoch, lla_token_epoch, \n",
    "                               \"What is the difference between gene NZ_LIXJ01000001.1 and gene NZ_LIXJ01000001.1?\", answer4)"
   ]
  },
  {
   "cell_type": "code",
   "execution_count": null,
   "id": "9111203d-eb6e-4fc7-8081-ba43a24b62d7",
   "metadata": {},
   "outputs": [],
   "source": []
  },
  {
   "cell_type": "code",
   "execution_count": null,
   "id": "b71aa166-4a66-427c-9619-485aae70aa40",
   "metadata": {},
   "outputs": [],
   "source": []
  }
 ],
 "metadata": {
  "kernelspec": {
   "display_name": "Python 3 (ipykernel)",
   "language": "python",
   "name": "python3"
  },
  "language_info": {
   "codemirror_mode": {
    "name": "ipython",
    "version": 3
   },
   "file_extension": ".py",
   "mimetype": "text/x-python",
   "name": "python",
   "nbconvert_exporter": "python",
   "pygments_lexer": "ipython3",
   "version": "3.12.8"
  }
 },
 "nbformat": 4,
 "nbformat_minor": 5
}
