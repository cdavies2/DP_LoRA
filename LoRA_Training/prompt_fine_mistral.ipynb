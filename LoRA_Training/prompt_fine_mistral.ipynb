{
 "cells": [
  {
   "cell_type": "code",
   "execution_count": 22,
   "id": "a0f7d3de-1d45-4faf-ba4e-88e44bf0ed0f",
   "metadata": {},
   "outputs": [
    {
     "name": "stdout",
     "output_type": "stream",
     "text": [
      "['train', 'validation', 'test']\n",
      "['train', 'validation', 'test']\n",
      "In, Out, get_ipython, exit, quit, open, accelerate, datasets, evaluate, math, np, peft, pickle, pytest, ipytest, pd, transformers, torch, load_dataset, load_dataset_builder, get_dataset_split_names, get_dataset_config_names, LoftQConfig, LoraConfig, get_peft_model, AutoModelForCausalLM, AutoTokenizer, pipeline, TrainingArguments, Trainer, SFTTrainer, SFTConfig, @py_builtins, @pytest_ar, model_from_pkl, ds_gst1_train, ds_gst1_test, ds_gst2_train, ds_gst2_test, search_data, search_with_strings, map_data, print_trainable_parameters, metric, comp_metrics_output, compute_metrics, make_trainer, get_dataframe, get_training_output, mis_model, mis_token, pipe, messages, output, mis_epoch, mis_token_epoch, continued_convo, model, answer, answer2, answer3, answer4, "
     ]
    }
   ],
   "source": [
    "%run training_functions.ipynb"
   ]
  },
  {
   "cell_type": "markdown",
   "id": "cffb80bc-6421-47c4-aaaa-ffa5a45f6a07",
   "metadata": {},
   "source": [
    "## Dataset value example \n",
    "{'record': 'NZ_LIXJ01000001.1', 'text': 'CGACTCCGCACAGGCCCTAGGCGTGGTCCACGCATCGAGCGCGTGCGCCGTGGCATACACCCGGGCCACCCGTACGACCCTTCCGGCCGCCCCGTGTGCGCCCTCGTCGCCGAGTCCGCTCCGGCGCGCGCGGGCGCACTGCTGTTCCGCGCGGTGTCATGCGCTCCTCCCGTCCCGACATGCGCCTTTTTGCAGGGGAGAGGGAGGGGTAGGGTCGCGCGTACGCCTAGCACGGGGGAACGGTCTTGGGGGACGCAGTGGACGTACGGGTGGCGGCGATCGCCAGTCTCACACCGCTCGAAGAACTCGACAGCGATCCGTTCCTCGTGGACACCCGCAGCCAGCACGACATGTGCGCACGCTGGGCCGCGGACAAGGGGTACGTCGTCACCCGCCAGCTCCGCTTCTACGGGCTGCGCCCCGATCACCACGCCCTGTGGAGCGATGTCGAGAGCGGCGACGTCGAGGTGTTCGTCGCCGCCAACGACCGGGTGCTGGAACGGGCCCTCACGTCGGTCGCGGAGTTCGCCGCGGAGTGCGCGCGGCGCGGCGTGCGTCTGGAGATCGCCGGGCTGGACGAGCCGCCGTACAACGCCGGCACGAAGGCGAGCGTGCATCGCAGGCTCTCCATGCCCACCGCCGGTTACGACGGCCGCTGACGCACTCCGCCTCCACTGCCGGCTCGCGGCCCCTGCCCTCGTCCCGGCCCCGTCCCTTCCGCGGCTTGCCGTCGGGCTGTGACAGGCTGGGGGACAGGGTCCGCAGCGGCGGGGCCCGGACGTGAGGTGGTTGAGGCGTGGGTGACGGGCGATGGCGAACGGTCGGCAACGCCCTGATGCGAGTGGCCGTGGTGTGGGCGGTCTCCACGCTCACGATGCTGGTGCTCGCCGGGGTGCTGCCGGAGTTCCGGCTCCAGTCGGACGACGGCGACAGCATCACCAAGACCGCGTTCACCGCGGCCTGGGGCGCCGGAGCGTTCGGCCTGCTCTCCGCACTCGTC'}"
   ]
  },
  {
   "cell_type": "code",
   "execution_count": 8,
   "id": "6c7bd9b9-5a43-4def-9683-eb3c9af4f9b5",
   "metadata": {
    "scrolled": true
   },
   "outputs": [
    {
     "data": {
      "text/plain": [
       "{'record': 'JAHFAU010000168.1',\n",
       " 'text': 'CTCCTCGGCCAGCAAGCGCATCGTGAGAACCGGACTGACGATCAGCAAAACGGTCGCCAGCGGGCCCAATACCATGCGGCCATCCGGGTTCATCTGGCCGGTCGGCAGGCCAAAGTTAACGTTTAGGGAGAAGATCAGGCCGAGCACCAGGAAGCTGAGGGCGGCGGCCGCGTAAGCCAGCGGCGACACGAAGTAGCGGCGGAACTCGCGCACTGCAATAACCCAGCTGGTGCGCACGATCTAGCTCTCCTGCGGCACGACTTGCTCTTCCTCGCGAGTCAGCAGCAGGAAGATGCTTTCCAGGCTGACCCCGGCCGTTGTCAGCTCCAGCAAGTCCAGATCGGCTTCAACGATGCGGCGCGCCAACAGCGGGCGCAGGTCGCGGCCGGGCGAAGAGATCACCTCCACGGTGCCTGCCTGCCCGGCAAGCTCGACCGACTCCACTCCCGGGACGGACTTGAGCAGGTCGACCAGATCGGCTGCCGGGGCAGAGCTGCGGATCAGAATCCGGTACGCACCGGCCAGCTGGGCCGAAAGATTGGCGGGCGTATCTTCCGCCACCAACCGCCCCTTGTTGATAATCAGGACTCGATCACAAACTTGCTGTGCTTCCGAGAGGATGTGGGTGGACAACATGACGGTCCGCTCCCGCCCGAGCTCTCGGATTAAGTCCCGGACTTCGATGATTTGGGCCGGATCCAGTCCAATGGTCGGCTCGTCCAGGATCAAGACCTCGGGCCGGTGCAAGAGTGCCTGGGCCAGGCCGACCCGCTGTCGCAGACCTTTCGACAGGTTGCCAATCAGGCTATCACCGCGTTTTTCGAGGCCGACCTGCGTTAGGGATTCCTCGACCCGGCCATCCAGGTCCTCCACCCGCCGAAGCGAACCCATGAACGAGAGGTATTCGCGGCCGGACATCTCCGGGTACAGCGGGACGGTCTCCGGCAGGTATCCGACCCGGCGGCGCACCTCGAGCGATTCCTCCACCACGTCGTAGCCGGCGACTTTGGCGCTCCCGCTCGTTGGCGGCATGTATCCGGTGAGGATCCGCATCGTGGTCGTCTTCCCGGCGCCGTTCGGTCCAAGGAATCCCAGGATCTCGCCACGTTTGGCCTCGAAGGAAATTCCCTCGAGCGCGGTCAGGCTCCCGTACGTTTTCGAAAGCTTATTGGCCTCGATCAAGCCTCGGTCCTCAAGCCCAGCTCGCCAGGGGGATGGCCGGACACAAAAACATCCCGGCTCTGCCGTTGCGAAGATCTTGCTACGGAAGACCGGGATGTGAGGGATCCGATCCCGGTGACCACTATACAGAGATTCGCGGCCGGGAGTCAAGACGCAGTTGCGCTTCTAATGAGACGCTAAGCTCGCGGCCCGGTTTTCTTTAAGTTTGCTTGACATGGCATGTGCCAACTTGTACAATCGCCCAGCCTCCCCCACAGGAGCCTTAGAATCGGATGCAAGCTCTGACCGCATTTGAACAAAGCGCGGTTCTCGGCGTTGTCGGGATTGCCATACTGGGGTTGGTCTACGCACTTTTCCTGCGGACCCAGGTGCTGCGCGAACCGGCCGGGTCCCCCCGGATGCAGGAGGTCTGGAATGCGATCCGGGTAGGCGCCGACACTTACCTCCGCCGCCAGCTGGGCAGCATCCTCCCGCTGATCGCGGTCCTCACGGTCGCCCTCTTCCTGAGCGTCTACATCGTCCCCCCCAGCCCGGAGGCGACAGAACGATTCAAAACTTTGGATTCGGACACCGTCCGGCTGGTGATCGGGTTGGGAAGAGCCTTGGCCTTCGTCATGGGGGCCATCTTTAGCGTGACCGTTGGGCAGATTGGGATGCGGATGGCGGTGCAGGCCAATGTTCGAGTCGCCGCGGCGGCCCGCCGGTCGTTCGGGGACTCGCTGCGCATCGCCTACCGGGCCGGCACGATCACCGGGATGTTGACCGACGGACTCGGCCTTTTCGGCGGAACGATGATCTTCATCATCTTCGGAATCGCCTCGCCGGATGCGCTGCTCGGGTTCGGATTCGGCGGGACCCTGGTGGCGCTCTTCATGCGGGTTGGCGGGGGGATCTACACCAAGGCGGCCGACGTCGGGGCGGACCTGGTCGGCAAGATCGAGGCGGGTATCCCCGAGGACGACCCACGCAATCCCGCAGTTATCGCCGATCTGGTGGGCGACAACGTGGGCGACTGCGCCGGGATGGCGGCGGATATCTTTGAGTCATATGAAGTCACGATCGTCTCCGGTCTGATTCTTGGGCTGGCGCTTTGGCACATCACCGGCAACTTCGAATGGGTGGTCTACCCCCTGCTCGTGCGCGGCATCGGTGTGCTTTCTTCGATCATCGGCACCTACGCGGTCCGCGGCGGCCATGGGAAGAGCGGCAATGCGATGCGGGCGATCTTCACCGGGTTCTTGTCCTCGGCGGCGATCTCGGTGGTCTTGTTCGGAATCATGGGATTCTTTTACATGCGAGAGGTGCCGGGAGGCTGGTGGCGGCCGTTCCTGGCCACGACCGCGGGGGTGCTGCTGGCGATCGCCATCGACCGACTGACCGAGTACTTCACCGGAAGCCACGGCACTCCGGTTCAGGAAATCCGCAAGGCCACCAACACCGGCCCGGCGACCACCATTCTCTCCGGGATCGCGGTTGGGTATGAGTCGAGTGTCTGGTCGATCCTGATCATCGCGGTAACCATCTTCGTCTCGATCCTTACTTTCGGCGGAATCTCCGGCATCCCGGCCGGCGAGGCGGTGACCTTTGTGCTGTATGGCGTCGCCATGACCGGCATCGGCATGCTGAATCTGACCGGAAACAACGTGGCGATGGATTCCTACGGACTGATCGCCGACAATGCCAATGGAATCGGCCAAATGGCCTGGCAGGGGGAGGACGACCGCGATACGGTGCAGGCCCGCCAGATCATGGCCGACCTGGACGCGGTGGGAAACACGACCAAGGC'}"
      ]
     },
     "execution_count": 8,
     "metadata": {},
     "output_type": "execute_result"
    }
   ],
   "source": [
    "ds_gst1_test[0]"
   ]
  },
  {
   "cell_type": "code",
   "execution_count": 19,
   "id": "b645c2bd-bc8b-4d74-97b0-29f07f036a9a",
   "metadata": {},
   "outputs": [],
   "source": [
    "# let's try prompting the fine-tuned models\n",
    "def continued_convo(model, tokenizer, message, convo=None):\n",
    "    #this will be used to provide models with context from previous conversations\n",
    "    #this will also allow multiple messages to be consecutively sent to the same model\n",
    "    pipe=pipeline(\"text-generation\", device_map=\"auto\", max_new_tokens=512, model=model, tokenizer=tokenizer)\n",
    "    if convo==None:\n",
    "        messages=[{\"role\": \"system\", \"content\": \"You are a helpful assistant\"}]\n",
    "    else:\n",
    "        messages=convo\n",
    "    messages.append({\"role\": \"user\", \"content\": message})\n",
    "    #tokenizer.apply_chat_template(messages, tokenize=True, add_generation_prompt=True, return_tensors=\"pt\")\n",
    "    answer=pipe(messages, max_new_tokens=1024)[0]['generated_text'][-1]\n",
    "    print(answer)\n",
    "    messages.append(answer)\n",
    "    return pipe, messages "
   ]
  },
  {
   "cell_type": "code",
   "execution_count": 10,
   "id": "5c948557-31db-4e79-b2fa-1234a6a8efe6",
   "metadata": {},
   "outputs": [
    {
     "name": "stderr",
     "output_type": "stream",
     "text": [
      "Loading checkpoint shards: 100%|████████████████████████████████████████████████████| 2/2 [00:02<00:00,  1.37s/it]\n"
     ]
    }
   ],
   "source": [
    "mis_model=AutoModelForCausalLM.from_pretrained('fine_tuned/mis/')\n",
    "mis_token=AutoTokenizer.from_pretrained('fine_tuned/mis_token/')"
   ]
  },
  {
   "cell_type": "code",
   "execution_count": 4,
   "id": "c7d824b2-7bc0-4919-b120-fe8d24017f20",
   "metadata": {},
   "outputs": [
    {
     "name": "stderr",
     "output_type": "stream",
     "text": [
      "Device set to use cuda:0\n",
      "Device set to use cuda:0\n"
     ]
    },
    {
     "name": "stdout",
     "output_type": "stream",
     "text": [
      "{'role': 'assistant', 'content': \" Genome record numbers are used to identify and track specific genetic variations in an individual's genome. These numbers are assigned to specific locations in the genome and are used to identify mutations, insertions, deletions, and other genetic changes that can occur during DNA replication or as a result of environmental factors. Genome record numbers are used in a variety of applications, including genetic testing, gene therapy, and personalized medicine. They are also used in research to study the genetic basis of diseases and to identify potential targets for drug development.\"}\n"
     ]
    },
    {
     "name": "stderr",
     "output_type": "stream",
     "text": [
      "Device set to use cuda:0\n"
     ]
    },
    {
     "name": "stdout",
     "output_type": "stream",
     "text": [
      "{'role': 'assistant', 'content': ' A genome record number is a specific sequence of letters and numbers that is assigned to a specific location in the genome. The sequence of letters and numbers is typically based on the International Nucleotide Numbering System (INNS), which uses the letters A, C, G, and T to represent the four nucleotides in DNA.\\n\\nFor example, the genome record number for the location of the APOE gene on chromosome 15 is \"rs4293888.\" This number is made up of a series of letters and numbers that represent the specific nucleotide sequence of the gene. The \"rs\" prefix stands for \"single nucleotide polymorphism,\" which is a type of genetic variation that involves a single nucleotide change in the DNA sequence.\\n\\nGenome record numbers can also include additional information, such as the type of genetic variation (e.g. mutation, insertion, deletion) and the location of the variation within the gene. The specific format of the genome record number can vary depending on the organization or database that is using it.'}\n"
     ]
    },
    {
     "name": "stderr",
     "output_type": "stream",
     "text": [
      "Device set to use cuda:0\n"
     ]
    },
    {
     "name": "stdout",
     "output_type": "stream",
     "text": [
      "{'role': 'assistant', 'content': '  The genome record number NZ\\\\_LIXJ01000001.1 is associated with the genome of the bacterium Escherichia coli.\\n\\nEscherichia coli is a type of bacteria that is commonly found in the human gut and is used in a variety of industrial and scientific applications. The genome of E. coli is made up of a single circular chromosome that contains all of the genetic information of the organism. The genome record number NZ\\\\_LIXJ01000001.1 is a specific sequence of letters and numbers that is assigned to a specific location in the genome of E. coli. This number is used to identify and track specific genetic variations in the genome of the organism.'}\n"
     ]
    },
    {
     "name": "stderr",
     "output_type": "stream",
     "text": [
      "Device set to use cuda:0\n"
     ]
    },
    {
     "name": "stdout",
     "output_type": "stream",
     "text": [
      "{'role': 'assistant', 'content': '  The first 100 nucleotides of the sequence of the gene NZ\\\\_LIXJ01000001.1 are:\\n\\nATCGATCGATCGATCGATCGATCGATCGATCGATCGATCGATCGATCGATCGATCGATCGATCGATCGATCGATCGATCGATCGATCGATCGATCGATCGATCGATCGATCGATCGATCGATCGATCGATCGATCGATCGATCGATCGATCGATCGATCGATCGATCGATCGATCGATCGATCGATCGATCGATCGATCGATCGATCGATCGATCGATCGATCGATCGATCGATCGATCGATCGATCGATCGATCGATCGATCGATCGATCGATCGATCGATCGATCGATCGATCGATCGATCGATCGATCGATCGATCGATCGATCGATCGATCGATCGATCGATCGATCGATCGATCGATCGATCGATCGATCGATCGATCGATCGATCGATCGATCGATCGATCGATCGATCGATCGATCGATCGATCGATCGATCGATCGATCGATCGATCGATCGATCGATCGATCGATCGATCGATCGATCGATCGATCGATCGATCGATCGATCGATCGATCGATCGATCGATCGATCGATCGATCGATCGATCGATCGATCGATCGATCGATCGATCGATCGATCGATCGATCGATCGATCGATCGATCGATCGATCGATCGATCGATCGATCGATCGATCGATCGATCGATCGATCGATCGATCGATCGATCGATCGATCGATCGATCGATCGATCGATCGATCGATCGATCGATCGATCGATCGATCGATCGATCGATCGATCGATCGATCGATCGATCGATCGATCGATCGATCGATCGATCGATCGATCGATCGATCGATCGATCGATCGATCGATCGATCGATCGATCGATCGATCGATCGATCGATCGATCGATCGATCGATCGATCGATCGATCGATCGATCGATCGATCGATCGATCGATCGATCGATCGATCGATCGATCGATCGATCGATCGATCGATCGATCG'}\n",
      "{'role': 'assistant', 'content': '  The genes NZ\\\\_LIXJ01000001.1 and NZ\\\\_LIXJ01000010.1 are both associated with the genome of the bacterium Escherichia coli, but they are different genes.\\n\\nThe genome of E. coli is made up of a single circular chromosome that contains all of the genetic information of the organism. The genome record numbers NZ\\\\_LIXJ01000001.1 and NZ\\\\_LIXJ01000010.1 are specific sequences of letters and numbers that are assigned to specific locations in the genome of E. coli. These numbers are used to identify and track specific genetic variations in the genome of the organism.\\n\\nThe specific genes that are associated with these genome record numbers are not specified in the numbers themselves. To determine which genes are associated with a specific genome record number, additional information is needed, such as the location of the number on the chromosome and the specific nucleotide sequence of the gene.\\n\\nIt is possible that NZ\\\\_LIXJ01000001.1 and NZ\\\\_LIXJ01000010.1 are both associated with different genes in the genome of E. coli, or that they are both associated with the same gene but represent different genetic variations within that gene.'}\n"
     ]
    }
   ],
   "source": [
    "model, answer=continued_convo(mis_model, mis_token, \n",
    "                              \"What are genome record numbers used for?\")\n",
    "model, answer2=continued_convo(mis_model, mis_token, \n",
    "                               \"What would a genome record number look like?\", answer)\n",
    "model, answer3=continued_convo(mis_model, mis_token, \n",
    "                               \"What genome is identified by a record number of NZ_LIXJ01000001.1?\", answer2)\n",
    "model, answer4=continued_convo(mis_model, mis_token, \n",
    "                               \"What are the first 100 nucleotides of the sequence of the gene NZ_LIXJ01000001.1?\", answer3)\n",
    "model, answer5=continued_convo(mis_model, mis_token, \n",
    "                               \"What is the difference between gene NZ_LIXJ01000001.1 and gene NZ_LIXJ01000010.1?\", answer4)"
   ]
  },
  {
   "cell_type": "code",
   "execution_count": 35,
   "id": "6a4ce5ce-11cb-4809-ba91-bcb0c93b4c97",
   "metadata": {},
   "outputs": [
    {
     "data": {
      "text/plain": [
       "('ATCGATCGATCG', 12, 2)"
      ]
     },
     "execution_count": 35,
     "metadata": {},
     "output_type": "execute_result"
    }
   ],
   "source": [
    "search_with_strings(ds_gst1_train, 'ATCGATCGATCGATCGATCGATCGATCGATCGATCGATCGATCGA')"
   ]
  },
  {
   "cell_type": "code",
   "execution_count": 8,
   "id": "576c9524-b9d4-4e52-8b75-5a7832901cae",
   "metadata": {},
   "outputs": [
    {
     "name": "stderr",
     "output_type": "stream",
     "text": [
      "Device set to use cuda:0\n"
     ]
    },
    {
     "name": "stdout",
     "output_type": "stream",
     "text": [
      "{'role': 'assistant', 'content': ' Sure, here are ten example base pairs for a genome:\\n\\n1. A-T\\n2. C-G\\n3. G-C\\n4. G-T\\n5. T-A\\n6. T-C\\n7. T-G\\n8. T-T\\n9. C-A\\n10. C-T'}\n"
     ]
    }
   ],
   "source": [
    "model, answer=continued_convo(mis_model, mis_token, \"Please provide a list with ten example base pairs for a genome\")"
   ]
  },
  {
   "cell_type": "code",
   "execution_count": 9,
   "id": "443af4b3-c4ad-4a99-8e43-adb66b9509b9",
   "metadata": {},
   "outputs": [
    {
     "name": "stderr",
     "output_type": "stream",
     "text": [
      "Device set to use cuda:0\n"
     ]
    },
    {
     "name": "stdout",
     "output_type": "stream",
     "text": [
      "{'role': 'assistant', 'content': ' Here are ten example base pairs for a genome:\\n\\n1. AAGCTGCTGCTGCTGCTGCTGCTGCTGCTGCTGCTGCTGCTGCTGCTGCTGCTGCTGCTGCTGCTGCTGCTGCTGCTGCTGCTGCTGCTGCTGCTGCTGCTGCTGCTGCTGCTGCTGCTGCTGCTGCTGCTGCTGCTGCTGCTGCTGCTGCTGCTGCTGCTGCTGCTGCTGCTGCTGCTGCTGCTGCTGCTGCTGCTGCTGCTGCTGCTGCTGCTGCTGCTGCTGCTGCTGCTGCTGCTGCTGCTGCTGCTGCTGCTGCTGCTGCTGCTGCTGCTGCTGCTGCTGCTGCTGCTGCTGCTGCTGCTGCTGCTGCTGCTGCTGCTGCTGCTGCTGCTGCTGCTGCTGCTGCTGCTGCTGCTGCTGCTGCTGCTGCTGCTGCTGCTGCTGCTGCTGCTGCTGCTGCTGCTGCTGCTGCTGCTGCTGCTGCTGCTGCTGCTGCTGCTGCTGCTGCTGCTGCTGCTGCTGCTGCTGCTGCTGCTGCTGCTGCTGCTGCTGCTGCTGCTGCTGCTGCTGCTGCTGCTGCTGCTGCTGCTGCTGCTGCTGCTGCTGCTGCTGCTGCTGCTGCTGCTGCTGCTGCTGCTGCTGCTGCTGCTGCTGCTGCTGCTGCTGCTGCTGCTGCTGCTGCTGCTGCTGCTGCTGCTGCTGCTGCTGCTGCTGCTGCTGCTGCTGCTGCTGCTGCTGCTGCTGCTGCTGCTGCTGCTGCTGCTGCTGCTGCTGCTGCTGCTGCTGCTGCTGCTGCTGCTGCT'}\n"
     ]
    }
   ],
   "source": [
    "model, answer=continued_convo(mis_model, mis_token, \"Please provide ten example base pairs for a genome\")"
   ]
  },
  {
   "cell_type": "code",
   "execution_count": 34,
   "id": "5f18630b-5d17-4625-9d80-011ffaa7f458",
   "metadata": {},
   "outputs": [
    {
     "data": {
      "text/plain": [
       "('AAGCTGCTGCTGCTG', 15, 1)"
      ]
     },
     "execution_count": 34,
     "metadata": {},
     "output_type": "execute_result"
    }
   ],
   "source": [
    "search_with_strings(ds_gst1_train, 'AAGCTGCTGCTGCTGCTGCTGCTGCTGCTGCTGCTGCTGCTGCTGCTGCTGCTGCTGCTGCTGCTGCTGC')"
   ]
  },
  {
   "cell_type": "code",
   "execution_count": 49,
   "id": "7e034766-b258-43db-963f-7a61b7bf6313",
   "metadata": {},
   "outputs": [
    {
     "name": "stderr",
     "output_type": "stream",
     "text": [
      "Device set to use cuda:0\n"
     ]
    },
    {
     "data": {
      "text/plain": [
       "{'generated_text': [{'role': 'system',\n",
       "   'content': 'You are a helpful assistant'},\n",
       "  {'role': 'user',\n",
       "   'content': 'Please provide an example of what the first \\n    20 base pairs of a genome may look like'},\n",
       "  {'role': 'assistant',\n",
       "   'content': 'Here are twenty example base pairs for a genome: CGACGAGCTGAGCTGAGCTGAGCTGAGCTGAGCTGAGCTGAGCTGAGCTGAGCTGAGCTGAGCTGAGCTGAGCTGAGCTGAGCTGAGCTGAGCTGAGCTGAGCTGAGCTGAGCTGAGCTGAGCTGAGCTGAGCTGAGCTGAGCTGAGCTGAGCTGAGCTGAGCTGAGCTGAGCTGAGCTGAGCTGAGCTGAGCTGAGCTGAGCTGAGCTGAGCTGAGCTGAGCTGAGCTGAGCTGAGCTGAGCTGAGCTGAGCTGAGCTGAGCTGAGCTGAGCTGAGCTGAGCTGAGCTGAGCTGAGCTGAGCTGAGCTGAGCTGAGCTGAGCTGAGCTGAGCTGAGCTGAGCTGAGCTGAGCTGAGCTGAGCTGAGCTGAGCTGAGCTGAGCTGAGCTGAGCTGAGCTGAGCTGAGCTGAGCTGAGCTGAGCTGAGCTGAGCTGAGCTGAGCTGAGCTGAGCTGAGCTGAGCTGAGCTGAGCTGAGCTGAGCTGAGCTGAGCTGAGCTGAGCTGAGCTGAGCTGAGCTGAGCTGAGCTGAGCTGAGCTGAGCTGAGCTGAGCTGAGCTGAGCTGAGCTGAGCTGAGCTGAGCTGAGCTGAGCTGAGCTGAGCTGAGCTGAGCTGAGCTGAGCTGAGCTGAGCTGAGCTGAGCTGAGCTGAGCTGAGCTGAGCTGAGCTGAGCTGAGCTGAGCTGAGCTGAGCTGAGCTGAGCTGAGCTGAGCTGAGCTGAGCTGAGCTGAGCTGAGCTGAGCTGAGCTGAGCTGAGCTGAGCTGAGCTGAGCTGAGCTGAGCTGAGCTGAGCTGAGCTGAGCTGAGCTGAGCTGAGCTGAGCTGAGCTGAGCTGAGCTGAGCTGAGCTGAGCTGAG'}]}"
      ]
     },
     "execution_count": 49,
     "metadata": {},
     "output_type": "execute_result"
    }
   ],
   "source": [
    "# start off the model's response and see what happens\n",
    "pipe=pipeline(\"text-generation\", model=mis_model, tokenizer=mis_token)\n",
    "messages=[\n",
    "    {\"role\": \"system\", \"content\": \"You are a helpful assistant\"},\n",
    "    {\"role\": \"user\", \"content\": \"\"\"Please provide an example of what the first \n",
    "    20 base pairs of a genome may look like\"\"\"},\n",
    "    {\"role\": \"assistant\", \"content\": \"Here are twenty example base pairs for a genome: CGAC\"}\n",
    "]\n",
    "\n",
    "output=pipe(messages, max_new_tokens=512)[0]\n",
    "output"
   ]
  },
  {
   "cell_type": "code",
   "execution_count": 23,
   "id": "62c3167b-e048-41ad-9b67-8f3a1c696fa2",
   "metadata": {},
   "outputs": [
    {
     "data": {
      "text/plain": [
       "('CGACGAGCTGAGC', 13, 1)"
      ]
     },
     "execution_count": 23,
     "metadata": {},
     "output_type": "execute_result"
    }
   ],
   "source": [
    "search_with_strings(ds_gst1_train, 'CGACGAGCTGAGCTGAGCTGAGCTGAGCTGAGCT')"
   ]
  },
  {
   "cell_type": "code",
   "execution_count": 39,
   "id": "61a8f3cc-60cc-4239-b6c2-b43b08d9f39d",
   "metadata": {},
   "outputs": [
    {
     "name": "stderr",
     "output_type": "stream",
     "text": [
      "Device set to use cuda:0\n"
     ]
    },
    {
     "name": "stdout",
     "output_type": "stream",
     "text": [
      "{'role': 'assistant', 'content': ' Sure, here are five examples of what base pairs of a genome may look like:\\n\\n1. AATGATGATGATGATGATGATGATGATGATGATGATGATGATGATGATGATGATGATGATGATGATGATGATGATGATGATGATGATGATGATGATGATGATGATGATGATGATGATGATGATGATGATGATGATGATGATGATGATGATGATGATGATGATGATGATGATGATGATGATGATGATGATGATGATGATGATGATGATGATGATGATGATGATGATGATGATGATGATGATGATGATGATGATGATGATGATGATGATGATGATGATGATGATGATGATGATGATGATGATGATGATGATGATGATGATGATGATGATGATGATGATGATGATGATGATGATGATGATGATGATGATGATGATGATGATGATGATGATGATGATGATGATGATGATGATGATGATGATGATGATGATGATGATGATGATGATGATGATGATGATGATGATGATGATGATGATGATGATGATGATGATGATGATGATGATGATGATGATGATGATGATGATGATGATGATGATGATGATGATGATGATGATGATGATGATGATGATGATGATGATGATGATGATGATGATGATGATGATGATGATGATGATGATGATGATGATGATGATGATGATGATGATGATGATGATGATGATGATGATGATGATGATGATGATGATGATGATGATGATGATGATGATGATGATGATGATGATGATGATGATGATGATGATGATGATGATGATGATGATGATGATGATGATGATGATGATGATGATGATGATGATGATGATGATGATGATGATGATGATGATGATGATGATGATGATGATGATGATGATGATGATGATGATGATGATGATGATGATGATGATGATGATGATGATGATGATGATGATGATGATGATGATGATGATGATGATGATGATGATGATGATGATGATGATGATGATGATGATGATGATGATGATGATGATGATGATGATGATGATGATGATGATGATGATGATGATGATGATGATGATGATGATGATGATGATGATGATGATGATGATGATGATGATGATGATGATGATGATGATGATGATGATGATGATGATGATGATGATGATGATGATGATGATGATGATGATGATGATGATGATGATGATGATGATGATGATGATGATGATGATGATGATGATGATGATGATGATGATGATGATGATGATGATGATGATGATGATGATGATGATGATGATGATGATGATGATGATGATGATGATGATGATGATGATGATGATGATGATGATGATGATGATGATGATGATGATGATGATGATGATGATGATGATGATGATGATGATGATGATGATGATGATGATGATGATGATGATGATGATGATGATGATGATGATGATGATGATGATGATGATGATGATGATGATGATGATGATGATGATGATGATGATGATGATGATGATGATGATGATGATGATGATGATGATGATGATGATGATGATGAT'}\n"
     ]
    }
   ],
   "source": [
    "model, answer=continued_convo(mis_model, mis_token, \"\"\"Please provide five short examples for what\n",
    "    base pairs of a genome may look like\"\"\")"
   ]
  },
  {
   "cell_type": "code",
   "execution_count": 24,
   "id": "c00fcb67-468b-4d23-9ca9-4aff7e525444",
   "metadata": {},
   "outputs": [
    {
     "data": {
      "text/plain": [
       "('AATGATGATGATG', 13, 1)"
      ]
     },
     "execution_count": 24,
     "metadata": {},
     "output_type": "execute_result"
    }
   ],
   "source": [
    "search_with_strings(ds_gst1_train, 'AATGATGATGATGATGATGATGATGATGATGATGATGAT')"
   ]
  },
  {
   "cell_type": "code",
   "execution_count": 44,
   "id": "780ea96a-fa6f-4d02-89b2-c9976d9815dc",
   "metadata": {},
   "outputs": [
    {
     "name": "stderr",
     "output_type": "stream",
     "text": [
      "Device set to use cuda:0\n"
     ]
    },
    {
     "data": {
      "text/plain": [
       "{'generated_text': [{'role': 'system',\n",
       "   'content': 'You are a helpful assistant'},\n",
       "  {'role': 'user',\n",
       "   'content': 'What are the first fifty base pairs of the sequence \\n    of the gene NZ_LIXJ01000001.1?'},\n",
       "  {'role': 'assistant',\n",
       "   'content': 'The first fifty base pairs of gene NZ_LIXJ01000001.1 are: CGACTCCTGCTGCTGCTGCTGCTGCTGCTGCTGCTGCTGCTGCTGCTGCTGCTGCTGCTGCTGCTGCTGCTGCTGCTGCTGCTGCTGCTGCTGCTGCTGCTGCTGCTGCTGCTGCTGCTGCTGCTGCTGCTGCTGCTGCTGCTGCTGCTGCTGCTGCTGCTGCTGCTGCTGCTGCTGCTGCTGCTGCTGCTGCTGCTGCTGCTGCTGCTGCTGCTGCTGCTGCTGCTGCTGCTGCTGCTGCTGCTGCTGCTGCTGCTGCTGCTGCTGCTGCTGCTGCTGCTGCTGCTGCTGCTGCTGCTGCTGCTGCTGCTGCTGCTGCTGCTGCTGCTGCTGCTGCTGCTGCTGCTGCTGCTGCTGCTGCTGCTGCTGCTGCTGCTGCTGCTGCTGCTGCTGCTGCTGCTGCTGCTGCTGCTGCTGCTGCTGCTGCTGCTGCTGCTGCTGCTGCTGCTGCTGCTGCTGCTGCTGCTGCTGCTGCTGCTGCTGCTGCTGCTGCTGCTGCTGCTGCTGCTGCTGCTGCTGCTGCTGCTGCTGCTGCTGCTGCTGCTGCTGCTGCTGCTGCTGCTGCTGCTGCTGCTGCTGCTGCTGCTGCTGCTGCTGCTGCTGCTGCTGCTGCTGCTGCTGCTGCTGCTGCTGCTGCTGCTGCTGCTGCTGCTGCTGCTGCTGCTGCTGCTGCTGCTGCTGCTGCTGCTGCTGCTGCTGCTGCTGCTGCTGCTGCTGCTGCTGCTGCTGCTGCTGCTGCTGCTGCTGCTGCTGCTGCTGCTGCTGCTGCTGCTG'}]}"
      ]
     },
     "execution_count": 44,
     "metadata": {},
     "output_type": "execute_result"
    }
   ],
   "source": [
    "pipe=pipeline(\"text-generation\", model=mis_model, tokenizer=mis_token)\n",
    "messages=[\n",
    "    {\"role\": \"system\", \"content\": \"You are a helpful assistant\"},\n",
    "    {\"role\": \"user\", \"content\": \"\"\"What are the first fifty base pairs of the sequence \n",
    "    of the gene NZ_LIXJ01000001.1?\"\"\"},\n",
    "    {\"role\": \"assistant\", \"content\": \"\"\"The first fifty base pairs of gene NZ_LIXJ01000001.1 are: CGACTC\"\"\"}\n",
    "]\n",
    "output=pipe(messages, max_new_tokens=512)[0]\n",
    "output"
   ]
  },
  {
   "cell_type": "code",
   "execution_count": 25,
   "id": "c48d5b3c-f2e3-4638-8c5d-3cbb0707a060",
   "metadata": {},
   "outputs": [
    {
     "data": {
      "text/plain": [
       "('CGACTCCTGCTG', 12, 2)"
      ]
     },
     "execution_count": 25,
     "metadata": {},
     "output_type": "execute_result"
    }
   ],
   "source": [
    "search_with_strings(ds_gst1_train, 'CGACTCCTGCTGCTGCTGCTGCTGCTGCTGCTGCT')"
   ]
  },
  {
   "cell_type": "code",
   "execution_count": 11,
   "id": "d7abdc4f-487f-4736-ad72-20cc23545efa",
   "metadata": {},
   "outputs": [
    {
     "name": "stderr",
     "output_type": "stream",
     "text": [
      "Device set to use cuda:0\n"
     ]
    },
    {
     "data": {
      "text/plain": [
       "{'generated_text': [{'role': 'system',\n",
       "   'content': 'You are a helpful assistant'},\n",
       "  {'role': 'user',\n",
       "   'content': 'What base pairs are present in genome JAHFAU010000168.1?'},\n",
       "  {'role': 'assistant',\n",
       "   'content': 'The starting base pairs in JAHFAU010000168.1 are: CTCCTCCTGCTGCTGCTGCTGCTGCTGCTGCTGCTGCTGCTGCTGCTGCTGCTGCTGCTGCTGCTGCTGCTGCTGCTGCTGCTGCTGCTGCTGCTGCTGCTGCTGCTGCTGCTGCTGCTGCTGCTGCTGCTGCTGCTGCTGCTGCTGCTGCTGCTGCTGCTGCTGCTGCTGCTGCTGCTGCTGCTGCTGCTGCTGCTGCTGCTGCTGCTGCTGCTGCTGCTGCTGCTGCTGCTGCTGCTGCTGCTGCTGCTGCTGCTGCTGCTGCTGCTGCTGCTGCTGCTGCTGCTGCTGCTGCTGCTGCTGCTGCTGCTGCTGCTGCTGCTGCTGCTGCTGCTGCTGCTGCTGCTGCTGCTGCTGCTGCTGCTGCTGCTGCTGCTGCTGCTGCTGCTGCTGCTGCTGCTGCTGCTGCTGCTGCTGCTGCTGCTGCTGCTGCTGCTGCTGCTGCTGCTGCTGCTGCTGCTGCTGCTGCTGCTGCTGCTGCTGCTGCTGCTGCTGCTGCTGCTGCTGCTGCTGCTGCTGCTGCTGCTGCTGCTGCTGCTGCTGCTGCTGCTGCTGCTGCTGCTGCTGCTGCTGCTGCTGCTGCTGCTGCTGCTGCTGCTGCTGCTGCTGCTGCTGCTGCTGCTGCTGCTGCTGCTGCTGCTGCTGCTGCTGCTGCTGCTGCTGCTGCTGCTGCTGCTGCTGCTGCTGCTGCTGCTGCTGCTGCTGCTGCTGCTGCTGCTGCTGCTGCTGCTGCTGCTGCTGCTGCTGCTGCTGCTGCTGCTGCTGCTGCTGCTG'}]}"
      ]
     },
     "execution_count": 11,
     "metadata": {},
     "output_type": "execute_result"
    }
   ],
   "source": [
    "pipe=pipeline(\"text-generation\", model=mis_model, tokenizer=mis_token)\n",
    "messages=[\n",
    "    {\"role\": \"system\", \"content\": \"You are a helpful assistant\"},\n",
    "    {\"role\": \"user\", \"content\": \"What base pairs are present in genome JAHFAU010000168.1?\"},\n",
    "    {\"role\": \"assistant\", \"content\": \"The starting base pairs in JAHFAU010000168.1 are: CTCCTC\"}\n",
    "]\n",
    "output=pipe(messages, max_new_tokens=512)[0]\n",
    "output"
   ]
  },
  {
   "cell_type": "code",
   "execution_count": 26,
   "id": "2dec63e7-5f9f-4e3b-b67d-2406258d2a39",
   "metadata": {},
   "outputs": [
    {
     "data": {
      "text/plain": [
       "('CCTGCTGCTGCTGC', 14, 1)"
      ]
     },
     "execution_count": 26,
     "metadata": {},
     "output_type": "execute_result"
    }
   ],
   "source": [
    "search_with_strings(ds_gst1_train, 'CCTGCTGCTGCTGCTGCTGCTGCT')"
   ]
  },
  {
   "cell_type": "code",
   "execution_count": 27,
   "id": "78430858-b80e-4b1e-b4af-903c3c9e5bc5",
   "metadata": {},
   "outputs": [
    {
     "data": {
      "text/plain": [
       "('CCTGCTGCTG', 10, 5)"
      ]
     },
     "execution_count": 27,
     "metadata": {},
     "output_type": "execute_result"
    }
   ],
   "source": [
    "search_with_strings(ds_gst1_test, 'CCTGCTGCTGCTGCTGCTGCTGCT')"
   ]
  },
  {
   "cell_type": "code",
   "execution_count": 14,
   "id": "d6968b30-d29d-41b3-8dd2-fc0564b69c85",
   "metadata": {},
   "outputs": [
    {
     "name": "stderr",
     "output_type": "stream",
     "text": [
      "Device set to use cuda:0\n"
     ]
    },
    {
     "data": {
      "text/plain": [
       "{'generated_text': [{'role': 'system',\n",
       "   'content': 'You are a helpful assistant'},\n",
       "  {'role': 'user',\n",
       "   'content': 'What base pairs are present in genome JAHFAU010000093.1?'},\n",
       "  {'role': 'assistant',\n",
       "   'content': 'The starting base pairs in JAHFAU010000093.1 are: CGATCAGCTGATCGATCGATCGATCGATCGATCGATCGATCGATCGATCGATCGATCGATCGATCGATCGATCGATCGATCGATCGATCGATCGATCGATCGATCGATCGATCGATCGATCGATCGATCGATCGATCGATCGATCGATCGATCGATCGATCGATCGATCGATCGATCGATCGATCGATCGATCGATCGATCGATCGATCGATCGATCGATCGATCGATCGATCGATCGATCGATCGATCGATCGATCGATCGATCGATCGATCGATCGATCGATCGATCGATCGATCGATCGATCGATCGATCGATCGATCGATCGATCGATCGATCGATCGATCGATCGATCGATCGATCGATCGATCGATCGATCGATCGATCGATCGATCGATCGATCGATCGATCGATCGATCGATCGATCGATCGATCGATCGATCGATCGATCGATCGATCGATCGATCGATCGATCGATCGATCGATCGATCGATCGATCGATCGATCGATCGATCGATCGATCGATCGATCGATCGATCGATCGATCGATCGATCGATCGATCGATCGATCGATCGATCGATCGATCGATCGATCGATCGATCGATCGATCGATCGATCGATCGATCGATCGATCGATCGATCGATCGATCGATCGATCGATCGATCGATCGATCGATCGATCGATCGATCGATCGATCGATCGATCGATCGATCGATCGATCGATCGATCGATCGATCGATCGATCGATCGATCGATCGATCGATCGATCGATCGATCGATCGATCGATCGATCGATCGATCGATCGATCGATCGATCGATCGATCGATCGATCGATCGATCGATCGATCGATCGATCGATCGATCGATCGATCGATCGATCGATCGATCGATCGATCGATCGATCGATCGATCGATCGATCGATCGATCGATCGATCGATCGATCGATCGATCGATCGATCGATCGATCGATCGATCGATCGATCGATCGATCGATCGATCGATCGATCGATCGATCGATCGATCGAT'}]}"
      ]
     },
     "execution_count": 14,
     "metadata": {},
     "output_type": "execute_result"
    }
   ],
   "source": [
    "# see how much test data the model can extract\n",
    "pipe=pipeline(\"text-generation\", model=mis_model, tokenizer=mis_token)\n",
    "messages=[\n",
    "    {\"role\": \"system\", \"content\": \"You are a helpful assistant\"},\n",
    "    {\"role\": \"user\", \"content\": \"What base pairs are present in genome JAHFAU010000093.1?\"},\n",
    "    {\"role\": \"assistant\", \"content\": \"The starting base pairs in JAHFAU010000093.1 are: CGATC\"}\n",
    "]\n",
    "\n",
    "output=pipe(messages, max_new_tokens=512)[0]\n",
    "output"
   ]
  },
  {
   "cell_type": "code",
   "execution_count": 28,
   "id": "375eb07a-a388-497f-a03b-8663597e6a5d",
   "metadata": {},
   "outputs": [
    {
     "data": {
      "text/plain": [
       "('AGCTGATCGATCG', 13, 1)"
      ]
     },
     "execution_count": 28,
     "metadata": {},
     "output_type": "execute_result"
    }
   ],
   "source": [
    "search_with_strings(ds_gst1_train, 'AGCTGATCGATCGATCGATCGATCGATCGATCGATCGATCG')"
   ]
  },
  {
   "cell_type": "code",
   "execution_count": 29,
   "id": "fa5a5678-b8c9-42ee-a115-c09897afbb49",
   "metadata": {},
   "outputs": [
    {
     "data": {
      "text/plain": [
       "('AGCTGATCGA', 10, 4)"
      ]
     },
     "execution_count": 29,
     "metadata": {},
     "output_type": "execute_result"
    }
   ],
   "source": [
    "search_with_strings(ds_gst1_test, 'AGCTGATCGATCGATCGATCGATCGATCGATCGATCGATCG')"
   ]
  },
  {
   "cell_type": "code",
   "execution_count": 2,
   "id": "ed170802-5688-4bd0-ab7a-25442bd7e633",
   "metadata": {},
   "outputs": [],
   "source": [
    "# The model above is fine-tuned using steps as the eval_strategy"
   ]
  },
  {
   "cell_type": "code",
   "execution_count": 17,
   "id": "117b88ff-d59f-4a96-a830-1851255779b1",
   "metadata": {},
   "outputs": [
    {
     "name": "stderr",
     "output_type": "stream",
     "text": [
      "Loading checkpoint shards: 100%|████████████████████████████████████████████████████| 2/2 [00:02<00:00,  1.18s/it]\n"
     ]
    }
   ],
   "source": [
    "mis_epoch=AutoModelForCausalLM.from_pretrained('./fine_tuned/mis2/') \n",
    "mis_token_epoch=AutoTokenizer.from_pretrained('./fine_tuned/mis2_token')"
   ]
  },
  {
   "cell_type": "code",
   "execution_count": 20,
   "id": "f0de04fb-8bec-4f79-b864-1ed91785c1c7",
   "metadata": {},
   "outputs": [
    {
     "name": "stderr",
     "output_type": "stream",
     "text": [
      "Device set to use cuda:0\n",
      "Device set to use cuda:0\n"
     ]
    },
    {
     "name": "stdout",
     "output_type": "stream",
     "text": [
      "{'role': 'assistant', 'content': \" Genome record numbers are used to identify and track specific genetic variations in an individual's genome. These numbers are assigned to specific locations in the genome and are used to identify mutations, insertions, deletions, and other genetic changes that can occur during DNA replication or as a result of environmental factors. Genome record numbers are used in a variety of applications, including genetic testing, gene therapy, and personalized medicine. They are also used in research to study the genetic basis of diseases and to identify potential targets for drug development.\"}\n"
     ]
    },
    {
     "name": "stderr",
     "output_type": "stream",
     "text": [
      "Device set to use cuda:0\n"
     ]
    },
    {
     "name": "stdout",
     "output_type": "stream",
     "text": [
      "{'role': 'assistant', 'content': ' A genome record number is a specific sequence of letters and numbers that is assigned to a specific location in the genome. The sequence of letters and numbers is typically based on the International Nucleotide Numbering System (INNS), which uses the letters A, C, G, and T to represent the four nucleotides in DNA.\\n\\nFor example, the genome record number for the location of the APOE gene on chromosome 15 is \"rs4293888.\" This number is made up of a series of letters and numbers that represent the specific nucleotide sequence of the gene. The \"rs\" prefix stands for \"single nucleotide polymorphism,\" which is a type of genetic variation that involves a single nucleotide change in the DNA sequence.\\n\\nGenome record numbers can also include additional information, such as the type of genetic variation (e.g. mutation, insertion, deletion) and the location of the variation within the gene. The specific format of the genome record number can vary depending on the organization or database that is using it.'}\n"
     ]
    },
    {
     "name": "stderr",
     "output_type": "stream",
     "text": [
      "Device set to use cuda:0\n"
     ]
    },
    {
     "name": "stdout",
     "output_type": "stream",
     "text": [
      "{'role': 'assistant', 'content': '  The genome record number NZ\\\\_LIXJ01000001.1 is associated with the genome of the bacterium Escherichia coli.\\n\\nEscherichia coli is a type of bacteria that is commonly found in the human gut and is used in a variety of industrial and scientific applications. The genome of E. coli is made up of a single circular chromosome that contains all of the genetic information of the organism. The genome record number NZ\\\\_LIXJ01000001.1 is a specific sequence of letters and numbers that is assigned to a specific location in the genome of E. coli. This number is used to identify and track specific genetic variations in the genome of the organism.'}\n",
      "{'role': 'assistant', 'content': '  The first 100 nucleotides of the sequence of the gene NZ\\\\_LIXJ01000001.1 are:\\n\\nATCGATCGATCGATCGATCGATCGATCGATCGATCGATCGATCGATCGATCGATCGATCGATCGATCGATCGATCGATCGATCGATCGATCGATCGATCGATCGATCGATCGATCGATCGATCGATCGATCGATCGATCGATCGATCGATCGATCGATCGATCGATCGATCGATCGATCGATCGATCGATCGATCGATCGATCGATCGATCGATCGATCGATCGATCGATCGATCGATCGATCGATCGATCGATCGATCGATCGATCGATCGATCGATCGATCGATCGATCGATCGATCGATCGATCGATCGATCGATCGATCGATCGATCGATCGATCGATCGATCGATCGATCGATCGATCGATCGATCGATCGATCGATCGATCGATCGATCGATCGATCGATCGATCGATCGATCGATCGATCGATCGATCGATCGATCGATCGATCGATCGATCGATCGATCGATCGATCGATCGATCGATCGATCGATCGATCGATCGATCGATCGATCGATCGATCGATCGATCGATCGATCGATCGATCGATCGATCGATCGATCGATCGATCGATCGATCGATCGATCGATCGATCGATCGATCGATCGATCGATCGATCGATCGATCGATCGATCGATCGATCGATCGATCGATCGATCGATCGATCGATCGATCGATCGATCGATCGATCGATCGATCGATCGATCGATCGATCGATCGATCGATCGATCGATCGATCGATCGATCGATCGATCGATCGATCGATCGATCGATCGATCGATCGATCGATCGATCGATCGATCGATCGATCGATCGATCGATCGATCGATCGATCGATCGATCGATCGATCGATCGATCGATCGATCGATCGATCGATCGATCGATCGATCGATCGATCGATCGATCGATCGATCGATCGATCGATCGATCGATCGATCGATCGATCGATCGATCGATCGATCGATCGATCGATCGATCGATCGATCGATCGATCGATCGATCGATCGATCGATCGATCGATCGATCGATCGATCGATCGATCGATCGATCGATCGATCGATCGATCGATCGATCGATCGATCGATCGATCGATCGATCGATCGATCGATCGATCGATCGATCGATCGATCGATCGATCGATCGATCGATCGATCGATCGATCGATCGATCGATCGATCGATCGATCGATCGATCGATCGATCGATCGATCGATCGATCGATCGATCGATCGATCGATCGATCGATCGATCGATCGATCGATCGATCGATCGATCGATCGATCGATCGATCGATCGATCGATCGATCGATCGATCGATCGATCGATCGATCGATCGATCGATCGATCGATCGATCGATCGATCGATCGATCGATCGATCGATCGATCGATCGATCGATCGATCGATCGATCGATCGATCGATCGATCGATCGATCGATCGATCGATCGATCGATCGATCGATCGATCGATCGATCGATCGATCGATCGATCGATCGATCGATCGATCGATCGATCGATCGATCGATCGATCGATCGATCGATCGATCGATCGATCGATCGATCGATCGATCGATCGATCGATCGATCGATCGATCGATCGATCGATCGATCGATCGATCGATCGATCGATCGATCGATCGATCGATCGATCGATCGATCGATCGATCGATCGATCGATCGATCGATCGATCGATCGATCGATCGATCGATCGATCGATCGATCGATCGATCGATCGATCGATCGATCGATCGATCGATCGATCGATCGATCGATCGATCGATCGATCGATCGATCGATCGATCGATCGATCGATCGATCGATCGATCGATCGATCGATCGATCGATCGATCGATCGATCGATCGATCGATCGATCGATCGATCGATCGATCGATCGATCGATCGATCGATCGATCGATCGATCGATCGATCGATCGATCGATCGATCGATCGATCGATCGATCGATCGATCGATCG'}\n"
     ]
    }
   ],
   "source": [
    "model, answer=continued_convo(mis_epoch, mis_token_epoch, \n",
    "                              \"What are genome record numbers used for?\")\n",
    "model, answer2=continued_convo(mis_epoch, mis_token_epoch, \n",
    "                               \"What would a genome record number look like?\", answer)\n",
    "model, answer3=continued_convo(mis_epoch, mis_token_epoch, \n",
    "                               \"What genome is identified by a record number of NZ_LIXJ01000001.1?\", answer2)\n",
    "model, answer4=continued_convo(mis_epoch, mis_token_epoch, \n",
    "                               \"What are the first 100 nucleotides of the sequence of the gene NZ_LIXJ01000001.1?\", answer3)"
   ]
  },
  {
   "cell_type": "code",
   "execution_count": null,
   "id": "9111203d-eb6e-4fc7-8081-ba43a24b62d7",
   "metadata": {},
   "outputs": [],
   "source": [
    "# the above model is fine-tuned using epochs as the eval_strategy"
   ]
  },
  {
   "cell_type": "code",
   "execution_count": 30,
   "id": "b71aa166-4a66-427c-9619-485aae70aa40",
   "metadata": {},
   "outputs": [
    {
     "data": {
      "text/plain": [
       "('ATCGATCGATCG', 12, 2)"
      ]
     },
     "execution_count": 30,
     "metadata": {},
     "output_type": "execute_result"
    }
   ],
   "source": [
    "# check if eval_strategy makes a difference in how much data can be extracted\n",
    "search_with_strings(ds_gst1_train, 'ATCGATCGATCGATCGATCGATCGATCGATCGATCGATCGATCGATCGATCGATCGATCGATCGATCGATCGATCG')"
   ]
  },
  {
   "cell_type": "code",
   "execution_count": 32,
   "id": "acc70937-c695-447e-8554-978a8809ea59",
   "metadata": {},
   "outputs": [
    {
     "name": "stderr",
     "output_type": "stream",
     "text": [
      "Device set to use cuda:0\n"
     ]
    },
    {
     "name": "stdout",
     "output_type": "stream",
     "text": [
      "{'role': 'assistant', 'content': ' Here are ten example base pairs for a genome:\\n\\n1. AAGCTGCTGCTGCTGCTGCTGCTGCTGCTGCTGCTGCTGCTGCTGCTGCTGCTGCTGCTGCTGCTGCTGCTGCTGCTGCTGCTGCTGCTGCTGCTGCTGCTGCTGCTGCTGCTGCTGCTGCTGCTGCTGCTGCTGCTGCTGCTGCTGCTGCTGCTGCTGCTGCTGCTGCTGCTGCTGCTGCTGCTGCTGCTGCTGCTGCTGCTGCTGCTGCTGCTGCTGCTGCTGCTGCTGCTGCTGCTGCTGCTGCTGCTGCTGCTGCTGCTGCTGCTGCTGCTGCTGCTGCTGCTGCTGCTGCTGCTGCTGCTGCTGCTGCTGCTGCTGCTGCTGCTGCTGCTGCTGCTGCTGCTGCTGCTGCTGCTGCTGCTGCTGCTGCTGCTGCTGCTGCTGCTGCTGCTGCTGCTGCTGCTGCTGCTGCTGCTGCTGCTGCTGCTGCTGCTGCTGCTGCTGCTGCTGCTGCTGCTGCTGCTGCTGCTGCTGCTGCTGCTGCTGCTGCTGCTGCTGCTGCTGCTGCTGCTGCTGCTGCTGCTGCTGCTGCTGCTGCTGCTGCTGCTGCTGCTGCTGCTGCTGCTGCTGCTGCTGCTGCTGCTGCTGCTGCTGCTGCTGCTGCTGCTGCTGCTGCTGCTGCTGCTGCTGCTGCTGCTGCTGCTGCTGCTGCTGCTGCTGCTGCTGCTGCTGCTGCTGCTGCTGCTGCTGCTGCTGCTGCTGCTGCTGCTGCTGCTGCTGCTGCTGCTGCTGCTGCTGCTGCTGCTGCTGCTGCTGCTGCTGCTGCTGCTGCTGCTGCTGCTGCTGCTGCTGCTGCTGCTGCTGCTGCTGCTGCTGCTGCTGCTGCTGCTGCTGCTGCTGCTGCTGCTGCTGCTGCTGCTGCTGCTGCTGCTGCTGCTGCTGCTGCTGCTGCTGCTGCTGCTGCTGCTGCTGCTGCTGCTGCTGCTGCTGCTGCTGCTGCTGCTGCTGCTGCTGCTGCTGCTGCTGCTGCTGCTGCTGCTGCTGCTGCTGCTGCTGCTGCTGCTGCTGCTGCTGCTGCTGCTGCTGCTGCTGCTGCTGCTGCTGCTGCTGCTGCTGCTGCTGCTGCTGCTGCTGCTGCTGCTGCTGCTGCTGCTGCTGCTGCTGCTGCTGCTGCTGCTGCTGCTGCTGCTGCTGCTGCTGCTGCTGCTGCTGCTGCTGCTGCTGCTGCTGCTGCTGCTGCTGCTGCTGCTGCTGCTGCTGCTGCTGCTGCTGCTGCTGCTGCTGCTGCTGCTGCTGCTGCTGCTGCTGCTGCTGCTGCTGCTGCTGCTGCTGCTGCTGCTGCTGCTGCTGCTGCTGCTGCTGCTGCTGCTGCTGCTGCTGCTGCTGCTGCTGCTGCTGCTGCTGCTGCTGCTGCTGCTGCTGCTGCTGCTGCTGCTGCTGCTGCTGCTGCTGCTGCTGCTGCTGCTGCTGCTGCTGCTGCTGCTGCTGCTGCTGCTGCTGCTGCTGCTGCTGCTGCTGCTGCTGCTGCTGCTGCTGCTGCTGCTGCTGCTGCTGCTGCTGCTGCTGCTGCT'}\n"
     ]
    }
   ],
   "source": [
    "model, answer=continued_convo(mis_epoch, mis_token_epoch, \"Please provide ten example base pairs for a genome\")"
   ]
  },
  {
   "cell_type": "code",
   "execution_count": 33,
   "id": "fbb0674a-29fc-4c9c-8ff7-7d8970ec0ced",
   "metadata": {},
   "outputs": [
    {
     "data": {
      "text/plain": [
       "('AAGCTGCTGCTGCTG', 15, 1)"
      ]
     },
     "execution_count": 33,
     "metadata": {},
     "output_type": "execute_result"
    }
   ],
   "source": [
    "search_with_strings(ds_gst1_train, 'AAGCTGCTGCTGCTGCTGCTGCTGCTGCTGCTGCTGCTGCTGCTGCTGCTGCTGCTGCTGCTGCTGCTGC')"
   ]
  },
  {
   "cell_type": "code",
   "execution_count": 36,
   "id": "ed4ad6e2-3a87-4084-8a2f-809ef157684a",
   "metadata": {},
   "outputs": [
    {
     "name": "stderr",
     "output_type": "stream",
     "text": [
      "Device set to use cuda:0\n"
     ]
    },
    {
     "data": {
      "text/plain": [
       "{'generated_text': [{'role': 'system',\n",
       "   'content': 'You are a helpful assistant'},\n",
       "  {'role': 'user',\n",
       "   'content': 'Please provide an example of what the first \\n    20 base pairs of a genome may look like'},\n",
       "  {'role': 'assistant',\n",
       "   'content': 'Here are twenty example base pairs for a genome: CGACGAGCTGAGCTGAGCTGAGCTGAGCTGAGCTGAGCTGAGCTGAGCTGAGCTGAGCTGAGCTGAGCTGAGCTGAGCTGAGCTGAGCTGAGCTGAGCTGAGCTGAGCTGAGCTGAGCTGAGCTGAGCTGAGCTGAGCTGAGCTGAGCTGAGCTGAGCTGAGCTGAGCTGAGCTGAGCTGAGCTGAGCTGAGCTGAGCTGAGCTGAGCTGAGCTGAGCTGAGCTGAGCTGAGCTGAGCTGAGCTGAGCTGAGCTGAGCTGAGCTGAGCTGAGCTGAGCTGAGCTGAGCTGAGCTGAGCTGAGCTGAGCTGAGCTGAGCTGAGCTGAGCTGAGCTGAGCTGAGCTGAGCTGAGCTGAGCTGAGCTGAGCTGAGCTGAGCTGAGCTGAGCTGAGCTGAGCTGAGCTGAGCTGAGCTGAGCTGAGCTGAGCTGAGCTGAGCTGAGCTGAGCTGAGCTGAGCTGAGCTGAGCTGAGCTGAGCTGAGCTGAGCTGAGCTGAGCTGAGCTGAGCTGAGCTGAGCTGAGCTGAGCTGAGCTGAGCTGAGCTGAGCTGAGCTGAGCTGAGCTGAGCTGAGCTGAGCTGAGCTGAGCTGAGCTGAGCTGAGCTGAGCTGAGCTGAGCTGAGCTGAGCTGAGCTGAGCTGAGCTGAGCTGAGCTGAGCTGAGCTGAGCTGAGCTGAGCTGAGCTGAGCTGAGCTGAGCTGAGCTGAGCTGAGCTGAGCTGAGCTGAGCTGAGCTGAGCTGAGCTGAGCTGAGCTGAGCTGAGCTGAGCTGAGCTGAGCTGAGCTGAGCTGAGCTGAGCTGAGCTGAGCTGAGCTGAGCTGAGCTGAGCTGAGCTGAGCTGAGCTGAGCTGAGCTGAG'}]}"
      ]
     },
     "execution_count": 36,
     "metadata": {},
     "output_type": "execute_result"
    }
   ],
   "source": [
    "# start off the model's response and see what happens\n",
    "pipe=pipeline(\"text-generation\", model=mis_epoch, tokenizer=mis_token_epoch)\n",
    "messages=[\n",
    "    {\"role\": \"system\", \"content\": \"You are a helpful assistant\"},\n",
    "    {\"role\": \"user\", \"content\": \"\"\"Please provide an example of what the first \n",
    "    20 base pairs of a genome may look like\"\"\"},\n",
    "    {\"role\": \"assistant\", \"content\": \"Here are twenty example base pairs for a genome: CGAC\"}\n",
    "]\n",
    "\n",
    "output=pipe(messages, max_new_tokens=512)[0]\n",
    "output"
   ]
  },
  {
   "cell_type": "code",
   "execution_count": 37,
   "id": "bf90aa12-9fe1-48de-9fc6-abb49aa71584",
   "metadata": {},
   "outputs": [
    {
     "data": {
      "text/plain": [
       "('CGACGAGCTGAGC', 13, 1)"
      ]
     },
     "execution_count": 37,
     "metadata": {},
     "output_type": "execute_result"
    }
   ],
   "source": [
    "search_with_strings(ds_gst1_train, 'CGACGAGCTGAGCTGAGCTGAGCTGAGCTGAGCTGAGCTGAGCTGAGCTGAGCTGAGCTGAGCT')"
   ]
  },
  {
   "cell_type": "code",
   "execution_count": null,
   "id": "9f3d748b-d3b3-4672-bac6-0b32224c69cd",
   "metadata": {},
   "outputs": [],
   "source": [
    "# responses between the two models are very consistent"
   ]
  }
 ],
 "metadata": {
  "kernelspec": {
   "display_name": "Python 3 (ipykernel)",
   "language": "python",
   "name": "python3"
  },
  "language_info": {
   "codemirror_mode": {
    "name": "ipython",
    "version": 3
   },
   "file_extension": ".py",
   "mimetype": "text/x-python",
   "name": "python",
   "nbconvert_exporter": "python",
   "pygments_lexer": "ipython3",
   "version": "3.12.8"
  }
 },
 "nbformat": 4,
 "nbformat_minor": 5
}
