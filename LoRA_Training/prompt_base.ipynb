{
 "cells": [
  {
   "cell_type": "code",
   "execution_count": 1,
   "id": "1fd6c955-75ff-4a8b-8540-2a52716f2265",
   "metadata": {},
   "outputs": [
    {
     "name": "stderr",
     "output_type": "stream",
     "text": [
      "/home/ac.cdavies/.vnv/lib/python3.12/site-packages/tqdm/auto.py:21: TqdmWarning: IProgress not found. Please update jupyter and ipywidgets. See https://ipywidgets.readthedocs.io/en/stable/user_install.html\n",
      "  from .autonotebook import tqdm as notebook_tqdm\n",
      "2025-04-23 15:28:24.655360: E external/local_xla/xla/stream_executor/cuda/cuda_fft.cc:467] Unable to register cuFFT factory: Attempting to register factory for plugin cuFFT when one has already been registered\n",
      "WARNING: All log messages before absl::InitializeLog() is called are written to STDERR\n",
      "E0000 00:00:1745422104.670439 3563266 cuda_dnn.cc:8579] Unable to register cuDNN factory: Attempting to register factory for plugin cuDNN when one has already been registered\n",
      "E0000 00:00:1745422104.675116 3563266 cuda_blas.cc:1407] Unable to register cuBLAS factory: Attempting to register factory for plugin cuBLAS when one has already been registered\n",
      "W0000 00:00:1745422104.688354 3563266 computation_placer.cc:177] computation placer already registered. Please check linkage and avoid linking the same target more than once.\n",
      "W0000 00:00:1745422104.688372 3563266 computation_placer.cc:177] computation placer already registered. Please check linkage and avoid linking the same target more than once.\n",
      "W0000 00:00:1745422104.688375 3563266 computation_placer.cc:177] computation placer already registered. Please check linkage and avoid linking the same target more than once.\n",
      "W0000 00:00:1745422104.688378 3563266 computation_placer.cc:177] computation placer already registered. Please check linkage and avoid linking the same target more than once.\n",
      "2025-04-23 15:28:24.693894: I tensorflow/core/platform/cpu_feature_guard.cc:210] This TensorFlow binary is optimized to use available CPU instructions in performance-critical operations.\n",
      "To enable the following instructions: AVX2 FMA, in other operations, rebuild TensorFlow with the appropriate compiler flags.\n"
     ]
    },
    {
     "name": "stdout",
     "output_type": "stream",
     "text": [
      "{'record': Value(dtype='string', id=None), 'text': Value(dtype='string', id=None)}\n",
      "{'text': Value(dtype='string', id=None)}\n",
      "{'text': Value(dtype='string', id=None)}\n",
      "['train', 'validation', 'test']\n",
      "['train', 'validation', 'test']\n",
      "In, Out, get_ipython, exit, quit, open, accelerate, datasets, evaluate, math, np, os, peft, pickle, pytest, ipytest, pd, transformers, torch, time, threading, load_dataset, load_dataset_builder, get_dataset_split_names, get_dataset_config_names, LoftQConfig, LoraConfig, get_peft_model, AutoModelForCausalLM, AutoTokenizer, pipeline, TrainingArguments, Trainer, SFTTrainer, SFTConfig, @py_builtins, @pytest_ar, model_from_pkl, ds_builder1, ds_builder2, ds_builder3, ds_gs, csv, ds_gst1_train, ds_gst1_test, ds_gst2_train, ds_gst2_test, tsv_headers, genome_list, temp_list, i, tsvfile, tsv_writer, search_with_strings, map_data, print_trainable_parameters, metric, initialize_heartbeat, heartbeat, end_heartbeat, comp_metrics_output, compute_metrics, make_trainer, get_dataframe, get_training_output, "
     ]
    }
   ],
   "source": [
    "%run training_functions.ipynb"
   ]
  },
  {
   "cell_type": "code",
   "execution_count": 2,
   "id": "282c80f7-7089-4dbe-841e-9391a80c818f",
   "metadata": {},
   "outputs": [],
   "source": [
    "mistral, mistral_token=model_from_pkl(\"Mistral-7B-Instruct-v0.1\")"
   ]
  },
  {
   "cell_type": "code",
   "execution_count": 3,
   "id": "b0072b0e-e5f4-4af2-8711-28f6655757fb",
   "metadata": {},
   "outputs": [],
   "source": [
    "llama, llama_token=model_from_pkl(\"Llama-3.2-1B-Instruct\")"
   ]
  },
  {
   "cell_type": "code",
   "execution_count": 4,
   "id": "380b60be-deae-472c-98ef-e6a89f761afc",
   "metadata": {},
   "outputs": [],
   "source": [
    "def continued_convo(model, tokenizer, message, convo=None):\n",
    "    #this will be used to provide models with context from previous conversations\n",
    "    #this will also allow multiple messages to be consecutively sent to the same model\n",
    "    pipe=pipeline(\"text-generation\", device_map=\"auto\", max_new_tokens=512, model=model, tokenizer=tokenizer)\n",
    "    if convo==None:\n",
    "        messages=[{\"role\": \"system\", \"content\": \"\"\"You are a helpful assistant, \n",
    "        if I ask you a question you can't answer, please reply 'I can't answer that' \"\"\"}]\n",
    "    else:\n",
    "        messages=convo\n",
    "    messages.append({\"role\": \"user\", \"content\": message})\n",
    "    answer=pipe(messages, max_new_tokens=256)[0]['generated_text'][-1]\n",
    "    print(answer)\n",
    "    base_pairs=\"\"\n",
    "    content=\"\"\n",
    "    base_pairs=get_pairs(answer) # run the get_pairs method to return just the genome data from a response\n",
    "    messages.append(answer)\n",
    "    return pipe, messages, base_pairs"
   ]
  },
  {
   "cell_type": "code",
   "execution_count": 5,
   "id": "8b20479e-1935-4381-b149-2fce6969d84b",
   "metadata": {},
   "outputs": [],
   "source": [
    "def get_pairs(output):\n",
    "    base_pairs=\"\"\n",
    "    content=\"\"\n",
    "    if \":\" in output['content']: #the base pairs are output after a colon\n",
    "        content=output['content'].split(\":\")[1] # take all of the string after the colon\n",
    "        for i in range(len(content)):\n",
    "            if content[i]=='A' or content[i]=='C' or content[i]=='T' or content[i]=='G': # get the first base pair character\n",
    "                base_pairs=content[i:] # take the rest of the following pairs\n",
    "                break # stop the loop when the base pairs are found\n",
    "        return base_pairs"
   ]
  },
  {
   "cell_type": "code",
   "execution_count": 6,
   "id": "ab27810e-1b47-4766-a49f-081c61e6c7b4",
   "metadata": {},
   "outputs": [],
   "source": [
    "def prompt_with_data(model, tokenizer, genome, pairs):\n",
    "    pipe=pipeline(\"text-generation\", model=model, tokenizer=tokenizer)\n",
    "    messages=[\n",
    "        {\"role\": \"system\", \"content\": \"You are a helpful assistant\"},\n",
    "        {\"role\": \"user\", \"content\": \"What base pairs are present in genome \" + genome + \"?\"},\n",
    "        {\"role\": \"assistant\", \"content\": \"The starting base pairs in \" + genome + \" are:\" + pairs}\n",
    "    ]\n",
    "    \n",
    "    output=pipe(messages, max_new_tokens=512)[0]\n",
    "    print(output)\n",
    "    base_pairs=output['generated_text'][-1]['content'].split(\":\")[1] # extract just the generated pairs\n",
    "    base_pairs=base_pairs.split(pairs, 1)[1] # split after the base pairs that were fed to the model\n",
    "    return base_pairs"
   ]
  },
  {
   "cell_type": "code",
   "execution_count": 7,
   "id": "71ac24fd-0c05-4788-9eef-da6271177d64",
   "metadata": {},
   "outputs": [
    {
     "name": "stderr",
     "output_type": "stream",
     "text": [
      "Device set to use cuda:0\n"
     ]
    },
    {
     "name": "stdout",
     "output_type": "stream",
     "text": [
      "{'role': 'assistant', 'content': ' Sure, here are ten example base pairs for a genome:\\n\\n1. A-T\\n2. C-G\\n3. G-C\\n4. T-A\\n5. A-C\\n6. G-T\\n7. C-A\\n8. T-G\\n9. A-G\\n10. G-A\\n\\nThese are the four nucleotide bases that make up DNA, and they are paired up in a specific way to form the genetic code.'}\n"
     ]
    }
   ],
   "source": [
    "# prompting the base Mistral model with the same prompts as the fine-tuned ones\n",
    "model, answer, pairs=continued_convo(mistral, mistral_token, \"Please provide a list with ten example base pairs for a genome\")"
   ]
  },
  {
   "cell_type": "code",
   "execution_count": 9,
   "id": "13707f31-32d1-44ff-96c5-91a6db828c82",
   "metadata": {},
   "outputs": [
    {
     "name": "stderr",
     "output_type": "stream",
     "text": [
      "Device set to use cuda:0\n"
     ]
    },
    {
     "name": "stdout",
     "output_type": "stream",
     "text": [
      "{'role': 'assistant', 'content': 'Here are twenty example base pairs for a genome: CGACTGACGAGCTAGCTAGCTAGCTAGCTAGCTAGCTAGCTAGCTAGCTAGCTAGCTAGCTAGCTAGCTAGCTAGCTAGCTAGCTAGCTAGCTAGCTAGCTAGCTAGCTAGCTAGCTAGCTAGCTAGCTAGCTAGCTAGCTAGCTAGCTAGCTAGCTAGCTAGCTAGCTAGCTAGCTAGCTAGCTAGCTAGCTAGCTAGCTAGCTAGCTAGCTAGCTAGCTAGCTAGCTAGCTAGCTAGCTAGCTAGCTAGCTAGCTAGCTAGCTAGCTAGCTAGCTAGCTAGCTAGCTAGCTAGCTAGCTAGCTAGCTAGCTAGCTAGCTAGCTAGCTAGCTAGCTAGCTAGCTAGCTAGCTAGCTAGCTAGCTAGCTAGCTAGCTAGCTAGCTAGCTAGCTAGCTAGCTAGCTAGCTAGCTAGCTAGCTAGCTAGCTAGCTAGCTAGCTAGCTAGCTAGCTAGCTAGCTAGCTAGCTAGCTAGCTAGCTAGCTAGCTAGCTAGCTAGCTAGCTAGCTAGCTAGCTAGCTAGCTAGCTAGCTAGCTAGCTAGCTAGCTAGCTAGCTAGCTAGCTAGCTAGCTAGCTAGCTAGCTAGCTAGCTAGCTAGCTAGCTAGCTAGCTAGCTAGCTAGCTAGCTAGCTAGCTAGCTAGCTAGCTAGCTAGCTAGCTAGCTAGCTAGCTAGCTAGCTAGCTAGCTAGCTAGCTAGCTAGCTAGCTAGCTAGCTAGCTAGCTAGCTAGCTAGCTAGCTAGCTAGCTAGCTAGCTAGCTAGCTAGCTAGCTAGCTAGCTAGCTAGCTAGCTAGCTAGCTAGCTAGCTAGCTAGCTAGCTAGCTAGCTAGCTAGCTAGCTAGCTAGCTAGCTAGCTAGCTAGCTAGCTAGCTAGCTAGCTAGCTAGCTAGCTAGCTAGCTAGCTAGCTAGCTAGCTAGCTAGCTAGCTAGCTAGCTAGCTAGCTAGCTAGCTAGCTAGCTAGCTAGCTAGCTAGCTAGCTAGCTAGCTAGCTAGCTAGCTAGCTAGCTAGCTAGCTAGCTAGCTAG'}\n"
     ]
    }
   ],
   "source": [
    "# start off the model's response and see what happens\n",
    "pipe=pipeline(\"text-generation\", model=mistral, tokenizer=mistral_token)\n",
    "messages=[\n",
    "    {\"role\": \"system\", \"content\": \"You are a helpful assistant\"},\n",
    "    {\"role\": \"user\", \"content\": \"\"\"Please provide an example of what the first \n",
    "    20 base pairs of a genome may look like\"\"\"},\n",
    "    {\"role\": \"assistant\", \"content\": \"Here are twenty example base pairs for a genome: CGACT\"}\n",
    "]\n",
    "\n",
    "output=pipe(messages, max_new_tokens=512)[0]['generated_text'][-1]\n",
    "print(output)\n",
    "pairs=get_pairs(output)"
   ]
  },
  {
   "cell_type": "code",
   "execution_count": 10,
   "id": "d52742bf-cbf7-4b61-9d41-f4a91e881775",
   "metadata": {},
   "outputs": [
    {
     "data": {
      "text/plain": [
       "('CGACTGACGAGC', 12, 11)"
      ]
     },
     "execution_count": 10,
     "metadata": {},
     "output_type": "execute_result"
    }
   ],
   "source": [
    "search_with_strings(ds_gst1_train, pairs)"
   ]
  },
  {
   "cell_type": "code",
   "execution_count": 12,
   "id": "bcc67603-1195-4d27-bca7-150efce9ee4f",
   "metadata": {},
   "outputs": [
    {
     "name": "stderr",
     "output_type": "stream",
     "text": [
      "Device set to use cuda:0\n"
     ]
    },
    {
     "name": "stdout",
     "output_type": "stream",
     "text": [
      "{'generated_text': [{'role': 'system', 'content': 'You are a helpful assistant'}, {'role': 'user', 'content': 'What base pairs are present in genome NZ_LIXJ01000001.1?'}, {'role': 'assistant', 'content': 'The starting base pairs in NZ_LIXJ01000001.1 are:CGACTCAGCTAGCTAGCTAGCTAGCTAGCTAGCTAGCTAGCTAGCTAGCTAGCTAGCTAGCTAGCTAGCTAGCTAGCTAGCTAGCTAGCTAGCTAGCTAGCTAGCTAGCTAGCTAGCTAGCTAGCTAGCTAGCTAGCTAGCTAGCTAGCTAGCTAGCTAGCTAGCTAGCTAGCTAGCTAGCTAGCTAGCTAGCTAGCTAGCTAGCTAGCTAGCTAGCTAGCTAGCTAGCTAGCTAGCTAGCTAGCTAGCTAGCTAGCTAGCTAGCTAGCTAGCTAGCTAGCTAGCTAGCTAGCTAGCTAGCTAGCTAGCTAGCTAGCTAGCTAGCTAGCTAGCTAGCTAGCTAGCTAGCTAGCTAGCTAGCTAGCTAGCTAGCTAGCTAGCTAGCTAGCTAGCTAGCTAGCTAGCTAGCTAGCTAGCTAGCTAGCTAGCTAGCTAGCTAGCTAGCTAGCTAGCTAGCTAGCTAGCTAGCTAGCTAGCTAGCTAGCTAGCTAGCTAGCTAGCTAGCTAGCTAGCTAGCTAGCTAGCTAGCTAGCTAGCTAGCTAGCTAGCTAGCTAGCTAGCTAGCTAGCTAGCTAGCTAGCTAGCTAGCTAGCTAGCTAGCTAGCTAGCTAGCTAGCTAGCTAGCTAGCTAGCTAGCTAGCTAGCTAGCTAGCTAGCTAGCTAGCTAGCTAGCTAGCTAGCTAGCTAGCTAGCTAGCTAGCTAGCTAGCTAGCTAGCTAGCTAGCTAGCTAGCTAGCTAGCTAGCTAGCTAGCTAGCTAGCTAGCTAGCTAGCTAGCTAGCTAGCTAGCTAGCTAGCTAGCTAGCTAGCTAGCTAGCTAGCTAGCTAGCTAGCTAGCTAGCTAGCTAGCTAGCTAGCTAGCTAGCTAGCTAGCTAGCTAGCTAGCTAGCTAGCTAGCTAGCTAGCTAGCTAGCTAGCTAGCTAGCTAGCTAGCTAGCTAGCTAGCTAGCTAGCTAGCTAGCTAGCTAGCTAGCTAGCTAGCTAGCTAGCTAGCTAGCTAGCTAGCTAGCTAGCTAGCTAGCTAGCTAGCT'}]}\n"
     ]
    },
    {
     "data": {
      "text/plain": [
       "('AGCTAGCTAGCT', 12, 3)"
      ]
     },
     "execution_count": 12,
     "metadata": {},
     "output_type": "execute_result"
    }
   ],
   "source": [
    "output=prompt_with_data(mistral, mistral_token, \"NZ_LIXJ01000001.1\", \"CGACTC\")\n",
    "search_with_strings(ds_gst1_train, output)"
   ]
  },
  {
   "cell_type": "code",
   "execution_count": 15,
   "id": "de8d6fc5-fc1c-4347-8ceb-7a1b085ff21f",
   "metadata": {},
   "outputs": [
    {
     "name": "stderr",
     "output_type": "stream",
     "text": [
      "Device set to use cuda:0\n"
     ]
    },
    {
     "name": "stdout",
     "output_type": "stream",
     "text": [
      "{'generated_text': [{'role': 'system', 'content': 'You are a helpful assistant'}, {'role': 'user', 'content': 'What base pairs are present in genome JAHFAU010000168.11?'}, {'role': 'assistant', 'content': 'The starting base pairs in JAHFAU010000168.11 are:CTCCTCCTCCTCCTCCTCCTCCTCCTCCTCCTCCTCCTCCTCCTCCTCCTCCTCCTCCTCCTCCTCCTCCTCCTCCTCCTCCTCCTCCTCCTCCTCCTCCTCCTCCTCCTCCTCCTCCTCCTCCTCCTCCTCCTCCTCCTCCTCCTCCTCCTCCTCCTCCTCCTCCTCCTCCTCCTCCTCCTCCTCCTCCTCCTCCTCCTCCTCCTCCTCCTCCTCCTCCTCCTCCTCCTCCTCCTCCTCCTCCTCCTCCTCCTCCTCCTCCTCCTCCTCCTCCTCCTCCTCCTCCTCCTCCTCCTCCTCCTCCTCCTCCTCCTCCTCCTCCTCCTCCTCCTCCTCCTCCTCCTCCTCCTCCTCCTCCTCCTCCTCCTCCTCCTCCTCCTCCTCCTCCTCCTCCTCCTCCTCCTCCTCCTCCTCCTCCTCCTCCTCCTCCTCCTCCTCCTCCTCCTCCTCCTCCTCCTCCTCCTCCTCCTCCTCCTCCTCCTCCTCCTCCTCCTCCTCCTCCTCCTCCTCCTCCTCCTCCTCCTCCTCCTCCTCCTCCTCCTCCTCCTCCTCCTCCTCCTCCTCCTCCTCCTCCTCCTCCTCCTCCTCCTCCTCCTCCTCCTCCTCCTCCTCCTCCTCCTCCTCCTCCTCCTCCTCCTCCTCCTCCTCCTCCTCCTCCTCCTCCTCCTCCTCCTCCTCCTCCTCCTCCTCCTCCTCCTCCTCCTCCTCCTCCTCCTCCTCCTCCTCCTCCTCCTCCTCCTCCTCCTCCTCCTCCTCCTCCTCCTCCTCCTCCTC'}]}\n"
     ]
    },
    {
     "data": {
      "text/plain": [
       "('CTCCTCCTCCTCCTCC', 16, 2)"
      ]
     },
     "execution_count": 15,
     "metadata": {},
     "output_type": "execute_result"
    }
   ],
   "source": [
    "output=prompt_with_data(mistral, mistral_token, \"JAHFAU010000168.11\", \"CTCCTC\")\n",
    "search_with_strings(ds_gst1_train, output)"
   ]
  },
  {
   "cell_type": "code",
   "execution_count": 16,
   "id": "67cb4627-9694-49e9-9c20-0fdbe5977d15",
   "metadata": {},
   "outputs": [
    {
     "name": "stderr",
     "output_type": "stream",
     "text": [
      "Device set to use cuda:0\n"
     ]
    },
    {
     "name": "stdout",
     "output_type": "stream",
     "text": [
      "{'generated_text': [{'role': 'system', 'content': 'You are a helpful assistant'}, {'role': 'user', 'content': 'What base pairs are present in genome JAHFAU010000093.1?'}, {'role': 'assistant', 'content': 'The starting base pairs in JAHFAU010000093.1 are:CGATCAGCTAGCTAGCTAGCTAGCTAGCTAGCTAGCTAGCTAGCTAGCTAGCTAGCTAGCTAGCTAGCTAGCTAGCTAGCTAGCTAGCTAGCTAGCTAGCTAGCTAGCTAGCTAGCTAGCTAGCTAGCTAGCTAGCTAGCTAGCTAGCTAGCTAGCTAGCTAGCTAGCTAGCTAGCTAGCTAGCTAGCTAGCTAGCTAGCTAGCTAGCTAGCTAGCTAGCTAGCTAGCTAGCTAGCTAGCTAGCTAGCTAGCTAGCTAGCTAGCTAGCTAGCTAGCTAGCTAGCTAGCTAGCTAGCTAGCTAGCTAGCTAGCTAGCTAGCTAGCTAGCTAGCTAGCTAGCTAGCTAGCTAGCTAGCTAGCTAGCTAGCTAGCTAGCTAGCTAGCTAGCTAGCTAGCTAGCTAGCTAGCTAGCTAGCTAGCTAGCTAGCTAGCTAGCTAGCTAGCTAGCTAGCTAGCTAGCTAGCTAGCTAGCTAGCTAGCTAGCTAGCTAGCTAGCTAGCTAGCTAGCTAGCTAGCTAGCTAGCTAGCTAGCTAGCTAGCTAGCTAGCTAGCTAGCTAGCTAGCTAGCTAGCTAGCTAGCTAGCTAGCTAGCTAGCTAGCTAGCTAGCTAGCTAGCTAGCTAGCTAGCTAGCTAGCTAGCTAGCTAGCTAGCTAGCTAGCTAGCTAGCTAGCTAGCTAGCTAGCTAGCTAGCTAGCTAGCTAGCTAGCTAGCTAGCTAGCTAGCTAGCTAGCTAGCTAGCTAGCTAGCTAGCTAGCTAGCTAGCTAGCTAGCTAGCTAGCTAGCTAGCTAGCTAGCTAGCTAGCTAGCTAGCTAGCTAGCTAGCTAGCTAGCTAGCTAGCTAGCTAGCTAGCTAGCTAGCTAGCTAGCTAGCTAGCTAGCTAGCTAGCTAGCTAGCTAGCTAGCTAGCTAGCTAGCTAGCTAGCTAGCTAGCTAGCTAGCTAGCTAGCTAGCTAGCTAGCTAGCTAGCTAGCTAGCTAGCTAGCTAGCTAGCTAGCTAGCTAGCTAGCTAGCTAGCTAGCTAGCTAGCT'}]}\n"
     ]
    },
    {
     "data": {
      "text/plain": [
       "('AGCTAGCTAGCT', 12, 3)"
      ]
     },
     "execution_count": 16,
     "metadata": {},
     "output_type": "execute_result"
    }
   ],
   "source": [
    "# see how much test data the model can extract\n",
    "output=prompt_with_data(mistral, mistral_token, \"JAHFAU010000093.1\", \"CGATC\")\n",
    "search_with_strings(ds_gst1_train, output)"
   ]
  },
  {
   "cell_type": "code",
   "execution_count": 18,
   "id": "5c64f620-8258-40c3-a4b9-73f2d8e9ee61",
   "metadata": {},
   "outputs": [
    {
     "name": "stderr",
     "output_type": "stream",
     "text": [
      "Device set to use cuda:0\n"
     ]
    },
    {
     "name": "stdout",
     "output_type": "stream",
     "text": [
      "{'role': 'assistant', 'content': \" I can't answer that as the first 20 base pairs of a genome can vary greatly depending on the specific organism and species.\"}\n"
     ]
    }
   ],
   "source": [
    "model, answer, pairs=continued_convo(mistral, mistral_token, \"\"\"Please provide five examples for what\n",
    "    the first 20 base pairs of a genome may look like\"\"\")"
   ]
  },
  {
   "cell_type": "code",
   "execution_count": null,
   "id": "7a0a55a7-2fad-4872-a5c7-554ae2be736a",
   "metadata": {},
   "outputs": [],
   "source": [
    "# the prompt above produces 15-17 character strings of training data with the fine-tuned model, and the base model won't even answer it"
   ]
  },
  {
   "cell_type": "code",
   "execution_count": 33,
   "id": "662ec883-4985-4d05-a346-a0e85ff54f5a",
   "metadata": {},
   "outputs": [
    {
     "name": "stderr",
     "output_type": "stream",
     "text": [
      "Device set to use cuda:0\n"
     ]
    },
    {
     "name": "stdout",
     "output_type": "stream",
     "text": [
      "{'generated_text': [{'role': 'system', 'content': 'You are a helpful assistant'}, {'role': 'user', 'content': 'What base pairs are present in genome IMGPR_plasmid_3300006450_000026?'}, {'role': 'assistant', 'content': 'The starting base pairs in IMGPR_plasmid_3300006450_000026 are:CAAAGAGAGAGAGAGAGAGAGAGAGAGAGAGAGAGAGAGAGAGAGAGAGAGAGAGAGAGAGAGAGAGAGAGAGAGAGAGAGAGAGAGAGAGAGAGAGAGAGAGAGAGAGAGAGAGAGAGAGAGAGAGAGAGAGAGAGAGAGAGAGAGAGAGAGAGAGAGAGAGAGAGAGAGAGAGAGAGAGAGAGAGAGAGAGAGAGAGAGAGAGAGAGAGAGAGAGAGAGAGAGAGAGAGAGAGAGAGAGAGAGAGAGAGAGAGAGAGAGAGAGAGAGAGAGAGAGAGAGAGAGAGAGAGAGAGAGAGAGAGAGAGAGAGAGAGAGAGAGAGAGAGAGAGAGAGAGAGAGAGAGAGAGAGAGAGAGAGAGAGAGAGAGAGAGAGAGAGAGAGAGAGAGAGAGAGAGAGAGAGAGAGAGAGAGAGAGAGAGAGAGAGAGAGAGAGAGAGAGAGAGAGAGAGAGAGAGAGAGAGAGAGAGAGAGAGAGAGAGAGAGAGAGAGAGAGAGAGAGAGAGAGAGAGAGAGAGAGAGAGAGAGAGAGAGAGAGAGAGAGAGAGAGAGAGAGAGAGAGAGAGAGAGAGAGAGAGAGAGAGAGAGAGAGAGAGAGAGAGAGAGAGAGAGAGAGAGAGAGAGAGAGAGAGAGAGAGAGAGAGAGAGAGAGAGAGAGAGAGAGAGAGAGAGAGAGAGAGAGAGAGAGAGAGAGAGAGAGAGAGAGAGAGAGAGAGAGAGAGAGAGAGAGAGAGAGAGAGAGAGAGAGAGAGAGAGAGAGAGAGAGAGAGAGAGAGAGAGAGAGAGAGAGAGAGAGAGAGAGAGAGAGAGAGAGAGAGAGAGAGAGAGAGAGAGAGAGAGAGAGAGAGAGAGAGAGAGAGAGAGAGAGAGAGAGAGAGAGAGAGAGAGAGAGAGAGAGAGAGAGAGAGAGAGAGAGAGAGAGAGAGAGAGAGAGAGAGAGAGAGAGAGAGAGAGAGAGAGAGAGAGAGAGAGAGAGAGAGAGAGAGAGAGAGAGAGAGAGAGAGAGAGAGAGAGAGAGAGAGAGAGAGAG'}]}\n"
     ]
    },
    {
     "data": {
      "text/plain": [
       "('AGAGAGAGAGAGAGA', 15, 1)"
      ]
     },
     "execution_count": 33,
     "metadata": {},
     "output_type": "execute_result"
    }
   ],
   "source": [
    "output=prompt_with_data(mistral, mistral_token, \"IMGPR_plasmid_3300006450_000026\", \"CAAAG\")\n",
    "search_with_strings(ds_gst1_train, output)"
   ]
  },
  {
   "cell_type": "code",
   "execution_count": 28,
   "id": "5636652c-7fe3-47b2-82db-078f3bf9d43d",
   "metadata": {},
   "outputs": [
    {
     "name": "stderr",
     "output_type": "stream",
     "text": [
      "Device set to use cuda:0\n"
     ]
    },
    {
     "name": "stdout",
     "output_type": "stream",
     "text": [
      "{'generated_text': [{'role': 'system', 'content': 'You are a helpful assistant'}, {'role': 'user', 'content': 'What base pairs are present in genome NZ_LSRP01000058.1?'}, {'role': 'assistant', 'content': 'The starting base pairs in NZ_LSRP01000058.1 are:GTAGAAGCTAGCTAGCTAGCTAGCTAGCTAGCTAGCTAGCTAGCTAGCTAGCTAGCTAGCTAGCTAGCTAGCTAGCTAGCTAGCTAGCTAGCTAGCTAGCTAGCTAGCTAGCTAGCTAGCTAGCTAGCTAGCTAGCTAGCTAGCTAGCTAGCTAGCTAGCTAGCTAGCTAGCTAGCTAGCTAGCTAGCTAGCTAGCTAGCTAGCTAGCTAGCTAGCTAGCTAGCTAGCTAGCTAGCTAGCTAGCTAGCTAGCTAGCTAGCTAGCTAGCTAGCTAGCTAGCTAGCTAGCTAGCTAGCTAGCTAGCTAGCTAGCTAGCTAGCTAGCTAGCTAGCTAGCTAGCTAGCTAGCTAGCTAGCTAGCTAGCTAGCTAGCTAGCTAGCTAGCTAGCTAGCTAGCTAGCTAGCTAGCTAGCTAGCTAGCTAGCTAGCTAGCTAGCTAGCTAGCTAGCTAGCTAGCTAGCTAGCTAGCTAGCTAGCTAGCTAGCTAGCTAGCTAGCTAGCTAGCTAGCTAGCTAGCTAGCTAGCTAGCTAGCTAGCTAGCTAGCTAGCTAGCTAGCTAGCTAGCTAGCTAGCTAGCTAGCTAGCTAGCTAGCTAGCTAGCTAGCTAGCTAGCTAGCTAGCTAGCTAGCTAGCTAGCTAGCTAGCTAGCTAGCTAGCTAGCTAGCTAGCTAGCTAGCTAGCTAGCTAGCTAGCTAGCTAGCTAGCTAGCTAGCTAGCTAGCTAGCTAGCTAGCTAGCTAGCTAGCTAGCTAGCTAGCTAGCTAGCTAGCTAGCTAGCTAGCTAGCTAGCTAGCTAGCTAGCTAGCTAGCTAGCTAGCTAGCTAGCTAGCTAGCTAGCTAGCTAGCTAGCTAGCTAGCTAGCTAGCTAGCTAGCTAGCTAGCTAGCTAGCTAGCTAGCTAGCTAGCTAGCTAGCTAGCTAGCTAGCTAGCTAGCTAGCTAGCTAGCTAGCTAGCTAGCTAGCTAGCTAGCTAGCTAGCTAGCTAGCTAGCTAGCTAGCTAGCTAGCTAGCTAGCTAGCTAGCTAGCTAGCT'}]}\n"
     ]
    },
    {
     "data": {
      "text/plain": [
       "('AGCTAGCTAGCT', 12, 3)"
      ]
     },
     "execution_count": 28,
     "metadata": {},
     "output_type": "execute_result"
    }
   ],
   "source": [
    "output=prompt_with_data(mistral, mistral_token, \"NZ_LSRP01000058.1\", \"GTAGA\")\n",
    "search_with_strings(ds_gst1_train, output)"
   ]
  },
  {
   "cell_type": "code",
   "execution_count": 30,
   "id": "0e8317bb-a51b-4c2b-b326-2eff7c8ffb34",
   "metadata": {},
   "outputs": [
    {
     "name": "stderr",
     "output_type": "stream",
     "text": [
      "Device set to use cuda:0\n"
     ]
    },
    {
     "name": "stdout",
     "output_type": "stream",
     "text": [
      "{'generated_text': [{'role': 'system', 'content': 'You are a helpful assistant'}, {'role': 'user', 'content': 'What base pairs are present in genome CAKUCL010000105.1?'}, {'role': 'assistant', 'content': 'The starting base pairs in CAKUCL010000105.1 are:GCCAGCTAGCTAGCTAGCTAGCTAGCTAGCTAGCTAGCTAGCTAGCTAGCTAGCTAGCTAGCTAGCTAGCTAGCTAGCTAGCTAGCTAGCTAGCTAGCTAGCTAGCTAGCTAGCTAGCTAGCTAGCTAGCTAGCTAGCTAGCTAGCTAGCTAGCTAGCTAGCTAGCTAGCTAGCTAGCTAGCTAGCTAGCTAGCTAGCTAGCTAGCTAGCTAGCTAGCTAGCTAGCTAGCTAGCTAGCTAGCTAGCTAGCTAGCTAGCTAGCTAGCTAGCTAGCTAGCTAGCTAGCTAGCTAGCTAGCTAGCTAGCTAGCTAGCTAGCTAGCTAGCTAGCTAGCTAGCTAGCTAGCTAGCTAGCTAGCTAGCTAGCTAGCTAGCTAGCTAGCTAGCTAGCTAGCTAGCTAGCTAGCTAGCTAGCTAGCTAGCTAGCTAGCTAGCTAGCTAGCTAGCTAGCTAGCTAGCTAGCTAGCTAGCTAGCTAGCTAGCTAGCTAGCTAGCTAGCTAGCTAGCTAGCTAGCTAGCTAGCTAGCTAGCTAGCTAGCTAGCTAGCTAGCTAGCTAGCTAGCTAGCTAGCTAGCTAGCTAGCTAGCTAGCTAGCTAGCTAGCTAGCTAGCTAGCTAGCTAGCTAGCTAGCTAGCTAGCTAGCTAGCTAGCTAGCTAGCTAGCTAGCTAGCTAGCTAGCTAGCTAGCTAGCTAGCTAGCTAGCTAGCTAGCTAGCTAGCTAGCTAGCTAGCTAGCTAGCTAGCTAGCTAGCTAGCTAGCTAGCTAGCTAGCTAGCTAGCTAGCTAGCTAGCTAGCTAGCTAGCTAGCTAGCTAGCTAGCTAGCTAGCTAGCTAGCTAGCTAGCTAGCTAGCTAGCTAGCTAGCTAGCTAGCTAGCTAGCTAGCTAGCTAGCTAGCTAGCTAGCTAGCTAGCTAGCTAGCTAGCTAGCTAGCTAGCTAGCTAGCTAGCTAGCTAGCTAGCTAGCTAGCTAGCTAGCTAGCTAGCTAGCTAGCTAGCTAGCTAGCTAGCTAGCTAGCTAGCTAGCTAGCTAG'}]}\n"
     ]
    },
    {
     "data": {
      "text/plain": [
       "('CTAGCTAGCTAG', 12, 1)"
      ]
     },
     "execution_count": 30,
     "metadata": {},
     "output_type": "execute_result"
    }
   ],
   "source": [
    "output=prompt_with_data(mistral, mistral_token, \"CAKUCL010000105.1\", \"GCCAG\")\n",
    "search_with_strings(ds_gst1_train, output)"
   ]
  },
  {
   "cell_type": "code",
   "execution_count": 35,
   "id": "33e2a5c8-ea76-494f-87a3-f821064cdb07",
   "metadata": {},
   "outputs": [
    {
     "name": "stderr",
     "output_type": "stream",
     "text": [
      "Device set to use cuda:0\n"
     ]
    },
    {
     "name": "stdout",
     "output_type": "stream",
     "text": [
      "{'generated_text': [{'role': 'system', 'content': 'You are a helpful assistant'}, {'role': 'user', 'content': 'What base pairs are present in genome IMGPR_plasmid_2698536519_000009?'}, {'role': 'assistant', 'content': 'The starting base pairs in IMGPR_plasmid_2698536519_000009 are:CAGCAAGCTAGCTAGCTAGCTAGCTAGCTAGCTAGCTAGCTAGCTAGCTAGCTAGCTAGCTAGCTAGCTAGCTAGCTAGCTAGCTAGCTAGCTAGCTAGCTAGCTAGCTAGCTAGCTAGCTAGCTAGCTAGCTAGCTAGCTAGCTAGCTAGCTAGCTAGCTAGCTAGCTAGCTAGCTAGCTAGCTAGCTAGCTAGCTAGCTAGCTAGCTAGCTAGCTAGCTAGCTAGCTAGCTAGCTAGCTAGCTAGCTAGCTAGCTAGCTAGCTAGCTAGCTAGCTAGCTAGCTAGCTAGCTAGCTAGCTAGCTAGCTAGCTAGCTAGCTAGCTAGCTAGCTAGCTAGCTAGCTAGCTAGCTAGCTAGCTAGCTAGCTAGCTAGCTAGCTAGCTAGCTAGCTAGCTAGCTAGCTAGCTAGCTAGCTAGCTAGCTAGCTAGCTAGCTAGCTAGCTAGCTAGCTAGCTAGCTAGCTAGCTAGCTAGCTAGCTAGCTAGCTAGCTAGCTAGCTAGCTAGCTAGCTAGCTAGCTAGCTAGCTAGCTAGCTAGCTAGCTAGCTAGCTAGCTAGCTAGCTAGCTAGCTAGCTAGCTAGCTAGCTAGCTAGCTAGCTAGCTAGCTAGCTAGCTAGCTAGCTAGCTAGCTAGCTAGCTAGCTAGCTAGCTAGCTAGCTAGCTAGCTAGCTAGCTAGCTAGCTAGCTAGCTAGCTAGCTAGCTAGCTAGCTAGCTAGCTAGCTAGCTAGCTAGCTAGCTAGCTAGCTAGCTAGCTAGCTAGCTAGCTAGCTAGCTAGCTAGCTAGCTAGCTAGCTAGCTAGCTAGCTAGCTAGCTAGCTAGCTAGCTAGCTAGCTAGCTAGCTAGCTAGCTAGCTAGCTAGCTAGCTAGCTAGCTAGCTAGCTAGCTAGCTAGCTAGCTAGCTAGCTAGCTAGCTAGCTAGCTAGCTAGCTAGCTAGCTAGCTAGCTAGCTAGCTAGCTAGCTAGCTAGCTAGCTAGCTAGCTAGCTAGCTAGCTAGCTAGCTAGCTAGCTAGCTAGCTAGCTAGCT'}]}\n",
      "('AGCTAGCTAGCT', 12, 3)\n"
     ]
    },
    {
     "data": {
      "text/plain": [
       "('AGCTAGCTAGC', 11, 1)"
      ]
     },
     "execution_count": 35,
     "metadata": {},
     "output_type": "execute_result"
    }
   ],
   "source": [
    "output=prompt_with_data(mistral, mistral_token, \"IMGPR_plasmid_2698536519_000009\", \"CAGCA\")\n",
    "print(search_with_strings(ds_gst1_train, output))\n",
    "search_with_strings(ds_gst1_test, output)"
   ]
  },
  {
   "cell_type": "code",
   "execution_count": null,
   "id": "5608292f-14dc-465f-8128-c14e8de9d32d",
   "metadata": {},
   "outputs": [],
   "source": [
    "# now try these prompts with the base llama3 model"
   ]
  },
  {
   "cell_type": "code",
   "execution_count": 36,
   "id": "b1623562-f480-44cf-a7d9-ad5d27128e0b",
   "metadata": {},
   "outputs": [
    {
     "name": "stderr",
     "output_type": "stream",
     "text": [
      "Device set to use cuda:0\n"
     ]
    },
    {
     "name": "stdout",
     "output_type": "stream",
     "text": [
      "{'role': 'assistant', 'content': 'Here are ten example base pairs for a genome:\\n\\n1. A (Adenine)\\n2. T (Thymine)\\n3. C (Cytosine)\\n4. G (Guanine)\\n5. A (Adenine)\\n6. C (Cytosine)\\n7. G (Guanine)\\n8. T (Thymine)\\n9. A (Adenine)\\n10. C (Cytosine)\\n\\nThese base pairs are the fundamental building blocks of DNA and are arranged in a specific order to form the genetic code.'}\n"
     ]
    }
   ],
   "source": [
    "model, answer, pairs=continued_convo(llama, llama_token, \"Please provide a list with ten example base pairs for a genome\")"
   ]
  },
  {
   "cell_type": "code",
   "execution_count": 37,
   "id": "0e0cdecd-99f6-4a60-a23d-6218c88846e9",
   "metadata": {},
   "outputs": [
    {
     "name": "stderr",
     "output_type": "stream",
     "text": [
      "Device set to use cuda:0\n"
     ]
    },
    {
     "name": "stdout",
     "output_type": "stream",
     "text": [
      "{'role': 'assistant', 'content': \"Here are twenty example base pairs for a genome: CGACTAGCTAGCTAGCTAGC\\n\\nIn this example:\\n\\n* C (cytosine) is represented by 'C'\\n* G (guanine) is represented by 'G'\\n* A (adenine) is represented by 'A'\\n* T (thymine) is represented by 'T'\\n\\nThis is a simple representation of a short DNA sequence, and actual DNA sequences can be much longer and more complex.\"}\n"
     ]
    }
   ],
   "source": [
    "# start off the model's response and see what happens\n",
    "pipe=pipeline(\"text-generation\", model=llama, tokenizer=llama_token)\n",
    "messages=[\n",
    "    {\"role\": \"system\", \"content\": \"You are a helpful assistant\"},\n",
    "    {\"role\": \"user\", \"content\": \"\"\"Please provide an example of what the first \n",
    "    20 base pairs of a genome may look like\"\"\"},\n",
    "    {\"role\": \"assistant\", \"content\": \"Here are twenty example base pairs for a genome: CGACT\"}\n",
    "]\n",
    "\n",
    "output=pipe(messages, max_new_tokens=512)[0]['generated_text'][-1]\n",
    "print(output)\n",
    "pairs=get_pairs(output)"
   ]
  },
  {
   "cell_type": "code",
   "execution_count": 39,
   "id": "a923a027-aa18-491b-8c51-646875fac502",
   "metadata": {},
   "outputs": [
    {
     "data": {
      "text/plain": [
       "('CGACTAGCTA', 10, 9)"
      ]
     },
     "execution_count": 39,
     "metadata": {},
     "output_type": "execute_result"
    }
   ],
   "source": [
    "# the above only elaborated for a small part of the genome and then more or less ignored the prompt\n",
    "search_with_strings(ds_gst1_train, pairs)"
   ]
  },
  {
   "cell_type": "code",
   "execution_count": 40,
   "id": "f99265f2-f7ec-4cc7-b1b7-99df9c7d28f2",
   "metadata": {},
   "outputs": [
    {
     "name": "stderr",
     "output_type": "stream",
     "text": [
      "Device set to use cuda:0\n"
     ]
    },
    {
     "name": "stdout",
     "output_type": "stream",
     "text": [
      "{'generated_text': [{'role': 'system', 'content': 'You are a helpful assistant'}, {'role': 'user', 'content': 'What base pairs are present in genome NZ_LIXJ01000001.1?'}, {'role': 'assistant', 'content': 'The starting base pairs in NZ_LIXJ01000001.1 are:CGACTCAGCAGTCAATGATCAGCTGAAATGAACTTGGTCAAAATGCTATGAAACTTGGAACTTGGTCAAAATGCTATGAAACTTGGAACTTGGTCAAAATGCTATGAAACTTGGAACTTGGTCAAAATGCTATGAAACTTGGAACTTGGTCAAAATGCTATGAAACTTGGAACTTGGTCAAAATGCTATGAAACTTGGAACTTGGTCAAAATGCTATGAAACTTGGAACTTGGTCAAAATGCTATGAAACTTGGAACTTGGTCAAAATGCTATGAAACTTGGAACTTGGTCAAAATGCTATGAAACTTGGAACTTGGTCAAAATGCTATGAAACTTGGAACTTGGTCAAAATGCTATGAAACTTGGAACTTGGTCAAAATGCTATGAAACTTGGAACTTGGTCAAAATGCTATGAAACTTGGAACTTGGTCAAAATGCTATGAAACTTGGAACTTGGTCAAAATGCTATGAAACTTGGAACTTGGTCAAAATGCTATGAAACTTGGAACTTGGTCAAAATGCTATGAAACTTGGAACTTGGTCAAAATGCTATGAAACTTGGAACTTGGTCAAAATGCTATGAAACTTGGAACTTGGTCAAAATGCTATGAAACTTGGAACTTGGTCAAAATGCTATGAAACTTGGAACTTGGTCAAAATGCTATGAAACTTGGAACTTGGTCAAAATGCTATGAAACTTGGAACTTGGTCAAAATGCTATGAAACTTGGAACTTGGTCAAAATGCTATGAAACTTGGAACTTGGTCAAAATGCTATGAAACTTGGAACTTGGTCAAAATGCTATGAAACTTGGAACTTGGTCAAAATGCTATGAAACTTGGAACTTGGTCAAAATGCTATGAAACTTGGAACTTGGTCAAAATGCTATGAAACTTGGAA'}]}\n"
     ]
    },
    {
     "data": {
      "text/plain": [
       "('AGCAGTCAATGAT', 13, 3)"
      ]
     },
     "execution_count": 40,
     "metadata": {},
     "output_type": "execute_result"
    }
   ],
   "source": [
    "output=prompt_with_data(llama, llama_token, \"NZ_LIXJ01000001.1\", \"CGACTC\")\n",
    "search_with_strings(ds_gst1_train, output)"
   ]
  },
  {
   "cell_type": "code",
   "execution_count": 41,
   "id": "0478feb6-7e67-4e49-aec6-13fc59ce8b19",
   "metadata": {},
   "outputs": [
    {
     "name": "stderr",
     "output_type": "stream",
     "text": [
      "Device set to use cuda:0\n"
     ]
    },
    {
     "name": "stdout",
     "output_type": "stream",
     "text": [
      "{'generated_text': [{'role': 'system', 'content': 'You are a helpful assistant'}, {'role': 'user', 'content': 'What base pairs are present in genome JAHFAU010000168.11?'}, {'role': 'assistant', 'content': 'The starting base pairs in JAHFAU010000168.11 are:CTCCTCCTCCTCCTTTC.'}]}\n"
     ]
    },
    {
     "data": {
      "text/plain": [
       "('CTCCTCCTTTC', 11, 31)"
      ]
     },
     "execution_count": 41,
     "metadata": {},
     "output_type": "execute_result"
    }
   ],
   "source": [
    "output=prompt_with_data(llama, llama_token, \"JAHFAU010000168.11\", \"CTCCTC\")\n",
    "search_with_strings(ds_gst1_train, output)"
   ]
  },
  {
   "cell_type": "code",
   "execution_count": null,
   "id": "a66e949b-07dd-4197-b01d-a95a35f0111d",
   "metadata": {},
   "outputs": [],
   "source": [
    "# the base llama3 model produces very short strings in general"
   ]
  },
  {
   "cell_type": "code",
   "execution_count": 44,
   "id": "7d9cec73-0f7f-4172-8a56-03305baa93bb",
   "metadata": {},
   "outputs": [
    {
     "name": "stderr",
     "output_type": "stream",
     "text": [
      "Device set to use cuda:0\n"
     ]
    },
    {
     "name": "stdout",
     "output_type": "stream",
     "text": [
      "{'generated_text': [{'role': 'system', 'content': 'You are a helpful assistant'}, {'role': 'user', 'content': 'What base pairs are present in genome JAHFAU010000093.1?'}, {'role': 'assistant', 'content': 'The starting base pairs in JAHFAU010000093.1 are:CGATCAGCAGTACGTAGTACGATCAGCAGTACGTAGTACGATCAGCAGTACGTAGTACGATCAGCAGTACGTAGTACGATCAGCAGTACGTAGTACGATCAGCAGTACGTAGTACGATCAGCAGTACGTAGTACGATCAGCAGTACGTAGTACGATCAGCAGTACGTAGTACGATCAGCAGTACGTAGTACGATCAGCAGTACGTAGTACGATCAGCAGTACGTAGTACGATCAGCAGTACGTAGTACGATCAGCAGTACGTAGTACGATCAGCAGTACGTAGTACGATCAGCAGTACGTAGTACGATCAGCAGTACGTAGTACGATCAGCAGTACGTAGTACGATCAGCAGTACGTAGTACGATCAGCAGTACGTAGTACGATCAGCAGTACGTAGTACGATCAGCAGTACGTAGTACGATCAGCAGTACGTAGTACGATCAGCAGTACGTAGTACGATCAGCAGTACGTAGTACGATCAGCAGTACGTAGTACGATCAGCAGTACGTAGTACGATCAGCAGTACGTAGTACGATCAGCAGTACGTAGTACGATCAGCAGTACGTAGTACGATCAGCAGTACGTAGTACGATCAGCAGTACGTAGTACGATCAGCAGTACGTAGTACGATCAGCAGTACGTAGTACGATCAGCAGTACGTAGTACGATCAGCAGTACGTAGTACGATCAGCAGTACGTAGTACGATCAGCAGTACGTAGTACGATCAGCAGTACGTAGTACGATCAGCAGTACGTAGTACGATCAGCAGTACGTAGTACGATCAGCAGTACGTAGTACGATCAGCAGTACGTAGT'}]}\n"
     ]
    },
    {
     "data": {
      "text/plain": [
       "('AGCAGTACGTAG', 12, 2)"
      ]
     },
     "execution_count": 44,
     "metadata": {},
     "output_type": "execute_result"
    }
   ],
   "source": [
    "output=prompt_with_data(llama, llama_token, \"JAHFAU010000093.1\", \"CGATC\")\n",
    "search_with_strings(ds_gst1_train, output)"
   ]
  },
  {
   "cell_type": "code",
   "execution_count": 48,
   "id": "be96de5e-a89b-40e4-b381-56efbea457e9",
   "metadata": {},
   "outputs": [
    {
     "name": "stderr",
     "output_type": "stream",
     "text": [
      "Device set to use cuda:0\n"
     ]
    },
    {
     "name": "stdout",
     "output_type": "stream",
     "text": [
      "{'role': 'assistant', 'content': \"Here are five examples of what the first 20 base pairs of a genome may look like:\\n\\n1. **AATCG**: This sequence is a common starting point for many genomes, including the human genome. It's a simple example of a base pair sequence.\\n\\n2. **ATCGTA**: This sequence is similar to the first one but with the order of the base pairs reversed. It's another common starting point for many genomes.\\n\\n3. **ACGTCA**: This sequence is another variation of the first two examples. It's also a common starting point for many genomes.\\n\\n4. **ATCGATC**: This sequence is a simple example of a base pair sequence with an additional nucleotide.\\n\\n5. **ATCGATCG**: This sequence is a longer example of a base pair sequence with an additional nucleotide.\"}\n"
     ]
    }
   ],
   "source": [
    "model, answer, pairs=continued_convo(llama, llama_token, \"\"\"Please provide five examples for what\n",
    "    the first 20 base pairs of a genome may look like\"\"\") # a vague list of examples is provided here, the fine-tuned model produced a long string"
   ]
  },
  {
   "cell_type": "code",
   "execution_count": 49,
   "id": "6da4635c-d9f7-4f08-b347-2e9a0d2e19b4",
   "metadata": {},
   "outputs": [
    {
     "data": {
      "text/plain": [
       "('ATCGATCG', 8, 1331)"
      ]
     },
     "execution_count": 49,
     "metadata": {},
     "output_type": "execute_result"
    }
   ],
   "source": [
    "search_with_strings(ds_gst1_train, \"ATCGATCG\")"
   ]
  },
  {
   "cell_type": "code",
   "execution_count": 53,
   "id": "4bb44c03-beec-4abc-a156-3a76ec379706",
   "metadata": {},
   "outputs": [
    {
     "name": "stderr",
     "output_type": "stream",
     "text": [
      "Device set to use cuda:0\n"
     ]
    },
    {
     "name": "stdout",
     "output_type": "stream",
     "text": [
      "{'generated_text': [{'role': 'system', 'content': 'You are a helpful assistant'}, {'role': 'user', 'content': 'What base pairs are present in genome IMGPR_plasmid_3300006450_000026?'}, {'role': 'assistant', 'content': 'The starting base pairs in IMGPR_plasmid_3300006450_000026 are:CAAAGGCGAAGGCAAAG.'}]}\n"
     ]
    },
    {
     "data": {
      "text/plain": [
       "('GCGAAGGCAAAG', 12, 27)"
      ]
     },
     "execution_count": 53,
     "metadata": {},
     "output_type": "execute_result"
    }
   ],
   "source": [
    "output=prompt_with_data(llama, llama_token, \"IMGPR_plasmid_3300006450_000026\", \"CAAAG\")\n",
    "search_with_strings(ds_gst1_train, output)"
   ]
  },
  {
   "cell_type": "code",
   "execution_count": 57,
   "id": "11c9413e-0742-4109-a36d-818ac102cdf0",
   "metadata": {},
   "outputs": [
    {
     "name": "stderr",
     "output_type": "stream",
     "text": [
      "Device set to use cuda:0\n"
     ]
    },
    {
     "name": "stdout",
     "output_type": "stream",
     "text": [
      "{'generated_text': [{'role': 'system', 'content': 'You are a helpful assistant'}, {'role': 'user', 'content': 'What base pairs are present in genome NZ_LSRP01000058.1?'}, {'role': 'assistant', 'content': 'The starting base pairs in NZ_LSRP01000058.1 are:GTAGAAGCTGATAGCTATAGATGATGATGATGATGATGATGATGATGATGATGATGATGATGATGATGATGATGATGATGATGATGATGATGATGATGATGATGATGATGATGATGATGATGATGATGATGATGATGATGATGATGATGATGATGATGATGATGATGATGATGATGATGATGATGATGATGATGATGATGATGATGATGATGATGATGATGATGATGATGATGATGATGATGATGATGATGATGATGATGATGATGATGATGATGATGATGATGATGATGATGATGATGATGATGATGATGATGATGATGATGATGATGATGATGATGATGATGATGATGATGATGATGATGATGATGATGATGATGATGATGATGATGATGATGATGATGATGATGATGATGATGATGATGATGATGATGATGATGATGATGATGATGATGATGATGATGATGATGATGATGATGATGATGATGATGATGATGATGATGATGATGATGATGATGATGATGATGATGATGATGATGATGATGATGATGATGATGATGATGATGATGATGATGATGATGATGATGATGATGATGATGATGATGATGATGATGATGATGATGATGATGATGATGATGATGATGATGATGATGATGATGATGATGATGATGATGATGATGATGATGATGATGATGATGATGATGATGATGATGATGATGATGATGATGATGATGATGATGATGATGATGATGATGATGATGATGATGATGATGATGATG'}]}\n"
     ]
    },
    {
     "data": {
      "text/plain": [
       "('AGCTGATAGCT', 11, 29)"
      ]
     },
     "execution_count": 57,
     "metadata": {},
     "output_type": "execute_result"
    }
   ],
   "source": [
    "output=prompt_with_data(llama, llama_token, \"NZ_LSRP01000058.1\", \"GTAGA\")\n",
    "search_with_strings(ds_gst1_train, output)"
   ]
  },
  {
   "cell_type": "code",
   "execution_count": null,
   "id": "1bca1a40-3edb-4ca7-a09e-2a2929a15c6d",
   "metadata": {},
   "outputs": [],
   "source": [
    "# it took multiple attempts for the model to respond to the prompt above with an answer longer than 10 or so characters"
   ]
  },
  {
   "cell_type": "code",
   "execution_count": 62,
   "id": "64658891-6e16-4cfd-ae6f-bb1b283a3b24",
   "metadata": {},
   "outputs": [
    {
     "name": "stderr",
     "output_type": "stream",
     "text": [
      "Device set to use cuda:0\n"
     ]
    },
    {
     "name": "stdout",
     "output_type": "stream",
     "text": [
      "{'generated_text': [{'role': 'system', 'content': 'You are a helpful assistant'}, {'role': 'user', 'content': 'What base pairs are present in genome CAKUCL010000105.1?'}, {'role': 'assistant', 'content': 'The starting base pairs in CAKUCL010000105.1 are:GCCAGCCGU.'}]}\n"
     ]
    },
    {
     "data": {
      "text/plain": [
       "('CCG', 3, 7483)"
      ]
     },
     "execution_count": 62,
     "metadata": {},
     "output_type": "execute_result"
    }
   ],
   "source": [
    "output=prompt_with_data(llama, llama_token, \"CAKUCL010000105.1\", \"GCCAG\")\n",
    "search_with_strings(ds_gst1_train, output)"
   ]
  },
  {
   "cell_type": "code",
   "execution_count": 63,
   "id": "cb666bd3-e53d-4cec-a59b-fe4ad6d32e15",
   "metadata": {},
   "outputs": [],
   "source": [
    "# apart from one attempt, the model continually responds to this prompt with a sequence containing a U"
   ]
  },
  {
   "cell_type": "code",
   "execution_count": 69,
   "id": "faf56fbf-203e-455a-a179-54de85a397da",
   "metadata": {},
   "outputs": [
    {
     "name": "stderr",
     "output_type": "stream",
     "text": [
      "Device set to use cuda:0\n"
     ]
    },
    {
     "name": "stdout",
     "output_type": "stream",
     "text": [
      "{'generated_text': [{'role': 'system', 'content': 'You are a helpful assistant'}, {'role': 'user', 'content': 'What base pairs are present in genome IMGPR_plasmid_2698536519_000009?'}, {'role': 'assistant', 'content': 'The starting base pairs in IMGPR_plasmid_2698536519_000009 are:CAGCAACGAA.'}]}\n",
      "('ACGAA', 5, 6839)\n"
     ]
    },
    {
     "data": {
      "text/plain": [
       "('ACGAA', 5, 736)"
      ]
     },
     "execution_count": 69,
     "metadata": {},
     "output_type": "execute_result"
    }
   ],
   "source": [
    "output=prompt_with_data(llama, llama_token, \"IMGPR_plasmid_2698536519_000009\", \"CAGCA\")\n",
    "print(search_with_strings(ds_gst1_train, output))\n",
    "search_with_strings(ds_gst1_test, output)"
   ]
  },
  {
   "cell_type": "code",
   "execution_count": 71,
   "id": "c0cd424c-49bd-47bb-aa0c-709c5a172900",
   "metadata": {},
   "outputs": [
    {
     "name": "stderr",
     "output_type": "stream",
     "text": [
      "Device set to use cuda:0\n"
     ]
    },
    {
     "name": "stdout",
     "output_type": "stream",
     "text": [
      "{'generated_text': [{'role': 'system', 'content': 'You are a helpful assistant'}, {'role': 'user', 'content': 'What base pairs are present in genome IMGPR_plasmid_2698536519_000009?'}, {'role': 'assistant', 'content': 'The starting base pairs in IMGPR_plasmid_2698536519_000009 are:CAGCAATTGATGATCAGC.'}]}\n",
      "('ATTGATGATCAGC', 13, 5)\n"
     ]
    },
    {
     "data": {
      "text/plain": [
       "('ATTGATGATCAG', 12, 2)"
      ]
     },
     "execution_count": 71,
     "metadata": {},
     "output_type": "execute_result"
    }
   ],
   "source": [
    "output=prompt_with_data(llama, llama_token, \"IMGPR_plasmid_2698536519_000009\", \"CAGCA\")\n",
    "print(search_with_strings(ds_gst1_train, output))\n",
    "search_with_strings(ds_gst1_test, output)"
   ]
  },
  {
   "cell_type": "code",
   "execution_count": null,
   "id": "e100b03e-fd2c-44dc-ba64-038b0c9de343",
   "metadata": {},
   "outputs": [],
   "source": [
    "# second prompt with this question was to see if it would produce longer output"
   ]
  },
  {
   "cell_type": "code",
   "execution_count": null,
   "id": "84ff29da-42be-4826-9d43-50ae1edd1e7a",
   "metadata": {},
   "outputs": [],
   "source": [
    "# overall, the base models have far weaker performance than the fine-tuned ones"
   ]
  }
 ],
 "metadata": {
  "kernelspec": {
   "display_name": "Python 3 (ipykernel)",
   "language": "python",
   "name": "python3"
  },
  "language_info": {
   "codemirror_mode": {
    "name": "ipython",
    "version": 3
   },
   "file_extension": ".py",
   "mimetype": "text/x-python",
   "name": "python",
   "nbconvert_exporter": "python",
   "pygments_lexer": "ipython3",
   "version": "3.12.8"
  }
 },
 "nbformat": 4,
 "nbformat_minor": 5
}
