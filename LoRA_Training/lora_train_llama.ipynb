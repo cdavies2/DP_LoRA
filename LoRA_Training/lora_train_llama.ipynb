{
 "cells": [
  {
   "cell_type": "code",
   "execution_count": 12,
   "id": "53842ea7-8c77-4243-82c0-7fd426d6c172",
   "metadata": {},
   "outputs": [
    {
     "name": "stdout",
     "output_type": "stream",
     "text": [
      "{'record': Value(dtype='string', id=None), 'text': Value(dtype='string', id=None)}\n",
      "{'text': Value(dtype='string', id=None)}\n",
      "{'text': Value(dtype='string', id=None)}\n",
      "['train', 'validation', 'test']\n",
      "['train', 'validation', 'test']\n",
      "In, Out, get_ipython, exit, quit, open, accelerate, datasets, evaluate, math, np, os, peft, pickle, pytest, ipytest, pd, transformers, torch, time, threading, load_dataset, load_dataset_builder, get_dataset_split_names, get_dataset_config_names, LoftQConfig, LoraConfig, get_peft_model, AutoModelForCausalLM, AutoTokenizer, pipeline, TrainingArguments, Trainer, SFTTrainer, SFTConfig, @py_builtins, @pytest_ar, model_from_pkl, ds_builder1, ds_builder2, ds_builder3, ds_gs, ds_gst1_train, ds_gst1_test, ds_gst2_train, ds_gst2_test, search_with_strings, map_data, print_trainable_parameters, metric, initialize_heartbeat, heartbeat, end_heartbeat, comp_metrics_output, compute_metrics, make_trainer, get_dataframe, get_training_output, lla_321, lla_321_tokenizer, lla_323, lla_323_tokenizer, l_tokenized_genome_samples, l_tokenized_stage1_train, l_tokenized_stage1_test, l_tokenized_stage2_train, l_tokenized_stage2_test, config, lla_lora_model, l_trainer, state, "
     ]
    }
   ],
   "source": [
    "%run training_functions.ipynb"
   ]
  },
  {
   "cell_type": "markdown",
   "id": "f66a8e0f-915a-4729-bf8c-98eb391e5993",
   "metadata": {},
   "source": [
    "## Imported Functions\n",
    "1. model_from_pkl(model): extracts ML model from pkl file\n",
    "2. map_data(data, model, tokenizer): performs preprocessing/tokenization on data\n",
    "3. make_trainer(m_model, train_data, test_data, config, args): creates training object with model, training arguments, train/test data, a configuration, and evaluation function\n",
    "4. compute_metrics(eval_pred): used in the trainer, calculates prediction accuracy/validation loss\n",
    "5. get_training_output(trainer, keys: list): extracts data from training logs\n",
    "6. get_dataframe(training_output: list, strategy): used in get_training_output, puts training data into dataframe/graph form"
   ]
  },
  {
   "cell_type": "code",
   "execution_count": 2,
   "id": "1eb0f48c-1c7c-42d1-9caf-bfabdc65a51b",
   "metadata": {},
   "outputs": [],
   "source": [
    "lla_321, lla_321_tokenizer=model_from_pkl(\"Llama-3.2-1B-Instruct\")"
   ]
  },
  {
   "cell_type": "code",
   "execution_count": 3,
   "id": "9815a69b-75de-4ad6-aba6-a0264b60697d",
   "metadata": {},
   "outputs": [],
   "source": [
    "lla_323, lla_323_tokenizer=model_from_pkl(\"Llama-3.2-3B-Instruct\")"
   ]
  },
  {
   "cell_type": "code",
   "execution_count": 4,
   "id": "4da853cb-a6c3-4efb-ad01-f627b692ac3e",
   "metadata": {},
   "outputs": [],
   "source": [
    "l_tokenized_genome_samples=map_data(ds_gs, lla_321, lla_321_tokenizer)"
   ]
  },
  {
   "cell_type": "code",
   "execution_count": 5,
   "id": "48ad2148-e531-49be-9b6d-fb23d8a9d8f9",
   "metadata": {},
   "outputs": [],
   "source": [
    "l_tokenized_stage1_train=map_data(ds_gst1_train, lla_321, lla_321_tokenizer)\n",
    "l_tokenized_stage1_test=map_data(ds_gst1_test, lla_321, lla_321_tokenizer)"
   ]
  },
  {
   "cell_type": "code",
   "execution_count": 6,
   "id": "683839a6-f9a0-434f-882c-e8efafe085b2",
   "metadata": {},
   "outputs": [
    {
     "name": "stderr",
     "output_type": "stream",
     "text": [
      "Map: 100%|███████████████| 7500/7500 [05:27<00:00, 22.91 examples/s]\n"
     ]
    }
   ],
   "source": [
    "l_tokenized_stage2_train=map_data(ds_gst2_train, lla_321, lla_321_tokenizer)\n",
    "l_tokenized_stage2_test=map_data(ds_gst2_test, lla_321, lla_321_tokenizer)"
   ]
  },
  {
   "cell_type": "code",
   "execution_count": 7,
   "id": "e9995c30-15ec-4a03-8d14-39f21a4bee66",
   "metadata": {},
   "outputs": [],
   "source": [
    "# to fine-tune with LoRA, instantiate a base model (as above)\n",
    "# create LoraConfig where LoRA-specific parameters are defined\n",
    "config=LoraConfig(\n",
    "    #inference_mode=False,\n",
    "    r=8, #rank of update matrices, lower value results in smaller matrices with fewer parameters\n",
    "    lora_alpha=16, #LoRA scaling factor\n",
    "    task_type=\"CAUSAL_LM\",\n",
    "    lora_dropout=0.1, # dropout probability of LoRA layers\n",
    "    bias=\"none\", # specifies if bias parameters should be trained\n",
    "    #modules_to_save=[\"decode_head\"] #models apart from LoRA layers that are trainable\n",
    ")"
   ]
  },
  {
   "cell_type": "code",
   "execution_count": 8,
   "id": "ccd1dae1-2462-4637-9ee0-82c32af4bc67",
   "metadata": {},
   "outputs": [
    {
     "name": "stdout",
     "output_type": "stream",
     "text": [
      "trainable params: 851968 || all params: 1236666368 || trainable%: 0.07\n"
     ]
    }
   ],
   "source": [
    "lla_lora_model=get_peft_model(lla_321, config)\n",
    "print_trainable_parameters(lla_lora_model)"
   ]
  },
  {
   "cell_type": "code",
   "execution_count": 9,
   "id": "6604baf8-e6d8-45b6-a7e3-90027a6c3585",
   "metadata": {},
   "outputs": [],
   "source": [
    "l_trainer = make_trainer(lla_lora_model, l_tokenized_stage1_train, l_tokenized_stage1_test, config,\n",
    "                          SFTConfig(output_dir=\"test_trainer\", eval_strategy=\"steps\",\n",
    "                                    logging_strategy=\"steps\",\n",
    "                                    logging_steps=20))"
   ]
  },
  {
   "cell_type": "code",
   "execution_count": 10,
   "id": "2ba38928-e967-489b-aab9-a96b8c2407be",
   "metadata": {},
   "outputs": [
    {
     "name": "stdout",
     "output_type": "stream",
     "text": [
      "The function is running\n"
     ]
    },
    {
     "name": "stderr",
     "output_type": "stream",
     "text": [
      "/home/ac.cdavies/.vnv/lib/python3.12/site-packages/torch/nn/parallel/_functions.py:70: UserWarning: Was asked to gather along dimension 0, but all input tensors were scalars; will instead unsqueeze and return a vector.\n",
      "  warnings.warn(\n"
     ]
    },
    {
     "data": {
      "text/html": [
       "\n",
       "    <div>\n",
       "      \n",
       "      <progress value='705' max='705' style='width:300px; height:20px; vertical-align: middle;'></progress>\n",
       "      [705/705 11:27, Epoch 3/3]\n",
       "    </div>\n",
       "    <table border=\"1\" class=\"dataframe\">\n",
       "  <thead>\n",
       " <tr style=\"text-align: left;\">\n",
       "      <th>Step</th>\n",
       "      <th>Training Loss</th>\n",
       "      <th>Validation Loss</th>\n",
       "    </tr>\n",
       "  </thead>\n",
       "  <tbody>\n",
       "    <tr>\n",
       "      <td>20</td>\n",
       "      <td>0.674100</td>\n",
       "      <td>2.688479</td>\n",
       "    </tr>\n",
       "    <tr>\n",
       "      <td>40</td>\n",
       "      <td>0.666300</td>\n",
       "      <td>2.655928</td>\n",
       "    </tr>\n",
       "    <tr>\n",
       "      <td>60</td>\n",
       "      <td>0.658600</td>\n",
       "      <td>2.635938</td>\n",
       "    </tr>\n",
       "    <tr>\n",
       "      <td>80</td>\n",
       "      <td>0.655500</td>\n",
       "      <td>2.623807</td>\n",
       "    </tr>\n",
       "    <tr>\n",
       "      <td>100</td>\n",
       "      <td>0.651600</td>\n",
       "      <td>2.615537</td>\n",
       "    </tr>\n",
       "    <tr>\n",
       "      <td>120</td>\n",
       "      <td>0.651600</td>\n",
       "      <td>2.610037</td>\n",
       "    </tr>\n",
       "    <tr>\n",
       "      <td>140</td>\n",
       "      <td>0.649000</td>\n",
       "      <td>2.605709</td>\n",
       "    </tr>\n",
       "    <tr>\n",
       "      <td>160</td>\n",
       "      <td>0.646800</td>\n",
       "      <td>2.602380</td>\n",
       "    </tr>\n",
       "    <tr>\n",
       "      <td>180</td>\n",
       "      <td>0.646800</td>\n",
       "      <td>2.599402</td>\n",
       "    </tr>\n",
       "    <tr>\n",
       "      <td>200</td>\n",
       "      <td>0.645900</td>\n",
       "      <td>2.597108</td>\n",
       "    </tr>\n",
       "    <tr>\n",
       "      <td>220</td>\n",
       "      <td>0.644100</td>\n",
       "      <td>2.595046</td>\n",
       "    </tr>\n",
       "    <tr>\n",
       "      <td>240</td>\n",
       "      <td>0.644100</td>\n",
       "      <td>2.592987</td>\n",
       "    </tr>\n",
       "    <tr>\n",
       "      <td>260</td>\n",
       "      <td>0.645700</td>\n",
       "      <td>2.590996</td>\n",
       "    </tr>\n",
       "    <tr>\n",
       "      <td>280</td>\n",
       "      <td>0.644000</td>\n",
       "      <td>2.589379</td>\n",
       "    </tr>\n",
       "    <tr>\n",
       "      <td>300</td>\n",
       "      <td>0.644700</td>\n",
       "      <td>2.587929</td>\n",
       "    </tr>\n",
       "    <tr>\n",
       "      <td>320</td>\n",
       "      <td>0.643000</td>\n",
       "      <td>2.586670</td>\n",
       "    </tr>\n",
       "    <tr>\n",
       "      <td>340</td>\n",
       "      <td>0.642200</td>\n",
       "      <td>2.585731</td>\n",
       "    </tr>\n",
       "    <tr>\n",
       "      <td>360</td>\n",
       "      <td>0.643600</td>\n",
       "      <td>2.585076</td>\n",
       "    </tr>\n",
       "    <tr>\n",
       "      <td>380</td>\n",
       "      <td>0.644100</td>\n",
       "      <td>2.584663</td>\n",
       "    </tr>\n",
       "    <tr>\n",
       "      <td>400</td>\n",
       "      <td>0.641700</td>\n",
       "      <td>2.584058</td>\n",
       "    </tr>\n",
       "    <tr>\n",
       "      <td>420</td>\n",
       "      <td>0.641500</td>\n",
       "      <td>2.583763</td>\n",
       "    </tr>\n",
       "    <tr>\n",
       "      <td>440</td>\n",
       "      <td>0.642600</td>\n",
       "      <td>2.583239</td>\n",
       "    </tr>\n",
       "    <tr>\n",
       "      <td>460</td>\n",
       "      <td>0.639500</td>\n",
       "      <td>2.583003</td>\n",
       "    </tr>\n",
       "    <tr>\n",
       "      <td>480</td>\n",
       "      <td>0.641700</td>\n",
       "      <td>2.582528</td>\n",
       "    </tr>\n",
       "    <tr>\n",
       "      <td>500</td>\n",
       "      <td>0.643700</td>\n",
       "      <td>2.582184</td>\n",
       "    </tr>\n",
       "    <tr>\n",
       "      <td>520</td>\n",
       "      <td>0.643500</td>\n",
       "      <td>2.582104</td>\n",
       "    </tr>\n",
       "    <tr>\n",
       "      <td>540</td>\n",
       "      <td>0.641900</td>\n",
       "      <td>2.581791</td>\n",
       "    </tr>\n",
       "    <tr>\n",
       "      <td>560</td>\n",
       "      <td>0.639500</td>\n",
       "      <td>2.581648</td>\n",
       "    </tr>\n",
       "    <tr>\n",
       "      <td>580</td>\n",
       "      <td>0.640400</td>\n",
       "      <td>2.581455</td>\n",
       "    </tr>\n",
       "    <tr>\n",
       "      <td>600</td>\n",
       "      <td>0.641000</td>\n",
       "      <td>2.581352</td>\n",
       "    </tr>\n",
       "    <tr>\n",
       "      <td>620</td>\n",
       "      <td>0.641900</td>\n",
       "      <td>2.581235</td>\n",
       "    </tr>\n",
       "    <tr>\n",
       "      <td>640</td>\n",
       "      <td>0.640500</td>\n",
       "      <td>2.581178</td>\n",
       "    </tr>\n",
       "    <tr>\n",
       "      <td>660</td>\n",
       "      <td>0.642100</td>\n",
       "      <td>2.581002</td>\n",
       "    </tr>\n",
       "    <tr>\n",
       "      <td>680</td>\n",
       "      <td>0.641500</td>\n",
       "      <td>2.581021</td>\n",
       "    </tr>\n",
       "    <tr>\n",
       "      <td>700</td>\n",
       "      <td>0.642400</td>\n",
       "      <td>2.581054</td>\n",
       "    </tr>\n",
       "  </tbody>\n",
       "</table><p>"
      ],
      "text/plain": [
       "<IPython.core.display.HTML object>"
      ]
     },
     "metadata": {},
     "output_type": "display_data"
    },
    {
     "name": "stdout",
     "output_type": "stream",
     "text": [
      "The function is running\n",
      "The function is running\n",
      "The function is running\n",
      "The function is running\n",
      "The function is running\n",
      "The function is running\n",
      "The function is running\n",
      "The function is running\n"
     ]
    },
    {
     "name": "stderr",
     "output_type": "stream",
     "text": [
      "/home/ac.cdavies/.vnv/lib/python3.12/site-packages/torch/nn/parallel/_functions.py:70: UserWarning: Was asked to gather along dimension 0, but all input tensors were scalars; will instead unsqueeze and return a vector.\n",
      "  warnings.warn(\n"
     ]
    },
    {
     "name": "stdout",
     "output_type": "stream",
     "text": [
      "The function is running\n",
      "The function is running\n",
      "The function is running\n",
      "The function is running\n",
      "The function is running\n"
     ]
    }
   ],
   "source": [
    "state=initialize_heartbeat()\n",
    "l_trainer.train() \n",
    "end_heartbeat(state)"
   ]
  },
  {
   "cell_type": "code",
   "execution_count": 13,
   "id": "3a22653f-b4f3-495f-81ee-44bc1045ee39",
   "metadata": {},
   "outputs": [
    {
     "data": {
      "text/html": [
       "<div>\n",
       "<style scoped>\n",
       "    .dataframe tbody tr th:only-of-type {\n",
       "        vertical-align: middle;\n",
       "    }\n",
       "\n",
       "    .dataframe tbody tr th {\n",
       "        vertical-align: top;\n",
       "    }\n",
       "\n",
       "    .dataframe thead th {\n",
       "        text-align: right;\n",
       "    }\n",
       "</style>\n",
       "<table border=\"1\" class=\"dataframe\">\n",
       "  <thead>\n",
       "    <tr style=\"text-align: right;\">\n",
       "      <th></th>\n",
       "      <th>loss</th>\n",
       "      <th>eval_loss</th>\n",
       "    </tr>\n",
       "    <tr>\n",
       "      <th>steps</th>\n",
       "      <th></th>\n",
       "      <th></th>\n",
       "    </tr>\n",
       "  </thead>\n",
       "  <tbody>\n",
       "    <tr>\n",
       "      <th>20</th>\n",
       "      <td>0.6741</td>\n",
       "      <td>2.688479</td>\n",
       "    </tr>\n",
       "    <tr>\n",
       "      <th>40</th>\n",
       "      <td>0.6663</td>\n",
       "      <td>2.655928</td>\n",
       "    </tr>\n",
       "    <tr>\n",
       "      <th>60</th>\n",
       "      <td>0.6586</td>\n",
       "      <td>2.635938</td>\n",
       "    </tr>\n",
       "    <tr>\n",
       "      <th>80</th>\n",
       "      <td>0.6555</td>\n",
       "      <td>2.623807</td>\n",
       "    </tr>\n",
       "    <tr>\n",
       "      <th>100</th>\n",
       "      <td>0.6516</td>\n",
       "      <td>2.615537</td>\n",
       "    </tr>\n",
       "    <tr>\n",
       "      <th>120</th>\n",
       "      <td>0.6516</td>\n",
       "      <td>2.610037</td>\n",
       "    </tr>\n",
       "    <tr>\n",
       "      <th>140</th>\n",
       "      <td>0.6490</td>\n",
       "      <td>2.605709</td>\n",
       "    </tr>\n",
       "    <tr>\n",
       "      <th>160</th>\n",
       "      <td>0.6468</td>\n",
       "      <td>2.602380</td>\n",
       "    </tr>\n",
       "    <tr>\n",
       "      <th>180</th>\n",
       "      <td>0.6468</td>\n",
       "      <td>2.599402</td>\n",
       "    </tr>\n",
       "    <tr>\n",
       "      <th>200</th>\n",
       "      <td>0.6459</td>\n",
       "      <td>2.597108</td>\n",
       "    </tr>\n",
       "    <tr>\n",
       "      <th>220</th>\n",
       "      <td>0.6441</td>\n",
       "      <td>2.595046</td>\n",
       "    </tr>\n",
       "    <tr>\n",
       "      <th>240</th>\n",
       "      <td>0.6441</td>\n",
       "      <td>2.592987</td>\n",
       "    </tr>\n",
       "    <tr>\n",
       "      <th>260</th>\n",
       "      <td>0.6457</td>\n",
       "      <td>2.590996</td>\n",
       "    </tr>\n",
       "    <tr>\n",
       "      <th>280</th>\n",
       "      <td>0.6440</td>\n",
       "      <td>2.589379</td>\n",
       "    </tr>\n",
       "    <tr>\n",
       "      <th>300</th>\n",
       "      <td>0.6447</td>\n",
       "      <td>2.587929</td>\n",
       "    </tr>\n",
       "    <tr>\n",
       "      <th>320</th>\n",
       "      <td>0.6430</td>\n",
       "      <td>2.586670</td>\n",
       "    </tr>\n",
       "    <tr>\n",
       "      <th>340</th>\n",
       "      <td>0.6422</td>\n",
       "      <td>2.585731</td>\n",
       "    </tr>\n",
       "    <tr>\n",
       "      <th>360</th>\n",
       "      <td>0.6436</td>\n",
       "      <td>2.585076</td>\n",
       "    </tr>\n",
       "    <tr>\n",
       "      <th>380</th>\n",
       "      <td>0.6441</td>\n",
       "      <td>2.584663</td>\n",
       "    </tr>\n",
       "    <tr>\n",
       "      <th>400</th>\n",
       "      <td>0.6417</td>\n",
       "      <td>2.584058</td>\n",
       "    </tr>\n",
       "    <tr>\n",
       "      <th>420</th>\n",
       "      <td>0.6415</td>\n",
       "      <td>2.583763</td>\n",
       "    </tr>\n",
       "    <tr>\n",
       "      <th>440</th>\n",
       "      <td>0.6426</td>\n",
       "      <td>2.583239</td>\n",
       "    </tr>\n",
       "    <tr>\n",
       "      <th>460</th>\n",
       "      <td>0.6395</td>\n",
       "      <td>2.583003</td>\n",
       "    </tr>\n",
       "    <tr>\n",
       "      <th>480</th>\n",
       "      <td>0.6417</td>\n",
       "      <td>2.582528</td>\n",
       "    </tr>\n",
       "    <tr>\n",
       "      <th>500</th>\n",
       "      <td>0.6437</td>\n",
       "      <td>2.582184</td>\n",
       "    </tr>\n",
       "    <tr>\n",
       "      <th>520</th>\n",
       "      <td>0.6435</td>\n",
       "      <td>2.582104</td>\n",
       "    </tr>\n",
       "    <tr>\n",
       "      <th>540</th>\n",
       "      <td>0.6419</td>\n",
       "      <td>2.581791</td>\n",
       "    </tr>\n",
       "    <tr>\n",
       "      <th>560</th>\n",
       "      <td>0.6395</td>\n",
       "      <td>2.581648</td>\n",
       "    </tr>\n",
       "    <tr>\n",
       "      <th>580</th>\n",
       "      <td>0.6404</td>\n",
       "      <td>2.581455</td>\n",
       "    </tr>\n",
       "    <tr>\n",
       "      <th>600</th>\n",
       "      <td>0.6410</td>\n",
       "      <td>2.581352</td>\n",
       "    </tr>\n",
       "    <tr>\n",
       "      <th>620</th>\n",
       "      <td>0.6419</td>\n",
       "      <td>2.581235</td>\n",
       "    </tr>\n",
       "    <tr>\n",
       "      <th>640</th>\n",
       "      <td>0.6405</td>\n",
       "      <td>2.581178</td>\n",
       "    </tr>\n",
       "    <tr>\n",
       "      <th>660</th>\n",
       "      <td>0.6421</td>\n",
       "      <td>2.581002</td>\n",
       "    </tr>\n",
       "    <tr>\n",
       "      <th>680</th>\n",
       "      <td>0.6415</td>\n",
       "      <td>2.581021</td>\n",
       "    </tr>\n",
       "    <tr>\n",
       "      <th>700</th>\n",
       "      <td>0.6424</td>\n",
       "      <td>2.581054</td>\n",
       "    </tr>\n",
       "  </tbody>\n",
       "</table>\n",
       "</div>"
      ],
      "text/plain": [
       "         loss  eval_loss\n",
       "steps                   \n",
       "20     0.6741   2.688479\n",
       "40     0.6663   2.655928\n",
       "60     0.6586   2.635938\n",
       "80     0.6555   2.623807\n",
       "100    0.6516   2.615537\n",
       "120    0.6516   2.610037\n",
       "140    0.6490   2.605709\n",
       "160    0.6468   2.602380\n",
       "180    0.6468   2.599402\n",
       "200    0.6459   2.597108\n",
       "220    0.6441   2.595046\n",
       "240    0.6441   2.592987\n",
       "260    0.6457   2.590996\n",
       "280    0.6440   2.589379\n",
       "300    0.6447   2.587929\n",
       "320    0.6430   2.586670\n",
       "340    0.6422   2.585731\n",
       "360    0.6436   2.585076\n",
       "380    0.6441   2.584663\n",
       "400    0.6417   2.584058\n",
       "420    0.6415   2.583763\n",
       "440    0.6426   2.583239\n",
       "460    0.6395   2.583003\n",
       "480    0.6417   2.582528\n",
       "500    0.6437   2.582184\n",
       "520    0.6435   2.582104\n",
       "540    0.6419   2.581791\n",
       "560    0.6395   2.581648\n",
       "580    0.6404   2.581455\n",
       "600    0.6410   2.581352\n",
       "620    0.6419   2.581235\n",
       "640    0.6405   2.581178\n",
       "660    0.6421   2.581002\n",
       "680    0.6415   2.581021\n",
       "700    0.6424   2.581054"
      ]
     },
     "execution_count": 13,
     "metadata": {},
     "output_type": "execute_result"
    },
    {
     "data": {
      "image/png": "[encoded data removed]",
      "text/plain": [
       "<Figure size 640x480 with 1 Axes>"
      ]
     },
     "metadata": {},
     "output_type": "display_data"
    },
    {
     "data": {
      "image/png": "[encoded data removed]",
      "text/plain": [
       "<Figure size 640x480 with 1 Axes>"
      ]
     },
     "metadata": {},
     "output_type": "display_data"
    }
   ],
   "source": [
    "output=get_training_output(l_trainer, ['loss', 'eval_loss'])\n",
    "#output=get_training_output(l_trainer, ['loss', 'eval_loss', 'eval_accuracy'])\n",
    "output"
   ]
  },
  {
   "cell_type": "code",
   "execution_count": 14,
   "id": "4a977531-f1f6-49f2-833f-b49f46b51293",
   "metadata": {},
   "outputs": [],
   "source": [
    "l2_trainer=make_trainer(lla_lora_model, l_tokenized_stage1_train, l_tokenized_stage1_test, config,\n",
    "                          SFTConfig(output_dir=\"test_trainer\", eval_strategy=\"epoch\",\n",
    "                                    logging_strategy=\"steps\",\n",
    "                                    logging_steps=5))"
   ]
  },
  {
   "cell_type": "code",
   "execution_count": 15,
   "id": "136c7f60-ae5a-4603-a2dc-d73f4aea4ece",
   "metadata": {},
   "outputs": [
    {
     "name": "stdout",
     "output_type": "stream",
     "text": [
      "The function is running\n"
     ]
    },
    {
     "name": "stderr",
     "output_type": "stream",
     "text": [
      "/home/ac.cdavies/.vnv/lib/python3.12/site-packages/torch/nn/parallel/_functions.py:70: UserWarning: Was asked to gather along dimension 0, but all input tensors were scalars; will instead unsqueeze and return a vector.\n",
      "  warnings.warn(\n"
     ]
    },
    {
     "data": {
      "text/html": [
       "\n",
       "    <div>\n",
       "      \n",
       "      <progress value='705' max='705' style='width:300px; height:20px; vertical-align: middle;'></progress>\n",
       "      [705/705 07:25, Epoch 3/3]\n",
       "    </div>\n",
       "    <table border=\"1\" class=\"dataframe\">\n",
       "  <thead>\n",
       " <tr style=\"text-align: left;\">\n",
       "      <th>Epoch</th>\n",
       "      <th>Training Loss</th>\n",
       "      <th>Validation Loss</th>\n",
       "    </tr>\n",
       "  </thead>\n",
       "  <tbody>\n",
       "    <tr>\n",
       "      <td>1</td>\n",
       "      <td>0.638000</td>\n",
       "      <td>2.576230</td>\n",
       "    </tr>\n",
       "    <tr>\n",
       "      <td>2</td>\n",
       "      <td>0.637800</td>\n",
       "      <td>2.574296</td>\n",
       "    </tr>\n",
       "    <tr>\n",
       "      <td>3</td>\n",
       "      <td>0.637600</td>\n",
       "      <td>2.573564</td>\n",
       "    </tr>\n",
       "  </tbody>\n",
       "</table><p>"
      ],
      "text/plain": [
       "<IPython.core.display.HTML object>"
      ]
     },
     "metadata": {},
     "output_type": "display_data"
    },
    {
     "name": "stdout",
     "output_type": "stream",
     "text": [
      "The function is running\n",
      "The function is running\n",
      "The function is running\n",
      "The function is running\n",
      "The function is running\n",
      "The function is running\n",
      "The function is running\n"
     ]
    },
    {
     "name": "stderr",
     "output_type": "stream",
     "text": [
      "/home/ac.cdavies/.vnv/lib/python3.12/site-packages/torch/nn/parallel/_functions.py:70: UserWarning: Was asked to gather along dimension 0, but all input tensors were scalars; will instead unsqueeze and return a vector.\n",
      "  warnings.warn(\n"
     ]
    },
    {
     "name": "stdout",
     "output_type": "stream",
     "text": [
      "The function is running\n",
      "The function is running\n"
     ]
    },
    {
     "name": "stderr",
     "output_type": "stream",
     "text": [
      "/home/ac.cdavies/.vnv/lib/python3.12/site-packages/torch/nn/parallel/_functions.py:70: UserWarning: Was asked to gather along dimension 0, but all input tensors were scalars; will instead unsqueeze and return a vector.\n",
      "  warnings.warn(\n"
     ]
    }
   ],
   "source": [
    "state=initialize_heartbeat()\n",
    "l2_trainer.train() \n",
    "end_heartbeat(state)"
   ]
  },
  {
   "cell_type": "code",
   "execution_count": 16,
   "id": "3035677e-7869-4476-b9fe-d25596cb02d0",
   "metadata": {},
   "outputs": [
    {
     "data": {
      "text/html": [
       "<div>\n",
       "<style scoped>\n",
       "    .dataframe tbody tr th:only-of-type {\n",
       "        vertical-align: middle;\n",
       "    }\n",
       "\n",
       "    .dataframe tbody tr th {\n",
       "        vertical-align: top;\n",
       "    }\n",
       "\n",
       "    .dataframe thead th {\n",
       "        text-align: right;\n",
       "    }\n",
       "</style>\n",
       "<table border=\"1\" class=\"dataframe\">\n",
       "  <thead>\n",
       "    <tr style=\"text-align: right;\">\n",
       "      <th></th>\n",
       "      <th>loss</th>\n",
       "      <th>eval_loss</th>\n",
       "    </tr>\n",
       "    <tr>\n",
       "      <th>epoch</th>\n",
       "      <th></th>\n",
       "      <th></th>\n",
       "    </tr>\n",
       "  </thead>\n",
       "  <tbody>\n",
       "    <tr>\n",
       "      <th>1.0</th>\n",
       "      <td>0.6380</td>\n",
       "      <td>2.576230</td>\n",
       "    </tr>\n",
       "    <tr>\n",
       "      <th>2.0</th>\n",
       "      <td>0.6378</td>\n",
       "      <td>2.574296</td>\n",
       "    </tr>\n",
       "    <tr>\n",
       "      <th>3.0</th>\n",
       "      <td>0.6376</td>\n",
       "      <td>2.573564</td>\n",
       "    </tr>\n",
       "  </tbody>\n",
       "</table>\n",
       "</div>"
      ],
      "text/plain": [
       "         loss  eval_loss\n",
       "epoch                   \n",
       "1.0    0.6380   2.576230\n",
       "2.0    0.6378   2.574296\n",
       "3.0    0.6376   2.573564"
      ]
     },
     "execution_count": 16,
     "metadata": {},
     "output_type": "execute_result"
    },
    {
     "data": {
      "image/png": "[encoded data removed]",
      "text/plain": [
       "<Figure size 640x480 with 1 Axes>"
      ]
     },
     "metadata": {},
     "output_type": "display_data"
    },
    {
     "data": {
      "image/png": "[encoded data removed]",
      "text/plain": [
       "<Figure size 640x480 with 1 Axes>"
      ]
     },
     "metadata": {},
     "output_type": "display_data"
    }
   ],
   "source": [
    "output=get_training_output(l2_trainer, ['loss', 'eval_loss']) # for larger numbers of parameters, don't run compute_metrics for now\n",
    "#output=get_training_output(l2_trainer, ['loss', 'eval_loss', 'eval_accuracy'])\n",
    "output"
   ]
  },
  {
   "cell_type": "code",
   "execution_count": 17,
   "id": "721f3cdd-b78f-47b1-97b2-4d602bd4441c",
   "metadata": {},
   "outputs": [],
   "source": [
    "l_trainer.model.save_pretrained('./fine_tuned/lla/')\n",
    "l2_trainer.model.save_pretrained('./fine_tuned/lla2/')"
   ]
  },
  {
   "cell_type": "code",
   "execution_count": 18,
   "id": "0f24f1c8-2d15-4a78-9df8-56e6c812ec9f",
   "metadata": {},
   "outputs": [
    {
     "data": {
      "text/plain": [
       "('./fine_tuned/lla2_token/tokenizer_config.json',\n",
       " './fine_tuned/lla2_token/special_tokens_map.json',\n",
       " './fine_tuned/lla2_token/tokenizer.json')"
      ]
     },
     "execution_count": 18,
     "metadata": {},
     "output_type": "execute_result"
    }
   ],
   "source": [
    "l_trainer.processing_class.save_pretrained('./fine_tuned/lla_token/')\n",
    "l2_trainer.processing_class.save_pretrained('./fine_tuned/lla2_token/')"
   ]
  }
 ],
 "metadata": {
  "kernelspec": {
   "display_name": "Python 3 (ipykernel)",
   "language": "python",
   "name": "python3"
  },
  "language_info": {
   "codemirror_mode": {
    "name": "ipython",
    "version": 3
   },
   "file_extension": ".py",
   "mimetype": "text/x-python",
   "name": "python",
   "nbconvert_exporter": "python",
   "pygments_lexer": "ipython3",
   "version": "3.12.8"
  }
 },
 "nbformat": 4,
 "nbformat_minor": 5
}
