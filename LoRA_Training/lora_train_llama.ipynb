{
 "cells": [
  {
   "cell_type": "code",
   "execution_count": 1,
   "id": "53842ea7-8c77-4243-82c0-7fd426d6c172",
   "metadata": {},
   "outputs": [
    {
     "name": "stderr",
     "output_type": "stream",
     "text": [
      "/home/ac.cdavies/.vnv/lib/python3.12/site-packages/tqdm/auto.py:21: TqdmWarning: IProgress not found. Please update jupyter and ipywidgets. See https://ipywidgets.readthedocs.io/en/stable/user_install.html\n",
      "  from .autonotebook import tqdm as notebook_tqdm\n",
      "2025-04-14 17:14:12.049671: E external/local_xla/xla/stream_executor/cuda/cuda_fft.cc:467] Unable to register cuFFT factory: Attempting to register factory for plugin cuFFT when one has already been registered\n",
      "WARNING: All log messages before absl::InitializeLog() is called are written to STDERR\n",
      "E0000 00:00:1744650852.064236 1476152 cuda_dnn.cc:8579] Unable to register cuDNN factory: Attempting to register factory for plugin cuDNN when one has already been registered\n",
      "E0000 00:00:1744650852.068777 1476152 cuda_blas.cc:1407] Unable to register cuBLAS factory: Attempting to register factory for plugin cuBLAS when one has already been registered\n",
      "W0000 00:00:1744650852.081369 1476152 computation_placer.cc:177] computation placer already registered. Please check linkage and avoid linking the same target more than once.\n",
      "W0000 00:00:1744650852.081385 1476152 computation_placer.cc:177] computation placer already registered. Please check linkage and avoid linking the same target more than once.\n",
      "W0000 00:00:1744650852.081389 1476152 computation_placer.cc:177] computation placer already registered. Please check linkage and avoid linking the same target more than once.\n",
      "W0000 00:00:1744650852.081391 1476152 computation_placer.cc:177] computation placer already registered. Please check linkage and avoid linking the same target more than once.\n",
      "2025-04-14 17:14:12.085489: I tensorflow/core/platform/cpu_feature_guard.cc:210] This TensorFlow binary is optimized to use available CPU instructions in performance-critical operations.\n",
      "To enable the following instructions: AVX2 FMA, in other operations, rebuild TensorFlow with the appropriate compiler flags.\n"
     ]
    },
    {
     "name": "stdout",
     "output_type": "stream",
     "text": [
      "{'record': Value(dtype='string', id=None), 'text': Value(dtype='string', id=None)}\n",
      "{'text': Value(dtype='string', id=None)}\n",
      "{'text': Value(dtype='string', id=None)}\n",
      "['train', 'validation', 'test']\n",
      "['train', 'validation', 'test']\n",
      "In, Out, get_ipython, exit, quit, open, accelerate, datasets, evaluate, math, np, os, peft, pickle, pytest, ipytest, pd, transformers, torch, time, threading, load_dataset, load_dataset_builder, get_dataset_split_names, get_dataset_config_names, LoftQConfig, LoraConfig, get_peft_model, AutoModelForCausalLM, AutoTokenizer, pipeline, TrainingArguments, Trainer, SFTTrainer, SFTConfig, @py_builtins, @pytest_ar, model_from_pkl, ds_builder1, ds_builder2, ds_builder3, ds_gs, ds_gst1_train, ds_gst1_test, ds_gst2_train, ds_gst2_test, search_with_strings, map_data, print_trainable_parameters, metric, initialize_heartbeat, heartbeat, end_heartbeat, comp_metrics_output, compute_metrics, make_trainer, get_dataframe, get_training_output, "
     ]
    }
   ],
   "source": [
    "%run training_functions.ipynb"
   ]
  },
  {
   "cell_type": "markdown",
   "id": "f66a8e0f-915a-4729-bf8c-98eb391e5993",
   "metadata": {},
   "source": [
    "## Imported Functions\n",
    "1. model_from_pkl(model): extracts ML model from pkl file\n",
    "2. map_data(data, model, tokenizer): performs preprocessing/tokenization on data\n",
    "3. make_trainer(m_model, train_data, test_data, config, args): creates training object with model, training arguments, train/test data, a configuration, and evaluation function\n",
    "4. compute_metrics(eval_pred): used in the trainer, calculates prediction accuracy/validation loss\n",
    "5. get_training_output(trainer, keys: list): extracts data from training logs\n",
    "6. get_dataframe(training_output: list, strategy): used in get_training_output, puts training data into dataframe/graph form"
   ]
  },
  {
   "cell_type": "code",
   "execution_count": 2,
   "id": "1eb0f48c-1c7c-42d1-9caf-bfabdc65a51b",
   "metadata": {},
   "outputs": [],
   "source": [
    "lla_321, lla_321_tokenizer=model_from_pkl(\"Llama-3.2-1B-Instruct\")"
   ]
  },
  {
   "cell_type": "code",
   "execution_count": 3,
   "id": "9815a69b-75de-4ad6-aba6-a0264b60697d",
   "metadata": {},
   "outputs": [],
   "source": [
    "lla_323, lla_323_tokenizer=model_from_pkl(\"Llama-3.2-3B-Instruct\")"
   ]
  },
  {
   "cell_type": "code",
   "execution_count": 4,
   "id": "4da853cb-a6c3-4efb-ad01-f627b692ac3e",
   "metadata": {},
   "outputs": [],
   "source": [
    "l_tokenized_genome_samples=map_data(ds_gs, lla_321, lla_321_tokenizer)"
   ]
  },
  {
   "cell_type": "code",
   "execution_count": 5,
   "id": "48ad2148-e531-49be-9b6d-fb23d8a9d8f9",
   "metadata": {},
   "outputs": [
    {
     "name": "stderr",
     "output_type": "stream",
     "text": [
      "Map: 100%|███████████████| 7500/7500 [05:43<00:00, 21.84 examples/s]\n",
      "Map: 100%|█████████████████| 750/750 [00:37<00:00, 20.27 examples/s]\n"
     ]
    }
   ],
   "source": [
    "l_tokenized_stage1_train=map_data(ds_gst1_train, lla_321, lla_321_tokenizer)\n",
    "l_tokenized_stage1_test=map_data(ds_gst1_test, lla_321, lla_321_tokenizer)"
   ]
  },
  {
   "cell_type": "code",
   "execution_count": 6,
   "id": "683839a6-f9a0-434f-882c-e8efafe085b2",
   "metadata": {},
   "outputs": [
    {
     "name": "stderr",
     "output_type": "stream",
     "text": [
      "Map: 100%|███████████████| 7500/7500 [05:17<00:00, 23.62 examples/s]\n",
      "Map: 100%|███████████████████| 50/50 [00:01<00:00, 27.45 examples/s]\n"
     ]
    }
   ],
   "source": [
    "l_tokenized_stage2_train=map_data(ds_gst2_train, lla_321, lla_321_tokenizer)\n",
    "l_tokenized_stage2_test=map_data(ds_gst2_test, lla_321, lla_321_tokenizer)"
   ]
  },
  {
   "cell_type": "code",
   "execution_count": 7,
   "id": "e9995c30-15ec-4a03-8d14-39f21a4bee66",
   "metadata": {},
   "outputs": [],
   "source": [
    "# to fine-tune with LoRA, instantiate a base model (as above)\n",
    "# create LoraConfig where LoRA-specific parameters are defined\n",
    "config=LoraConfig(\n",
    "    #inference_mode=False,\n",
    "    r=8, #rank of update matrices, lower value results in smaller matrices with fewer parameters\n",
    "    lora_alpha=16, #LoRA scaling factor\n",
    "    task_type=\"CAUSAL_LM\",\n",
    "    lora_dropout=0.1, # dropout probability of LoRA layers\n",
    "    bias=\"none\", # specifies if bias parameters should be trained\n",
    "    #modules_to_save=[\"decode_head\"] #models apart from LoRA layers that are trainable\n",
    ")"
   ]
  },
  {
   "cell_type": "code",
   "execution_count": 8,
   "id": "ccd1dae1-2462-4637-9ee0-82c32af4bc67",
   "metadata": {},
   "outputs": [
    {
     "name": "stdout",
     "output_type": "stream",
     "text": [
      "trainable params: 851968 || all params: 1236666368 || trainable%: 0.07\n"
     ]
    }
   ],
   "source": [
    "lla_lora_model=get_peft_model(lla_321, config)\n",
    "print_trainable_parameters(lla_lora_model)"
   ]
  },
  {
   "cell_type": "code",
   "execution_count": 9,
   "id": "6604baf8-e6d8-45b6-a7e3-90027a6c3585",
   "metadata": {},
   "outputs": [
    {
     "name": "stderr",
     "output_type": "stream",
     "text": [
      "Truncating train dataset: 100%|█| 7500/7500 [00:24<00:00, 312.46 exa\n",
      "Truncating eval dataset: 100%|█| 750/750 [00:00<00:00, 1050.45 examp\n"
     ]
    }
   ],
   "source": [
    "l_trainer = make_trainer(lla_lora_model, l_tokenized_stage1_train, l_tokenized_stage1_test, config,\n",
    "                          SFTConfig(output_dir=\"test_trainer\", eval_strategy=\"steps\",\n",
    "                                    logging_strategy=\"steps\",\n",
    "                                    logging_steps=20))"
   ]
  },
  {
   "cell_type": "code",
   "execution_count": 21,
   "id": "2ba38928-e967-489b-aab9-a96b8c2407be",
   "metadata": {},
   "outputs": [
    {
     "name": "stdout",
     "output_type": "stream",
     "text": [
      "The function is running\n"
     ]
    },
    {
     "name": "stderr",
     "output_type": "stream",
     "text": [
      "/home/ac.cdavies/.vnv/lib/python3.12/site-packages/torch/nn/parallel/_functions.py:70: UserWarning: Was asked to gather along dimension 0, but all input tensors were scalars; will instead unsqueeze and return a vector.\n",
      "  warnings.warn(\n"
     ]
    },
    {
     "data": {
      "text/html": [
       "\n",
       "    <div>\n",
       "      \n",
       "      <progress value='705' max='705' style='width:300px; height:20px; vertical-align: middle;'></progress>\n",
       "      [705/705 11:26, Epoch 3/3]\n",
       "    </div>\n",
       "    <table border=\"1\" class=\"dataframe\">\n",
       "  <thead>\n",
       " <tr style=\"text-align: left;\">\n",
       "      <th>Step</th>\n",
       "      <th>Training Loss</th>\n",
       "      <th>Validation Loss</th>\n",
       "    </tr>\n",
       "  </thead>\n",
       "  <tbody>\n",
       "    <tr>\n",
       "      <td>20</td>\n",
       "      <td>0.639000</td>\n",
       "      <td>2.571663</td>\n",
       "    </tr>\n",
       "    <tr>\n",
       "      <td>40</td>\n",
       "      <td>0.639300</td>\n",
       "      <td>2.570996</td>\n",
       "    </tr>\n",
       "    <tr>\n",
       "      <td>60</td>\n",
       "      <td>0.638200</td>\n",
       "      <td>2.570942</td>\n",
       "    </tr>\n",
       "    <tr>\n",
       "      <td>80</td>\n",
       "      <td>0.639300</td>\n",
       "      <td>2.570906</td>\n",
       "    </tr>\n",
       "    <tr>\n",
       "      <td>100</td>\n",
       "      <td>0.637700</td>\n",
       "      <td>2.571032</td>\n",
       "    </tr>\n",
       "    <tr>\n",
       "      <td>120</td>\n",
       "      <td>0.639900</td>\n",
       "      <td>2.570086</td>\n",
       "    </tr>\n",
       "    <tr>\n",
       "      <td>140</td>\n",
       "      <td>0.638200</td>\n",
       "      <td>2.570170</td>\n",
       "    </tr>\n",
       "    <tr>\n",
       "      <td>160</td>\n",
       "      <td>0.637300</td>\n",
       "      <td>2.570350</td>\n",
       "    </tr>\n",
       "    <tr>\n",
       "      <td>180</td>\n",
       "      <td>0.637800</td>\n",
       "      <td>2.570213</td>\n",
       "    </tr>\n",
       "    <tr>\n",
       "      <td>200</td>\n",
       "      <td>0.638000</td>\n",
       "      <td>2.570228</td>\n",
       "    </tr>\n",
       "    <tr>\n",
       "      <td>220</td>\n",
       "      <td>0.636800</td>\n",
       "      <td>2.569818</td>\n",
       "    </tr>\n",
       "    <tr>\n",
       "      <td>240</td>\n",
       "      <td>0.637100</td>\n",
       "      <td>2.569837</td>\n",
       "    </tr>\n",
       "    <tr>\n",
       "      <td>260</td>\n",
       "      <td>0.639300</td>\n",
       "      <td>2.569764</td>\n",
       "    </tr>\n",
       "    <tr>\n",
       "      <td>280</td>\n",
       "      <td>0.638100</td>\n",
       "      <td>2.570004</td>\n",
       "    </tr>\n",
       "    <tr>\n",
       "      <td>300</td>\n",
       "      <td>0.639200</td>\n",
       "      <td>2.569860</td>\n",
       "    </tr>\n",
       "    <tr>\n",
       "      <td>320</td>\n",
       "      <td>0.637700</td>\n",
       "      <td>2.569227</td>\n",
       "    </tr>\n",
       "    <tr>\n",
       "      <td>340</td>\n",
       "      <td>0.637200</td>\n",
       "      <td>2.569326</td>\n",
       "    </tr>\n",
       "    <tr>\n",
       "      <td>360</td>\n",
       "      <td>0.638800</td>\n",
       "      <td>2.569061</td>\n",
       "    </tr>\n",
       "    <tr>\n",
       "      <td>380</td>\n",
       "      <td>0.639400</td>\n",
       "      <td>2.569396</td>\n",
       "    </tr>\n",
       "    <tr>\n",
       "      <td>400</td>\n",
       "      <td>0.637200</td>\n",
       "      <td>2.569359</td>\n",
       "    </tr>\n",
       "    <tr>\n",
       "      <td>420</td>\n",
       "      <td>0.636900</td>\n",
       "      <td>2.569481</td>\n",
       "    </tr>\n",
       "    <tr>\n",
       "      <td>440</td>\n",
       "      <td>0.638200</td>\n",
       "      <td>2.569192</td>\n",
       "    </tr>\n",
       "    <tr>\n",
       "      <td>460</td>\n",
       "      <td>0.635200</td>\n",
       "      <td>2.569126</td>\n",
       "    </tr>\n",
       "    <tr>\n",
       "      <td>480</td>\n",
       "      <td>0.637400</td>\n",
       "      <td>2.569210</td>\n",
       "    </tr>\n",
       "    <tr>\n",
       "      <td>500</td>\n",
       "      <td>0.639500</td>\n",
       "      <td>2.568654</td>\n",
       "    </tr>\n",
       "    <tr>\n",
       "      <td>520</td>\n",
       "      <td>0.639500</td>\n",
       "      <td>2.568727</td>\n",
       "    </tr>\n",
       "    <tr>\n",
       "      <td>540</td>\n",
       "      <td>0.637900</td>\n",
       "      <td>2.568699</td>\n",
       "    </tr>\n",
       "    <tr>\n",
       "      <td>560</td>\n",
       "      <td>0.635400</td>\n",
       "      <td>2.568725</td>\n",
       "    </tr>\n",
       "    <tr>\n",
       "      <td>580</td>\n",
       "      <td>0.636500</td>\n",
       "      <td>2.568772</td>\n",
       "    </tr>\n",
       "    <tr>\n",
       "      <td>600</td>\n",
       "      <td>0.637000</td>\n",
       "      <td>2.568790</td>\n",
       "    </tr>\n",
       "    <tr>\n",
       "      <td>620</td>\n",
       "      <td>0.638100</td>\n",
       "      <td>2.568677</td>\n",
       "    </tr>\n",
       "    <tr>\n",
       "      <td>640</td>\n",
       "      <td>0.636600</td>\n",
       "      <td>2.568696</td>\n",
       "    </tr>\n",
       "    <tr>\n",
       "      <td>660</td>\n",
       "      <td>0.638200</td>\n",
       "      <td>2.568607</td>\n",
       "    </tr>\n",
       "    <tr>\n",
       "      <td>680</td>\n",
       "      <td>0.637600</td>\n",
       "      <td>2.568549</td>\n",
       "    </tr>\n",
       "    <tr>\n",
       "      <td>700</td>\n",
       "      <td>0.638500</td>\n",
       "      <td>2.568551</td>\n",
       "    </tr>\n",
       "  </tbody>\n",
       "</table><p>"
      ],
      "text/plain": [
       "<IPython.core.display.HTML object>"
      ]
     },
     "metadata": {},
     "output_type": "display_data"
    },
    {
     "name": "stdout",
     "output_type": "stream",
     "text": [
      "The function is running\n",
      "The function is running\n",
      "The function is running\n",
      "The function is running\n",
      "The function is running\n",
      "The function is running\n",
      "The function is running\n",
      "The function is running\n",
      "The function is running\n",
      "The function is running\n"
     ]
    },
    {
     "name": "stderr",
     "output_type": "stream",
     "text": [
      "/home/ac.cdavies/.vnv/lib/python3.12/site-packages/torch/nn/parallel/_functions.py:70: UserWarning: Was asked to gather along dimension 0, but all input tensors were scalars; will instead unsqueeze and return a vector.\n",
      "  warnings.warn(\n"
     ]
    },
    {
     "name": "stdout",
     "output_type": "stream",
     "text": [
      "The function is running\n",
      "The function is running\n",
      "The function is running\n",
      "The function is running\n",
      "The function is running\n"
     ]
    }
   ],
   "source": [
    "state=initialize_heartbeat()\n",
    "l_trainer.train() \n",
    "end_heartbeat(state)"
   ]
  },
  {
   "cell_type": "code",
   "execution_count": 11,
   "id": "3a22653f-b4f3-495f-81ee-44bc1045ee39",
   "metadata": {},
   "outputs": [
    {
     "data": {
      "text/html": [
       "<div>\n",
       "<style scoped>\n",
       "    .dataframe tbody tr th:only-of-type {\n",
       "        vertical-align: middle;\n",
       "    }\n",
       "\n",
       "    .dataframe tbody tr th {\n",
       "        vertical-align: top;\n",
       "    }\n",
       "\n",
       "    .dataframe thead th {\n",
       "        text-align: right;\n",
       "    }\n",
       "</style>\n",
       "<table border=\"1\" class=\"dataframe\">\n",
       "  <thead>\n",
       "    <tr style=\"text-align: right;\">\n",
       "      <th></th>\n",
       "      <th>loss</th>\n",
       "      <th>eval_loss</th>\n",
       "    </tr>\n",
       "    <tr>\n",
       "      <th>steps</th>\n",
       "      <th></th>\n",
       "      <th></th>\n",
       "    </tr>\n",
       "  </thead>\n",
       "  <tbody>\n",
       "    <tr>\n",
       "      <th>20</th>\n",
       "      <td>0.6741</td>\n",
       "      <td>2.688569</td>\n",
       "    </tr>\n",
       "    <tr>\n",
       "      <th>40</th>\n",
       "      <td>0.6663</td>\n",
       "      <td>2.655502</td>\n",
       "    </tr>\n",
       "    <tr>\n",
       "      <th>60</th>\n",
       "      <td>0.6586</td>\n",
       "      <td>2.635916</td>\n",
       "    </tr>\n",
       "    <tr>\n",
       "      <th>80</th>\n",
       "      <td>0.6555</td>\n",
       "      <td>2.623912</td>\n",
       "    </tr>\n",
       "    <tr>\n",
       "      <th>100</th>\n",
       "      <td>0.6516</td>\n",
       "      <td>2.615633</td>\n",
       "    </tr>\n",
       "    <tr>\n",
       "      <th>120</th>\n",
       "      <td>0.6516</td>\n",
       "      <td>2.610317</td>\n",
       "    </tr>\n",
       "    <tr>\n",
       "      <th>140</th>\n",
       "      <td>0.6491</td>\n",
       "      <td>2.606309</td>\n",
       "    </tr>\n",
       "    <tr>\n",
       "      <th>160</th>\n",
       "      <td>0.6469</td>\n",
       "      <td>2.603069</td>\n",
       "    </tr>\n",
       "    <tr>\n",
       "      <th>180</th>\n",
       "      <td>0.6470</td>\n",
       "      <td>2.600033</td>\n",
       "    </tr>\n",
       "    <tr>\n",
       "      <th>200</th>\n",
       "      <td>0.6461</td>\n",
       "      <td>2.597846</td>\n",
       "    </tr>\n",
       "    <tr>\n",
       "      <th>220</th>\n",
       "      <td>0.6444</td>\n",
       "      <td>2.595850</td>\n",
       "    </tr>\n",
       "    <tr>\n",
       "      <th>240</th>\n",
       "      <td>0.6444</td>\n",
       "      <td>2.594047</td>\n",
       "    </tr>\n",
       "    <tr>\n",
       "      <th>260</th>\n",
       "      <td>0.6461</td>\n",
       "      <td>2.592600</td>\n",
       "    </tr>\n",
       "    <tr>\n",
       "      <th>280</th>\n",
       "      <td>0.6445</td>\n",
       "      <td>2.591059</td>\n",
       "    </tr>\n",
       "    <tr>\n",
       "      <th>300</th>\n",
       "      <td>0.6451</td>\n",
       "      <td>2.589302</td>\n",
       "    </tr>\n",
       "    <tr>\n",
       "      <th>320</th>\n",
       "      <td>0.6434</td>\n",
       "      <td>2.587815</td>\n",
       "    </tr>\n",
       "    <tr>\n",
       "      <th>340</th>\n",
       "      <td>0.6425</td>\n",
       "      <td>2.586655</td>\n",
       "    </tr>\n",
       "    <tr>\n",
       "      <th>360</th>\n",
       "      <td>0.6438</td>\n",
       "      <td>2.585797</td>\n",
       "    </tr>\n",
       "    <tr>\n",
       "      <th>380</th>\n",
       "      <td>0.6443</td>\n",
       "      <td>2.585233</td>\n",
       "    </tr>\n",
       "    <tr>\n",
       "      <th>400</th>\n",
       "      <td>0.6418</td>\n",
       "      <td>2.584481</td>\n",
       "    </tr>\n",
       "    <tr>\n",
       "      <th>420</th>\n",
       "      <td>0.6416</td>\n",
       "      <td>2.584090</td>\n",
       "    </tr>\n",
       "    <tr>\n",
       "      <th>440</th>\n",
       "      <td>0.6427</td>\n",
       "      <td>2.583459</td>\n",
       "    </tr>\n",
       "    <tr>\n",
       "      <th>460</th>\n",
       "      <td>0.6396</td>\n",
       "      <td>2.583207</td>\n",
       "    </tr>\n",
       "    <tr>\n",
       "      <th>480</th>\n",
       "      <td>0.6418</td>\n",
       "      <td>2.582934</td>\n",
       "    </tr>\n",
       "    <tr>\n",
       "      <th>500</th>\n",
       "      <td>0.6437</td>\n",
       "      <td>2.582381</td>\n",
       "    </tr>\n",
       "    <tr>\n",
       "      <th>520</th>\n",
       "      <td>0.6436</td>\n",
       "      <td>2.582395</td>\n",
       "    </tr>\n",
       "    <tr>\n",
       "      <th>540</th>\n",
       "      <td>0.6420</td>\n",
       "      <td>2.581936</td>\n",
       "    </tr>\n",
       "    <tr>\n",
       "      <th>560</th>\n",
       "      <td>0.6396</td>\n",
       "      <td>2.581879</td>\n",
       "    </tr>\n",
       "    <tr>\n",
       "      <th>580</th>\n",
       "      <td>0.6405</td>\n",
       "      <td>2.581667</td>\n",
       "    </tr>\n",
       "    <tr>\n",
       "      <th>600</th>\n",
       "      <td>0.6410</td>\n",
       "      <td>2.581594</td>\n",
       "    </tr>\n",
       "    <tr>\n",
       "      <th>620</th>\n",
       "      <td>0.6420</td>\n",
       "      <td>2.581341</td>\n",
       "    </tr>\n",
       "    <tr>\n",
       "      <th>640</th>\n",
       "      <td>0.6405</td>\n",
       "      <td>2.581388</td>\n",
       "    </tr>\n",
       "    <tr>\n",
       "      <th>660</th>\n",
       "      <td>0.6422</td>\n",
       "      <td>2.581254</td>\n",
       "    </tr>\n",
       "    <tr>\n",
       "      <th>680</th>\n",
       "      <td>0.6416</td>\n",
       "      <td>2.581216</td>\n",
       "    </tr>\n",
       "    <tr>\n",
       "      <th>700</th>\n",
       "      <td>0.6424</td>\n",
       "      <td>2.581285</td>\n",
       "    </tr>\n",
       "  </tbody>\n",
       "</table>\n",
       "</div>"
      ],
      "text/plain": [
       "         loss  eval_loss\n",
       "steps                   \n",
       "20     0.6741   2.688569\n",
       "40     0.6663   2.655502\n",
       "60     0.6586   2.635916\n",
       "80     0.6555   2.623912\n",
       "100    0.6516   2.615633\n",
       "120    0.6516   2.610317\n",
       "140    0.6491   2.606309\n",
       "160    0.6469   2.603069\n",
       "180    0.6470   2.600033\n",
       "200    0.6461   2.597846\n",
       "220    0.6444   2.595850\n",
       "240    0.6444   2.594047\n",
       "260    0.6461   2.592600\n",
       "280    0.6445   2.591059\n",
       "300    0.6451   2.589302\n",
       "320    0.6434   2.587815\n",
       "340    0.6425   2.586655\n",
       "360    0.6438   2.585797\n",
       "380    0.6443   2.585233\n",
       "400    0.6418   2.584481\n",
       "420    0.6416   2.584090\n",
       "440    0.6427   2.583459\n",
       "460    0.6396   2.583207\n",
       "480    0.6418   2.582934\n",
       "500    0.6437   2.582381\n",
       "520    0.6436   2.582395\n",
       "540    0.6420   2.581936\n",
       "560    0.6396   2.581879\n",
       "580    0.6405   2.581667\n",
       "600    0.6410   2.581594\n",
       "620    0.6420   2.581341\n",
       "640    0.6405   2.581388\n",
       "660    0.6422   2.581254\n",
       "680    0.6416   2.581216\n",
       "700    0.6424   2.581285"
      ]
     },
     "execution_count": 11,
     "metadata": {},
     "output_type": "execute_result"
    },
    {
     "data": {
      "image/png": "[encoded data removed]",
      "text/plain": [
       "<Figure size 640x480 with 1 Axes>"
      ]
     },
     "metadata": {},
     "output_type": "display_data"
    },
    {
     "data": {
      "image/png": "[encoded data removed]",
      "text/plain": [
       "<Figure size 640x480 with 1 Axes>"
      ]
     },
     "metadata": {},
     "output_type": "display_data"
    }
   ],
   "source": [
    "output=get_training_output(l_trainer, ['loss', 'eval_loss'])\n",
    "#output=get_training_output(l_trainer, ['loss', 'eval_loss', 'eval_accuracy'])\n",
    "output"
   ]
  },
  {
   "cell_type": "code",
   "execution_count": 23,
   "id": "4a977531-f1f6-49f2-833f-b49f46b51293",
   "metadata": {},
   "outputs": [],
   "source": [
    "l2_trainer=make_trainer(lla_lora_model, l_tokenized_stage1_train, l_tokenized_stage1_test, config,\n",
    "                          SFTConfig(output_dir=\"test_trainer\", eval_strategy=\"epoch\",\n",
    "                                    logging_strategy=\"steps\",\n",
    "                                    logging_steps=5))"
   ]
  },
  {
   "cell_type": "code",
   "execution_count": 24,
   "id": "136c7f60-ae5a-4603-a2dc-d73f4aea4ece",
   "metadata": {},
   "outputs": [
    {
     "name": "stdout",
     "output_type": "stream",
     "text": [
      "The function is running\n"
     ]
    },
    {
     "name": "stderr",
     "output_type": "stream",
     "text": [
      "/home/ac.cdavies/.vnv/lib/python3.12/site-packages/torch/nn/parallel/_functions.py:70: UserWarning: Was asked to gather along dimension 0, but all input tensors were scalars; will instead unsqueeze and return a vector.\n",
      "  warnings.warn(\n"
     ]
    },
    {
     "data": {
      "text/html": [
       "\n",
       "    <div>\n",
       "      \n",
       "      <progress value='705' max='705' style='width:300px; height:20px; vertical-align: middle;'></progress>\n",
       "      [705/705 07:25, Epoch 3/3]\n",
       "    </div>\n",
       "    <table border=\"1\" class=\"dataframe\">\n",
       "  <thead>\n",
       " <tr style=\"text-align: left;\">\n",
       "      <th>Epoch</th>\n",
       "      <th>Training Loss</th>\n",
       "      <th>Validation Loss</th>\n",
       "    </tr>\n",
       "  </thead>\n",
       "  <tbody>\n",
       "    <tr>\n",
       "      <td>1</td>\n",
       "      <td>0.635000</td>\n",
       "      <td>2.567051</td>\n",
       "    </tr>\n",
       "    <tr>\n",
       "      <td>2</td>\n",
       "      <td>0.635100</td>\n",
       "      <td>2.566624</td>\n",
       "    </tr>\n",
       "    <tr>\n",
       "      <td>3</td>\n",
       "      <td>0.634800</td>\n",
       "      <td>2.566404</td>\n",
       "    </tr>\n",
       "  </tbody>\n",
       "</table><p>"
      ],
      "text/plain": [
       "<IPython.core.display.HTML object>"
      ]
     },
     "metadata": {},
     "output_type": "display_data"
    },
    {
     "name": "stdout",
     "output_type": "stream",
     "text": [
      "The function is running\n",
      "The function is running\n",
      "The function is running\n",
      "The function is running\n",
      "The function is running\n",
      "The function is running\n",
      "The function is running\n"
     ]
    },
    {
     "name": "stderr",
     "output_type": "stream",
     "text": [
      "/home/ac.cdavies/.vnv/lib/python3.12/site-packages/torch/nn/parallel/_functions.py:70: UserWarning: Was asked to gather along dimension 0, but all input tensors were scalars; will instead unsqueeze and return a vector.\n",
      "  warnings.warn(\n"
     ]
    },
    {
     "name": "stdout",
     "output_type": "stream",
     "text": [
      "The function is running\n",
      "The function is running\n"
     ]
    },
    {
     "name": "stderr",
     "output_type": "stream",
     "text": [
      "/home/ac.cdavies/.vnv/lib/python3.12/site-packages/torch/nn/parallel/_functions.py:70: UserWarning: Was asked to gather along dimension 0, but all input tensors were scalars; will instead unsqueeze and return a vector.\n",
      "  warnings.warn(\n"
     ]
    }
   ],
   "source": [
    "state=initialize_heartbeat()\n",
    "l2_trainer.train() \n",
    "end_heartbeat(state)"
   ]
  },
  {
   "cell_type": "code",
   "execution_count": 25,
   "id": "3035677e-7869-4476-b9fe-d25596cb02d0",
   "metadata": {},
   "outputs": [
    {
     "data": {
      "text/html": [
       "<div>\n",
       "<style scoped>\n",
       "    .dataframe tbody tr th:only-of-type {\n",
       "        vertical-align: middle;\n",
       "    }\n",
       "\n",
       "    .dataframe tbody tr th {\n",
       "        vertical-align: top;\n",
       "    }\n",
       "\n",
       "    .dataframe thead th {\n",
       "        text-align: right;\n",
       "    }\n",
       "</style>\n",
       "<table border=\"1\" class=\"dataframe\">\n",
       "  <thead>\n",
       "    <tr style=\"text-align: right;\">\n",
       "      <th></th>\n",
       "      <th>loss</th>\n",
       "      <th>eval_loss</th>\n",
       "    </tr>\n",
       "    <tr>\n",
       "      <th>epoch</th>\n",
       "      <th></th>\n",
       "      <th></th>\n",
       "    </tr>\n",
       "  </thead>\n",
       "  <tbody>\n",
       "    <tr>\n",
       "      <th>1.0</th>\n",
       "      <td>0.6350</td>\n",
       "      <td>2.567051</td>\n",
       "    </tr>\n",
       "    <tr>\n",
       "      <th>2.0</th>\n",
       "      <td>0.6351</td>\n",
       "      <td>2.566624</td>\n",
       "    </tr>\n",
       "    <tr>\n",
       "      <th>3.0</th>\n",
       "      <td>0.6348</td>\n",
       "      <td>2.566404</td>\n",
       "    </tr>\n",
       "  </tbody>\n",
       "</table>\n",
       "</div>"
      ],
      "text/plain": [
       "         loss  eval_loss\n",
       "epoch                   \n",
       "1.0    0.6350   2.567051\n",
       "2.0    0.6351   2.566624\n",
       "3.0    0.6348   2.566404"
      ]
     },
     "execution_count": 25,
     "metadata": {},
     "output_type": "execute_result"
    },
    {
     "data": {
      "image/png": "[encoded data removed]",
      "text/plain": [
       "<Figure size 640x480 with 1 Axes>"
      ]
     },
     "metadata": {},
     "output_type": "display_data"
    },
    {
     "data": {
      "image/png": "[encoded data removed]",
      "text/plain": [
       "<Figure size 640x480 with 1 Axes>"
      ]
     },
     "metadata": {},
     "output_type": "display_data"
    }
   ],
   "source": [
    "output=get_training_output(l2_trainer, ['loss', 'eval_loss']) # for larger numbers of parameters, don't run compute_metrics for now\n",
    "#output=get_training_output(l2_trainer, ['loss', 'eval_loss', 'eval_accuracy'])\n",
    "output"
   ]
  },
  {
   "cell_type": "code",
   "execution_count": 15,
   "id": "721f3cdd-b78f-47b1-97b2-4d602bd4441c",
   "metadata": {},
   "outputs": [],
   "source": [
    "l_trainer.model.save_pretrained('./fine_tuned/lla/')\n",
    "l2_trainer.model.save_pretrained('./fine_tuned/lla2/')"
   ]
  },
  {
   "cell_type": "code",
   "execution_count": 16,
   "id": "0f24f1c8-2d15-4a78-9df8-56e6c812ec9f",
   "metadata": {},
   "outputs": [
    {
     "data": {
      "text/plain": [
       "('./fine_tuned/lla2_token/tokenizer_config.json',\n",
       " './fine_tuned/lla2_token/special_tokens_map.json',\n",
       " './fine_tuned/lla2_token/tokenizer.json')"
      ]
     },
     "execution_count": 16,
     "metadata": {},
     "output_type": "execute_result"
    }
   ],
   "source": [
    "l_trainer.processing_class.save_pretrained('./fine_tuned/lla_token/')\n",
    "l2_trainer.processing_class.save_pretrained('./fine_tuned/lla2_token/')"
   ]
  }
 ],
 "metadata": {
  "kernelspec": {
   "display_name": "Python 3 (ipykernel)",
   "language": "python",
   "name": "python3"
  },
  "language_info": {
   "codemirror_mode": {
    "name": "ipython",
    "version": 3
   },
   "file_extension": ".py",
   "mimetype": "text/x-python",
   "name": "python",
   "nbconvert_exporter": "python",
   "pygments_lexer": "ipython3",
   "version": "3.12.8"
  }
 },
 "nbformat": 4,
 "nbformat_minor": 5
}
