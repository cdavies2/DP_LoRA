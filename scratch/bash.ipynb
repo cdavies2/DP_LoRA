{
 "cells": [
  {
   "cell_type": "markdown",
   "id": "91404d4a-306a-431c-b853-e61e64c92e4e",
   "metadata": {},
   "source": [
    "# Trapping Bash Errors"
   ]
  },
  {
   "cell_type": "code",
   "execution_count": 1,
   "id": "6706f7d7-cec7-42ae-afb4-cd74acdaa92b",
   "metadata": {},
   "outputs": [
    {
     "name": "stdout",
     "output_type": "stream",
     "text": [
      "total 112K\n",
      "drwxr-xr-x 6 ac.cdavies cels  332 Mar 24 13:43 ./\n",
      "drwxr-xr-x 4 ac.cdavies cels   59 Mar 24 13:40 ../\n",
      "drwxr-xr-x 8 ac.cdavies cels  211 Mar 24 13:29 .git/\n",
      "drwxr-xr-x 3 ac.cdavies cels   31 Mar 24 13:29 .github/\n",
      "-rw-r--r-- 1 ac.cdavies cels   89 Mar 24 13:29 .gitignore\n",
      "drwxr-xr-x 2 ac.cdavies cels   83 Mar 24 13:43 .ipynb_checkpoints/\n",
      "drwxr-xr-x 3 ac.cdavies cels  137 Mar 24 13:31 SciServer_nb/\n",
      "-rw-r--r-- 1 ac.cdavies cels  22K Mar 24 13:29 Using_DP.md\n",
      "-rw-r--r-- 1 ac.cdavies cels   72 Mar 24 13:43 bash.ipynb\n",
      "-rw-r--r-- 1 ac.cdavies cels 5.6K Mar 24 13:29 dp_frameworks.py\n",
      "-rw-r--r-- 1 ac.cdavies cels 7.4K Mar 24 13:29 local_model.ipynb\n",
      "-rw-r--r-- 1 ac.cdavies cels  190 Mar 24 13:29 lora_glhf.py\n",
      "-rw-r--r-- 1 ac.cdavies cels  48K Mar 24 13:29 lora_train.ipynb\n",
      "-rw-r--r-- 1 ac.cdavies cels 5.6K Mar 24 13:29 make_models.ipynb\n",
      "-rw-r--r-- 1 ac.cdavies cels 3.5K Mar 24 13:29 requirements.txt\n"
     ]
    }
   ],
   "source": [
    "%%bash\n",
    "ls -halF"
   ]
  },
  {
   "cell_type": "code",
   "execution_count": 4,
   "id": "d7fd7053-7ef2-4eb0-9e7f-51ceaeecb90f",
   "metadata": {},
   "outputs": [
    {
     "name": "stdout",
     "output_type": "stream",
     "text": [
      "################ there was an error ################\n"
     ]
    }
   ],
   "source": [
    "%%bash\n",
    "function iferr {\n",
    "    echo \"################ there was an error ################\";\n",
    "    # silence the error\n",
    "    exit 0;\n",
    "    # if you want to know specifically what the error was, don't silence it\n",
    "}\n",
    "\n",
    "# run iferr function if there is an error\n",
    "trap iferr ERR\n",
    "\n",
    "# run a command which returns an error\n",
    "$(exit 1)"
   ]
  },
  {
   "cell_type": "code",
   "execution_count": null,
   "id": "09b6f15e-40ec-44e6-a722-5209ffd7142d",
   "metadata": {},
   "outputs": [],
   "source": []
  }
 ],
 "metadata": {
  "kernelspec": {
   "display_name": "Python 3 (ipykernel)",
   "language": "python",
   "name": "python3"
  },
  "language_info": {
   "codemirror_mode": {
    "name": "ipython",
    "version": 3
   },
   "file_extension": ".py",
   "mimetype": "text/x-python",
   "name": "python",
   "nbconvert_exporter": "python",
   "pygments_lexer": "ipython3",
   "version": "3.12.8"
  }
 },
 "nbformat": 4,
 "nbformat_minor": 5
}
