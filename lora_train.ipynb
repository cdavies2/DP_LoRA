{
 "cells": [
  {
   "cell_type": "code",
   "execution_count": 40,
   "id": "1fe90fbe-0328-4f82-9315-c7e1db3c62b9",
   "metadata": {},
   "outputs": [],
   "source": [
    "import accelerate\n",
    "import datasets\n",
    "from datasets import(\n",
    "load_dataset, \n",
    "load_dataset_builder,\n",
    "get_dataset_split_names,\n",
    "get_dataset_config_names)\n",
    "import peft\n",
    "import transformers\n",
    "from transformers import AutoTokenizer\n",
    "# allows fast processing of datasets"
   ]
  },
  {
   "cell_type": "code",
   "execution_count": 33,
   "id": "d9742c2e-2332-42df-bddd-489ec0ea8c55",
   "metadata": {},
   "outputs": [
    {
     "name": "stdout",
     "output_type": "stream",
     "text": [
      "{'record': Value(dtype='string', id=None), 'text': Value(dtype='string', id=None)}\n",
      "{'text': Value(dtype='string', id=None)}\n",
      "{'text': Value(dtype='string', id=None)}\n"
     ]
    }
   ],
   "source": [
    "ds_builder1=load_dataset_builder(\"LongSafari/open-genome\", \"stage1\")\n",
    "print(ds_builder1.info.features)\n",
    "ds_builder2=load_dataset_builder(\"LongSafari/open-genome\", \"stage2\")\n",
    "print(ds_builder2.info.features)\n",
    "ds_builder3=load_dataset_builder(\"LongSafari/open-genome\", \"sample\")\n",
    "print(ds_builder3.info.features)"
   ]
  },
  {
   "cell_type": "code",
   "execution_count": 20,
   "id": "c79b1ed5-9a03-458d-bf3f-c7cb6fd27cde",
   "metadata": {},
   "outputs": [],
   "source": [
    "#this is how you load a dataset from the Hugging Face Hub\n",
    "# the movie review data is for testing purposes\n",
    "ds = load_dataset(\"cornell-movie-review-data/rotten_tomatoes\", split=\"train\")"
   ]
  },
  {
   "cell_type": "code",
   "execution_count": 37,
   "id": "7f0e3910-fee0-4b90-b00d-7a12206bf53d",
   "metadata": {},
   "outputs": [
    {
     "data": {
      "text/plain": [
       "['validation']"
      ]
     },
     "execution_count": 37,
     "metadata": {},
     "output_type": "execute_result"
    }
   ],
   "source": [
    "ds_gs=load_dataset(\"LongSafari/open-genome\", \"sample\")\n",
    "get_dataset_split_names(\"LongSafari/open-genome\", \"sample\")"
   ]
  },
  {
   "cell_type": "code",
   "execution_count": 39,
   "id": "d244e144-31b5-4d0e-ba98-3474fbba8183",
   "metadata": {},
   "outputs": [
    {
     "name": "stdout",
     "output_type": "stream",
     "text": [
      "['train', 'validation', 'test']\n",
      "['train', 'validation', 'test']\n"
     ]
    }
   ],
   "source": [
    "ds_gst1=load_dataset(\"LongSafari/open-genome\", \"stage1\", split=\"train[:50]\")\n",
    "print(get_dataset_split_names(\"LongSafari/open-genome\", \"stage1\"))\n",
    "ds_gst2=load_dataset(\"LongSafari/open-genome\", \"stage2\", split=\"train[:50]\")\n",
    "print(get_dataset_split_names(\"LongSafari/open-genome\", \"stage2\"))"
   ]
  },
  {
   "cell_type": "code",
   "execution_count": 25,
   "id": "a3dfef8b-927f-4e5b-b67c-c9f6f2bd7c30",
   "metadata": {},
   "outputs": [
    {
     "data": {
      "text/plain": [
       "['train', 'validation', 'test']"
      ]
     },
     "execution_count": 25,
     "metadata": {},
     "output_type": "execute_result"
    }
   ],
   "source": [
    "# this is used to obtain a dataset's split names\n",
    "get_dataset_split_names(\"cornell-movie-review-data/rotten_tomatoes\")"
   ]
  },
  {
   "cell_type": "code",
   "execution_count": 29,
   "id": "e2c10a2c-28db-498a-b1ec-65db8ec419fb",
   "metadata": {},
   "outputs": [
    {
     "name": "stdout",
     "output_type": "stream",
     "text": [
      "['default']\n"
     ]
    }
   ],
   "source": [
    "configs=get_dataset_config_names(\"cornell-movie-review-data/rotten_tomatoes\")\n",
    "print(configs)\n",
    "# returns all configs available to this dataset"
   ]
  },
  {
   "cell_type": "code",
   "execution_count": 42,
   "id": "d0ee0cae-aed3-4b31-81d4-22873e4685f5",
   "metadata": {},
   "outputs": [],
   "source": [
    "# tokenizers process text and add padding/perform truncation for variables of inconsistent length\n",
    "tokenizer_l = AutoTokenizer.from_pretrained(\"meta-llama/Llama-3.3-70B-Instruct\")"
   ]
  },
  {
   "cell_type": "code",
   "execution_count": 45,
   "id": "793779f5-6013-4377-989a-662d4870fe4a",
   "metadata": {},
   "outputs": [],
   "source": [
    "tokenizer_m = AutoTokenizer.from_pretrained(\"mistralai/Mistral-7B-Instruct-v0.1\")"
   ]
  },
  {
   "cell_type": "code",
   "execution_count": 54,
   "id": "a7f8fa27-8551-40a0-8296-9969e5b0241a",
   "metadata": {},
   "outputs": [],
   "source": [
    "def tokenize_l_function(examples):\n",
    "    return tokenizer_l(examples[\"text\"], padding=\"max_length\", truncation=True)\n",
    "# map applies preprocessing across a dataset\n",
    "llama_tokenized_datasets=ds.map(tokenize_l_function, batched=True)"
   ]
  },
  {
   "cell_type": "code",
   "execution_count": 53,
   "id": "764f44e8-a90e-4a29-a80e-d496b544a1ea",
   "metadata": {},
   "outputs": [
    {
     "name": "stderr",
     "output_type": "stream",
     "text": [
      "Map: 100%|████████████| 8530/8530 [00:00<00:00, 22049.31 examples/s]\n"
     ]
    }
   ],
   "source": [
    "def tokenize_m_function(examples):\n",
    "    return tokenizer_m(examples[\"text\"], padding=\"max_length\", truncation=True)\n",
    "\n",
    "mistral_tokenized_datasets=ds.map(tokenize_m_function, batched=True)"
   ]
  },
  {
   "cell_type": "code",
   "execution_count": 56,
   "id": "38bb69f7-a22a-4bc7-afe7-d79ccd765dcd",
   "metadata": {},
   "outputs": [],
   "source": [
    "# perform preprocessing on the genomic data\n",
    "def map_data(data, model):\n",
    "    if model==\"llama\":\n",
    "        tokenized_dataset=data.map(tokenize_l_function, batched=True)\n",
    "    elif model==\"mistral\":\n",
    "        tokenized_dataset=data.map(tokenize_m_function, batched=True)"
   ]
  },
  {
   "cell_type": "code",
   "execution_count": 58,
   "id": "e3aa5a67-3ac6-4916-b1cc-5d5c4ff8e80d",
   "metadata": {},
   "outputs": [],
   "source": [
    "l_tokenized_genome_samples=map_data(ds_gs, \"llama\")\n",
    "m_tokenized_genome_samples=map_data(ds_gs, \"mistral\")"
   ]
  },
  {
   "cell_type": "code",
   "execution_count": 59,
   "id": "96fb3c22-fd21-4039-a8d6-6cca3cf151c1",
   "metadata": {},
   "outputs": [
    {
     "name": "stderr",
     "output_type": "stream",
     "text": [
      "Map: 100%|███████████████████| 50/50 [00:06<00:00,  7.59 examples/s]\n",
      "Map: 100%|███████████████████| 50/50 [00:03<00:00, 15.71 examples/s]\n"
     ]
    }
   ],
   "source": [
    "l_tokenized_genome_stage1=map_data(ds_gst1, \"llama\")\n",
    "m_tokenized_genome_stage2=map_data(ds_gst2, \"llama\")"
   ]
  },
  {
   "cell_type": "code",
   "execution_count": null,
   "id": "75269071-ebb8-4b6c-aebf-a811cee98805",
   "metadata": {},
   "outputs": [],
   "source": [
    "# let's create smaller subsets of training datasets to fine-tune\n"
   ]
  }
 ],
 "metadata": {
  "kernelspec": {
   "display_name": "Python 3 (ipykernel)",
   "language": "python",
   "name": "python3"
  },
  "language_info": {
   "codemirror_mode": {
    "name": "ipython",
    "version": 3
   },
   "file_extension": ".py",
   "mimetype": "text/x-python",
   "name": "python",
   "nbconvert_exporter": "python",
   "pygments_lexer": "ipython3",
   "version": "3.12.8"
  }
 },
 "nbformat": 4,
 "nbformat_minor": 5
}
