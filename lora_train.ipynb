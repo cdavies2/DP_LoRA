{
 "cells": [
  {
   "cell_type": "code",
   "execution_count": 214,
   "id": "1fe90fbe-0328-4f82-9315-c7e1db3c62b9",
   "metadata": {},
   "outputs": [],
   "source": [
    "import accelerate\n",
    "import datasets\n",
    "from datasets import(\n",
    "load_dataset, \n",
    "load_dataset_builder,\n",
    "get_dataset_split_names,\n",
    "get_dataset_config_names)\n",
    "import evaluate\n",
    "import numpy as np\n",
    "import peft\n",
    "from peft import(\n",
    "LoftQConfig,\n",
    "LoraConfig,\n",
    "get_peft_model)\n",
    "import pickle\n",
    "import transformers\n",
    "from transformers import(\n",
    "AutoModelForCausalLM,\n",
    "AutoTokenizer,\n",
    "TrainingArguments,\n",
    "Trainer)\n",
    "# allows fast processing of datasets"
   ]
  },
  {
   "cell_type": "code",
   "execution_count": 33,
   "id": "d9742c2e-2332-42df-bddd-489ec0ea8c55",
   "metadata": {},
   "outputs": [
    {
     "name": "stdout",
     "output_type": "stream",
     "text": [
      "{'record': Value(dtype='string', id=None), 'text': Value(dtype='string', id=None)}\n",
      "{'text': Value(dtype='string', id=None)}\n",
      "{'text': Value(dtype='string', id=None)}\n"
     ]
    }
   ],
   "source": [
    "ds_builder1=load_dataset_builder(\"LongSafari/open-genome\", \"stage1\")\n",
    "print(ds_builder1.info.features)\n",
    "ds_builder2=load_dataset_builder(\"LongSafari/open-genome\", \"stage2\")\n",
    "print(ds_builder2.info.features)\n",
    "ds_builder3=load_dataset_builder(\"LongSafari/open-genome\", \"sample\")\n",
    "print(ds_builder3.info.features)"
   ]
  },
  {
   "cell_type": "code",
   "execution_count": 66,
   "id": "c79b1ed5-9a03-458d-bf3f-c7cb6fd27cde",
   "metadata": {},
   "outputs": [],
   "source": [
    "#this is how you load a dataset from the Hugging Face Hub\n",
    "# the movie review data is for testing purposes\n",
    "ds = load_dataset(\"cornell-movie-review-data/rotten_tomatoes\", split=\"train\")"
   ]
  },
  {
   "cell_type": "code",
   "execution_count": 82,
   "id": "7f0e3910-fee0-4b90-b00d-7a12206bf53d",
   "metadata": {},
   "outputs": [
    {
     "data": {
      "text/plain": [
       "['validation']"
      ]
     },
     "execution_count": 82,
     "metadata": {},
     "output_type": "execute_result"
    }
   ],
   "source": [
    "ds_gs=load_dataset(\"LongSafari/open-genome\", \"sample\")\n",
    "get_dataset_split_names(\"LongSafari/open-genome\", \"sample\")"
   ]
  },
  {
   "cell_type": "code",
   "execution_count": 39,
   "id": "d244e144-31b5-4d0e-ba98-3474fbba8183",
   "metadata": {},
   "outputs": [
    {
     "name": "stdout",
     "output_type": "stream",
     "text": [
      "['train', 'validation', 'test']\n",
      "['train', 'validation', 'test']\n"
     ]
    }
   ],
   "source": [
    "ds_gst1=load_dataset(\"LongSafari/open-genome\", \"stage1\", split=\"train[:50]\")\n",
    "print(get_dataset_split_names(\"LongSafari/open-genome\", \"stage1\"))\n",
    "ds_gst2=load_dataset(\"LongSafari/open-genome\", \"stage2\", split=\"train[:50]\")\n",
    "print(get_dataset_split_names(\"LongSafari/open-genome\", \"stage2\"))"
   ]
  },
  {
   "cell_type": "code",
   "execution_count": 63,
   "id": "a3dfef8b-927f-4e5b-b67c-c9f6f2bd7c30",
   "metadata": {},
   "outputs": [
    {
     "data": {
      "text/plain": [
       "['train', 'validation', 'test']"
      ]
     },
     "execution_count": 63,
     "metadata": {},
     "output_type": "execute_result"
    }
   ],
   "source": [
    "# this is used to obtain a dataset's split names\n",
    "get_dataset_split_names(\"cornell-movie-review-data/rotten_tomatoes\")"
   ]
  },
  {
   "cell_type": "code",
   "execution_count": 29,
   "id": "e2c10a2c-28db-498a-b1ec-65db8ec419fb",
   "metadata": {},
   "outputs": [
    {
     "name": "stdout",
     "output_type": "stream",
     "text": [
      "['default']\n"
     ]
    }
   ],
   "source": [
    "configs=get_dataset_config_names(\"cornell-movie-review-data/rotten_tomatoes\")\n",
    "print(configs)\n",
    "# returns all configs available to this dataset"
   ]
  },
  {
   "cell_type": "code",
   "execution_count": 42,
   "id": "d0ee0cae-aed3-4b31-81d4-22873e4685f5",
   "metadata": {},
   "outputs": [],
   "source": [
    "# tokenizers process text and add padding/perform truncation for variables of inconsistent length\n",
    "tokenizer_l = AutoTokenizer.from_pretrained(\"meta-llama/Llama-3.3-70B-Instruct\")"
   ]
  },
  {
   "cell_type": "code",
   "execution_count": 45,
   "id": "793779f5-6013-4377-989a-662d4870fe4a",
   "metadata": {},
   "outputs": [],
   "source": [
    "tokenizer_m = AutoTokenizer.from_pretrained(\"mistralai/Mistral-7B-Instruct-v0.1\")"
   ]
  },
  {
   "cell_type": "code",
   "execution_count": 68,
   "id": "a7f8fa27-8551-40a0-8296-9969e5b0241a",
   "metadata": {},
   "outputs": [],
   "source": [
    "def tokenize_l_function(examples):\n",
    "    return tokenizer_l(examples[\"text\"], padding=\"max_length\", truncation=True)\n",
    "# map applies preprocessing across a dataset\n",
    "llama_tokenized_datasets=ds.map(tokenize_l_function, batched=True)"
   ]
  },
  {
   "cell_type": "code",
   "execution_count": 53,
   "id": "764f44e8-a90e-4a29-a80e-d496b544a1ea",
   "metadata": {},
   "outputs": [
    {
     "name": "stderr",
     "output_type": "stream",
     "text": [
      "Map: 100%|████████████| 8530/8530 [00:00<00:00, 22049.31 examples/s]\n"
     ]
    }
   ],
   "source": [
    "def tokenize_m_function(examples):\n",
    "    return tokenizer_m(examples[\"text\"], padding=\"max_length\", truncation=True)\n",
    "\n",
    "mistral_tokenized_datasets=ds.map(tokenize_m_function, batched=True)"
   ]
  },
  {
   "cell_type": "code",
   "execution_count": 75,
   "id": "38bb69f7-a22a-4bc7-afe7-d79ccd765dcd",
   "metadata": {},
   "outputs": [],
   "source": [
    "# perform preprocessing on the genomic data\n",
    "def map_data(data, model):\n",
    "    if model==\"llama\":\n",
    "        tokenized_dataset=data.map(tokenize_l_function, batched=True)\n",
    "    elif model==\"mistral\":\n",
    "        tokenized_dataset=data.map(tokenize_m_function, batched=True)\n",
    "    return tokenized_dataset"
   ]
  },
  {
   "cell_type": "code",
   "execution_count": 116,
   "id": "e3aa5a67-3ac6-4916-b1cc-5d5c4ff8e80d",
   "metadata": {},
   "outputs": [],
   "source": [
    "# l_tokenized_genome_samples=ds_gs.map(tokenize_l_function, batched=True)\n",
    "# m_tokenized_genome_samples=ds_gs.map(tokenize_m_function, batched=True)\n",
    "l_tokenized_genome_samples=map_data(ds_gs, \"llama\")\n",
    "m_tokenized_genome_samples=map_data(ds_gs, \"mistral\")"
   ]
  },
  {
   "cell_type": "code",
   "execution_count": 84,
   "id": "96fb3c22-fd21-4039-a8d6-6cca3cf151c1",
   "metadata": {},
   "outputs": [],
   "source": [
    "l_tokenized_genome_stage1=map_data(ds_gst1, \"llama\")\n",
    "l_tokenized_genome_stage2=map_data(ds_gst2, \"llama\")"
   ]
  },
  {
   "cell_type": "code",
   "execution_count": 85,
   "id": "ba3ddcae-64f8-4dd7-a14a-e67deb0d3b6f",
   "metadata": {},
   "outputs": [
    {
     "name": "stderr",
     "output_type": "stream",
     "text": [
      "Map: 100%|███████████████████| 50/50 [00:09<00:00,  5.45 examples/s]\n",
      "Map: 100%|██████████████████| 50/50 [00:00<00:00, 237.50 examples/s]\n"
     ]
    }
   ],
   "source": [
    "m_tokenized_genome_stage1=map_data(ds_gst1, \"mistral\")\n",
    "m_tokenized_genome_stage2=map_data(ds_gst2, \"mistral\")"
   ]
  },
  {
   "cell_type": "code",
   "execution_count": 109,
   "id": "f6eec9ec-f5b5-42f1-ab22-6e23bc42d052",
   "metadata": {},
   "outputs": [],
   "source": [
    "# let's create smaller subsets of training datasets to fine-tune\n",
    "# use train_test_split\n",
    "def tt_split_data(dataset):\n",
    "    sample_data=dataset.train_test_split(test_size=0.15)\n",
    "    train_data=sample_data[\"train\"]\n",
    "    test_data=sample_data[\"test\"]\n",
    "    return train_data, test_data"
   ]
  },
  {
   "cell_type": "code",
   "execution_count": 112,
   "id": "75269071-ebb8-4b6c-aebf-a811cee98805",
   "metadata": {},
   "outputs": [],
   "source": [
    "l_train_sample, l_test_sample=tt_split_data(llama_tokenized_datasets)\n",
    "m_train_sample, m_test_sample=tt_split_data(mistral_tokenized_datasets)\n",
    "# get train and test sets for the sample rotten tomatoes data"
   ]
  },
  {
   "cell_type": "code",
   "execution_count": 113,
   "id": "3bb75a25-c43f-4dcb-bfb0-9db9955f0cde",
   "metadata": {},
   "outputs": [],
   "source": [
    "l_train_genome1, l_test_genome1=tt_split_data(l_tokenized_genome_stage1)\n",
    "m_train_genome1, m_test_genome1=tt_split_data(m_tokenized_genome_stage1)"
   ]
  },
  {
   "cell_type": "code",
   "execution_count": 114,
   "id": "3232a659-a5b9-4085-85bb-6b64f98778da",
   "metadata": {},
   "outputs": [],
   "source": [
    "l_train_genome2, l_test_genome2=tt_split_data(l_tokenized_genome_stage2)\n",
    "m_train_genome2, m_test_genome2=tt_split_data(m_tokenized_genome_stage2)"
   ]
  },
  {
   "cell_type": "code",
   "execution_count": 118,
   "id": "3ca4fbc6-aedd-4ff8-bff0-e2c87f3f8a6e",
   "metadata": {},
   "outputs": [],
   "source": [
    "# l_train_genome_sam, l_test_genome_sam=tt_split_data(l_tokenized_genome_samples)\n",
    "# m_train_genome_sam, m_test_genome_sam=tt_split_data(m_tokenized_genome_samples)"
   ]
  },
  {
   "cell_type": "code",
   "execution_count": 125,
   "id": "c256ec91-d36c-47e1-a409-7a25fb3e653d",
   "metadata": {},
   "outputs": [],
   "source": [
    "# before loading in the base model with LoRA, might be good to define a helper function\n",
    "# this looks at the total parameters a model has, and how many are trainable\n",
    "def print_trainable_parameters(model):\n",
    "    \"\"\"\n",
    "    Prints the number of trainable parameters in the model.\n",
    "    \"\"\"\n",
    "    trainable_params = 0\n",
    "    all_param = 0\n",
    "    for _, param in model.named_parameters():\n",
    "        all_param += param.numel()\n",
    "        if param.requires_grad:\n",
    "            trainable_params += param.numel()\n",
    "    print(\n",
    "        f\"trainable params: {trainable_params} || all params: {all_param} || trainable%: {100 * trainable_params / all_param:.2f}\"\n",
    "    )"
   ]
  },
  {
   "cell_type": "code",
   "execution_count": 168,
   "id": "736049f9-0784-4284-991f-111bbfd82dbb",
   "metadata": {},
   "outputs": [
    {
     "name": "stdout",
     "output_type": "stream",
     "text": [
      "trainable params: 70553706496 || all params: 70553706496 || trainable%: 100.00\n"
     ]
    }
   ],
   "source": [
    "print_trainable_parameters(lla_model)"
   ]
  },
  {
   "cell_type": "code",
   "execution_count": 169,
   "id": "d991d58a-df5e-41c9-b2fe-b2e4b4e9e6ef",
   "metadata": {},
   "outputs": [
    {
     "name": "stdout",
     "output_type": "stream",
     "text": [
      "trainable params: 1235814400 || all params: 1235814400 || trainable%: 100.00\n"
     ]
    }
   ],
   "source": [
    "print_trainable_parameters(lla_model321)"
   ]
  },
  {
   "cell_type": "code",
   "execution_count": 170,
   "id": "9d46801d-6d95-43fc-8171-80db65c7dccb",
   "metadata": {},
   "outputs": [
    {
     "name": "stdout",
     "output_type": "stream",
     "text": [
      "trainable params: 3212749824 || all params: 3212749824 || trainable%: 100.00\n"
     ]
    }
   ],
   "source": [
    "print_trainable_parameters(lla_model323)"
   ]
  },
  {
   "cell_type": "code",
   "execution_count": 171,
   "id": "0a2e695b-a48c-41f8-a5de-c597ee6be91b",
   "metadata": {},
   "outputs": [
    {
     "name": "stdout",
     "output_type": "stream",
     "text": [
      "trainable params: 3212749824 || all params: 3212749824 || trainable%: 100.00\n"
     ]
    }
   ],
   "source": [
    "print_trainable_parameters(lla_model323_I)"
   ]
  },
  {
   "cell_type": "code",
   "execution_count": 172,
   "id": "2bfcd428-6371-4df3-b075-2088f18eb74c",
   "metadata": {},
   "outputs": [
    {
     "name": "stdout",
     "output_type": "stream",
     "text": [
      "trainable params: 8030261248 || all params: 8030261248 || trainable%: 100.00\n"
     ]
    }
   ],
   "source": [
    "print_trainable_parameters(lla_model31)"
   ]
  },
  {
   "cell_type": "code",
   "execution_count": 159,
   "id": "319e9a2e-06b5-4611-95b1-b6bc1c951920",
   "metadata": {},
   "outputs": [
    {
     "name": "stderr",
     "output_type": "stream",
     "text": [
      "Loading checkpoint shards: 100%|████| 30/30 [00:18<00:00,  1.59it/s]\n"
     ]
    }
   ],
   "source": [
    "# use textclassification methods from transformers\n",
    "lla_model=AutoModelForCausalLM.from_pretrained(\"meta-llama/Llama-3.3-70B-Instruct\", num_labels=3, torch_dtype=\"auto\")"
   ]
  },
  {
   "cell_type": "code",
   "execution_count": 160,
   "id": "3444d6d4-30e5-4db1-8292-1420224a9170",
   "metadata": {},
   "outputs": [],
   "source": [
    "lla_model321=AutoModelForCausalLM.from_pretrained(\"meta-llama/Llama-3.2-1B\", num_labels=3, torch_dtype=\"auto\")"
   ]
  },
  {
   "cell_type": "code",
   "execution_count": 161,
   "id": "3d9ae240-57e4-4704-b878-a1047585288c",
   "metadata": {},
   "outputs": [
    {
     "name": "stderr",
     "output_type": "stream",
     "text": [
      "Loading checkpoint shards: 100%|██████| 2/2 [00:01<00:00,  1.41it/s]\n"
     ]
    }
   ],
   "source": [
    "lla_model323=AutoModelForCausalLM.from_pretrained(\"meta-llama/Llama-3.2-3B\", num_labels=3, torch_dtype=\"auto\")"
   ]
  },
  {
   "cell_type": "code",
   "execution_count": 162,
   "id": "6c6dfb1a-19d7-44cc-9836-ae739df72a35",
   "metadata": {},
   "outputs": [
    {
     "name": "stderr",
     "output_type": "stream",
     "text": [
      "Loading checkpoint shards: 100%|██████| 2/2 [00:01<00:00,  1.57it/s]\n"
     ]
    }
   ],
   "source": [
    "lla_model323_I=AutoModelForCausalLM.from_pretrained(\"meta-llama/Llama-3.2-3B-Instruct\", num_labels=3, torch_dtype=\"auto\")"
   ]
  },
  {
   "cell_type": "code",
   "execution_count": 163,
   "id": "617a731f-1317-428d-a140-73fd0f1d4f15",
   "metadata": {},
   "outputs": [
    {
     "name": "stderr",
     "output_type": "stream",
     "text": [
      "Loading checkpoint shards: 100%|██████| 4/4 [00:02<00:00,  1.64it/s]\n"
     ]
    }
   ],
   "source": [
    "lla_model31=AutoModelForCausalLM.from_pretrained(\"meta-llama/Llama-3.1-8B\", num_labels=3, torch_dtype=\"auto\")"
   ]
  },
  {
   "cell_type": "code",
   "execution_count": 164,
   "id": "007e172f-997a-4cb5-b11e-485b3f0caa5a",
   "metadata": {},
   "outputs": [
    {
     "name": "stderr",
     "output_type": "stream",
     "text": [
      "Loading checkpoint shards: 100%|██████| 2/2 [00:01<00:00,  1.58it/s]\n"
     ]
    }
   ],
   "source": [
    "mis_model=AutoModelForCausalLM.from_pretrained(\"mistralai/Mistral-7B-Instruct-v0.1\", num_labels=3, torch_dtype=\"auto\")"
   ]
  },
  {
   "cell_type": "code",
   "execution_count": 165,
   "id": "eedccae5-92ad-467a-915d-cd65fd4bea3c",
   "metadata": {},
   "outputs": [
    {
     "name": "stderr",
     "output_type": "stream",
     "text": [
      "Loading checkpoint shards: 100%|██████| 2/2 [00:01<00:00,  1.44it/s]\n"
     ]
    }
   ],
   "source": [
    "mis_model_base=AutoModelForCausalLM.from_pretrained(\"mistralai/Mistral-7B-v0.1\", num_labels=3, torch_dtype=\"auto\")"
   ]
  },
  {
   "cell_type": "code",
   "execution_count": 166,
   "id": "04ef8026-aa25-49a4-8c63-528645379e68",
   "metadata": {},
   "outputs": [
    {
     "name": "stderr",
     "output_type": "stream",
     "text": [
      "Loading checkpoint shards: 100%|██████| 3/3 [00:01<00:00,  1.51it/s]\n"
     ]
    }
   ],
   "source": [
    "mis_model3=AutoModelForCausalLM.from_pretrained(\"mistralai/Mistral-7B-v0.3\", num_labels=3, torch_dtype=\"auto\")"
   ]
  },
  {
   "cell_type": "code",
   "execution_count": 167,
   "id": "f8431f81-d27b-46ba-92a2-d365cfd2837b",
   "metadata": {},
   "outputs": [
    {
     "name": "stderr",
     "output_type": "stream",
     "text": [
      "Loading checkpoint shards: 100%|██████| 3/3 [00:01<00:00,  1.52it/s]\n"
     ]
    }
   ],
   "source": [
    "mis_model3_I=AutoModelForCausalLM.from_pretrained(\"mistralai/Mistral-7B-Instruct-v0.3\", num_labels=3, torch_dtype=\"auto\")"
   ]
  },
  {
   "cell_type": "code",
   "execution_count": 173,
   "id": "4a12397a-55df-4da6-b9fb-689f4d4ad2a4",
   "metadata": {},
   "outputs": [
    {
     "name": "stdout",
     "output_type": "stream",
     "text": [
      "trainable params: 7241732096 || all params: 7241732096 || trainable%: 100.00\n"
     ]
    }
   ],
   "source": [
    "print_trainable_parameters(mis_model)"
   ]
  },
  {
   "cell_type": "code",
   "execution_count": 174,
   "id": "d864b03e-fd34-44a3-b333-d8cd5e9bf627",
   "metadata": {},
   "outputs": [
    {
     "name": "stdout",
     "output_type": "stream",
     "text": [
      "trainable params: 7241732096 || all params: 7241732096 || trainable%: 100.00\n"
     ]
    }
   ],
   "source": [
    "print_trainable_parameters(mis_model_base)"
   ]
  },
  {
   "cell_type": "code",
   "execution_count": 175,
   "id": "5c6e7eec-1d65-4950-8a64-a1503b3245ae",
   "metadata": {},
   "outputs": [
    {
     "name": "stdout",
     "output_type": "stream",
     "text": [
      "trainable params: 7248023552 || all params: 7248023552 || trainable%: 100.00\n"
     ]
    }
   ],
   "source": [
    "print_trainable_parameters(mis_model3)"
   ]
  },
  {
   "cell_type": "code",
   "execution_count": 176,
   "id": "453f6bc8-5ee0-4cd4-9788-291a3998eafd",
   "metadata": {},
   "outputs": [
    {
     "name": "stdout",
     "output_type": "stream",
     "text": [
      "trainable params: 7248023552 || all params: 7248023552 || trainable%: 100.00\n"
     ]
    }
   ],
   "source": [
    "print_trainable_parameters(mis_model3_I)"
   ]
  },
  {
   "cell_type": "code",
   "execution_count": 121,
   "id": "3f964f8e-ba12-4359-bd97-263cadf82be9",
   "metadata": {},
   "outputs": [],
   "source": [
    "training_args=TrainingArguments(output_dir=\"test_trainer\", eval_strategy=\"epoch\")\n",
    "# eval_strategy=epoch ensures that the evaluation metric will be reported at the end of each epoch\n",
    "# this helps us monitor evaluation metrics during fine-tuning"
   ]
  },
  {
   "cell_type": "code",
   "execution_count": 122,
   "id": "da0ce953-5dce-438d-ac63-d9a248c114c1",
   "metadata": {},
   "outputs": [],
   "source": [
    "# A trainer needs to be passed a function from the Evaluate library (specifically the accuracy function) to compute and report metrics\n",
    "metric=evaluate.load(\"accuracy\")"
   ]
  },
  {
   "cell_type": "code",
   "execution_count": 123,
   "id": "e7972cfb-53d3-4779-8aec-48793be8fc17",
   "metadata": {},
   "outputs": [],
   "source": [
    "# the compute_metrics method will calculate prediction accuracy\n",
    "def compute_metrics(eval_pred):\n",
    "    logits, labels=eval_pred\n",
    "    predictions = np.argmax(logits, axis=-1)\n",
    "    return metric.compute(predictions=predictions, references=labels)\n",
    "    # this lets us convert logits (returned by models) into predictions\n",
    "    # np.argmax returns the indices of the maximum values along the axis of an array\n",
    "    # axis=-1 means it looks at the last axis in the array\n",
    "    # metric.compute gathers all cached predictions and references to compute the metric scor"
   ]
  },
  {
   "cell_type": "code",
   "execution_count": 210,
   "id": "3d672ac9-313b-4a3d-97f1-ef193f3f897b",
   "metadata": {},
   "outputs": [],
   "source": [
    "# to fine-tune with LoRA, instantiate a base model (as above)\n",
    "# create LoraConfig where LoRA-specific parameters are defined\n",
    "config=LoraConfig(\n",
    "    inference_mode=False,\n",
    "    r=10, #rank of update matrices, lower value results in smaller matrices with fewer parameters\n",
    "    lora_alpha=10, #LoRA scaling factor\n",
    "    task_type=\"CAUSAL_LM\",\n",
    "    lora_dropout=0, # dropout probability of LoRA layers\n",
    "    bias=\"lora_only\", # specifies if bias parameters should be trained\n",
    "    modules_to_save=[\"decode_head\"] #models apart from LoRA layers that are trainable\n",
    ")"
   ]
  },
  {
   "cell_type": "code",
   "execution_count": 211,
   "id": "50fea75b-ad80-4c7f-ad85-b7310cc8a2b9",
   "metadata": {},
   "outputs": [
    {
     "name": "stdout",
     "output_type": "stream",
     "text": [
      "trainable params: 26214400 || all params: 7267946496 || trainable%: 0.36\n"
     ]
    }
   ],
   "source": [
    "mis_lora_model=get_peft_model(mis_model, config)\n",
    "print_trainable_parameters(mis_lora_model)"
   ]
  },
  {
   "cell_type": "code",
   "execution_count": 212,
   "id": "718b27f0-ad0b-4069-804d-6ee3015feed4",
   "metadata": {},
   "outputs": [
    {
     "name": "stdout",
     "output_type": "stream",
     "text": [
      "trainable params: 26214400 || all params: 8056475648 || trainable%: 0.33\n"
     ]
    }
   ],
   "source": [
    "lla_lora_model=get_peft_model(lla_model31, config)\n",
    "print_trainable_parameters(lla_lora_model)"
   ]
  },
  {
   "cell_type": "code",
   "execution_count": 216,
   "id": "306bc18b-8b26-4855-ba3e-1401923f74f0",
   "metadata": {},
   "outputs": [
    {
     "name": "stdout",
     "output_type": "stream",
     "text": [
      "trainable params: 1064960 || all params: 1236879360 || trainable%: 0.09\n"
     ]
    }
   ],
   "source": [
    "with open(\"llama3_2.pkl\", \"rb\") as f:\n",
    "    llama321=pickle.load(f)\n",
    "lla32_lora=get_peft_model(llama321, config)\n",
    "print_trainable_parameters(lla32_lora)"
   ]
  },
  {
   "cell_type": "code",
   "execution_count": null,
   "id": "aa363ede-7bab-477c-903a-bdc897b31afc",
   "metadata": {},
   "outputs": [],
   "source": [
    "# the trainer object specifies the model, training arguments, training and test datasets, and evaluation function\n",
    "trainer_l = Trainer(\n",
    "    model=lla_lora_model,\n",
    "    args=training_args,\n",
    "    train_dataset=l_train_genome1,\n",
    "    eval_dataset=l_test_genome1,\n",
    "    compute_metrics=compute_metrics,\n",
    ")\n",
    "trainer_l.train()"
   ]
  },
  {
   "cell_type": "code",
   "execution_count": 202,
   "id": "d2c12738-992a-49e7-baf5-cd52d20cac42",
   "metadata": {},
   "outputs": [],
   "source": [
    "def make_trainer(m_model, train_data, test_data):\n",
    "    trainer=Trainer(\n",
    "        model=m_model,\n",
    "        args=training_args,\n",
    "        train_dataset=train_data,\n",
    "        eval_dataset=test_data,\n",
    "        compute_metrics=compute_metrics,\n",
    "    )\n",
    "    return trainer"
   ]
  },
  {
   "cell_type": "code",
   "execution_count": null,
   "id": "55bf1dc5-1841-4c82-ab3e-b76313586d62",
   "metadata": {},
   "outputs": [],
   "source": []
  },
  {
   "cell_type": "code",
   "execution_count": null,
   "id": "55934df8-c2bb-471e-bc27-d96abcda6298",
   "metadata": {},
   "outputs": [],
   "source": []
  },
  {
   "cell_type": "code",
   "execution_count": null,
   "id": "1b2a1c8e-1d22-40a6-a0b1-376dbf99ef7a",
   "metadata": {},
   "outputs": [],
   "source": [
    "# small_train_dataset_l=llama_tokenized_datasets[\"input_ids\"].shuffle(seed=42).select(range(500))\n",
    "# small_test_dataset_l=llama_tokenized_datasets[\"attention_mask\"].shuffle(seed=42).select(range(500))\n",
    "# shuffle() randomly rearranges the column values and creates an indices mapping\n",
    "# select() returns rows according to indices\n",
    "# shuffling can make your program run significantly slower\n",
    "# maybe in a second iteration switch to an IterableDataset, as IterableDataset.shuffle() is faster"
   ]
  }
 ],
 "metadata": {
  "kernelspec": {
   "display_name": "Python 3 (ipykernel)",
   "language": "python",
   "name": "python3"
  },
  "language_info": {
   "codemirror_mode": {
    "name": "ipython",
    "version": 3
   },
   "file_extension": ".py",
   "mimetype": "text/x-python",
   "name": "python",
   "nbconvert_exporter": "python",
   "pygments_lexer": "ipython3",
   "version": "3.12.8"
  }
 },
 "nbformat": 4,
 "nbformat_minor": 5
}
