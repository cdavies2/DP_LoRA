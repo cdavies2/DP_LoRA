{
 "cells": [
  {
   "cell_type": "code",
   "execution_count": 9,
   "id": "1fe90fbe-0328-4f82-9315-c7e1db3c62b9",
   "metadata": {},
   "outputs": [],
   "source": [
    "import accelerate\n",
    "import datasets\n",
    "import evaluate\n",
    "import numpy as np\n",
    "import peft\n",
    "import pickle\n",
    "import pytest, ipytest\n",
    "ipytest.autoconfig()\n",
    "import transformers\n",
    "\n",
    "from datasets import(\n",
    "    load_dataset, \n",
    "    load_dataset_builder,\n",
    "    get_dataset_split_names,\n",
    "    get_dataset_config_names,\n",
    ")\n",
    "\n",
    "\n",
    "from peft import(\n",
    "    LoftQConfig,\n",
    "    LoraConfig,\n",
    "    get_peft_model,\n",
    ")\n",
    "\n",
    "from transformers import(\n",
    "AutoModelForCausalLM,\n",
    "AutoTokenizer,\n",
    "BitsAndBytesConfig,\n",
    "TrainingArguments,\n",
    "Trainer)\n",
    "# allows fast processing of datasets"
   ]
  },
  {
   "cell_type": "code",
   "execution_count": 4,
   "id": "d9742c2e-2332-42df-bddd-489ec0ea8c55",
   "metadata": {},
   "outputs": [
    {
     "name": "stdout",
     "output_type": "stream",
     "text": [
      "{'record': Value(dtype='string', id=None), 'text': Value(dtype='string', id=None)}\n",
      "{'text': Value(dtype='string', id=None)}\n",
      "{'text': Value(dtype='string', id=None)}\n"
     ]
    }
   ],
   "source": [
    "ds_builder1=load_dataset_builder(\"LongSafari/open-genome\", \"stage1\")\n",
    "print(ds_builder1.info.features)\n",
    "ds_builder2=load_dataset_builder(\"LongSafari/open-genome\", \"stage2\")\n",
    "print(ds_builder2.info.features)\n",
    "ds_builder3=load_dataset_builder(\"LongSafari/open-genome\", \"sample\")\n",
    "print(ds_builder3.info.features)"
   ]
  },
  {
   "cell_type": "code",
   "execution_count": 6,
   "id": "7f0e3910-fee0-4b90-b00d-7a12206bf53d",
   "metadata": {},
   "outputs": [
    {
     "data": {
      "text/plain": [
       "['validation']"
      ]
     },
     "execution_count": 6,
     "metadata": {},
     "output_type": "execute_result"
    }
   ],
   "source": [
    "ds_gs=load_dataset(\"LongSafari/open-genome\", \"sample\")\n",
    "get_dataset_split_names(\"LongSafari/open-genome\", \"sample\")"
   ]
  },
  {
   "cell_type": "code",
   "execution_count": 18,
   "id": "d244e144-31b5-4d0e-ba98-3474fbba8183",
   "metadata": {},
   "outputs": [
    {
     "name": "stdout",
     "output_type": "stream",
     "text": [
      "['train', 'validation', 'test']\n",
      "['train', 'validation', 'test']\n"
     ]
    }
   ],
   "source": [
    "ds_gst1_train=load_dataset(\"LongSafari/open-genome\", \"stage1\", split=\"train[:500]\")\n",
    "#print(ds_gst1[50])\n",
    "ds_gst1_test=load_dataset(\"LongSafari/open-genome\", \"stage1\", split=\"test[:50]\")\n",
    "print(get_dataset_split_names(\"LongSafari/open-genome\", \"stage1\"))\n",
    "ds_gst2_train=load_dataset(\"LongSafari/open-genome\", \"stage2\", split=\"train[:500]\")\n",
    "ds_gst2_test=load_dataset(\"LongSafari/open-genome\", \"stage2\", split=\"test[:50]\")\n",
    "print(get_dataset_split_names(\"LongSafari/open-genome\", \"stage2\"))"
   ]
  },
  {
   "cell_type": "code",
   "execution_count": 19,
   "id": "1316f085-affd-41f5-ae2b-e12a09b56cfd",
   "metadata": {},
   "outputs": [],
   "source": [
    "def model_from_pkl(model):\n",
    "    with open(\"pkl_files/\" + model + \".pkl\", \"rb\") as f:\n",
    "        pkl_model=pickle.load(f)\n",
    "    model_name=pkl_model[\"model_name\"]\n",
    "    tokenizer=pkl_model[\"tokenizer\"]\n",
    "    tokenizer.pad_token=tokenizer.eos_token\n",
    "    return model_name, tokenizer"
   ]
  },
  {
   "cell_type": "code",
   "execution_count": 17,
   "id": "71a544c9-d4de-4c8d-b55f-c4e522ab8150",
   "metadata": {},
   "outputs": [
    {
     "name": "stdout",
     "output_type": "stream",
     "text": [
      "\u001b[32m.\u001b[0m\u001b[32m                                                                                            [100%]\u001b[0m\n",
      "\u001b[32m\u001b[32m\u001b[1m1 passed\u001b[0m\u001b[32m in 8.75s\u001b[0m\u001b[0m\n"
     ]
    }
   ],
   "source": [
    "%%ipytest -k imp\n",
    "#test to check models are properly improted from pkl files\n",
    "def test_model_imp():\n",
    "    lla_321, lla_321_tokenizer=model_from_pkl(\"Llama-3.2-1B\")\n",
    "    assert type(lla_321)==transformers.models.llama.modeling_llama.LlamaForCausalLM and type(lla_321_tokenizer)==transformers.tokenization_utils_fast.PreTrainedTokenizerFast\n",
    "          "
   ]
  },
  {
   "cell_type": "code",
   "execution_count": 10,
   "id": "d77dafc3-0f8a-46ff-ba1c-249391fa4b6f",
   "metadata": {},
   "outputs": [],
   "source": [
    "lla_321, lla_321_tokenizer=model_from_pkl(\"Llama-3.2-1B\")"
   ]
  },
  {
   "cell_type": "code",
   "execution_count": 11,
   "id": "35ae0211-956d-4dad-88f8-428ae4e9b5f0",
   "metadata": {},
   "outputs": [],
   "source": [
    "lla_323, lla_323_tokenizer=model_from_pkl(\"Llama-3.2-3B-Instruct\")"
   ]
  },
  {
   "cell_type": "code",
   "execution_count": 12,
   "id": "61ca717c-e790-4578-bc72-c75067a79632",
   "metadata": {},
   "outputs": [],
   "source": [
    "lla_31, lla_31_tokenizer=model_from_pkl(\"Llama-3.1-8B\")"
   ]
  },
  {
   "cell_type": "code",
   "execution_count": 13,
   "id": "dffdf95d-8952-4f4f-8a92-3f8ef55aa50a",
   "metadata": {},
   "outputs": [],
   "source": [
    "lla_323_b, lla_323_b_tokenizer=model_from_pkl(\"Llama-3.2-3B\")"
   ]
  },
  {
   "cell_type": "code",
   "execution_count": 14,
   "id": "ea91fd23-0c73-495e-bf7b-6fb06298194a",
   "metadata": {},
   "outputs": [],
   "source": [
    "mistral, mistral_tokenizer=model_from_pkl(\"Mistral-7B-Instruct-v0.1\")"
   ]
  },
  {
   "cell_type": "code",
   "execution_count": 15,
   "id": "38bb69f7-a22a-4bc7-afe7-d79ccd765dcd",
   "metadata": {},
   "outputs": [],
   "source": [
    "# perform preprocessing on the genomic data\n",
    "def map_data(data, model, tokenizer):\n",
    "    def tokenize_l_function(examples):\n",
    "        return tokenizer(examples[\"text\"], padding=\"max_length\", truncation=True)\n",
    "    def tokenize_m_function(examples):\n",
    "        return tokenizer(examples[\"text\"], padding=\"max_length\", truncation=True, max_length=8192)\n",
    "        \n",
    "    if type(model)==transformers.models.llama.modeling_llama.LlamaForCausalLM:\n",
    "        tokenized_dataset=data.map(tokenize_l_function, batched=True)\n",
    "    else:\n",
    "        tokenized_dataset=data.map(tokenize_m_function, batched=True)\n",
    "    return tokenized_dataset"
   ]
  },
  {
   "cell_type": "code",
   "execution_count": 16,
   "id": "e3aa5a67-3ac6-4916-b1cc-5d5c4ff8e80d",
   "metadata": {},
   "outputs": [
    {
     "name": "stderr",
     "output_type": "stream",
     "text": [
      "Map: 100%|███████████████████| 50/50 [00:04<00:00, 10.82 examples/s]\n",
      "Map: 100%|██████████████████| 50/50 [00:00<00:00, 129.72 examples/s]\n"
     ]
    }
   ],
   "source": [
    "# l_tokenized_genome_samples=ds_gs.map(tokenize_l_function, batched=True)\n",
    "# m_tokenized_genome_samples=ds_gs.map(tokenize_m_function, batched=True)\n",
    "l_tokenized_genome_samples=map_data(ds_gs, lla_321, lla_321_tokenizer)\n",
    "m_tokenized_genome_samples=map_data(ds_gs, mistral, mistral_tokenizer)"
   ]
  },
  {
   "cell_type": "code",
   "execution_count": 17,
   "id": "96fb3c22-fd21-4039-a8d6-6cca3cf151c1",
   "metadata": {},
   "outputs": [
    {
     "name": "stderr",
     "output_type": "stream",
     "text": [
      "Map: 100%|█████████████████| 100/100 [00:09<00:00, 10.89 examples/s]\n",
      "Map: 100%|█████████████████| 100/100 [00:06<00:00, 14.68 examples/s]\n"
     ]
    }
   ],
   "source": [
    "l_tokenized_stage1_train=map_data(ds_gst1_train, lla_321, lla_321_tokenizer)\n",
    "l_tokenized_stage1_test=map_data(ds_gst1_test, lla_321, lla_321_tokenizer)"
   ]
  },
  {
   "cell_type": "code",
   "execution_count": 18,
   "id": "d9e57eea-0b9c-460d-838f-1061aa0fc14d",
   "metadata": {},
   "outputs": [
    {
     "name": "stderr",
     "output_type": "stream",
     "text": [
      "Map: 100%|█████████████████| 100/100 [00:06<00:00, 15.35 examples/s]\n",
      "Map: 100%|███████████████████| 50/50 [00:03<00:00, 16.57 examples/s]\n"
     ]
    }
   ],
   "source": [
    "l_tokenized_stage2_train=map_data(ds_gst2_train, lla_321, lla_321_tokenizer)\n",
    "l_tokenized_stage2_test=map_data(ds_gst2_test, lla_321, lla_321_tokenizer)"
   ]
  },
  {
   "cell_type": "code",
   "execution_count": 19,
   "id": "45d9c5eb-12ff-4cb5-9a6e-6efaab2dde4b",
   "metadata": {},
   "outputs": [
    {
     "name": "stderr",
     "output_type": "stream",
     "text": [
      "Map: 100%|█████████████████| 100/100 [00:01<00:00, 57.07 examples/s]\n",
      "Map: 100%|████████████████| 100/100 [00:00<00:00, 207.16 examples/s]\n"
     ]
    }
   ],
   "source": [
    "m_tokenized_stage1_train=map_data(ds_gst1_train, mistral, mistral_tokenizer)\n",
    "m_tokenized_stage1_test=map_data(ds_gst1_test, mistral, mistral_tokenizer)"
   ]
  },
  {
   "cell_type": "code",
   "execution_count": 20,
   "id": "efb0f4bf-2d60-40db-b1b1-1c485081be9f",
   "metadata": {},
   "outputs": [
    {
     "name": "stderr",
     "output_type": "stream",
     "text": [
      "Map: 100%|████████████████| 100/100 [00:00<00:00, 230.01 examples/s]\n",
      "Map: 100%|██████████████████| 50/50 [00:00<00:00, 148.92 examples/s]\n"
     ]
    }
   ],
   "source": [
    "m_tokenized_stage2_train=map_data(ds_gst2_train, mistral, mistral_tokenizer)\n",
    "m_tokenized_stage2_test=map_data(ds_gst2_test, mistral, mistral_tokenizer)"
   ]
  },
  {
   "cell_type": "code",
   "execution_count": 21,
   "id": "c256ec91-d36c-47e1-a409-7a25fb3e653d",
   "metadata": {},
   "outputs": [],
   "source": [
    "# before loading in the base model with LoRA, might be good to define a helper function\n",
    "# this looks at the total parameters a model has, and how many are trainable\n",
    "def print_trainable_parameters(model):\n",
    "    \"\"\"\n",
    "    Prints the number of trainable parameters in the model.\n",
    "    \"\"\"\n",
    "    trainable_params = 0\n",
    "    all_param = 0\n",
    "    for _, param in model.named_parameters():\n",
    "        all_param += param.numel()\n",
    "        if param.requires_grad:\n",
    "            trainable_params += param.numel()\n",
    "    print(\n",
    "        f\"trainable params: {trainable_params} || all params: {all_param} || trainable%: {100 * trainable_params / all_param:.2f}\"\n",
    "    )"
   ]
  },
  {
   "cell_type": "code",
   "execution_count": 22,
   "id": "3f964f8e-ba12-4359-bd97-263cadf82be9",
   "metadata": {},
   "outputs": [],
   "source": [
    "training_args=TrainingArguments(output_dir=\"test_trainer\", eval_strategy=\"epoch\")\n",
    "# eval_strategy=epoch ensures that the evaluation metric will be reported at the end of each epoch\n",
    "# this helps us monitor evaluation metrics during fine-tuning"
   ]
  },
  {
   "cell_type": "code",
   "execution_count": 23,
   "id": "da0ce953-5dce-438d-ac63-d9a248c114c1",
   "metadata": {},
   "outputs": [],
   "source": [
    "# A trainer needs to be passed a function from the Evaluate library (specifically the accuracy function) to compute and report metrics\n",
    "metric=evaluate.load(\"accuracy\")"
   ]
  },
  {
   "cell_type": "code",
   "execution_count": 24,
   "id": "e7972cfb-53d3-4779-8aec-48793be8fc17",
   "metadata": {},
   "outputs": [],
   "source": [
    "# the compute_metrics method will calculate prediction accuracy\n",
    "def compute_metrics(eval_pred):\n",
    "    logits, labels=eval_pred\n",
    "    predictions = np.argmax(logits, axis=-1)\n",
    "    return metric.compute(predictions=predictions, references=labels)\n",
    "    # this lets us convert logits (returned by models) into predictions\n",
    "    # np.argmax returns the indices of the maximum values along the axis of an array\n",
    "    # axis=-1 means it looks at the last axis in the array\n",
    "    # metric.compute gathers all cached predictions and references to compute the metric scor"
   ]
  },
  {
   "cell_type": "code",
   "execution_count": 25,
   "id": "3d672ac9-313b-4a3d-97f1-ef193f3f897b",
   "metadata": {},
   "outputs": [],
   "source": [
    "# to fine-tune with LoRA, instantiate a base model (as above)\n",
    "# create LoraConfig where LoRA-specific parameters are defined\n",
    "config=LoraConfig(\n",
    "    inference_mode=False,\n",
    "    r=10, #rank of update matrices, lower value results in smaller matrices with fewer parameters\n",
    "    lora_alpha=10, #LoRA scaling factor\n",
    "    task_type=\"CAUSAL_LM\",\n",
    "    lora_dropout=0, # dropout probability of LoRA layers\n",
    "    bias=\"lora_only\", # specifies if bias parameters should be trained\n",
    "    modules_to_save=[\"decode_head\"] #models apart from LoRA layers that are trainable\n",
    ")"
   ]
  },
  {
   "cell_type": "code",
   "execution_count": 30,
   "id": "50fea75b-ad80-4c7f-ad85-b7310cc8a2b9",
   "metadata": {},
   "outputs": [
    {
     "name": "stdout",
     "output_type": "stream",
     "text": [
      "trainable params: 4259840 || all params: 7245991936 || trainable%: 0.06\n"
     ]
    }
   ],
   "source": [
    "mis_lora_model=get_peft_model(mistral, config)\n",
    "print_trainable_parameters(mis_lora_model)"
   ]
  },
  {
   "cell_type": "code",
   "execution_count": 27,
   "id": "718b27f0-ad0b-4069-804d-6ee3015feed4",
   "metadata": {},
   "outputs": [
    {
     "name": "stdout",
     "output_type": "stream",
     "text": [
      "trainable params: 1064960 || all params: 1236879360 || trainable%: 0.09\n"
     ]
    },
    {
     "name": "stderr",
     "output_type": "stream",
     "text": [
      "/scratch/ac.cdavies/cdavies_Unit_Tests/.venv/lib/python3.12/site-packages/peft/mapping.py:185: UserWarning: The PEFT config's `base_model_name_or_path` was renamed from 'mistralai/Mistral-7B-Instruct-v0.1' to 'meta-llama/Llama-3.2-1B'. Please ensure that the correct base model is loaded when loading this checkpoint.\n",
      "  warnings.warn(\n"
     ]
    }
   ],
   "source": [
    "lla_lora_model=get_peft_model(lla_321, config)\n",
    "print_trainable_parameters(lla_lora_model)"
   ]
  },
  {
   "cell_type": "code",
   "execution_count": 1,
   "id": "d2c12738-992a-49e7-baf5-cd52d20cac42",
   "metadata": {},
   "outputs": [],
   "source": [
    "# the trainer object specifies the model, training arguments, training and test datasets, and evaluation function\n",
    "def make_trainer(m_model, train_data, test_data):\n",
    "    trainer=Trainer(\n",
    "        model=m_model,\n",
    "        args=training_args,\n",
    "        train_dataset=train_data,\n",
    "        eval_dataset=test_data,\n",
    "        compute_metrics=compute_metrics,\n",
    "    )\n",
    "    return trainer"
   ]
  },
  {
   "cell_type": "code",
   "execution_count": null,
   "id": "55bf1dc5-1841-4c82-ab3e-b76313586d62",
   "metadata": {},
   "outputs": [],
   "source": [
    "mistral_train=make_trainer(mistral, m_tokenized_stage1_train, m_tokenized_stage1_test)\n",
    "mistral_train.train()"
   ]
  },
  {
   "cell_type": "code",
   "execution_count": null,
   "id": "aa363ede-7bab-477c-903a-bdc897b31afc",
   "metadata": {},
   "outputs": [],
   "source": [
    "# the trainer object specifies the model, training arguments, training and test datasets, and evaluation function\n",
    "# trainer_m = Trainer(\n",
    "#     model=mis_lora_model,\n",
    "#     args=training_args,\n",
    "#     train_dataset=m_tokenized_stage1_train,\n",
    "#     eval_dataset=m_tokenized_stage1_test,\n",
    "#     compute_metrics=compute_metrics,\n",
    "# )\n",
    "# trainer_m.train()"
   ]
  },
  {
   "cell_type": "code",
   "execution_count": null,
   "id": "55934df8-c2bb-471e-bc27-d96abcda6298",
   "metadata": {},
   "outputs": [],
   "source": []
  }
 ],
 "metadata": {
  "kernelspec": {
   "display_name": "Python 3 (ipykernel)",
   "language": "python",
   "name": "python3"
  },
  "language_info": {
   "codemirror_mode": {
    "name": "ipython",
    "version": 3
   },
   "file_extension": ".py",
   "mimetype": "text/x-python",
   "name": "python",
   "nbconvert_exporter": "python",
   "pygments_lexer": "ipython3",
   "version": "3.12.8"
  }
 },
 "nbformat": 4,
 "nbformat_minor": 5
}
