{
 "cells": [
  {
   "cell_type": "code",
   "execution_count": 2,
   "id": "1fe90fbe-0328-4f82-9315-c7e1db3c62b9",
   "metadata": {},
   "outputs": [],
   "source": [
    "import accelerate\n",
    "import datasets\n",
    "import evaluate\n",
    "import numpy as np\n",
    "import peft\n",
    "import pickle\n",
    "import pytest, ipytest\n",
    "ipytest.autoconfig()\n",
    "import transformers\n",
    "\n",
    "from datasets import(\n",
    "    load_dataset, \n",
    "    load_dataset_builder,\n",
    "    get_dataset_split_names,\n",
    "    get_dataset_config_names,\n",
    ")\n",
    "\n",
    "\n",
    "from peft import(\n",
    "    LoftQConfig,\n",
    "    LoraConfig,\n",
    "    get_peft_model,\n",
    ")\n",
    "\n",
    "from transformers import(\n",
    "AutoModelForCausalLM,\n",
    "AutoTokenizer,\n",
    "BitsAndBytesConfig,\n",
    "TrainingArguments,\n",
    "Trainer)\n",
    "from trl import SFTTrainer, SFTConfig\n",
    "# allows fast processing of datasets"
   ]
  },
  {
   "cell_type": "code",
   "execution_count": 3,
   "id": "d9742c2e-2332-42df-bddd-489ec0ea8c55",
   "metadata": {},
   "outputs": [
    {
     "name": "stdout",
     "output_type": "stream",
     "text": [
      "{'record': Value(dtype='string', id=None), 'text': Value(dtype='string', id=None)}\n",
      "{'text': Value(dtype='string', id=None)}\n",
      "{'text': Value(dtype='string', id=None)}\n"
     ]
    }
   ],
   "source": [
    "ds_builder1=load_dataset_builder(\"LongSafari/open-genome\", \"stage1\")\n",
    "print(ds_builder1.info.features)\n",
    "ds_builder2=load_dataset_builder(\"LongSafari/open-genome\", \"stage2\")\n",
    "print(ds_builder2.info.features)\n",
    "ds_builder3=load_dataset_builder(\"LongSafari/open-genome\", \"sample\")\n",
    "print(ds_builder3.info.features)"
   ]
  },
  {
   "cell_type": "code",
   "execution_count": 4,
   "id": "7f0e3910-fee0-4b90-b00d-7a12206bf53d",
   "metadata": {},
   "outputs": [
    {
     "data": {
      "text/plain": [
       "['validation']"
      ]
     },
     "execution_count": 4,
     "metadata": {},
     "output_type": "execute_result"
    }
   ],
   "source": [
    "ds_gs=load_dataset(\"LongSafari/open-genome\", \"sample\")\n",
    "get_dataset_split_names(\"LongSafari/open-genome\", \"sample\")"
   ]
  },
  {
   "cell_type": "code",
   "execution_count": 5,
   "id": "d244e144-31b5-4d0e-ba98-3474fbba8183",
   "metadata": {},
   "outputs": [
    {
     "name": "stdout",
     "output_type": "stream",
     "text": [
      "['train', 'validation', 'test']\n",
      "['train', 'validation', 'test']\n"
     ]
    }
   ],
   "source": [
    "ds_gst1_train=load_dataset(\"LongSafari/open-genome\", \"stage1\", split=\"train[:500]\")\n",
    "#print(ds_gst1[50])\n",
    "ds_gst1_test=load_dataset(\"LongSafari/open-genome\", \"stage1\", split=\"test[:50]\")\n",
    "print(get_dataset_split_names(\"LongSafari/open-genome\", \"stage1\"))\n",
    "ds_gst2_train=load_dataset(\"LongSafari/open-genome\", \"stage2\", split=\"train[:500]\")\n",
    "ds_gst2_test=load_dataset(\"LongSafari/open-genome\", \"stage2\", split=\"test[:50]\")\n",
    "print(get_dataset_split_names(\"LongSafari/open-genome\", \"stage2\"))"
   ]
  },
  {
   "cell_type": "code",
   "execution_count": 6,
   "id": "799d6ea5-8463-458f-ac79-a55b96920462",
   "metadata": {},
   "outputs": [
    {
     "name": "stdout",
     "output_type": "stream",
     "text": [
      "{'record': 'JAHFAU010000168.1', 'text': 'CTCCTCGGCCAGCAAGCGCATCGTGAGAACCGGACTGACGATCAGCAAAACGGTCGCCAGCGGGCCCAATACCATGCGGCCATCCGGGTTCATCTGGCCGGTCGGCAGGCCAAAGTTAACGTTTAGGGAGAAGATCAGGCCGAGCACCAGGAAGCTGAGGGCGGCGGCCGCGTAAGCCAGCGGCGACACGAAGTAGCGGCGGAACTCGCGCACTGCAATAACCCAGCTGGTGCGCACGATCTAGCTCTCCTGCGGCACGACTTGCTCTTCCTCGCGAGTCAGCAGCAGGAAGATGCTTTCCAGGCTGACCCCGGCCGTTGTCAGCTCCAGCAAGTCCAGATCGGCTTCAACGATGCGGCGCGCCAACAGCGGGCGCAGGTCGCGGCCGGGCGAAGAGATCACCTCCACGGTGCCTGCCTGCCCGGCAAGCTCGACCGACTCCACTCCCGGGACGGACTTGAGCAGGTCGACCAGATCGGCTGCCGGGGCAGAGCTGCGGATCAGAATCCGGTACGCACCGGCCAGCTGGGCCGAAAGATTGGCGGGCGTATCTTCCGCCACCAACCGCCCCTTGTTGATAATCAGGACTCGATCACAAACTTGCTGTGCTTCCGAGAGGATGTGGGTGGACAACATGACGGTCCGCTCCCGCCCGAGCTCTCGGATTAAGTCCCGGACTTCGATGATTTGGGCCGGATCCAGTCCAATGGTCGGCTCGTCCAGGATCAAGACCTCGGGCCGGTGCAAGAGTGCCTGGGCCAGGCCGACCCGCTGTCGCAGACCTTTCGACAGGTTGCCAATCAGGCTATCACCGCGTTTTTCGAGGCCGACCTGCGTTAGGGATTCCTCGACCCGGCCATCCAGGTCCTCCACCCGCCGAAGCGAACCCATGAACGAGAGGTATTCGCGGCCGGACATCTCCGGGTACAGCGGGACGGTCTCCGGCAGGTATCCGACCCGGCGGCGCACCTCGAGCGATTCCTCCACCACGTCGTAGCCGGCGACTTTGGCGCTCCCGCTCGTTGGCGGCATGTATCCGGTGAGGATCCGCATCGTGGTCGTCTTCCCGGCGCCGTTCGGTCCAAGGAATCCCAGGATCTCGCCACGTTTGGCCTCGAAGGAAATTCCCTCGAGCGCGGTCAGGCTCCCGTACGTTTTCGAAAGCTTATTGGCCTCGATCAAGCCTCGGTCCTCAAGCCCAGCTCGCCAGGGGGATGGCCGGACACAAAAACATCCCGGCTCTGCCGTTGCGAAGATCTTGCTACGGAAGACCGGGATGTGAGGGATCCGATCCCGGTGACCACTATACAGAGATTCGCGGCCGGGAGTCAAGACGCAGTTGCGCTTCTAATGAGACGCTAAGCTCGCGGCCCGGTTTTCTTTAAGTTTGCTTGACATGGCATGTGCCAACTTGTACAATCGCCCAGCCTCCCCCACAGGAGCCTTAGAATCGGATGCAAGCTCTGACCGCATTTGAACAAAGCGCGGTTCTCGGCGTTGTCGGGATTGCCATACTGGGGTTGGTCTACGCACTTTTCCTGCGGACCCAGGTGCTGCGCGAACCGGCCGGGTCCCCCCGGATGCAGGAGGTCTGGAATGCGATCCGGGTAGGCGCCGACACTTACCTCCGCCGCCAGCTGGGCAGCATCCTCCCGCTGATCGCGGTCCTCACGGTCGCCCTCTTCCTGAGCGTCTACATCGTCCCCCCCAGCCCGGAGGCGACAGAACGATTCAAAACTTTGGATTCGGACACCGTCCGGCTGGTGATCGGGTTGGGAAGAGCCTTGGCCTTCGTCATGGGGGCCATCTTTAGCGTGACCGTTGGGCAGATTGGGATGCGGATGGCGGTGCAGGCCAATGTTCGAGTCGCCGCGGCGGCCCGCCGGTCGTTCGGGGACTCGCTGCGCATCGCCTACCGGGCCGGCACGATCACCGGGATGTTGACCGACGGACTCGGCCTTTTCGGCGGAACGATGATCTTCATCATCTTCGGAATCGCCTCGCCGGATGCGCTGCTCGGGTTCGGATTCGGCGGGACCCTGGTGGCGCTCTTCATGCGGGTTGGCGGGGGGATCTACACCAAGGCGGCCGACGTCGGGGCGGACCTGGTCGGCAAGATCGAGGCGGGTATCCCCGAGGACGACCCACGCAATCCCGCAGTTATCGCCGATCTGGTGGGCGACAACGTGGGCGACTGCGCCGGGATGGCGGCGGATATCTTTGAGTCATATGAAGTCACGATCGTCTCCGGTCTGATTCTTGGGCTGGCGCTTTGGCACATCACCGGCAACTTCGAATGGGTGGTCTACCCCCTGCTCGTGCGCGGCATCGGTGTGCTTTCTTCGATCATCGGCACCTACGCGGTCCGCGGCGGCCATGGGAAGAGCGGCAATGCGATGCGGGCGATCTTCACCGGGTTCTTGTCCTCGGCGGCGATCTCGGTGGTCTTGTTCGGAATCATGGGATTCTTTTACATGCGAGAGGTGCCGGGAGGCTGGTGGCGGCCGTTCCTGGCCACGACCGCGGGGGTGCTGCTGGCGATCGCCATCGACCGACTGACCGAGTACTTCACCGGAAGCCACGGCACTCCGGTTCAGGAAATCCGCAAGGCCACCAACACCGGCCCGGCGACCACCATTCTCTCCGGGATCGCGGTTGGGTATGAGTCGAGTGTCTGGTCGATCCTGATCATCGCGGTAACCATCTTCGTCTCGATCCTTACTTTCGGCGGAATCTCCGGCATCCCGGCCGGCGAGGCGGTGACCTTTGTGCTGTATGGCGTCGCCATGACCGGCATCGGCATGCTGAATCTGACCGGAAACAACGTGGCGATGGATTCCTACGGACTGATCGCCGACAATGCCAATGGAATCGGCCAAATGGCCTGGCAGGGGGAGGACGACCGCGATACGGTGCAGGCCCGCCAGATCATGGCCGACCTGGACGCGGTGGGAAACACGACCAAGGC'}\n"
     ]
    }
   ],
   "source": [
    "print(ds_gst1_test[0])"
   ]
  },
  {
   "cell_type": "code",
   "execution_count": 7,
   "id": "1316f085-affd-41f5-ae2b-e12a09b56cfd",
   "metadata": {},
   "outputs": [],
   "source": [
    "def model_from_pkl(model):\n",
    "    with open(\"pkl_files/\" + model + \".pkl\", \"rb\") as f:\n",
    "        pkl_model=pickle.load(f)\n",
    "    model_name=pkl_model[\"model_name\"]\n",
    "    tokenizer=pkl_model[\"tokenizer\"]\n",
    "    tokenizer.pad_token=tokenizer.eos_token\n",
    "    return model_name, tokenizer"
   ]
  },
  {
   "cell_type": "code",
   "execution_count": 8,
   "id": "71a544c9-d4de-4c8d-b55f-c4e522ab8150",
   "metadata": {},
   "outputs": [
    {
     "name": "stdout",
     "output_type": "stream",
     "text": [
      "\u001b[32m.\u001b[0m\u001b[32m                                                                                            [100%]\u001b[0m\n",
      "\u001b[32m\u001b[32m\u001b[1m1 passed\u001b[0m\u001b[32m in 4.11s\u001b[0m\u001b[0m\n"
     ]
    }
   ],
   "source": [
    "%%ipytest -k imp\n",
    "#test to check models are properly improted from pkl files\n",
    "def test_model_imp():\n",
    "    lla_321, lla_321_tokenizer=model_from_pkl(\"Llama-3.2-1B\")\n",
    "    assert type(lla_321)==transformers.models.llama.modeling_llama.LlamaForCausalLM and type(lla_321_tokenizer)==transformers.tokenization_utils_fast.PreTrainedTokenizerFast\n",
    "          "
   ]
  },
  {
   "cell_type": "code",
   "execution_count": 9,
   "id": "d77dafc3-0f8a-46ff-ba1c-249391fa4b6f",
   "metadata": {},
   "outputs": [],
   "source": [
    "lla_321, lla_321_tokenizer=model_from_pkl(\"Llama-3.2-1B\")"
   ]
  },
  {
   "cell_type": "code",
   "execution_count": 10,
   "id": "35ae0211-956d-4dad-88f8-428ae4e9b5f0",
   "metadata": {},
   "outputs": [],
   "source": [
    "lla_323, lla_323_tokenizer=model_from_pkl(\"Llama-3.2-3B\")"
   ]
  },
  {
   "cell_type": "code",
   "execution_count": 11,
   "id": "ea91fd23-0c73-495e-bf7b-6fb06298194a",
   "metadata": {},
   "outputs": [],
   "source": [
    "mistral, mistral_tokenizer=model_from_pkl(\"Mistral-7B-Instruct-v0.1\")"
   ]
  },
  {
   "cell_type": "code",
   "execution_count": 12,
   "id": "38bb69f7-a22a-4bc7-afe7-d79ccd765dcd",
   "metadata": {},
   "outputs": [],
   "source": [
    "# perform preprocessing on the genomic data\n",
    "def map_data(data, model, tokenizer):\n",
    "    def tokenize_l_function(examples):\n",
    "        return tokenizer(examples[\"text\"], padding=\"max_length\", truncation=True)\n",
    "    def tokenize_m_function(examples):\n",
    "        return tokenizer(examples[\"text\"], padding=\"max_length\", truncation=True, max_length=8192)\n",
    "        \n",
    "    if type(model)==transformers.models.llama.modeling_llama.LlamaForCausalLM:\n",
    "        tokenized_dataset=data.map(tokenize_l_function, batched=True)\n",
    "    else:\n",
    "        tokenized_dataset=data.map(tokenize_m_function, batched=True)\n",
    "    return tokenized_dataset"
   ]
  },
  {
   "cell_type": "code",
   "execution_count": 13,
   "id": "e3aa5a67-3ac6-4916-b1cc-5d5c4ff8e80d",
   "metadata": {},
   "outputs": [],
   "source": [
    "l_tokenized_genome_samples=map_data(ds_gs, lla_321, lla_321_tokenizer)\n",
    "m_tokenized_genome_samples=map_data(ds_gs, mistral, mistral_tokenizer)"
   ]
  },
  {
   "cell_type": "code",
   "execution_count": 14,
   "id": "1e6084d9-e81d-4c08-bcec-9c5d449601c7",
   "metadata": {},
   "outputs": [],
   "source": [
    "l_tokenized_stage1_train=map_data(ds_gst1_train, lla_321, lla_321_tokenizer)\n",
    "l_tokenized_stage1_test=map_data(ds_gst1_test, lla_321, lla_321_tokenizer)"
   ]
  },
  {
   "cell_type": "code",
   "execution_count": 15,
   "id": "d9e57eea-0b9c-460d-838f-1061aa0fc14d",
   "metadata": {},
   "outputs": [],
   "source": [
    "l_tokenized_stage2_train=map_data(ds_gst2_train, lla_321, lla_321_tokenizer)\n",
    "l_tokenized_stage2_test=map_data(ds_gst2_test, lla_321, lla_321_tokenizer)"
   ]
  },
  {
   "cell_type": "code",
   "execution_count": 16,
   "id": "45d9c5eb-12ff-4cb5-9a6e-6efaab2dde4b",
   "metadata": {},
   "outputs": [],
   "source": [
    "m_tokenized_stage1_train=map_data(ds_gst1_train, mistral, mistral_tokenizer)\n",
    "m_tokenized_stage1_test=map_data(ds_gst1_test, mistral, mistral_tokenizer)"
   ]
  },
  {
   "cell_type": "code",
   "execution_count": 17,
   "id": "efb0f4bf-2d60-40db-b1b1-1c485081be9f",
   "metadata": {},
   "outputs": [],
   "source": [
    "m_tokenized_stage2_train=map_data(ds_gst2_train, mistral, mistral_tokenizer)\n",
    "m_tokenized_stage2_test=map_data(ds_gst2_test, mistral, mistral_tokenizer)"
   ]
  },
  {
   "cell_type": "code",
   "execution_count": 18,
   "id": "c256ec91-d36c-47e1-a409-7a25fb3e653d",
   "metadata": {},
   "outputs": [],
   "source": [
    "# before loading in the base model with LoRA, might be good to define a helper function\n",
    "# this looks at the total parameters a model has, and how many are trainable\n",
    "def print_trainable_parameters(model):\n",
    "    \"\"\"\n",
    "    Prints the number of trainable parameters in the model.\n",
    "    \"\"\"\n",
    "    trainable_params = 0\n",
    "    all_param = 0\n",
    "    for _, param in model.named_parameters():\n",
    "        all_param += param.numel()\n",
    "        if param.requires_grad:\n",
    "            trainable_params += param.numel()\n",
    "    print(\n",
    "        f\"trainable params: {trainable_params} || all params: {all_param} || trainable%: {100 * trainable_params / all_param:.2f}\"\n",
    "    )"
   ]
  },
  {
   "cell_type": "code",
   "execution_count": 66,
   "id": "3f964f8e-ba12-4359-bd97-263cadf82be9",
   "metadata": {},
   "outputs": [],
   "source": [
    "training_args=TrainingArguments(output_dir=\"test_trainer\", \n",
    "                                #eval_strategy=\"epoch\", \n",
    "                                per_device_train_batch_size=8,\n",
    "                                num_train_epochs=3, # total number of training epochs to perform)\n",
    "                                learning_rate=2e-4,\n",
    "                                weight_decay=0.1,\n",
    "                                logging_strategy=\"steps\",\n",
    "                                #logging_steps=2,\n",
    "                                gradient_checkpointing=True)\n",
    "# eval_strategy=epoch ensures that the evaluation metric will be reported at the end of each epoch\n",
    "# this helps us monitor evaluation metrics during fine-tuning\n",
    "\n",
    "# an epoch is one full cycle through a training dataset\n",
    "# during the epoch, the model sees and learns from all the training examples\n",
    "# steps are one optimization update\n",
    "# during a step, parameters are updated based on a batch of training data\n",
    "#the number of steps per epoch is the total number of training samples divided by batch size\n",
    "# here we have 3 epochs, 48 steps, 16 steps per epoch\n",
    "# epochs are best used when you want the model to see the dataset several times, \n",
    " #steps are best used for larger datasets to ensure updates"
   ]
  },
  {
   "cell_type": "code",
   "execution_count": 21,
   "id": "da0ce953-5dce-438d-ac63-d9a248c114c1",
   "metadata": {},
   "outputs": [],
   "source": [
    "# A trainer needs to be passed a function from the Evaluate library (specifically the accuracy function) to compute and report metrics\n",
    "metric=evaluate.load(\"accuracy\")"
   ]
  },
  {
   "cell_type": "code",
   "execution_count": 84,
   "id": "e7972cfb-53d3-4779-8aec-48793be8fc17",
   "metadata": {},
   "outputs": [],
   "source": [
    "# the compute_metrics method will calculate prediction accuracy\n",
    "comp_metrics_output=[]\n",
    "def compute_metrics(eval_pred):\n",
    "    logits=eval_pred.predictions\n",
    "    predictions = np.argmax(logits, axis=-1)\n",
    "    comp_metrics_output.append(metric.compute(predictions=predictions))\n",
    "    return metric.compute(predictions=predictions)\n",
    "    \n",
    "    # this lets us convert logits (returned by models) into predictions\n",
    "    # np.argmax returns the indices of the maximum values along the axis of an array\n",
    "    # axis=-1 means it looks at the last axis in the array\n",
    "    # metric.compute gathers all cached predictions and references to compute the metric scor"
   ]
  },
  {
   "cell_type": "code",
   "execution_count": 23,
   "id": "3d672ac9-313b-4a3d-97f1-ef193f3f897b",
   "metadata": {},
   "outputs": [],
   "source": [
    "# to fine-tune with LoRA, instantiate a base model (as above)\n",
    "# create LoraConfig where LoRA-specific parameters are defined\n",
    "config=LoraConfig(\n",
    "    #inference_mode=False,\n",
    "    r=8, #rank of update matrices, lower value results in smaller matrices with fewer parameters\n",
    "    lora_alpha=16, #LoRA scaling factor\n",
    "    task_type=\"CAUSAL_LM\",\n",
    "    lora_dropout=0.1, # dropout probability of LoRA layers\n",
    "    bias=\"none\", # specifies if bias parameters should be trained\n",
    "    #modules_to_save=[\"decode_head\"] #models apart from LoRA layers that are trainable\n",
    ")"
   ]
  },
  {
   "cell_type": "code",
   "execution_count": 61,
   "id": "e488d1e1-3db8-41a5-8237-396a8f564757",
   "metadata": {},
   "outputs": [],
   "source": [
    "# the trainer object specifies the model, training arguments, training and test datasets, and evaluation function\n",
    "def make_trainer(m_model, train_data, test_data, args):\n",
    "    trainer=SFTTrainer(\n",
    "        model=m_model,\n",
    "        train_dataset=train_data,\n",
    "        eval_dataset=test_data,\n",
    "        peft_config=config,\n",
    "        args=args,\n",
    "        compute_metrics=compute_metrics,\n",
    "    )\n",
    "    return trainer\n",
    "    \n",
    "# SFTTrainer is best used for training with a pre-trained model and a smaller dataset\n",
    "# It can be better suited for fine-tuning than regular Trainer\n"
   ]
  },
  {
   "cell_type": "code",
   "execution_count": 68,
   "id": "50fea75b-ad80-4c7f-ad85-b7310cc8a2b9",
   "metadata": {},
   "outputs": [
    {
     "name": "stdout",
     "output_type": "stream",
     "text": [
      "trainable params: 3407872 || all params: 7245139968 || trainable%: 0.05\n"
     ]
    }
   ],
   "source": [
    "mis_lora_model=get_peft_model(mistral, config)\n",
    "print_trainable_parameters(mis_lora_model)"
   ]
  },
  {
   "cell_type": "code",
   "execution_count": 69,
   "id": "a7401940-b03e-4f74-8cb0-76f86538ae20",
   "metadata": {},
   "outputs": [],
   "source": [
    "m_trainer = make_trainer(mis_lora_model, m_tokenized_stage1_train, m_tokenized_stage1_test,\n",
    "                          SFTConfig(output_dir=\"test_trainer\", logging_strategy=\"steps\",\n",
    "                   logging_steps=2))\n",
    "\n",
    "# Using the SFTConfig default values provides us with...\n",
    "# num_train_epochs = 3.0\n",
    "# eval_strategy: typing.Union[transformers.trainer_utils.IntervalStrategy, str] = 'no'\n",
    "# per_device_train_batch_size = 8\n",
    "# learning_rate = 2e-5\n",
    "# gradient_checkpointing=False"
   ]
  },
  {
   "cell_type": "code",
   "execution_count": 45,
   "id": "f87d2671-98ce-478f-9df4-400cfe9c45be",
   "metadata": {},
   "outputs": [],
   "source": [
    "m2_trainer = make_trainer(mis_lora_model, m_tokenized_stage1_train, m_tokenized_stage1_test, training_args)"
   ]
  },
  {
   "cell_type": "code",
   "execution_count": 70,
   "id": "783e9fa6-7f0f-451e-b39c-4cfe872da86e",
   "metadata": {},
   "outputs": [
    {
     "name": "stderr",
     "output_type": "stream",
     "text": [
      "/home/ac.cdavies/.vnv/lib/python3.12/site-packages/torch/nn/parallel/_functions.py:70: UserWarning: Was asked to gather along dimension 0, but all input tensors were scalars; will instead unsqueeze and return a vector.\n",
      "  warnings.warn(\n"
     ]
    },
    {
     "data": {
      "text/html": [
       "\n",
       "    <div>\n",
       "      \n",
       "      <progress value='48' max='48' style='width:300px; height:20px; vertical-align: middle;'></progress>\n",
       "      [48/48 15:53, Epoch 3/3]\n",
       "    </div>\n",
       "    <table border=\"1\" class=\"dataframe\">\n",
       "  <thead>\n",
       " <tr style=\"text-align: left;\">\n",
       "      <th>Step</th>\n",
       "      <th>Training Loss</th>\n",
       "    </tr>\n",
       "  </thead>\n",
       "  <tbody>\n",
       "    <tr>\n",
       "      <td>2</td>\n",
       "      <td>0.653300</td>\n",
       "    </tr>\n",
       "    <tr>\n",
       "      <td>4</td>\n",
       "      <td>0.651800</td>\n",
       "    </tr>\n",
       "    <tr>\n",
       "      <td>6</td>\n",
       "      <td>0.643600</td>\n",
       "    </tr>\n",
       "    <tr>\n",
       "      <td>8</td>\n",
       "      <td>0.634500</td>\n",
       "    </tr>\n",
       "    <tr>\n",
       "      <td>10</td>\n",
       "      <td>0.647000</td>\n",
       "    </tr>\n",
       "    <tr>\n",
       "      <td>12</td>\n",
       "      <td>0.643900</td>\n",
       "    </tr>\n",
       "    <tr>\n",
       "      <td>14</td>\n",
       "      <td>0.637600</td>\n",
       "    </tr>\n",
       "    <tr>\n",
       "      <td>16</td>\n",
       "      <td>0.623600</td>\n",
       "    </tr>\n",
       "    <tr>\n",
       "      <td>18</td>\n",
       "      <td>0.622600</td>\n",
       "    </tr>\n",
       "    <tr>\n",
       "      <td>20</td>\n",
       "      <td>0.624700</td>\n",
       "    </tr>\n",
       "    <tr>\n",
       "      <td>22</td>\n",
       "      <td>0.623700</td>\n",
       "    </tr>\n",
       "    <tr>\n",
       "      <td>24</td>\n",
       "      <td>0.631500</td>\n",
       "    </tr>\n",
       "    <tr>\n",
       "      <td>26</td>\n",
       "      <td>0.624400</td>\n",
       "    </tr>\n",
       "    <tr>\n",
       "      <td>28</td>\n",
       "      <td>0.615600</td>\n",
       "    </tr>\n",
       "    <tr>\n",
       "      <td>30</td>\n",
       "      <td>0.635200</td>\n",
       "    </tr>\n",
       "    <tr>\n",
       "      <td>32</td>\n",
       "      <td>0.623000</td>\n",
       "    </tr>\n",
       "    <tr>\n",
       "      <td>34</td>\n",
       "      <td>0.618000</td>\n",
       "    </tr>\n",
       "    <tr>\n",
       "      <td>36</td>\n",
       "      <td>0.620600</td>\n",
       "    </tr>\n",
       "    <tr>\n",
       "      <td>38</td>\n",
       "      <td>0.617700</td>\n",
       "    </tr>\n",
       "    <tr>\n",
       "      <td>40</td>\n",
       "      <td>0.621300</td>\n",
       "    </tr>\n",
       "    <tr>\n",
       "      <td>42</td>\n",
       "      <td>0.623100</td>\n",
       "    </tr>\n",
       "    <tr>\n",
       "      <td>44</td>\n",
       "      <td>0.617200</td>\n",
       "    </tr>\n",
       "    <tr>\n",
       "      <td>46</td>\n",
       "      <td>0.624200</td>\n",
       "    </tr>\n",
       "    <tr>\n",
       "      <td>48</td>\n",
       "      <td>0.619100</td>\n",
       "    </tr>\n",
       "  </tbody>\n",
       "</table><p>"
      ],
      "text/plain": [
       "<IPython.core.display.HTML object>"
      ]
     },
     "metadata": {},
     "output_type": "display_data"
    },
    {
     "data": {
      "text/plain": [
       "TrainOutput(global_step=48, training_loss=0.629049522181352, metrics={'train_runtime': 973.548, 'train_samples_per_second': 1.541, 'train_steps_per_second': 0.049, 'total_flos': 6.5563250393088e+16, 'train_loss': 0.629049522181352})"
      ]
     },
     "execution_count": 70,
     "metadata": {},
     "output_type": "execute_result"
    }
   ],
   "source": [
    "m_trainer.train()"
   ]
  },
  {
   "cell_type": "code",
   "execution_count": 71,
   "id": "f90ff309-12f7-4023-8bb6-67eec06a99a4",
   "metadata": {},
   "outputs": [
    {
     "name": "stderr",
     "output_type": "stream",
     "text": [
      "/home/ac.cdavies/.vnv/lib/python3.12/site-packages/torch/nn/parallel/_functions.py:70: UserWarning: Was asked to gather along dimension 0, but all input tensors were scalars; will instead unsqueeze and return a vector.\n",
      "  warnings.warn(\n"
     ]
    },
    {
     "data": {
      "text/html": [
       "\n",
       "    <div>\n",
       "      \n",
       "      <progress value='80' max='80' style='width:300px; height:20px; vertical-align: middle;'></progress>\n",
       "      [80/80 24:46, Epoch 5/5]\n",
       "    </div>\n",
       "    <table border=\"1\" class=\"dataframe\">\n",
       "  <thead>\n",
       " <tr style=\"text-align: left;\">\n",
       "      <th>Step</th>\n",
       "      <th>Training Loss</th>\n",
       "    </tr>\n",
       "  </thead>\n",
       "  <tbody>\n",
       "  </tbody>\n",
       "</table><p>"
      ],
      "text/plain": [
       "<IPython.core.display.HTML object>"
      ]
     },
     "metadata": {},
     "output_type": "display_data"
    },
    {
     "data": {
      "text/plain": [
       "TrainOutput(global_step=80, training_loss=0.6195927619934082, metrics={'train_runtime': 1505.7487, 'train_samples_per_second': 1.66, 'train_steps_per_second': 0.053, 'total_flos': 1.0927208398848e+17, 'train_loss': 0.6195927619934082})"
      ]
     },
     "execution_count": 71,
     "metadata": {},
     "output_type": "execute_result"
    }
   ],
   "source": [
    "m2_trainer.train() #this has a batch size of 8"
   ]
  },
  {
   "cell_type": "code",
   "execution_count": 72,
   "id": "718b27f0-ad0b-4069-804d-6ee3015feed4",
   "metadata": {},
   "outputs": [
    {
     "name": "stdout",
     "output_type": "stream",
     "text": [
      "trainable params: 851968 || all params: 1236666368 || trainable%: 0.07\n"
     ]
    },
    {
     "name": "stderr",
     "output_type": "stream",
     "text": [
      "/home/ac.cdavies/.vnv/lib/python3.12/site-packages/peft/mapping.py:185: UserWarning: The PEFT config's `base_model_name_or_path` was renamed from 'mistralai/Mistral-7B-Instruct-v0.1' to 'meta-llama/Llama-3.2-1B'. Please ensure that the correct base model is loaded when loading this checkpoint.\n",
      "  warnings.warn(\n"
     ]
    }
   ],
   "source": [
    "lla_lora_model=get_peft_model(lla_321, config)\n",
    "print_trainable_parameters(lla_lora_model)"
   ]
  },
  {
   "cell_type": "code",
   "execution_count": 88,
   "id": "4fdce47e-16ab-44ab-87a3-e0ec7a116f93",
   "metadata": {},
   "outputs": [],
   "source": [
    "l_trainer = SFTTrainer(\n",
    "    model=lla_lora_model,\n",
    "    train_dataset=l_tokenized_stage1_train,\n",
    "    eval_dataset=l_tokenized_stage1_test,\n",
    "    peft_config=config,\n",
    "    args=SFTConfig(output_dir=\"test_trainer\", \n",
    "                   #eval_strategy=\"steps\",\n",
    "                   logging_strategy=\"steps\",\n",
    "                   logging_steps=2, \n",
    "                  ),\n",
    "    #compute_metrics=compute_metrics\n",
    ")"
   ]
  },
  {
   "cell_type": "code",
   "execution_count": 58,
   "id": "7330407e-7179-40da-82b9-957936b3e62e",
   "metadata": {},
   "outputs": [],
   "source": [
    "l2_trainer = SFTTrainer(\n",
    "    model=lla_lora_model,\n",
    "    train_dataset=l_tokenized_stage1_train,\n",
    "    eval_dataset=l_tokenized_stage1_test,\n",
    "    peft_config=config,\n",
    "    args=training_args,\n",
    "    compute_metrics=compute_metrics\n",
    ")"
   ]
  },
  {
   "cell_type": "code",
   "execution_count": 89,
   "id": "1b31c740-4031-4877-814d-ef2f0abea032",
   "metadata": {},
   "outputs": [
    {
     "name": "stderr",
     "output_type": "stream",
     "text": [
      "/home/ac.cdavies/.vnv/lib/python3.12/site-packages/torch/nn/parallel/_functions.py:70: UserWarning: Was asked to gather along dimension 0, but all input tensors were scalars; will instead unsqueeze and return a vector.\n",
      "  warnings.warn(\n"
     ]
    },
    {
     "data": {
      "text/html": [
       "\n",
       "    <div>\n",
       "      \n",
       "      <progress value='48' max='48' style='width:300px; height:20px; vertical-align: middle;'></progress>\n",
       "      [48/48 01:47, Epoch 3/3]\n",
       "    </div>\n",
       "    <table border=\"1\" class=\"dataframe\">\n",
       "  <thead>\n",
       " <tr style=\"text-align: left;\">\n",
       "      <th>Step</th>\n",
       "      <th>Training Loss</th>\n",
       "    </tr>\n",
       "  </thead>\n",
       "  <tbody>\n",
       "    <tr>\n",
       "      <td>2</td>\n",
       "      <td>0.639400</td>\n",
       "    </tr>\n",
       "    <tr>\n",
       "      <td>4</td>\n",
       "      <td>0.648400</td>\n",
       "    </tr>\n",
       "    <tr>\n",
       "      <td>6</td>\n",
       "      <td>0.644600</td>\n",
       "    </tr>\n",
       "    <tr>\n",
       "      <td>8</td>\n",
       "      <td>0.638900</td>\n",
       "    </tr>\n",
       "    <tr>\n",
       "      <td>10</td>\n",
       "      <td>0.651000</td>\n",
       "    </tr>\n",
       "    <tr>\n",
       "      <td>12</td>\n",
       "      <td>0.650700</td>\n",
       "    </tr>\n",
       "    <tr>\n",
       "      <td>14</td>\n",
       "      <td>0.647500</td>\n",
       "    </tr>\n",
       "    <tr>\n",
       "      <td>16</td>\n",
       "      <td>0.640600</td>\n",
       "    </tr>\n",
       "    <tr>\n",
       "      <td>18</td>\n",
       "      <td>0.638700</td>\n",
       "    </tr>\n",
       "    <tr>\n",
       "      <td>20</td>\n",
       "      <td>0.646700</td>\n",
       "    </tr>\n",
       "    <tr>\n",
       "      <td>22</td>\n",
       "      <td>0.645100</td>\n",
       "    </tr>\n",
       "    <tr>\n",
       "      <td>24</td>\n",
       "      <td>0.645900</td>\n",
       "    </tr>\n",
       "    <tr>\n",
       "      <td>26</td>\n",
       "      <td>0.648900</td>\n",
       "    </tr>\n",
       "    <tr>\n",
       "      <td>28</td>\n",
       "      <td>0.639600</td>\n",
       "    </tr>\n",
       "    <tr>\n",
       "      <td>30</td>\n",
       "      <td>0.648900</td>\n",
       "    </tr>\n",
       "    <tr>\n",
       "      <td>32</td>\n",
       "      <td>0.642900</td>\n",
       "    </tr>\n",
       "    <tr>\n",
       "      <td>34</td>\n",
       "      <td>0.644200</td>\n",
       "    </tr>\n",
       "    <tr>\n",
       "      <td>36</td>\n",
       "      <td>0.645800</td>\n",
       "    </tr>\n",
       "    <tr>\n",
       "      <td>38</td>\n",
       "      <td>0.642400</td>\n",
       "    </tr>\n",
       "    <tr>\n",
       "      <td>40</td>\n",
       "      <td>0.638600</td>\n",
       "    </tr>\n",
       "    <tr>\n",
       "      <td>42</td>\n",
       "      <td>0.647700</td>\n",
       "    </tr>\n",
       "    <tr>\n",
       "      <td>44</td>\n",
       "      <td>0.644800</td>\n",
       "    </tr>\n",
       "    <tr>\n",
       "      <td>46</td>\n",
       "      <td>0.645500</td>\n",
       "    </tr>\n",
       "    <tr>\n",
       "      <td>48</td>\n",
       "      <td>0.647200</td>\n",
       "    </tr>\n",
       "  </tbody>\n",
       "</table><p>"
      ],
      "text/plain": [
       "<IPython.core.display.HTML object>"
      ]
     },
     "metadata": {},
     "output_type": "display_data"
    },
    {
     "data": {
      "text/plain": [
       "TrainOutput(global_step=48, training_loss=0.6447452753782272, metrics={'train_runtime': 110.1397, 'train_samples_per_second': 13.619, 'train_steps_per_second': 0.436, 'total_flos': 8976366305280000.0, 'train_loss': 0.6447452753782272})"
      ]
     },
     "execution_count": 89,
     "metadata": {},
     "output_type": "execute_result"
    }
   ],
   "source": [
    "l_trainer.train() #same arguments as m_trainer"
   ]
  },
  {
   "cell_type": "code",
   "execution_count": 284,
   "id": "b944850b-5eed-483b-ab3d-b08e31aeb274",
   "metadata": {},
   "outputs": [
    {
     "data": {
      "text/plain": [
       "[]"
      ]
     },
     "execution_count": 284,
     "metadata": {},
     "output_type": "execute_result"
    }
   ],
   "source": [
    "comp_metrics_output"
   ]
  },
  {
   "cell_type": "code",
   "execution_count": 274,
   "id": "d0034b04-3dd5-4eae-98f1-c288ad9f4490",
   "metadata": {},
   "outputs": [],
   "source": [
    "import pandas as pd"
   ]
  },
  {
   "cell_type": "code",
   "execution_count": 280,
   "id": "df6faacc-87be-4e8a-8a20-9d783c0c595c",
   "metadata": {},
   "outputs": [
    {
     "data": {
      "text/plain": [
       "<Axes: >"
      ]
     },
     "execution_count": 280,
     "metadata": {},
     "output_type": "execute_result"
    },
    {
     "data": {
      "image/png": "[encoded data removed]",
      "text/plain": [
       "<Figure size 640x480 with 1 Axes>"
      ]
     },
     "metadata": {},
     "output_type": "display_data"
    }
   ],
   "source": [
    "df_data=[[float(val) for val in line.split(\"\\t\")] for line in \"\"\"\n",
    "1 \t0.627300\n",
    "2 \t0.634200\n",
    "3 \t0.642600\n",
    "4 \t0.638500\n",
    "5 \t0.634800\n",
    "6 \t0.638800\n",
    "7 \t0.625000\n",
    "8 \t0.636100\n",
    "9 \t0.638100\n",
    "10 \t0.648400\n",
    "11 \t0.638600\n",
    "12 \t0.646700\n",
    "13 \t0.638600\n",
    "14 \t0.640600\n",
    "15 \t0.633600\n",
    "16 \t0.632200\n",
    "17 \t0.620800\n",
    "18 \t0.640700\n",
    "19 \t0.645200\n",
    "20 \t0.633100\n",
    "21 \t0.644600\n",
    "22 \t0.630600\n",
    "23 \t0.639300\n",
    "24 \t0.637400\n",
    "25 \t0.646500\n",
    "26 \t0.636400\n",
    "27 \t0.636900\n",
    "28 \t0.627700\n",
    "29 \t0.641600\n",
    "30 \t0.641900\n",
    "31 \t0.637200\n",
    "32 \t0.632900\n",
    "33 \t0.635300\n",
    "34 \t0.638200\n",
    "35 \t0.641000\n",
    "36 \t0.636400\n",
    "37 \t0.629400\n",
    "38 \t0.641100\n",
    "39 \t0.626500\n",
    "40 \t0.635800\n",
    "41 \t0.640500\n",
    "42 \t0.640500\n",
    "43 \t0.643200\n",
    "44 \t0.630600\n",
    "45 \t0.640100\n",
    "46 \t0.636500\n",
    "47 \t0.637000\n",
    "48 \t0.643500\n",
    "\"\"\".split(\"\\n\")[1:-1]]\n",
    "df=pd.DataFrame(df_data)\n",
    "\n",
    "df.plot()"
   ]
  },
  {
   "cell_type": "code",
   "execution_count": 78,
   "id": "55bf1dc5-1841-4c82-ab3e-b76313586d62",
   "metadata": {},
   "outputs": [
    {
     "name": "stderr",
     "output_type": "stream",
     "text": [
      "/home/ac.cdavies/.vnv/lib/python3.12/site-packages/torch/nn/parallel/_functions.py:70: UserWarning: Was asked to gather along dimension 0, but all input tensors were scalars; will instead unsqueeze and return a vector.\n",
      "  warnings.warn(\n"
     ]
    },
    {
     "data": {
      "text/html": [
       "\n",
       "    <div>\n",
       "      \n",
       "      <progress value='80' max='80' style='width:300px; height:20px; vertical-align: middle;'></progress>\n",
       "      [80/80 02:59, Epoch 5/5]\n",
       "    </div>\n",
       "    <table border=\"1\" class=\"dataframe\">\n",
       "  <thead>\n",
       " <tr style=\"text-align: left;\">\n",
       "      <th>Step</th>\n",
       "      <th>Training Loss</th>\n",
       "    </tr>\n",
       "  </thead>\n",
       "  <tbody>\n",
       "  </tbody>\n",
       "</table><p>"
      ],
      "text/plain": [
       "<IPython.core.display.HTML object>"
      ]
     },
     "metadata": {},
     "output_type": "display_data"
    },
    {
     "data": {
      "text/plain": [
       "TrainOutput(global_step=80, training_loss=0.646525526046753, metrics={'train_runtime': 182.6294, 'train_samples_per_second': 13.689, 'train_steps_per_second': 0.438, 'total_flos': 1.49606105088e+16, 'train_loss': 0.646525526046753})"
      ]
     },
     "execution_count": 78,
     "metadata": {},
     "output_type": "execute_result"
    }
   ],
   "source": [
    "l2_trainer.train()"
   ]
  },
  {
   "cell_type": "code",
   "execution_count": 226,
   "id": "55934df8-c2bb-471e-bc27-d96abcda6298",
   "metadata": {},
   "outputs": [
    {
     "name": "stderr",
     "output_type": "stream",
     "text": [
      "Map: 100%|█████████████████████████████████████████████████████████████████████████████████████████| 500/500 [00:22<00:00, 22.35 examples/s]\n"
     ]
    }
   ],
   "source": [
    "# try a different version of llama3, see how this impacts performance\n",
    "l2_tokenized_stage1_train=map_data(ds_gst1_train, lla_323, lla_323_tokenizer)\n",
    "l2_tokenized_stage1_test=map_data(ds_gst1_test, lla_323, lla_323_tokenizer)"
   ]
  },
  {
   "cell_type": "code",
   "execution_count": 231,
   "id": "13b7520c-6604-40b9-acfc-82de0c81c4b7",
   "metadata": {},
   "outputs": [
    {
     "name": "stdout",
     "output_type": "stream",
     "text": [
      "trainable params: 2293760 || all params: 3215043584 || trainable%: 0.07\n"
     ]
    }
   ],
   "source": [
    "ll2_lora_model=get_peft_model(lla_323, config)\n",
    "print_trainable_parameters(ll2_lora_model)"
   ]
  },
  {
   "cell_type": "code",
   "execution_count": 234,
   "id": "b2cf834b-d1c1-4853-b9a7-d9c360462242",
   "metadata": {},
   "outputs": [
    {
     "name": "stderr",
     "output_type": "stream",
     "text": [
      "/home/ac.cdavies/.vnv/lib/python3.12/site-packages/torch/nn/parallel/_functions.py:70: UserWarning: Was asked to gather along dimension 0, but all input tensors were scalars; will instead unsqueeze and return a vector.\n",
      "  warnings.warn(\n"
     ]
    },
    {
     "data": {
      "text/html": [
       "\n",
       "    <div>\n",
       "      \n",
       "      <progress value='48' max='48' style='width:300px; height:20px; vertical-align: middle;'></progress>\n",
       "      [48/48 05:56, Epoch 3/3]\n",
       "    </div>\n",
       "    <table border=\"1\" class=\"dataframe\">\n",
       "  <thead>\n",
       " <tr style=\"text-align: left;\">\n",
       "      <th>Step</th>\n",
       "      <th>Training Loss</th>\n",
       "    </tr>\n",
       "  </thead>\n",
       "  <tbody>\n",
       "  </tbody>\n",
       "</table><p>"
      ],
      "text/plain": [
       "<IPython.core.display.HTML object>"
      ]
     },
     "metadata": {},
     "output_type": "display_data"
    },
    {
     "data": {
      "text/plain": [
       "TrainOutput(global_step=48, training_loss=0.6386211315790812, metrics={'train_runtime': 364.8795, 'train_samples_per_second': 4.111, 'train_steps_per_second': 0.132, 'total_flos': 2.5998715256832e+16, 'train_loss': 0.6386211315790812})"
      ]
     },
     "execution_count": 234,
     "metadata": {},
     "output_type": "execute_result"
    }
   ],
   "source": [
    "l23_trainer = SFTTrainer(\n",
    "    model=ll2_lora_model,\n",
    "    train_dataset=l2_tokenized_stage1_train,\n",
    "    eval_dataset=l2_tokenized_stage1_test,\n",
    "    peft_config=config,\n",
    "    args=training_args,\n",
    "    compute_metrics=compute_metrics\n",
    ")\n",
    "l23_trainer.train()"
   ]
  },
  {
   "cell_type": "code",
   "execution_count": null,
   "id": "ed0a0549-f722-427d-8661-79370ca9e6a5",
   "metadata": {},
   "outputs": [],
   "source": []
  }
 ],
 "metadata": {
  "kernelspec": {
   "display_name": "Python 3 (ipykernel)",
   "language": "python",
   "name": "python3"
  },
  "language_info": {
   "codemirror_mode": {
    "name": "ipython",
    "version": 3
   },
   "file_extension": ".py",
   "mimetype": "text/x-python",
   "name": "python",
   "nbconvert_exporter": "python",
   "pygments_lexer": "ipython3",
   "version": "3.12.8"
  }
 },
 "nbformat": 4,
 "nbformat_minor": 5
}
