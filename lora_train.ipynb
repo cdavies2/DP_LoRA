{
 "cells": [
  {
   "cell_type": "code",
   "execution_count": 88,
   "id": "1fe90fbe-0328-4f82-9315-c7e1db3c62b9",
   "metadata": {},
   "outputs": [],
   "source": [
    "import accelerate\n",
    "import datasets\n",
    "from datasets import(\n",
    "load_dataset, \n",
    "load_dataset_builder,\n",
    "get_dataset_split_names,\n",
    "get_dataset_config_names)\n",
    "import evaluate\n",
    "import peft\n",
    "import transformers\n",
    "from transformers import(\n",
    "AutoModelForSequenceClassification,\n",
    "AutoTokenizer)\n",
    "# allows fast processing of datasets"
   ]
  },
  {
   "cell_type": "code",
   "execution_count": 33,
   "id": "d9742c2e-2332-42df-bddd-489ec0ea8c55",
   "metadata": {},
   "outputs": [
    {
     "name": "stdout",
     "output_type": "stream",
     "text": [
      "{'record': Value(dtype='string', id=None), 'text': Value(dtype='string', id=None)}\n",
      "{'text': Value(dtype='string', id=None)}\n",
      "{'text': Value(dtype='string', id=None)}\n"
     ]
    }
   ],
   "source": [
    "ds_builder1=load_dataset_builder(\"LongSafari/open-genome\", \"stage1\")\n",
    "print(ds_builder1.info.features)\n",
    "ds_builder2=load_dataset_builder(\"LongSafari/open-genome\", \"stage2\")\n",
    "print(ds_builder2.info.features)\n",
    "ds_builder3=load_dataset_builder(\"LongSafari/open-genome\", \"sample\")\n",
    "print(ds_builder3.info.features)"
   ]
  },
  {
   "cell_type": "code",
   "execution_count": 66,
   "id": "c79b1ed5-9a03-458d-bf3f-c7cb6fd27cde",
   "metadata": {},
   "outputs": [],
   "source": [
    "#this is how you load a dataset from the Hugging Face Hub\n",
    "# the movie review data is for testing purposes\n",
    "ds = load_dataset(\"cornell-movie-review-data/rotten_tomatoes\", split=\"train\")"
   ]
  },
  {
   "cell_type": "code",
   "execution_count": 82,
   "id": "7f0e3910-fee0-4b90-b00d-7a12206bf53d",
   "metadata": {},
   "outputs": [
    {
     "data": {
      "text/plain": [
       "['validation']"
      ]
     },
     "execution_count": 82,
     "metadata": {},
     "output_type": "execute_result"
    }
   ],
   "source": [
    "ds_gs=load_dataset(\"LongSafari/open-genome\", \"sample\")\n",
    "get_dataset_split_names(\"LongSafari/open-genome\", \"sample\")"
   ]
  },
  {
   "cell_type": "code",
   "execution_count": 39,
   "id": "d244e144-31b5-4d0e-ba98-3474fbba8183",
   "metadata": {},
   "outputs": [
    {
     "name": "stdout",
     "output_type": "stream",
     "text": [
      "['train', 'validation', 'test']\n",
      "['train', 'validation', 'test']\n"
     ]
    }
   ],
   "source": [
    "ds_gst1=load_dataset(\"LongSafari/open-genome\", \"stage1\", split=\"train[:50]\")\n",
    "print(get_dataset_split_names(\"LongSafari/open-genome\", \"stage1\"))\n",
    "ds_gst2=load_dataset(\"LongSafari/open-genome\", \"stage2\", split=\"train[:50]\")\n",
    "print(get_dataset_split_names(\"LongSafari/open-genome\", \"stage2\"))"
   ]
  },
  {
   "cell_type": "code",
   "execution_count": 63,
   "id": "a3dfef8b-927f-4e5b-b67c-c9f6f2bd7c30",
   "metadata": {},
   "outputs": [
    {
     "data": {
      "text/plain": [
       "['train', 'validation', 'test']"
      ]
     },
     "execution_count": 63,
     "metadata": {},
     "output_type": "execute_result"
    }
   ],
   "source": [
    "# this is used to obtain a dataset's split names\n",
    "get_dataset_split_names(\"cornell-movie-review-data/rotten_tomatoes\")"
   ]
  },
  {
   "cell_type": "code",
   "execution_count": 29,
   "id": "e2c10a2c-28db-498a-b1ec-65db8ec419fb",
   "metadata": {},
   "outputs": [
    {
     "name": "stdout",
     "output_type": "stream",
     "text": [
      "['default']\n"
     ]
    }
   ],
   "source": [
    "configs=get_dataset_config_names(\"cornell-movie-review-data/rotten_tomatoes\")\n",
    "print(configs)\n",
    "# returns all configs available to this dataset"
   ]
  },
  {
   "cell_type": "code",
   "execution_count": 42,
   "id": "d0ee0cae-aed3-4b31-81d4-22873e4685f5",
   "metadata": {},
   "outputs": [],
   "source": [
    "# tokenizers process text and add padding/perform truncation for variables of inconsistent length\n",
    "tokenizer_l = AutoTokenizer.from_pretrained(\"meta-llama/Llama-3.3-70B-Instruct\")"
   ]
  },
  {
   "cell_type": "code",
   "execution_count": 45,
   "id": "793779f5-6013-4377-989a-662d4870fe4a",
   "metadata": {},
   "outputs": [],
   "source": [
    "tokenizer_m = AutoTokenizer.from_pretrained(\"mistralai/Mistral-7B-Instruct-v0.1\")"
   ]
  },
  {
   "cell_type": "code",
   "execution_count": 68,
   "id": "a7f8fa27-8551-40a0-8296-9969e5b0241a",
   "metadata": {},
   "outputs": [],
   "source": [
    "def tokenize_l_function(examples):\n",
    "    return tokenizer_l(examples[\"text\"], padding=\"max_length\", truncation=True)\n",
    "# map applies preprocessing across a dataset\n",
    "llama_tokenized_datasets=ds.map(tokenize_l_function, batched=True)"
   ]
  },
  {
   "cell_type": "code",
   "execution_count": 53,
   "id": "764f44e8-a90e-4a29-a80e-d496b544a1ea",
   "metadata": {},
   "outputs": [
    {
     "name": "stderr",
     "output_type": "stream",
     "text": [
      "Map: 100%|████████████| 8530/8530 [00:00<00:00, 22049.31 examples/s]\n"
     ]
    }
   ],
   "source": [
    "def tokenize_m_function(examples):\n",
    "    return tokenizer_m(examples[\"text\"], padding=\"max_length\", truncation=True)\n",
    "\n",
    "mistral_tokenized_datasets=ds.map(tokenize_m_function, batched=True)"
   ]
  },
  {
   "cell_type": "code",
   "execution_count": 75,
   "id": "38bb69f7-a22a-4bc7-afe7-d79ccd765dcd",
   "metadata": {},
   "outputs": [],
   "source": [
    "# perform preprocessing on the genomic data\n",
    "def map_data(data, model):\n",
    "    if model==\"llama\":\n",
    "        tokenized_dataset=data.map(tokenize_l_function, batched=True)\n",
    "    elif model==\"mistral\":\n",
    "        tokenized_dataset=data.map(tokenize_m_function, batched=True)\n",
    "    return tokenized_dataset"
   ]
  },
  {
   "cell_type": "code",
   "execution_count": 79,
   "id": "e3aa5a67-3ac6-4916-b1cc-5d5c4ff8e80d",
   "metadata": {},
   "outputs": [],
   "source": [
    "l_tokenized_genome_samples=ds_gs.map(tokenize_l_function, batched=True)\n",
    "m_tokenized_genome_samples=ds_gs.map(tokenize_m_function, batched=True)"
   ]
  },
  {
   "cell_type": "code",
   "execution_count": 84,
   "id": "96fb3c22-fd21-4039-a8d6-6cca3cf151c1",
   "metadata": {},
   "outputs": [],
   "source": [
    "l_tokenized_genome_stage1=map_data(ds_gst1, \"llama\")\n",
    "l_tokenized_genome_stage2=map_data(ds_gst2, \"llama\")"
   ]
  },
  {
   "cell_type": "code",
   "execution_count": 85,
   "id": "ba3ddcae-64f8-4dd7-a14a-e67deb0d3b6f",
   "metadata": {},
   "outputs": [
    {
     "name": "stderr",
     "output_type": "stream",
     "text": [
      "Map: 100%|███████████████████| 50/50 [00:09<00:00,  5.45 examples/s]\n",
      "Map: 100%|██████████████████| 50/50 [00:00<00:00, 237.50 examples/s]\n"
     ]
    }
   ],
   "source": [
    "m_tokenized_genome_stage1=map_data(ds_gst1, \"mistral\")\n",
    "m_tokenized_genome_stage2=map_data(ds_gst2, \"mistral\")"
   ]
  },
  {
   "cell_type": "code",
   "execution_count": 71,
   "id": "75269071-ebb8-4b6c-aebf-a811cee98805",
   "metadata": {},
   "outputs": [
    {
     "data": {
      "text/plain": [
       "DatasetDict({\n",
       "    train: Dataset({\n",
       "        features: ['text', 'label', 'input_ids', 'attention_mask'],\n",
       "        num_rows: 7677\n",
       "    })\n",
       "    test: Dataset({\n",
       "        features: ['text', 'label', 'input_ids', 'attention_mask'],\n",
       "        num_rows: 853\n",
       "    })\n",
       "})"
      ]
     },
     "execution_count": 71,
     "metadata": {},
     "output_type": "execute_result"
    }
   ],
   "source": [
    "# let's create smaller subsets of training datasets to fine-tune\n",
    "# use train_test_split\n",
    "llama_tokenized_datasets.train_test_split(test_size=0.1)"
   ]
  },
  {
   "cell_type": "code",
   "execution_count": 73,
   "id": "3bb75a25-c43f-4dcb-bfb0-9db9955f0cde",
   "metadata": {},
   "outputs": [
    {
     "data": {
      "text/plain": [
       "DatasetDict({\n",
       "    train: Dataset({\n",
       "        features: ['text', 'label', 'input_ids', 'attention_mask'],\n",
       "        num_rows: 7677\n",
       "    })\n",
       "    test: Dataset({\n",
       "        features: ['text', 'label', 'input_ids', 'attention_mask'],\n",
       "        num_rows: 853\n",
       "    })\n",
       "})"
      ]
     },
     "execution_count": 73,
     "metadata": {},
     "output_type": "execute_result"
    }
   ],
   "source": [
    "mistral_tokenized_datasets.train_test_split(test_size=0.1)"
   ]
  },
  {
   "cell_type": "code",
   "execution_count": 86,
   "id": "987e9342-eebf-45b4-b8cf-d2c8480d94f4",
   "metadata": {},
   "outputs": [
    {
     "data": {
      "text/plain": [
       "DatasetDict({\n",
       "    train: Dataset({\n",
       "        features: ['record', 'text', 'input_ids', 'attention_mask'],\n",
       "        num_rows: 45\n",
       "    })\n",
       "    test: Dataset({\n",
       "        features: ['record', 'text', 'input_ids', 'attention_mask'],\n",
       "        num_rows: 5\n",
       "    })\n",
       "})"
      ]
     },
     "execution_count": 86,
     "metadata": {},
     "output_type": "execute_result"
    }
   ],
   "source": [
    "l_tokenized_genome_stage1.train_test_split(test_size=0.1)\n",
    "m_tokenized_genome_stage1.train_test_split(test_size=0.1)"
   ]
  },
  {
   "cell_type": "code",
   "execution_count": 87,
   "id": "4312c3d3-648b-408a-890a-aed65c956a4e",
   "metadata": {},
   "outputs": [
    {
     "data": {
      "text/plain": [
       "DatasetDict({\n",
       "    train: Dataset({\n",
       "        features: ['text', 'input_ids', 'attention_mask'],\n",
       "        num_rows: 45\n",
       "    })\n",
       "    test: Dataset({\n",
       "        features: ['text', 'input_ids', 'attention_mask'],\n",
       "        num_rows: 5\n",
       "    })\n",
       "})"
      ]
     },
     "execution_count": 87,
     "metadata": {},
     "output_type": "execute_result"
    }
   ],
   "source": [
    "l_tokenized_genome_stage2.train_test_split(test_size=0.1)\n",
    "m_tokenized_genome_stage2.train_test_split(test_size=0.1)"
   ]
  },
  {
   "cell_type": "code",
   "execution_count": 89,
   "id": "319e9a2e-06b5-4611-95b1-b6bc1c951920",
   "metadata": {},
   "outputs": [
    {
     "name": "stderr",
     "output_type": "stream",
     "text": [
      "Loading checkpoint shards: 100%|████| 30/30 [00:22<00:00,  1.33it/s]\n",
      "Some weights of LlamaForSequenceClassification were not initialized from the model checkpoint at meta-llama/Llama-3.3-70B-Instruct and are newly initialized: ['score.weight']\n",
      "You should probably TRAIN this model on a down-stream task to be able to use it for predictions and inference.\n"
     ]
    }
   ],
   "source": [
    "# use textclassification methods from transformers\n",
    "lla_model=AutoModelForSequenceClassification.from_pretrained(\"meta-llama/Llama-3.3-70B-Instruct\", num_labels=3, torch_dtype=\"auto\")"
   ]
  },
  {
   "cell_type": "code",
   "execution_count": 90,
   "id": "007e172f-997a-4cb5-b11e-485b3f0caa5a",
   "metadata": {},
   "outputs": [
    {
     "name": "stderr",
     "output_type": "stream",
     "text": [
      "Loading checkpoint shards: 100%|██████| 2/2 [00:03<00:00,  1.79s/it]\n",
      "Some weights of MistralForSequenceClassification were not initialized from the model checkpoint at mistralai/Mistral-7B-Instruct-v0.1 and are newly initialized: ['score.weight']\n",
      "You should probably TRAIN this model on a down-stream task to be able to use it for predictions and inference.\n"
     ]
    }
   ],
   "source": [
    "mis_model=AutoModelForSequenceClassification.from_pretrained(\"mistralai/Mistral-7B-Instruct-v0.1\", num_labels=3, torch_dtype=\"auto\")"
   ]
  },
  {
   "cell_type": "code",
   "execution_count": null,
   "id": "1b2a1c8e-1d22-40a6-a0b1-376dbf99ef7a",
   "metadata": {},
   "outputs": [],
   "source": [
    "# small_train_dataset_l=llama_tokenized_datasets[\"input_ids\"].shuffle(seed=42).select(range(500))\n",
    "# small_test_dataset_l=llama_tokenized_datasets[\"attention_mask\"].shuffle(seed=42).select(range(500))\n",
    "# shuffle() randomly rearranges the column values and creates an indices mapping\n",
    "# select() returns rows according to indices\n",
    "# shuffling can make your program run significantly slower\n",
    "# maybe in a second iteration switch to an IterableDataset, as IterableDataset.shuffle() is faster"
   ]
  },
  {
   "cell_type": "code",
   "execution_count": null,
   "id": "3f964f8e-ba12-4359-bd97-263cadf82be9",
   "metadata": {},
   "outputs": [],
   "source": []
  }
 ],
 "metadata": {
  "kernelspec": {
   "display_name": "Python 3 (ipykernel)",
   "language": "python",
   "name": "python3"
  },
  "language_info": {
   "codemirror_mode": {
    "name": "ipython",
    "version": 3
   },
   "file_extension": ".py",
   "mimetype": "text/x-python",
   "name": "python",
   "nbconvert_exporter": "python",
   "pygments_lexer": "ipython3",
   "version": "3.12.8"
  }
 },
 "nbformat": 4,
 "nbformat_minor": 5
}
