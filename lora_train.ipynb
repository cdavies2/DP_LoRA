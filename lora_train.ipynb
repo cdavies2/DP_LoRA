{
 "cells": [
  {
   "cell_type": "code",
   "execution_count": 47,
   "id": "1fe90fbe-0328-4f82-9315-c7e1db3c62b9",
   "metadata": {},
   "outputs": [],
   "source": [
    "import accelerate\n",
    "import datasets\n",
    "import evaluate\n",
    "import numpy as np\n",
    "import peft\n",
    "import pickle\n",
    "import transformers\n",
    "\n",
    "from datasets import(\n",
    "    load_dataset, \n",
    "    load_dataset_builder,\n",
    "    get_dataset_split_names,\n",
    "    get_dataset_config_names,\n",
    ")\n",
    "\n",
    "\n",
    "from peft import(\n",
    "    LoftQConfig,\n",
    "    LoraConfig,\n",
    "    get_peft_model,\n",
    ")\n",
    "\n",
    "from transformers import(\n",
    "AutoModelForCausalLM,\n",
    "AutoTokenizer,\n",
    "TrainingArguments,\n",
    "Trainer)\n",
    "# allows fast processing of datasets"
   ]
  },
  {
   "cell_type": "code",
   "execution_count": 4,
   "id": "d9742c2e-2332-42df-bddd-489ec0ea8c55",
   "metadata": {},
   "outputs": [
    {
     "name": "stdout",
     "output_type": "stream",
     "text": [
      "{'record': Value(dtype='string', id=None), 'text': Value(dtype='string', id=None)}\n",
      "{'text': Value(dtype='string', id=None)}\n",
      "{'text': Value(dtype='string', id=None)}\n"
     ]
    }
   ],
   "source": [
    "ds_builder1=load_dataset_builder(\"LongSafari/open-genome\", \"stage1\")\n",
    "print(ds_builder1.info.features)\n",
    "ds_builder2=load_dataset_builder(\"LongSafari/open-genome\", \"stage2\")\n",
    "print(ds_builder2.info.features)\n",
    "ds_builder3=load_dataset_builder(\"LongSafari/open-genome\", \"sample\")\n",
    "print(ds_builder3.info.features)"
   ]
  },
  {
   "cell_type": "code",
   "execution_count": 5,
   "id": "7f0e3910-fee0-4b90-b00d-7a12206bf53d",
   "metadata": {},
   "outputs": [
    {
     "data": {
      "text/plain": [
       "['validation']"
      ]
     },
     "execution_count": 5,
     "metadata": {},
     "output_type": "execute_result"
    }
   ],
   "source": [
    "ds_gs=load_dataset(\"LongSafari/open-genome\", \"sample\")\n",
    "get_dataset_split_names(\"LongSafari/open-genome\", \"sample\")"
   ]
  },
  {
   "cell_type": "code",
   "execution_count": 71,
   "id": "d244e144-31b5-4d0e-ba98-3474fbba8183",
   "metadata": {},
   "outputs": [
    {
     "name": "stdout",
     "output_type": "stream",
     "text": [
      "['train', 'validation', 'test']\n",
      "['train', 'validation', 'test']\n"
     ]
    }
   ],
   "source": [
    "ds_gst1=load_dataset(\"LongSafari/open-genome\", \"stage1\")\n",
    "#print(ds_gst1[50])\n",
    "print(get_dataset_split_names(\"LongSafari/open-genome\", \"stage1\"))\n",
    "ds_gst2=load_dataset(\"LongSafari/open-genome\", \"stage2\")\n",
    "print(get_dataset_split_names(\"LongSafari/open-genome\", \"stage2\"))"
   ]
  },
  {
   "cell_type": "code",
   "execution_count": 8,
   "id": "1316f085-affd-41f5-ae2b-e12a09b56cfd",
   "metadata": {},
   "outputs": [],
   "source": [
    "def model_from_pkl(model):\n",
    "    with open(\"pkl_files/\" + model + \".pkl\", \"rb\") as f:\n",
    "        pkl_model=pickle.load(f)\n",
    "    model_name=pkl_model[\"model_name\"]\n",
    "    tokenizer=pkl_model[\"tokenizer\"]\n",
    "    tokenizer.pad_token=tokenizer.eos_token\n",
    "    return model_name, tokenizer\n",
    "    "
   ]
  },
  {
   "cell_type": "code",
   "execution_count": 10,
   "id": "d77dafc3-0f8a-46ff-ba1c-249391fa4b6f",
   "metadata": {},
   "outputs": [],
   "source": [
    "lla_321, lla_321_tokenizer=model_from_pkl(\"Llama-3.2-1B\")"
   ]
  },
  {
   "cell_type": "code",
   "execution_count": 11,
   "id": "ea91fd23-0c73-495e-bf7b-6fb06298194a",
   "metadata": {},
   "outputs": [],
   "source": [
    "mistral, mistral_tokenizer=model_from_pkl(\"Mistral-7B-Instruct-v0.1\")"
   ]
  },
  {
   "cell_type": "code",
   "execution_count": 12,
   "id": "35ae0211-956d-4dad-88f8-428ae4e9b5f0",
   "metadata": {},
   "outputs": [],
   "source": [
    "lla_323, lla_323_tokenizer=model_from_pkl(\"Llama-3.2-3B-Instruct\")"
   ]
  },
  {
   "cell_type": "code",
   "execution_count": 15,
   "id": "61ca717c-e790-4578-bc72-c75067a79632",
   "metadata": {},
   "outputs": [],
   "source": [
    "lla_31, lla_31_tokenizer=model_from_pkl(\"Llama-3.1-8B\")"
   ]
  },
  {
   "cell_type": "code",
   "execution_count": null,
   "id": "dffdf95d-8952-4f4f-8a92-3f8ef55aa50a",
   "metadata": {},
   "outputs": [],
   "source": [
    "lla_323_b, lla_323_b_tokenizer=model_from_pkl(\"Llama-3.2-3B\")"
   ]
  },
  {
   "cell_type": "code",
   "execution_count": 37,
   "id": "a7f8fa27-8551-40a0-8296-9969e5b0241a",
   "metadata": {},
   "outputs": [],
   "source": [
    "def tokenize_l_function(examples):\n",
    "    return lla_321_tokenizer(examples[\"text\"], padding=\"max_length\", truncation=True)\n",
    "# map applies preprocessing across a dataset\n",
    "#llama_tokenized_datasets=ds.map(tokenize_l_function, batched=True)"
   ]
  },
  {
   "cell_type": "code",
   "execution_count": 31,
   "id": "764f44e8-a90e-4a29-a80e-d496b544a1ea",
   "metadata": {},
   "outputs": [],
   "source": [
    "def tokenize_m_function(examples):\n",
    "    return mistral_tokenizer(examples[\"text\"], padding=\"max_length\", truncation=True, max_length=8192)\n"
   ]
  },
  {
   "cell_type": "code",
   "execution_count": 42,
   "id": "38bb69f7-a22a-4bc7-afe7-d79ccd765dcd",
   "metadata": {},
   "outputs": [],
   "source": [
    "# perform preprocessing on the genomic data\n",
    "def map_data(data, model, tokenizer):\n",
    "    def tokenize_l_function(examples):\n",
    "        return tokenizer(examples[\"text\"], padding=\"max_length\", truncation=True)\n",
    "    def tokenize_m_function(examples):\n",
    "        return tokenizer(examples[\"text\"], padding=\"max_length\", truncation=True, max_length=8192)\n",
    "        \n",
    "    if type(model)==transformers.models.llama.modeling_llama.LlamaForCausalLM:\n",
    "        tokenized_dataset=data.map(tokenize_l_function, batched=True)\n",
    "    else:\n",
    "        tokenized_dataset=data.map(tokenize_m_function, batched=True)\n",
    "    return tokenized_dataset"
   ]
  },
  {
   "cell_type": "code",
   "execution_count": 43,
   "id": "e3aa5a67-3ac6-4916-b1cc-5d5c4ff8e80d",
   "metadata": {},
   "outputs": [
    {
     "name": "stderr",
     "output_type": "stream",
     "text": [
      "Map: 100%|█████████████████████████████████████████████████████████████████| 50/50 [00:03<00:00, 15.75 examples/s]\n",
      "Map: 100%|████████████████████████████████████████████████████████████████| 50/50 [00:00<00:00, 164.16 examples/s]\n"
     ]
    }
   ],
   "source": [
    "# l_tokenized_genome_samples=ds_gs.map(tokenize_l_function, batched=True)\n",
    "# m_tokenized_genome_samples=ds_gs.map(tokenize_m_function, batched=True)\n",
    "l_tokenized_genome_samples=map_data(ds_gs, lla_321, lla_321_tokenizer)\n",
    "m_tokenized_genome_samples=map_data(ds_gs, mistral, mistral_tokenizer)"
   ]
  },
  {
   "cell_type": "code",
   "execution_count": 45,
   "id": "96fb3c22-fd21-4039-a8d6-6cca3cf151c1",
   "metadata": {},
   "outputs": [
    {
     "name": "stderr",
     "output_type": "stream",
     "text": [
      "Map: 100%|███████████████████████████████████████████████████████████████| 100/100 [00:09<00:00, 10.91 examples/s]\n",
      "Map: 100%|███████████████████████████████████████████████████████████████| 100/100 [00:05<00:00, 17.82 examples/s]\n"
     ]
    }
   ],
   "source": [
    "l_tokenized_genome_stage1=map_data(ds_gst1, lla_321, lla_321_tokenizer)\n",
    "l_tokenized_genome_stage2=map_data(ds_gst2, lla_321, lla_321_tokenizer)"
   ]
  },
  {
   "cell_type": "code",
   "execution_count": 69,
   "id": "ba3ddcae-64f8-4dd7-a14a-e67deb0d3b6f",
   "metadata": {},
   "outputs": [
    {
     "ename": "AttributeError",
     "evalue": "'dict' object has no attribute 'map'",
     "output_type": "error",
     "traceback": [
      "\u001b[0;31m---------------------------------------------------------------------------\u001b[0m",
      "\u001b[0;31mAttributeError\u001b[0m                            Traceback (most recent call last)",
      "Cell \u001b[0;32mIn[69], line 1\u001b[0m\n\u001b[0;32m----> 1\u001b[0m m_tokenized_stage1_train\u001b[38;5;241m=\u001b[39m\u001b[43mmap_data\u001b[49m\u001b[43m(\u001b[49m\u001b[43mds_gst1_train\u001b[49m\u001b[43m,\u001b[49m\u001b[43m \u001b[49m\u001b[43mmistral\u001b[49m\u001b[43m,\u001b[49m\u001b[43m \u001b[49m\u001b[43mmistral_tokenizer\u001b[49m\u001b[43m)\u001b[49m\n\u001b[1;32m      2\u001b[0m m_tokenized_stage1_test\u001b[38;5;241m=\u001b[39mmap_data(ds_gst1_test, mistral, mistral_tokenizer)\n\u001b[1;32m      3\u001b[0m m_tokenized_genome_stage2\u001b[38;5;241m=\u001b[39mmap_data(ds_gst2, mistral, mistral_tokenizer)\n",
      "Cell \u001b[0;32mIn[42], line 11\u001b[0m, in \u001b[0;36mmap_data\u001b[0;34m(data, model, tokenizer)\u001b[0m\n\u001b[1;32m      9\u001b[0m     tokenized_dataset\u001b[38;5;241m=\u001b[39mdata\u001b[38;5;241m.\u001b[39mmap(tokenize_l_function, batched\u001b[38;5;241m=\u001b[39m\u001b[38;5;28;01mTrue\u001b[39;00m)\n\u001b[1;32m     10\u001b[0m \u001b[38;5;28;01melse\u001b[39;00m:\n\u001b[0;32m---> 11\u001b[0m     tokenized_dataset\u001b[38;5;241m=\u001b[39m\u001b[43mdata\u001b[49m\u001b[38;5;241;43m.\u001b[39;49m\u001b[43mmap\u001b[49m(tokenize_m_function, batched\u001b[38;5;241m=\u001b[39m\u001b[38;5;28;01mTrue\u001b[39;00m)\n\u001b[1;32m     12\u001b[0m \u001b[38;5;28;01mreturn\u001b[39;00m tokenized_dataset\n",
      "\u001b[0;31mAttributeError\u001b[0m: 'dict' object has no attribute 'map'"
     ]
    }
   ],
   "source": [
    "m_tokenized_stage1_train=map_data(ds_gst1_train, mistral, mistral_tokenizer)\n",
    "m_tokenized_stage1_test=map_data(ds_gst1_test, mistral, mistral_tokenizer)\n",
    "m_tokenized_genome_stage2=map_data(ds_gst2, mistral, mistral_tokenizer)\n",
    "#print(m_tokenized_genome_stage2[\"text\"][0])"
   ]
  },
  {
   "cell_type": "code",
   "execution_count": 48,
   "id": "c256ec91-d36c-47e1-a409-7a25fb3e653d",
   "metadata": {},
   "outputs": [],
   "source": [
    "# before loading in the base model with LoRA, might be good to define a helper function\n",
    "# this looks at the total parameters a model has, and how many are trainable\n",
    "def print_trainable_parameters(model):\n",
    "    \"\"\"\n",
    "    Prints the number of trainable parameters in the model.\n",
    "    \"\"\"\n",
    "    trainable_params = 0\n",
    "    all_param = 0\n",
    "    for _, param in model.named_parameters():\n",
    "        all_param += param.numel()\n",
    "        if param.requires_grad:\n",
    "            trainable_params += param.numel()\n",
    "    print(\n",
    "        f\"trainable params: {trainable_params} || all params: {all_param} || trainable%: {100 * trainable_params / all_param:.2f}\"\n",
    "    )"
   ]
  },
  {
   "cell_type": "code",
   "execution_count": 49,
   "id": "3f964f8e-ba12-4359-bd97-263cadf82be9",
   "metadata": {},
   "outputs": [],
   "source": [
    "training_args=TrainingArguments(output_dir=\"test_trainer\", eval_strategy=\"epoch\")\n",
    "# eval_strategy=epoch ensures that the evaluation metric will be reported at the end of each epoch\n",
    "# this helps us monitor evaluation metrics during fine-tuning"
   ]
  },
  {
   "cell_type": "code",
   "execution_count": 50,
   "id": "da0ce953-5dce-438d-ac63-d9a248c114c1",
   "metadata": {},
   "outputs": [],
   "source": [
    "# A trainer needs to be passed a function from the Evaluate library (specifically the accuracy function) to compute and report metrics\n",
    "metric=evaluate.load(\"accuracy\")"
   ]
  },
  {
   "cell_type": "code",
   "execution_count": 51,
   "id": "e7972cfb-53d3-4779-8aec-48793be8fc17",
   "metadata": {},
   "outputs": [],
   "source": [
    "# the compute_metrics method will calculate prediction accuracy\n",
    "def compute_metrics(eval_pred):\n",
    "    logits, labels=eval_pred\n",
    "    predictions = np.argmax(logits, axis=-1)\n",
    "    return metric.compute(predictions=predictions, references=labels)\n",
    "    # this lets us convert logits (returned by models) into predictions\n",
    "    # np.argmax returns the indices of the maximum values along the axis of an array\n",
    "    # axis=-1 means it looks at the last axis in the array\n",
    "    # metric.compute gathers all cached predictions and references to compute the metric scor"
   ]
  },
  {
   "cell_type": "code",
   "execution_count": 52,
   "id": "3d672ac9-313b-4a3d-97f1-ef193f3f897b",
   "metadata": {},
   "outputs": [],
   "source": [
    "# to fine-tune with LoRA, instantiate a base model (as above)\n",
    "# create LoraConfig where LoRA-specific parameters are defined\n",
    "config=LoraConfig(\n",
    "    inference_mode=False,\n",
    "    r=10, #rank of update matrices, lower value results in smaller matrices with fewer parameters\n",
    "    lora_alpha=10, #LoRA scaling factor\n",
    "    task_type=\"CAUSAL_LM\",\n",
    "    lora_dropout=0, # dropout probability of LoRA layers\n",
    "    bias=\"lora_only\", # specifies if bias parameters should be trained\n",
    "    modules_to_save=[\"decode_head\"] #models apart from LoRA layers that are trainable\n",
    ")"
   ]
  },
  {
   "cell_type": "code",
   "execution_count": 58,
   "id": "50fea75b-ad80-4c7f-ad85-b7310cc8a2b9",
   "metadata": {},
   "outputs": [
    {
     "name": "stdout",
     "output_type": "stream",
     "text": [
      "trainable params: 4259840 || all params: 7245991936 || trainable%: 0.06\n"
     ]
    }
   ],
   "source": [
    "mis_lora_model=get_peft_model(mistral, config)\n",
    "print_trainable_parameters(mis_lora_model)"
   ]
  },
  {
   "cell_type": "code",
   "execution_count": 56,
   "id": "718b27f0-ad0b-4069-804d-6ee3015feed4",
   "metadata": {},
   "outputs": [
    {
     "name": "stdout",
     "output_type": "stream",
     "text": [
      "trainable params: 1064960 || all params: 1236879360 || trainable%: 0.09\n"
     ]
    },
    {
     "name": "stderr",
     "output_type": "stream",
     "text": [
      "/scratch/ac.cdavies/cdavies_Unit_Tests/.venv/lib/python3.12/site-packages/peft/mapping.py:185: UserWarning: The PEFT config's `base_model_name_or_path` was renamed from 'mistralai/Mistral-7B-Instruct-v0.1' to 'meta-llama/Llama-3.2-1B'. Please ensure that the correct base model is loaded when loading this checkpoint.\n",
      "  warnings.warn(\n"
     ]
    }
   ],
   "source": [
    "lla_lora_model=get_peft_model(lla_321, config)\n",
    "print_trainable_parameters(lla_lora_model)"
   ]
  },
  {
   "cell_type": "code",
   "execution_count": 63,
   "id": "aa363ede-7bab-477c-903a-bdc897b31afc",
   "metadata": {},
   "outputs": [
    {
     "ename": "KeyError",
     "evalue": "\"Column train not in the dataset. Current columns in the dataset: ['text', 'input_ids', 'attention_mask']\"",
     "output_type": "error",
     "traceback": [
      "\u001b[0;31m---------------------------------------------------------------------------\u001b[0m",
      "\u001b[0;31mKeyError\u001b[0m                                  Traceback (most recent call last)",
      "Cell \u001b[0;32mIn[63], line 5\u001b[0m\n\u001b[1;32m      1\u001b[0m \u001b[38;5;66;03m# the trainer object specifies the model, training arguments, training and test datasets, and evaluation function\u001b[39;00m\n\u001b[1;32m      2\u001b[0m trainer_m \u001b[38;5;241m=\u001b[39m Trainer(\n\u001b[1;32m      3\u001b[0m     model\u001b[38;5;241m=\u001b[39mmis_lora_model,\n\u001b[1;32m      4\u001b[0m     args\u001b[38;5;241m=\u001b[39mtraining_args,\n\u001b[0;32m----> 5\u001b[0m     train_dataset\u001b[38;5;241m=\u001b[39m\u001b[43mm_tokenized_genome_stage2\u001b[49m\u001b[43m[\u001b[49m\u001b[38;5;124;43m\"\u001b[39;49m\u001b[38;5;124;43mtrain\u001b[39;49m\u001b[38;5;124;43m\"\u001b[39;49m\u001b[43m]\u001b[49m,\n\u001b[1;32m      6\u001b[0m     compute_metrics\u001b[38;5;241m=\u001b[39mcompute_metrics,\n\u001b[1;32m      7\u001b[0m )\n\u001b[1;32m      8\u001b[0m trainer_m\u001b[38;5;241m.\u001b[39mtrain()\n",
      "File \u001b[0;32m/scratch/ac.cdavies/cdavies_Unit_Tests/.venv/lib/python3.12/site-packages/datasets/arrow_dataset.py:2782\u001b[0m, in \u001b[0;36mDataset.__getitem__\u001b[0;34m(self, key)\u001b[0m\n\u001b[1;32m   2780\u001b[0m \u001b[38;5;28;01mdef\u001b[39;00m\u001b[38;5;250m \u001b[39m\u001b[38;5;21m__getitem__\u001b[39m(\u001b[38;5;28mself\u001b[39m, key):  \u001b[38;5;66;03m# noqa: F811\u001b[39;00m\n\u001b[1;32m   2781\u001b[0m \u001b[38;5;250m    \u001b[39m\u001b[38;5;124;03m\"\"\"Can be used to index columns (by string names) or rows (by integer index or iterable of indices or bools).\"\"\"\u001b[39;00m\n\u001b[0;32m-> 2782\u001b[0m     \u001b[38;5;28;01mreturn\u001b[39;00m \u001b[38;5;28;43mself\u001b[39;49m\u001b[38;5;241;43m.\u001b[39;49m\u001b[43m_getitem\u001b[49m\u001b[43m(\u001b[49m\u001b[43mkey\u001b[49m\u001b[43m)\u001b[49m\n",
      "File \u001b[0;32m/scratch/ac.cdavies/cdavies_Unit_Tests/.venv/lib/python3.12/site-packages/datasets/arrow_dataset.py:2766\u001b[0m, in \u001b[0;36mDataset._getitem\u001b[0;34m(self, key, **kwargs)\u001b[0m\n\u001b[1;32m   2764\u001b[0m format_kwargs \u001b[38;5;241m=\u001b[39m format_kwargs \u001b[38;5;28;01mif\u001b[39;00m format_kwargs \u001b[38;5;129;01mis\u001b[39;00m \u001b[38;5;129;01mnot\u001b[39;00m \u001b[38;5;28;01mNone\u001b[39;00m \u001b[38;5;28;01melse\u001b[39;00m {}\n\u001b[1;32m   2765\u001b[0m formatter \u001b[38;5;241m=\u001b[39m get_formatter(format_type, features\u001b[38;5;241m=\u001b[39m\u001b[38;5;28mself\u001b[39m\u001b[38;5;241m.\u001b[39m_info\u001b[38;5;241m.\u001b[39mfeatures, \u001b[38;5;241m*\u001b[39m\u001b[38;5;241m*\u001b[39mformat_kwargs)\n\u001b[0;32m-> 2766\u001b[0m pa_subtable \u001b[38;5;241m=\u001b[39m \u001b[43mquery_table\u001b[49m\u001b[43m(\u001b[49m\u001b[38;5;28;43mself\u001b[39;49m\u001b[38;5;241;43m.\u001b[39;49m\u001b[43m_data\u001b[49m\u001b[43m,\u001b[49m\u001b[43m \u001b[49m\u001b[43mkey\u001b[49m\u001b[43m,\u001b[49m\u001b[43m \u001b[49m\u001b[43mindices\u001b[49m\u001b[38;5;241;43m=\u001b[39;49m\u001b[38;5;28;43mself\u001b[39;49m\u001b[38;5;241;43m.\u001b[39;49m\u001b[43m_indices\u001b[49m\u001b[43m)\u001b[49m\n\u001b[1;32m   2767\u001b[0m formatted_output \u001b[38;5;241m=\u001b[39m format_table(\n\u001b[1;32m   2768\u001b[0m     pa_subtable, key, formatter\u001b[38;5;241m=\u001b[39mformatter, format_columns\u001b[38;5;241m=\u001b[39mformat_columns, output_all_columns\u001b[38;5;241m=\u001b[39moutput_all_columns\n\u001b[1;32m   2769\u001b[0m )\n\u001b[1;32m   2770\u001b[0m \u001b[38;5;28;01mreturn\u001b[39;00m formatted_output\n",
      "File \u001b[0;32m/scratch/ac.cdavies/cdavies_Unit_Tests/.venv/lib/python3.12/site-packages/datasets/formatting/formatting.py:609\u001b[0m, in \u001b[0;36mquery_table\u001b[0;34m(table, key, indices)\u001b[0m\n\u001b[1;32m    607\u001b[0m         _raise_bad_key_type(key)\n\u001b[1;32m    608\u001b[0m \u001b[38;5;28;01mif\u001b[39;00m \u001b[38;5;28misinstance\u001b[39m(key, \u001b[38;5;28mstr\u001b[39m):\n\u001b[0;32m--> 609\u001b[0m     \u001b[43m_check_valid_column_key\u001b[49m\u001b[43m(\u001b[49m\u001b[43mkey\u001b[49m\u001b[43m,\u001b[49m\u001b[43m \u001b[49m\u001b[43mtable\u001b[49m\u001b[38;5;241;43m.\u001b[39;49m\u001b[43mcolumn_names\u001b[49m\u001b[43m)\u001b[49m\n\u001b[1;32m    610\u001b[0m \u001b[38;5;28;01melse\u001b[39;00m:\n\u001b[1;32m    611\u001b[0m     size \u001b[38;5;241m=\u001b[39m indices\u001b[38;5;241m.\u001b[39mnum_rows \u001b[38;5;28;01mif\u001b[39;00m indices \u001b[38;5;129;01mis\u001b[39;00m \u001b[38;5;129;01mnot\u001b[39;00m \u001b[38;5;28;01mNone\u001b[39;00m \u001b[38;5;28;01melse\u001b[39;00m table\u001b[38;5;241m.\u001b[39mnum_rows\n",
      "File \u001b[0;32m/scratch/ac.cdavies/cdavies_Unit_Tests/.venv/lib/python3.12/site-packages/datasets/formatting/formatting.py:546\u001b[0m, in \u001b[0;36m_check_valid_column_key\u001b[0;34m(key, columns)\u001b[0m\n\u001b[1;32m    544\u001b[0m \u001b[38;5;28;01mdef\u001b[39;00m\u001b[38;5;250m \u001b[39m\u001b[38;5;21m_check_valid_column_key\u001b[39m(key: \u001b[38;5;28mstr\u001b[39m, columns: List[\u001b[38;5;28mstr\u001b[39m]) \u001b[38;5;241m-\u001b[39m\u001b[38;5;241m>\u001b[39m \u001b[38;5;28;01mNone\u001b[39;00m:\n\u001b[1;32m    545\u001b[0m     \u001b[38;5;28;01mif\u001b[39;00m key \u001b[38;5;129;01mnot\u001b[39;00m \u001b[38;5;129;01min\u001b[39;00m columns:\n\u001b[0;32m--> 546\u001b[0m         \u001b[38;5;28;01mraise\u001b[39;00m \u001b[38;5;167;01mKeyError\u001b[39;00m(\u001b[38;5;124mf\u001b[39m\u001b[38;5;124m\"\u001b[39m\u001b[38;5;124mColumn \u001b[39m\u001b[38;5;132;01m{\u001b[39;00mkey\u001b[38;5;132;01m}\u001b[39;00m\u001b[38;5;124m not in the dataset. Current columns in the dataset: \u001b[39m\u001b[38;5;132;01m{\u001b[39;00mcolumns\u001b[38;5;132;01m}\u001b[39;00m\u001b[38;5;124m\"\u001b[39m)\n",
      "\u001b[0;31mKeyError\u001b[0m: \"Column train not in the dataset. Current columns in the dataset: ['text', 'input_ids', 'attention_mask']\""
     ]
    }
   ],
   "source": [
    "# the trainer object specifies the model, training arguments, training and test datasets, and evaluation function\n",
    "trainer_m = Trainer(\n",
    "    model=mis_lora_model,\n",
    "    args=training_args,\n",
    "    train_dataset=m_tokenized_genome_stage2[\"train\"],\n",
    "    compute_metrics=compute_metrics,\n",
    ")\n",
    "trainer_m.train()"
   ]
  },
  {
   "cell_type": "code",
   "execution_count": 202,
   "id": "d2c12738-992a-49e7-baf5-cd52d20cac42",
   "metadata": {},
   "outputs": [],
   "source": [
    "def make_trainer(m_model, train_data, test_data):\n",
    "    trainer=Trainer(\n",
    "        model=m_model,\n",
    "        args=training_args,\n",
    "        train_dataset=train_data,\n",
    "        eval_dataset=test_data,\n",
    "        compute_metrics=compute_metrics,\n",
    "    )\n",
    "    return trainer"
   ]
  },
  {
   "cell_type": "code",
   "execution_count": null,
   "id": "55bf1dc5-1841-4c82-ab3e-b76313586d62",
   "metadata": {},
   "outputs": [],
   "source": []
  },
  {
   "cell_type": "code",
   "execution_count": null,
   "id": "55934df8-c2bb-471e-bc27-d96abcda6298",
   "metadata": {},
   "outputs": [],
   "source": []
  },
  {
   "cell_type": "code",
   "execution_count": null,
   "id": "1b2a1c8e-1d22-40a6-a0b1-376dbf99ef7a",
   "metadata": {},
   "outputs": [],
   "source": [
    "# small_train_dataset_l=llama_tokenized_datasets[\"input_ids\"].shuffle(seed=42).select(range(500))\n",
    "# small_test_dataset_l=llama_tokenized_datasets[\"attention_mask\"].shuffle(seed=42).select(range(500))\n",
    "# shuffle() randomly rearranges the column values and creates an indices mapping\n",
    "# select() returns rows according to indices\n",
    "# shuffling can make your program run significantly slower\n",
    "# maybe in a second iteration switch to an IterableDataset, as IterableDataset.shuffle() is faster"
   ]
  }
 ],
 "metadata": {
  "kernelspec": {
   "display_name": "Python 3 (ipykernel)",
   "language": "python",
   "name": "python3"
  },
  "language_info": {
   "codemirror_mode": {
    "name": "ipython",
    "version": 3
   },
   "file_extension": ".py",
   "mimetype": "text/x-python",
   "name": "python",
   "nbconvert_exporter": "python",
   "pygments_lexer": "ipython3",
   "version": "3.12.8"
  }
 },
 "nbformat": 4,
 "nbformat_minor": 5
}
