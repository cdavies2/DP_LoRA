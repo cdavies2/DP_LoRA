{
 "cells": [
  {
   "cell_type": "code",
   "execution_count": 1,
   "id": "f0dd727d-fdfa-4113-8d79-196365479714",
   "metadata": {
    "execution": {
     "iopub.execute_input": "2025-03-19T14:01:06.380846Z",
     "iopub.status.busy": "2025-03-19T14:01:06.380384Z",
     "iopub.status.idle": "2025-03-19T14:01:06.384593Z",
     "shell.execute_reply": "2025-03-19T14:01:06.384007Z",
     "shell.execute_reply.started": "2025-03-19T14:01:06.380819Z"
    },
    "tags": []
   },
   "outputs": [],
   "source": [
    "#!. /home/idies/workspace/Storage/cdavies/persistent/venv.sh"
   ]
  },
  {
   "cell_type": "code",
   "execution_count": 6,
   "id": "99a176a4-5161-4222-ab44-d368d4c4f66b",
   "metadata": {
    "execution": {
     "iopub.execute_input": "2025-03-19T13:06:38.860687Z",
     "iopub.status.busy": "2025-03-19T13:06:38.860307Z",
     "iopub.status.idle": "2025-03-19T13:06:38.865306Z",
     "shell.execute_reply": "2025-03-19T13:06:38.864681Z",
     "shell.execute_reply.started": "2025-03-19T13:06:38.860658Z"
    },
    "tags": []
   },
   "outputs": [],
   "source": [
    "import torch\n",
    "import transformers\n",
    "from transformers import pipeline\n",
    "from transformers import AutoTokenizer\n",
    "llama3=\"meta-llama/Llama-3.2-1B-Instruct\"\n",
    "mistral=\"mistralai/Mistral-7B-Instruct-v0.1\""
   ]
  },
  {
   "cell_type": "code",
   "execution_count": null,
   "id": "cd2a8044-c24e-405b-804c-6e7cc1420143",
   "metadata": {},
   "outputs": [],
   "source": [
    "pipe=pipeline(\"text-generation\", \"mistralai/Mistral-7B-Instruct-v0.1\") \n",
    "#the text generation pipeline has an automated pipeline for chat inputs\n",
    "messages=[\n",
    "    {\n",
    "        \"role\": \"system\", \"content\": \"\"\"You are an assistant teaching at a university level,\n",
    "                Use technical and complex terms in your explanation \"\"\"},\n",
    "                {\"role\": \"user\", \"content\": \"Please explain what a prompt injection is\"}\n",
    "]\n",
    "print(pipe(messages, max_new_tokens=128)[0]['generated_text'][-1])"
   ]
  }
 ],
 "metadata": {
  "kernelspec": {
   "display_name": "py312",
   "language": "python",
   "name": "py312"
  },
  "language_info": {
   "codemirror_mode": {
    "name": "ipython",
    "version": 3
   },
   "file_extension": ".py",
   "mimetype": "text/x-python",
   "name": "python",
   "nbconvert_exporter": "python",
   "pygments_lexer": "ipython3",
   "version": "3.12.9"
  }
 },
 "nbformat": 4,
 "nbformat_minor": 5
}
