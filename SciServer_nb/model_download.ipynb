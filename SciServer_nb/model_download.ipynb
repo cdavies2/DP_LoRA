{
 "cells": [
  {
   "cell_type": "code",
   "execution_count": 1,
   "id": "07750014-3815-47b1-bd8a-b324170e24ed",
   "metadata": {
    "execution": {
     "iopub.execute_input": "2025-03-21T12:28:01.890752Z",
     "iopub.status.busy": "2025-03-21T12:28:01.890543Z",
     "iopub.status.idle": "2025-03-21T12:28:02.106044Z",
     "shell.execute_reply": "2025-03-21T12:28:02.105324Z",
     "shell.execute_reply.started": "2025-03-21T12:28:01.890733Z"
    },
    "tags": []
   },
   "outputs": [
    {
     "name": "stderr",
     "output_type": "stream",
     "text": [
      "/home/idies/workspace/Storage/cdavies/persistent/envs/lib/python3.12/site-packages/tqdm/auto.py:21: TqdmWarning: IProgress not found. Please update jupyter and ipywidgets. See https://ipywidgets.readthedocs.io/en/stable/user_install.html\n",
      "  from .autonotebook import tqdm as notebook_tqdm\n"
     ]
    }
   ],
   "source": [
    "from huggingface_hub import hf_hub_download"
   ]
  },
  {
   "cell_type": "code",
   "execution_count": 3,
   "id": "ea06d129-e614-4d76-a5f2-7369c0e1474f",
   "metadata": {
    "execution": {
     "iopub.execute_input": "2025-03-21T12:31:41.572806Z",
     "iopub.status.busy": "2025-03-21T12:31:41.572218Z",
     "iopub.status.idle": "2025-03-21T12:31:49.369967Z",
     "shell.execute_reply": "2025-03-21T12:31:49.369389Z",
     "shell.execute_reply.started": "2025-03-21T12:31:41.572761Z"
    },
    "tags": []
   },
   "outputs": [],
   "source": [
    "import transformers\n",
    "from transformers import AutoModelForCausalLM, AutoTokenizer"
   ]
  },
  {
   "cell_type": "code",
   "execution_count": null,
   "id": "8fdecc66-5160-4c3e-8eb8-b8860c2e402e",
   "metadata": {
    "execution": {
     "iopub.execute_input": "2025-03-20T19:19:16.873271Z",
     "iopub.status.busy": "2025-03-20T19:19:16.873024Z"
    },
    "tags": []
   },
   "outputs": [
    {
     "name": "stderr",
     "output_type": "stream",
     "text": [
      "Downloading shards:   0%|          | 0/2 [00:00<?, ?it/s]"
     ]
    }
   ],
   "source": [
    "model=AutoModelForCausalLM.from_pretrained(\"mis_model\")\n",
    "tokenizer=AutoTokenizer.from_pretrained(\"mis_token\")"
   ]
  },
  {
   "cell_type": "code",
   "execution_count": null,
   "id": "a2d273d3-dcbb-4b66-bc4d-23219db4b2f6",
   "metadata": {},
   "outputs": [],
   "source": [
    "from transformers import pipeline\n",
    "pipe=pipeline(\"text-generation\", model=model, tokenizer=tokenizer) \n",
    "#the text generation pipeline has an automated pipeline for chat inputs\n",
    "messages=[\n",
    "    {\n",
    "        \"role\": \"system\", \"content\": \"\"\"You are an assistant teaching at a university level,\n",
    "                Use technical and complex terms in your explanation \"\"\"},\n",
    "                {\"role\": \"user\", \"content\": \"Please explain what a prompt injection is\"}\n",
    "]\n",
    "print(pipe(messages, max_new_tokens=256)[0]['generated_text'][-1])"
   ]
  }
 ],
 "metadata": {
  "kernelspec": {
   "display_name": "py312",
   "language": "python",
   "name": "py312"
  },
  "language_info": {
   "codemirror_mode": {
    "name": "ipython",
    "version": 3
   },
   "file_extension": ".py",
   "mimetype": "text/x-python",
   "name": "python",
   "nbconvert_exporter": "python",
   "pygments_lexer": "ipython3",
   "version": "3.12.9"
  }
 },
 "nbformat": 4,
 "nbformat_minor": 5
}
