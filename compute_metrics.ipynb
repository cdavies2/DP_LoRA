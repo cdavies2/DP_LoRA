{
 "cells": [
  {
   "cell_type": "code",
   "execution_count": 1,
   "id": "00b0e2d9-48ea-44a7-9542-01734c6b3443",
   "metadata": {},
   "outputs": [
    {
     "name": "stderr",
     "output_type": "stream",
     "text": [
      "/home/ac.cdavies/.vnv/lib/python3.12/site-packages/tqdm/auto.py:21: TqdmWarning: IProgress not found. Please update jupyter and ipywidgets. See https://ipywidgets.readthedocs.io/en/stable/user_install.html\n",
      "  from .autonotebook import tqdm as notebook_tqdm\n",
      "2025-03-31 18:37:37.938287: E external/local_xla/xla/stream_executor/cuda/cuda_fft.cc:467] Unable to register cuFFT factory: Attempting to register factory for plugin cuFFT when one has already been registered\n",
      "WARNING: All log messages before absl::InitializeLog() is called are written to STDERR\n",
      "E0000 00:00:1743446257.952604 1791354 cuda_dnn.cc:8579] Unable to register cuDNN factory: Attempting to register factory for plugin cuDNN when one has already been registered\n",
      "E0000 00:00:1743446257.957034 1791354 cuda_blas.cc:1407] Unable to register cuBLAS factory: Attempting to register factory for plugin cuBLAS when one has already been registered\n",
      "W0000 00:00:1743446257.969697 1791354 computation_placer.cc:177] computation placer already registered. Please check linkage and avoid linking the same target more than once.\n",
      "W0000 00:00:1743446257.969711 1791354 computation_placer.cc:177] computation placer already registered. Please check linkage and avoid linking the same target more than once.\n",
      "W0000 00:00:1743446257.969714 1791354 computation_placer.cc:177] computation placer already registered. Please check linkage and avoid linking the same target more than once.\n",
      "W0000 00:00:1743446257.969717 1791354 computation_placer.cc:177] computation placer already registered. Please check linkage and avoid linking the same target more than once.\n",
      "2025-03-31 18:37:37.973619: I tensorflow/core/platform/cpu_feature_guard.cc:210] This TensorFlow binary is optimized to use available CPU instructions in performance-critical operations.\n",
      "To enable the following instructions: AVX2 FMA, in other operations, rebuild TensorFlow with the appropriate compiler flags.\n"
     ]
    }
   ],
   "source": [
    "# imports\n",
    "import datasets\n",
    "import evaluate\n",
    "import numpy as np\n",
    "import peft\n",
    "import pickle\n",
    "import transformers\n",
    "\n",
    "from datasets import(\n",
    "    load_dataset, \n",
    ")\n",
    "\n",
    "\n",
    "from peft import(\n",
    "    LoraConfig,\n",
    "    get_peft_model,\n",
    ")\n",
    "\n",
    "from transformers import(\n",
    "AutoModelForCausalLM,\n",
    "AutoTokenizer,\n",
    "TrainingArguments\n",
    ")\n",
    "from trl import SFTTrainer, SFTConfig"
   ]
  },
  {
   "cell_type": "code",
   "execution_count": 2,
   "id": "53112ee0-c195-4745-be8d-fd2bd2f7ffce",
   "metadata": {},
   "outputs": [],
   "source": [
    "# model\n",
    "def model_from_pkl(model):\n",
    "    with open(\"pkl_files/\" + model + \".pkl\", \"rb\") as f:\n",
    "        pkl_model=pickle.load(f)\n",
    "    model_name=pkl_model[\"model_name\"]\n",
    "    tokenizer=pkl_model[\"tokenizer\"]\n",
    "    tokenizer.pad_token=tokenizer.eos_token\n",
    "    return model_name, tokenizer\n",
    "llama, llama_tokenizer=model_from_pkl(\"Llama-3.2-1B\")"
   ]
  },
  {
   "cell_type": "code",
   "execution_count": 3,
   "id": "e848eb74-59c8-4607-a194-62e14f8779d0",
   "metadata": {},
   "outputs": [],
   "source": [
    "# LORA config\n",
    "config=LoraConfig(\n",
    "    #inference_mode=False,\n",
    "    r=8, #rank of update matrices, lower value results in smaller matrices with fewer parameters\n",
    "    lora_alpha=16, #LoRA scaling factor\n",
    "    task_type=\"CAUSAL_LM\",\n",
    "    lora_dropout=0.1, # dropout probability of LoRA layers\n",
    "    bias=\"none\", # specifies if bias parameters should be trained\n",
    "    #modules_to_save=[\"decode_head\"] #models apart from LoRA layers that are trainable\n",
    ")\n",
    "lla_lora_model=get_peft_model(llama, config)"
   ]
  },
  {
   "cell_type": "code",
   "execution_count": 4,
   "id": "0988b115-8d37-4f8d-8aaa-903d0f979f1b",
   "metadata": {},
   "outputs": [],
   "source": [
    "# data\n",
    "ds_gst1_train=load_dataset(\"LongSafari/open-genome\", \"stage1\", split=\"train[:500]\")\n",
    "#print(ds_gst1[50])\n",
    "ds_gst1_test=load_dataset(\"LongSafari/open-genome\", \"stage1\", split=\"test[:50]\")\n",
    "def tokenize_l_function(examples):\n",
    "        return llama_tokenizer(examples[\"text\"], padding=\"max_length\", truncation=True)\n",
    "tokenized_train=ds_gst1_train.map(tokenize_l_function, batched=True)\n",
    "tokenized_test=ds_gst1_test.map(tokenize_l_function, batched=True)"
   ]
  },
  {
   "cell_type": "code",
   "execution_count": 5,
   "id": "615de5d0-27fc-43c7-9568-84bd5f02a7c2",
   "metadata": {},
   "outputs": [],
   "source": [
    "# define trainer parameters (besides compute_metrics)\n",
    "training_args=TrainingArguments(output_dir=\"test_trainer\", \n",
    "                                #eval_strategy=\"epoch\", \n",
    "                                per_device_train_batch_size=8,\n",
    "                                num_train_epochs=3, # total number of training epochs to perform)\n",
    "                                learning_rate=2e-4,\n",
    "                                weight_decay=0.1,\n",
    "                                logging_strategy=\"steps\",\n",
    "                                #logging_steps=2,\n",
    "                                gradient_checkpointing=True)\n",
    "# eval_strategy=epoch ensures that the evaluation metric will be reported at the end of each epoch\n",
    "# this helps us monitor evaluation metrics during fine-tuning"
   ]
  },
  {
   "cell_type": "code",
   "execution_count": 6,
   "id": "b0f1a2ed-f810-405b-a926-1b0c98fe40e9",
   "metadata": {},
   "outputs": [
    {
     "name": "stdout",
     "output_type": "stream",
     "text": [
      "EvaluationModule(name: \"accuracy\", module_type: \"metric\", features: {'predictions': Value(dtype='int32', id=None), 'references': Value(dtype='int32', id=None)}, usage: \"\"\"\n",
      "Args:\n",
      "    predictions (`list` of `int`): Predicted labels.\n",
      "    references (`list` of `int`): Ground truth labels.\n",
      "    normalize (`boolean`): If set to False, returns the number of correctly classified samples. Otherwise, returns the fraction of correctly classified samples. Defaults to True.\n",
      "    sample_weight (`list` of `float`): Sample weights Defaults to None.\n",
      "\n",
      "Returns:\n",
      "    accuracy (`float` or `int`): Accuracy score. Minimum possible value is 0. Maximum possible value is 1.0, or the number of examples input, if `normalize` is set to `True`.. A higher score means higher accuracy.\n",
      "\n",
      "Examples:\n",
      "\n",
      "    Example 1-A simple example\n",
      "        >>> accuracy_metric = evaluate.load(\"accuracy\")\n",
      "        >>> results = accuracy_metric.compute(references=[0, 1, 2, 0, 1, 2], predictions=[0, 1, 1, 2, 1, 0])\n",
      "        >>> print(results)\n",
      "        {'accuracy': 0.5}\n",
      "\n",
      "    Example 2-The same as Example 1, except with `normalize` set to `False`.\n",
      "        >>> accuracy_metric = evaluate.load(\"accuracy\")\n",
      "        >>> results = accuracy_metric.compute(references=[0, 1, 2, 0, 1, 2], predictions=[0, 1, 1, 2, 1, 0], normalize=False)\n",
      "        >>> print(results)\n",
      "        {'accuracy': 3.0}\n",
      "\n",
      "    Example 3-The same as Example 1, except with `sample_weight` set.\n",
      "        >>> accuracy_metric = evaluate.load(\"accuracy\")\n",
      "        >>> results = accuracy_metric.compute(references=[0, 1, 2, 0, 1, 2], predictions=[0, 1, 1, 2, 1, 0], sample_weight=[0.5, 2, 0.7, 0.5, 9, 0.4])\n",
      "        >>> print(results)\n",
      "        {'accuracy': 0.8778625954198473}\n",
      "\"\"\", stored examples: 0)\n"
     ]
    }
   ],
   "source": [
    "# compute_metrics\n",
    "metric=evaluate.load(\"accuracy\")\n",
    "print(metric)"
   ]
  },
  {
   "cell_type": "code",
   "execution_count": 7,
   "id": "761fe2c5-7b2c-405a-ae53-6e91c73dd855",
   "metadata": {},
   "outputs": [],
   "source": [
    "comp_metrics_output=[]\n",
    "def compute_metrics(eval_pred):\n",
    "    logits=eval_pred.predictions\n",
    "    refs=eval_pred.label_ids\n",
    "    #print(logits)\n",
    "    print(type(logits))\n",
    "    #print(refs)\n",
    "    print(type(refs))\n",
    "    log_32=logits.astype(np.int32)\n",
    "    log_32=np.concatenate(log_32).tolist()\n",
    "    print(len(log_32))\n",
    "    ref_32=refs.astype(np.int32)\n",
    "    ref_32=np.concatenate(ref_32).tolist()\n",
    "    print(len(ref_32))\n",
    "    #predictions = np.argmax(logits, axis=-1)\n",
    "    predictions = np.argmax(log_32, axis=-1)\n",
    "    # print(predictions)\n",
    "    #comp_metrics_output.append(metric.compute(predictions=predictions))\n",
    "    #print(metric.compute(predictions=predictions))\n",
    "    return metric.compute(predictions=predictions, references=ref_32)"
   ]
  },
  {
   "cell_type": "code",
   "execution_count": 8,
   "id": "3b2e6591-0ec5-499d-b7c1-13ef3f8db373",
   "metadata": {},
   "outputs": [],
   "source": [
    "l_trainer = SFTTrainer(\n",
    "    model=lla_lora_model,\n",
    "    train_dataset=tokenized_train,\n",
    "    eval_dataset=tokenized_test,\n",
    "    peft_config=config,\n",
    "    args=SFTConfig(output_dir=\"test_trainer\", \n",
    "                   eval_strategy=\"epoch\",\n",
    "                   logging_strategy=\"steps\",\n",
    "                   logging_steps=2, \n",
    "                  ),\n",
    "    compute_metrics=compute_metrics\n",
    ")"
   ]
  },
  {
   "cell_type": "code",
   "execution_count": 9,
   "id": "e7fc3e63-a9ee-4c3c-9a28-7b19ccc58e67",
   "metadata": {},
   "outputs": [
    {
     "name": "stderr",
     "output_type": "stream",
     "text": [
      "/home/ac.cdavies/.vnv/lib/python3.12/site-packages/torch/nn/parallel/_functions.py:70: UserWarning: Was asked to gather along dimension 0, but all input tensors were scalars; will instead unsqueeze and return a vector.\n",
      "  warnings.warn(\n"
     ]
    },
    {
     "data": {
      "text/html": [
       "\n",
       "    <div>\n",
       "      \n",
       "      <progress value='48' max='48' style='width:300px; height:20px; vertical-align: middle;'></progress>\n",
       "      [48/48 18:52, Epoch 3/3]\n",
       "    </div>\n",
       "    <table border=\"1\" class=\"dataframe\">\n",
       "  <thead>\n",
       " <tr style=\"text-align: left;\">\n",
       "      <th>Epoch</th>\n",
       "      <th>Training Loss</th>\n",
       "      <th>Validation Loss</th>\n",
       "      <th>Accuracy</th>\n",
       "    </tr>\n",
       "  </thead>\n",
       "  <tbody>\n",
       "    <tr>\n",
       "      <td>1</td>\n",
       "      <td>0.645400</td>\n",
       "      <td>2.586096</td>\n",
       "      <td>0.000469</td>\n",
       "    </tr>\n",
       "    <tr>\n",
       "      <td>2</td>\n",
       "      <td>0.647300</td>\n",
       "      <td>2.582443</td>\n",
       "      <td>0.000469</td>\n",
       "    </tr>\n",
       "    <tr>\n",
       "      <td>3</td>\n",
       "      <td>0.651700</td>\n",
       "      <td>2.580906</td>\n",
       "      <td>0.000391</td>\n",
       "    </tr>\n",
       "  </tbody>\n",
       "</table><p>"
      ],
      "text/plain": [
       "<IPython.core.display.HTML object>"
      ]
     },
     "metadata": {},
     "output_type": "display_data"
    },
    {
     "name": "stdout",
     "output_type": "stream",
     "text": [
      "<class 'numpy.ndarray'>\n",
      "<class 'numpy.ndarray'>\n",
      "51200\n",
      "51200\n"
     ]
    },
    {
     "name": "stderr",
     "output_type": "stream",
     "text": [
      "/home/ac.cdavies/.vnv/lib/python3.12/site-packages/torch/nn/parallel/_functions.py:70: UserWarning: Was asked to gather along dimension 0, but all input tensors were scalars; will instead unsqueeze and return a vector.\n",
      "  warnings.warn(\n"
     ]
    },
    {
     "name": "stdout",
     "output_type": "stream",
     "text": [
      "<class 'numpy.ndarray'>\n",
      "<class 'numpy.ndarray'>\n",
      "51200\n",
      "51200\n"
     ]
    },
    {
     "name": "stderr",
     "output_type": "stream",
     "text": [
      "/home/ac.cdavies/.vnv/lib/python3.12/site-packages/torch/nn/parallel/_functions.py:70: UserWarning: Was asked to gather along dimension 0, but all input tensors were scalars; will instead unsqueeze and return a vector.\n",
      "  warnings.warn(\n",
      "/home/ac.cdavies/.vnv/lib/python3.12/site-packages/torch/nn/parallel/_functions.py:70: UserWarning: Was asked to gather along dimension 0, but all input tensors were scalars; will instead unsqueeze and return a vector.\n",
      "  warnings.warn(\n"
     ]
    },
    {
     "name": "stdout",
     "output_type": "stream",
     "text": [
      "<class 'numpy.ndarray'>\n",
      "<class 'numpy.ndarray'>\n",
      "51200\n",
      "51200\n"
     ]
    },
    {
     "data": {
      "text/plain": [
       "TrainOutput(global_step=48, training_loss=0.6495533337195715, metrics={'train_runtime': 1137.6355, 'train_samples_per_second': 1.319, 'train_steps_per_second': 0.042, 'total_flos': 8976366305280000.0, 'train_loss': 0.6495533337195715})"
      ]
     },
     "execution_count": 9,
     "metadata": {},
     "output_type": "execute_result"
    }
   ],
   "source": [
    "l_trainer.train() "
   ]
  },
  {
   "cell_type": "code",
   "execution_count": null,
   "id": "093f4d77-4766-4706-99ac-8010ea67521a",
   "metadata": {},
   "outputs": [],
   "source": []
  }
 ],
 "metadata": {
  "kernelspec": {
   "display_name": "Python 3 (ipykernel)",
   "language": "python",
   "name": "python3"
  },
  "language_info": {
   "codemirror_mode": {
    "name": "ipython",
    "version": 3
   },
   "file_extension": ".py",
   "mimetype": "text/x-python",
   "name": "python",
   "nbconvert_exporter": "python",
   "pygments_lexer": "ipython3",
   "version": "3.12.8"
  }
 },
 "nbformat": 4,
 "nbformat_minor": 5
}
